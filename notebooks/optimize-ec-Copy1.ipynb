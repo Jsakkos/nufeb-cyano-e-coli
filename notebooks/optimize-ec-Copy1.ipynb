{
 "cells": [
  {
   "cell_type": "markdown",
   "metadata": {},
   "source": [
    "# Optimization of E. coli growth parameters for NUFEB\n",
    "This notebook utilizes hyperparameter optimization to fit simulated E. coli growth curves to experimental data. Under the hood, we use scikit-optimize to perform a Bayesian optimization."
   ]
  },
  {
   "cell_type": "code",
   "execution_count": 1,
   "metadata": {
    "execution": {
     "iopub.execute_input": "2021-10-19T14:32:00.129778Z",
     "iopub.status.busy": "2021-10-19T14:32:00.129115Z",
     "iopub.status.idle": "2021-10-19T14:32:06.816820Z",
     "shell.execute_reply": "2021-10-19T14:32:06.817334Z"
    }
   },
   "outputs": [],
   "source": [
    "!pip install nufeb-tools --quiet -U"
   ]
  },
  {
   "cell_type": "code",
   "execution_count": 2,
   "metadata": {},
   "outputs": [],
   "source": [
    "#Imports\n",
    "import os\n",
    "from random import uniform\n",
    "import subprocess\n",
    "from pathlib import Path\n",
    "from nufeb_tools import utils,plot\n",
    "import pandas as pd\n",
    "import numpy as np\n",
    "from scipy.optimize import curve_fit\n",
    "from skopt import gp_minimize\n",
    "from skopt.plots import plot_convergence, plot_objective\n",
    "import matplotlib.pyplot as plt\n",
    "from scipy import interpolate\n",
    "from sklearn.metrics import mean_squared_error "
   ]
  },
  {
   "cell_type": "markdown",
   "metadata": {},
   "source": [
    "# Optimization function\n",
    "## Parameters to optimize:\n",
    "### $\\mu_{max}$ (Monod-based growth rate, $s^{-1}$)\n",
    "### $\\rho$ (Cell density, $\\frac{kg}{m^3}$)\n",
    "### $k_{sucrose}$ (Sucrose uptake half-maximum, $\\frac{kg}{m^3}$)\n",
    "### m (Cellular maintenance cost, $s^{-1}$)"
   ]
  },
  {
   "cell_type": "code",
   "execution_count": 15,
   "metadata": {},
   "outputs": [
    {
     "data": {
      "image/png": "[encoded data removed]",
      "text/plain": [
       "<Figure size 432x288 with 1 Axes>"
      ]
     },
     "metadata": {
      "needs_background": "light"
     },
     "output_type": "display_data"
    }
   ],
   "source": [
    "#Clean old simulations\n",
    "#Clean old simulations\n",
    "os.chdir('/home/jonathan')\n",
    "os.system('nufeb-clean')\n",
    "text = f'nufeb-seed --cells 0,3 --d 1e-4,1e-4,1e-4 --grid 20 --t 17300 --suc 58.4'\n",
    "os.system(text)\n",
    "run_nufeb = subprocess.run('/home/jonathan/NUFEB/quickrun.sh', stdout=subprocess.DEVNULL)\n",
    "\n",
    "#Extract output\n",
    "BASE_DIR = Path(f'runs/')\n",
    "folders = [path for path in BASE_DIR.iterdir() if path.is_dir()]\n",
    "data = [utils.get_data(directory=str(x)) for x in folders]\n",
    "f, ax = plt.subplots()\n",
    "plot.overall_growth(data[0].biomass,ax=ax)\n",
    "plt.show()"
   ]
  },
  {
   "cell_type": "code",
   "execution_count": 56,
   "metadata": {},
   "outputs": [
    {
     "data": {
      "text/html": [
       "<div>\n",
       "<style scoped>\n",
       "    .dataframe tbody tr th:only-of-type {\n",
       "        vertical-align: middle;\n",
       "    }\n",
       "\n",
       "    .dataframe tbody tr th {\n",
       "        vertical-align: top;\n",
       "    }\n",
       "\n",
       "    .dataframe thead th {\n",
       "        text-align: right;\n",
       "    }\n",
       "</style>\n",
       "<table border=\"1\" class=\"dataframe\">\n",
       "  <thead>\n",
       "    <tr style=\"text-align: right;\">\n",
       "      <th></th>\n",
       "      <th>Hours</th>\n",
       "      <th>OD600</th>\n",
       "    </tr>\n",
       "  </thead>\n",
       "  <tbody>\n",
       "    <tr>\n",
       "      <th>0</th>\n",
       "      <td>0.000000</td>\n",
       "      <td>5.184054e+02</td>\n",
       "    </tr>\n",
       "    <tr>\n",
       "      <th>1</th>\n",
       "      <td>0.277778</td>\n",
       "      <td>5.444924e+02</td>\n",
       "    </tr>\n",
       "    <tr>\n",
       "      <th>2</th>\n",
       "      <td>0.555556</td>\n",
       "      <td>5.718922e+02</td>\n",
       "    </tr>\n",
       "    <tr>\n",
       "      <th>3</th>\n",
       "      <td>0.833333</td>\n",
       "      <td>6.006707e+02</td>\n",
       "    </tr>\n",
       "    <tr>\n",
       "      <th>4</th>\n",
       "      <td>1.111111</td>\n",
       "      <td>6.308973e+02</td>\n",
       "    </tr>\n",
       "    <tr>\n",
       "      <th>...</th>\n",
       "      <td>...</td>\n",
       "      <td>...</td>\n",
       "    </tr>\n",
       "    <tr>\n",
       "      <th>169</th>\n",
       "      <td>46.944444</td>\n",
       "      <td>1.896432e+06</td>\n",
       "    </tr>\n",
       "    <tr>\n",
       "      <th>170</th>\n",
       "      <td>47.222222</td>\n",
       "      <td>1.982770e+06</td>\n",
       "    </tr>\n",
       "    <tr>\n",
       "      <th>171</th>\n",
       "      <td>47.500000</td>\n",
       "      <td>2.072339e+06</td>\n",
       "    </tr>\n",
       "    <tr>\n",
       "      <th>172</th>\n",
       "      <td>47.777778</td>\n",
       "      <td>2.164726e+06</td>\n",
       "    </tr>\n",
       "    <tr>\n",
       "      <th>173</th>\n",
       "      <td>48.055556</td>\n",
       "      <td>2.261166e+06</td>\n",
       "    </tr>\n",
       "  </tbody>\n",
       "</table>\n",
       "<p>174 rows × 2 columns</p>\n",
       "</div>"
      ],
      "text/plain": [
       "         Hours         OD600\n",
       "0     0.000000  5.184054e+02\n",
       "1     0.277778  5.444924e+02\n",
       "2     0.555556  5.718922e+02\n",
       "3     0.833333  6.006707e+02\n",
       "4     1.111111  6.308973e+02\n",
       "..         ...           ...\n",
       "169  46.944444  1.896432e+06\n",
       "170  47.222222  1.982770e+06\n",
       "171  47.500000  2.072339e+06\n",
       "172  47.777778  2.164726e+06\n",
       "173  48.055556  2.261166e+06\n",
       "\n",
       "[174 rows x 2 columns]"
      ]
     },
     "execution_count": 56,
     "metadata": {},
     "output_type": "execute_result"
    }
   ],
   "source": [
    "df = data[0].biomass.ecw\n",
    "np.prod(data[0].metadata['Dimensions'])\n",
    "df = df.reset_index()\n",
    "df.columns=['Hours','OD600']\n",
    "df"
   ]
  },
  {
   "cell_type": "code",
   "execution_count": 32,
   "metadata": {},
   "outputs": [
    {
     "data": {
      "image/png": "[encoded data removed]",
      "text/plain": [
       "<Figure size 432x288 with 1 Axes>"
      ]
     },
     "metadata": {
      "needs_background": "light"
     },
     "output_type": "display_data"
    }
   ],
   "source": [
    "Volume = 1e-4*1e-4*1e-4 #m^3\n",
    "mlm3 = 1e6 #mL/m^3\n",
    "cellsperOD=8e8 #cells/mL @OD 1\n",
    "CellNum2OD = Volume*cellsperOD*mlm3\n",
    "temp = pd.concat([data[0].ntypes.ecw/CellNum2OD,data[0].ntypes.step/60/60*data[0].timestep],axis=1)\n",
    "temp.columns=['OD600','Hours']\n",
    "f, ax = plt.subplots()\n",
    "ax.plot(data[0].biomass.ecw/1e18/(1e-12)/.39)\n",
    "ax.plot(temp.Hours,temp.OD600)\n",
    "ax.plot([0,50],[1,1])\n",
    "\n",
    "ax.plot([0,50],[.003,.003])\n",
    "ax.set_yscale('log')"
   ]
  },
  {
   "cell_type": "code",
   "execution_count": 12,
   "metadata": {},
   "outputs": [],
   "source": [
    "def mu_func(x,K,r,N0):\n",
    "    return K/(1  + ((K-N0)/N0)*np.exp(-r*x))"
   ]
  },
  {
   "cell_type": "code",
   "execution_count": 17,
   "metadata": {
    "execution": {
     "iopub.execute_input": "2021-10-19T14:32:06.828797Z",
     "iopub.status.busy": "2021-10-19T14:32:06.828196Z",
     "iopub.status.idle": "2021-10-19T14:32:06.831575Z",
     "shell.execute_reply": "2021-10-19T14:32:06.831079Z"
    }
   },
   "outputs": [],
   "source": [
    "def func(x):\n",
    "\n",
    "    mu = x[0]\n",
    "    rho = x[1]\n",
    "    ksuc = x[2]\n",
    "    maint = x[3]\n",
    "    growthRates = {1 : 0.002,2:.163,5:.21,10:.265,20:.2996}\n",
    "    exp_x = np.array([ 0. ,  6.5, 10. , 12. , 14.5, 16.5, 18.5, 22.5, 26.5, 33. , 48. ,58. , 77. , 98. ])\n",
    "    exp_y = np.array([0.003, 0.025, 0.11 , 0.245, 0.388, 0.44 , 0.504, 0.64 , 0.725, 0.788, 0.79 , 0.8  , 0.825, 0.83 ])\n",
    "    SucroseMW = 342.3\n",
    "\n",
    "    #Clean old simulations\n",
    "    os.chdir('/home/jonathan')\n",
    "    os.system('nufeb-clean')\n",
    "\n",
    "    \n",
    "    print(f'mu: {mu},ksuc: {ksuc}, m {maint}')\n",
    "    # generate simulations for several initial sucrose concentrations\n",
    "    for key in growthRates.keys():\n",
    "        suc = key*1e3/SucroseMW\n",
    "\n",
    "        text = f'nufeb-seed --cells 0,3 --d 1e-4,1e-4,1e-4 --grid 20 --t 17300 --suc {suc:.2f} --muecw {mu}  --rhoecw {rho} --ksuc {ksuc} --maintecw {maint}'\n",
    "        os.system(text)\n",
    "    #Run simulation\n",
    "    run_nufeb = subprocess.run('/home/jonathan/NUFEB/quickrun.sh', stdout=subprocess.DEVNULL)\n",
    "\n",
    "    #Extract output\n",
    "    BASE_DIR = Path(f'runs/')\n",
    "    folders = [path for path in BASE_DIR.iterdir() if path.is_dir()]\n",
    "    data = [utils.get_data(directory=str(x)) for x in folders]\n",
    "    Volume = np.prod(data[0].metadata['Dimensions']) #m^3\n",
    "\n",
    "    fg2kg = 1e18\n",
    "    Biomass2OD = 0.36 #g-dw/L\n",
    "    mlm3 = 1e6 #mL/m^3\n",
    "    cellsperOD=8e8 #cells/mL @OD 1\n",
    "    CellNum2OD = Volume*cellsperOD*mlm3\n",
    "\n",
    "    dfs = []\n",
    "    for x in data:\n",
    "        temp = x.biomass.ecw/fg2kg/Volume/Biomass2OD\n",
    "        temp = temp.reset_index()\n",
    "        temp.columns=['OD600','Hours']\n",
    "        temp['S0'] = x.avg_con.Sucrose[0]*SucroseMW/1e3\n",
    "        dfs.append(temp)\n",
    "    df = pd.concat(dfs,ignore_index=True)\n",
    "    gr = growthRates.copy()\n",
    "    for key in growthRates.keys():\n",
    "        temp = df.loc[df.S0==key]\n",
    "        try:\n",
    "            popt, pcov = curve_fit(mu_func,temp.Hours, temp.OD600)\n",
    "            gr.update({key :popt[1]})\n",
    "        except: \n",
    "            print(\"fitting failed\")\n",
    "            gr.update({key :0})\n",
    "    tmp = pd.DataFrame.from_dict(growthRates,orient='index',columns=['mu'])\n",
    "    tmp2 = pd.DataFrame.from_dict(gr,orient='index',columns=['mu'])\n",
    "    mu_rmse = mean_squared_error(tmp,tmp2, squared = False)\n",
    "    #Compare output with experimental data\n",
    "    exp = interpolate.interp1d(exp_x,exp_y)\n",
    "    df20=df.loc[df.S0==20]\n",
    "    sim = interpolate.interp1d(df20.Hours.to_numpy(),df20.OD600.to_numpy())\n",
    "    x_range = np.arange(0,48,.1)\n",
    "    rmse = mean_squared_error(exp(x_range), sim(x_range), squared = False)\n",
    "    #plot\n",
    "    f, ax = plt.subplots()\n",
    "    ax.plot(df20.Hours,df20.OD600,label='NUFEB')\n",
    "    ax.plot(exp_x,exp_y,marker='o',label='Experimental')\n",
    "    ax.set_yscale('log')\n",
    "    plt.show()\n",
    "    return rmse + mu_rmse\n"
   ]
  },
  {
   "cell_type": "code",
   "execution_count": 18,
   "metadata": {
    "execution": {
     "iopub.execute_input": "2021-10-19T14:32:06.835658Z",
     "iopub.status.busy": "2021-10-19T14:32:06.835037Z",
     "iopub.status.idle": "2021-10-19T14:32:06.839020Z",
     "shell.execute_reply": "2021-10-19T14:32:06.838428Z"
    }
   },
   "outputs": [],
   "source": [
    "from tqdm.notebook import tqdm\n",
    "\n",
    "class tqdm_skopt(object):\n",
    "    def __init__(self, **kwargs):\n",
    "        self._bar = tqdm(**kwargs)\n",
    "        \n",
    "    def __call__(self, res):\n",
    "        self._bar.update()"
   ]
  },
  {
   "cell_type": "code",
   "execution_count": 19,
   "metadata": {
    "execution": {
     "iopub.execute_input": "2021-10-19T14:32:06.843918Z",
     "iopub.status.busy": "2021-10-19T14:32:06.843363Z",
     "iopub.status.idle": "2021-10-19T15:16:39.102615Z",
     "shell.execute_reply": "2021-10-19T15:16:39.103321Z"
    }
   },
   "outputs": [
    {
     "data": {
      "application/vnd.jupyter.widget-view+json": {
       "model_id": "d4bbd12ac232459194121dcc3b8a2ff0",
       "version_major": 2,
       "version_minor": 0
      },
      "text/plain": [
       "Bayesian opt:   0%|          | 0/100 [00:00<?, ?it/s]"
      ]
     },
     "metadata": {},
     "output_type": "display_data"
    },
    {
     "name": "stdout",
     "output_type": "stream",
     "text": [
      "Iteration No: 1 started. Evaluating function at random point.\n",
      "mu: 7.029995126668965e-05,ksuc: 2.3971511785065043, m 3.2186506790181813e-08\n"
     ]
    },
    {
     "ename": "KeyboardInterrupt",
     "evalue": "",
     "output_type": "error",
     "traceback": [
      "\u001b[0;31m---------------------------------------------------------------------------\u001b[0m",
      "\u001b[0;31mKeyboardInterrupt\u001b[0m                         Traceback (most recent call last)",
      "\u001b[0;32m/tmp/ipykernel_167/2627241745.py\u001b[0m in \u001b[0;36m<module>\u001b[0;34m\u001b[0m\n\u001b[1;32m      9\u001b[0m \u001b[0mbounds\u001b[0m \u001b[0;34m=\u001b[0m \u001b[0;34m[\u001b[0m\u001b[0;34m(\u001b[0m\u001b[0mmu_min\u001b[0m\u001b[0;34m,\u001b[0m\u001b[0mmu_max\u001b[0m\u001b[0;34m)\u001b[0m\u001b[0;34m,\u001b[0m\u001b[0;34m(\u001b[0m\u001b[0mrho_min\u001b[0m\u001b[0;34m,\u001b[0m\u001b[0mrho_max\u001b[0m\u001b[0;34m)\u001b[0m\u001b[0;34m,\u001b[0m\u001b[0;34m(\u001b[0m\u001b[0mk_suc_min\u001b[0m\u001b[0;34m,\u001b[0m\u001b[0mk_suc_max\u001b[0m\u001b[0;34m)\u001b[0m\u001b[0;34m,\u001b[0m\u001b[0;34m(\u001b[0m\u001b[0mm_min\u001b[0m\u001b[0;34m,\u001b[0m\u001b[0mm_max\u001b[0m\u001b[0;34m)\u001b[0m\u001b[0;34m]\u001b[0m\u001b[0;34m\u001b[0m\u001b[0;34m\u001b[0m\u001b[0m\n\u001b[1;32m     10\u001b[0m \u001b[0mn_calls\u001b[0m \u001b[0;34m=\u001b[0m \u001b[0;36m100\u001b[0m\u001b[0;34m\u001b[0m\u001b[0;34m\u001b[0m\u001b[0m\n\u001b[0;32m---> 11\u001b[0;31m \u001b[0mgp_res\u001b[0m \u001b[0;34m=\u001b[0m \u001b[0mgp_minimize\u001b[0m\u001b[0;34m(\u001b[0m\u001b[0mfunc\u001b[0m\u001b[0;34m,\u001b[0m \u001b[0mbounds\u001b[0m\u001b[0;34m,\u001b[0m \u001b[0mn_calls\u001b[0m\u001b[0;34m=\u001b[0m\u001b[0mn_calls\u001b[0m\u001b[0;34m,\u001b[0m\u001b[0mn_initial_points\u001b[0m\u001b[0;34m=\u001b[0m\u001b[0;36m20\u001b[0m\u001b[0;34m,\u001b[0m\u001b[0mrandom_state\u001b[0m\u001b[0;34m=\u001b[0m\u001b[0;36m5348\u001b[0m\u001b[0;34m,\u001b[0m\u001b[0mverbose\u001b[0m\u001b[0;34m=\u001b[0m\u001b[0;32mTrue\u001b[0m\u001b[0;34m,\u001b[0m\u001b[0mcallback\u001b[0m\u001b[0;34m=\u001b[0m\u001b[0;34m[\u001b[0m\u001b[0mtqdm_skopt\u001b[0m\u001b[0;34m(\u001b[0m\u001b[0mtotal\u001b[0m\u001b[0;34m=\u001b[0m\u001b[0mn_calls\u001b[0m\u001b[0;34m,\u001b[0m \u001b[0mdesc\u001b[0m\u001b[0;34m=\u001b[0m\u001b[0;34m\"Bayesian opt\"\u001b[0m\u001b[0;34m)\u001b[0m\u001b[0;34m]\u001b[0m\u001b[0;34m)\u001b[0m\u001b[0;34m\u001b[0m\u001b[0;34m\u001b[0m\u001b[0m\n\u001b[0m",
      "\u001b[0;32m~/miniconda3/envs/nufeb/lib/python3.9/site-packages/skopt/optimizer/gp.py\u001b[0m in \u001b[0;36mgp_minimize\u001b[0;34m(func, dimensions, base_estimator, n_calls, n_random_starts, n_initial_points, initial_point_generator, acq_func, acq_optimizer, x0, y0, random_state, verbose, callback, n_points, n_restarts_optimizer, xi, kappa, noise, n_jobs, model_queue_size)\u001b[0m\n\u001b[1;32m    257\u001b[0m             noise=noise)\n\u001b[1;32m    258\u001b[0m \u001b[0;34m\u001b[0m\u001b[0m\n\u001b[0;32m--> 259\u001b[0;31m     return base_minimize(\n\u001b[0m\u001b[1;32m    260\u001b[0m         \u001b[0mfunc\u001b[0m\u001b[0;34m,\u001b[0m \u001b[0mspace\u001b[0m\u001b[0;34m,\u001b[0m \u001b[0mbase_estimator\u001b[0m\u001b[0;34m=\u001b[0m\u001b[0mbase_estimator\u001b[0m\u001b[0;34m,\u001b[0m\u001b[0;34m\u001b[0m\u001b[0;34m\u001b[0m\u001b[0m\n\u001b[1;32m    261\u001b[0m         \u001b[0macq_func\u001b[0m\u001b[0;34m=\u001b[0m\u001b[0macq_func\u001b[0m\u001b[0;34m,\u001b[0m\u001b[0;34m\u001b[0m\u001b[0;34m\u001b[0m\u001b[0m\n",
      "\u001b[0;32m~/miniconda3/envs/nufeb/lib/python3.9/site-packages/skopt/optimizer/base.py\u001b[0m in \u001b[0;36mbase_minimize\u001b[0;34m(func, dimensions, base_estimator, n_calls, n_random_starts, n_initial_points, initial_point_generator, acq_func, acq_optimizer, x0, y0, random_state, verbose, callback, n_points, n_restarts_optimizer, xi, kappa, n_jobs, model_queue_size)\u001b[0m\n\u001b[1;32m    297\u001b[0m     \u001b[0;32mfor\u001b[0m \u001b[0mn\u001b[0m \u001b[0;32min\u001b[0m \u001b[0mrange\u001b[0m\u001b[0;34m(\u001b[0m\u001b[0mn_calls\u001b[0m\u001b[0;34m)\u001b[0m\u001b[0;34m:\u001b[0m\u001b[0;34m\u001b[0m\u001b[0;34m\u001b[0m\u001b[0m\n\u001b[1;32m    298\u001b[0m         \u001b[0mnext_x\u001b[0m \u001b[0;34m=\u001b[0m \u001b[0moptimizer\u001b[0m\u001b[0;34m.\u001b[0m\u001b[0mask\u001b[0m\u001b[0;34m(\u001b[0m\u001b[0;34m)\u001b[0m\u001b[0;34m\u001b[0m\u001b[0;34m\u001b[0m\u001b[0m\n\u001b[0;32m--> 299\u001b[0;31m         \u001b[0mnext_y\u001b[0m \u001b[0;34m=\u001b[0m \u001b[0mfunc\u001b[0m\u001b[0;34m(\u001b[0m\u001b[0mnext_x\u001b[0m\u001b[0;34m)\u001b[0m\u001b[0;34m\u001b[0m\u001b[0;34m\u001b[0m\u001b[0m\n\u001b[0m\u001b[1;32m    300\u001b[0m         \u001b[0mresult\u001b[0m \u001b[0;34m=\u001b[0m \u001b[0moptimizer\u001b[0m\u001b[0;34m.\u001b[0m\u001b[0mtell\u001b[0m\u001b[0;34m(\u001b[0m\u001b[0mnext_x\u001b[0m\u001b[0;34m,\u001b[0m \u001b[0mnext_y\u001b[0m\u001b[0;34m)\u001b[0m\u001b[0;34m\u001b[0m\u001b[0;34m\u001b[0m\u001b[0m\n\u001b[1;32m    301\u001b[0m         \u001b[0mresult\u001b[0m\u001b[0;34m.\u001b[0m\u001b[0mspecs\u001b[0m \u001b[0;34m=\u001b[0m \u001b[0mspecs\u001b[0m\u001b[0;34m\u001b[0m\u001b[0;34m\u001b[0m\u001b[0m\n",
      "\u001b[0;32m/tmp/ipykernel_167/705863710.py\u001b[0m in \u001b[0;36mfunc\u001b[0;34m(x)\u001b[0m\n\u001b[1;32m     23\u001b[0m         \u001b[0mos\u001b[0m\u001b[0;34m.\u001b[0m\u001b[0msystem\u001b[0m\u001b[0;34m(\u001b[0m\u001b[0mtext\u001b[0m\u001b[0;34m)\u001b[0m\u001b[0;34m\u001b[0m\u001b[0;34m\u001b[0m\u001b[0m\n\u001b[1;32m     24\u001b[0m     \u001b[0;31m#Run simulation\u001b[0m\u001b[0;34m\u001b[0m\u001b[0;34m\u001b[0m\u001b[0m\n\u001b[0;32m---> 25\u001b[0;31m     \u001b[0mrun_nufeb\u001b[0m \u001b[0;34m=\u001b[0m \u001b[0msubprocess\u001b[0m\u001b[0;34m.\u001b[0m\u001b[0mrun\u001b[0m\u001b[0;34m(\u001b[0m\u001b[0;34m'/home/jonathan/NUFEB/quickrun.sh'\u001b[0m\u001b[0;34m,\u001b[0m \u001b[0mstdout\u001b[0m\u001b[0;34m=\u001b[0m\u001b[0msubprocess\u001b[0m\u001b[0;34m.\u001b[0m\u001b[0mDEVNULL\u001b[0m\u001b[0;34m)\u001b[0m\u001b[0;34m\u001b[0m\u001b[0;34m\u001b[0m\u001b[0m\n\u001b[0m\u001b[1;32m     26\u001b[0m \u001b[0;34m\u001b[0m\u001b[0m\n\u001b[1;32m     27\u001b[0m     \u001b[0;31m#Extract output\u001b[0m\u001b[0;34m\u001b[0m\u001b[0;34m\u001b[0m\u001b[0m\n",
      "\u001b[0;32m~/miniconda3/envs/nufeb/lib/python3.9/subprocess.py\u001b[0m in \u001b[0;36mrun\u001b[0;34m(input, capture_output, timeout, check, *popenargs, **kwargs)\u001b[0m\n\u001b[1;32m    505\u001b[0m     \u001b[0;32mwith\u001b[0m \u001b[0mPopen\u001b[0m\u001b[0;34m(\u001b[0m\u001b[0;34m*\u001b[0m\u001b[0mpopenargs\u001b[0m\u001b[0;34m,\u001b[0m \u001b[0;34m**\u001b[0m\u001b[0mkwargs\u001b[0m\u001b[0;34m)\u001b[0m \u001b[0;32mas\u001b[0m \u001b[0mprocess\u001b[0m\u001b[0;34m:\u001b[0m\u001b[0;34m\u001b[0m\u001b[0;34m\u001b[0m\u001b[0m\n\u001b[1;32m    506\u001b[0m         \u001b[0;32mtry\u001b[0m\u001b[0;34m:\u001b[0m\u001b[0;34m\u001b[0m\u001b[0;34m\u001b[0m\u001b[0m\n\u001b[0;32m--> 507\u001b[0;31m             \u001b[0mstdout\u001b[0m\u001b[0;34m,\u001b[0m \u001b[0mstderr\u001b[0m \u001b[0;34m=\u001b[0m \u001b[0mprocess\u001b[0m\u001b[0;34m.\u001b[0m\u001b[0mcommunicate\u001b[0m\u001b[0;34m(\u001b[0m\u001b[0minput\u001b[0m\u001b[0;34m,\u001b[0m \u001b[0mtimeout\u001b[0m\u001b[0;34m=\u001b[0m\u001b[0mtimeout\u001b[0m\u001b[0;34m)\u001b[0m\u001b[0;34m\u001b[0m\u001b[0;34m\u001b[0m\u001b[0m\n\u001b[0m\u001b[1;32m    508\u001b[0m         \u001b[0;32mexcept\u001b[0m \u001b[0mTimeoutExpired\u001b[0m \u001b[0;32mas\u001b[0m \u001b[0mexc\u001b[0m\u001b[0;34m:\u001b[0m\u001b[0;34m\u001b[0m\u001b[0;34m\u001b[0m\u001b[0m\n\u001b[1;32m    509\u001b[0m             \u001b[0mprocess\u001b[0m\u001b[0;34m.\u001b[0m\u001b[0mkill\u001b[0m\u001b[0;34m(\u001b[0m\u001b[0;34m)\u001b[0m\u001b[0;34m\u001b[0m\u001b[0;34m\u001b[0m\u001b[0m\n",
      "\u001b[0;32m~/miniconda3/envs/nufeb/lib/python3.9/subprocess.py\u001b[0m in \u001b[0;36mcommunicate\u001b[0;34m(self, input, timeout)\u001b[0m\n\u001b[1;32m   1124\u001b[0m                 \u001b[0mstderr\u001b[0m \u001b[0;34m=\u001b[0m \u001b[0mself\u001b[0m\u001b[0;34m.\u001b[0m\u001b[0mstderr\u001b[0m\u001b[0;34m.\u001b[0m\u001b[0mread\u001b[0m\u001b[0;34m(\u001b[0m\u001b[0;34m)\u001b[0m\u001b[0;34m\u001b[0m\u001b[0;34m\u001b[0m\u001b[0m\n\u001b[1;32m   1125\u001b[0m                 \u001b[0mself\u001b[0m\u001b[0;34m.\u001b[0m\u001b[0mstderr\u001b[0m\u001b[0;34m.\u001b[0m\u001b[0mclose\u001b[0m\u001b[0;34m(\u001b[0m\u001b[0;34m)\u001b[0m\u001b[0;34m\u001b[0m\u001b[0;34m\u001b[0m\u001b[0m\n\u001b[0;32m-> 1126\u001b[0;31m             \u001b[0mself\u001b[0m\u001b[0;34m.\u001b[0m\u001b[0mwait\u001b[0m\u001b[0;34m(\u001b[0m\u001b[0;34m)\u001b[0m\u001b[0;34m\u001b[0m\u001b[0;34m\u001b[0m\u001b[0m\n\u001b[0m\u001b[1;32m   1127\u001b[0m         \u001b[0;32melse\u001b[0m\u001b[0;34m:\u001b[0m\u001b[0;34m\u001b[0m\u001b[0;34m\u001b[0m\u001b[0m\n\u001b[1;32m   1128\u001b[0m             \u001b[0;32mif\u001b[0m \u001b[0mtimeout\u001b[0m \u001b[0;32mis\u001b[0m \u001b[0;32mnot\u001b[0m \u001b[0;32mNone\u001b[0m\u001b[0;34m:\u001b[0m\u001b[0;34m\u001b[0m\u001b[0;34m\u001b[0m\u001b[0m\n",
      "\u001b[0;32m~/miniconda3/envs/nufeb/lib/python3.9/subprocess.py\u001b[0m in \u001b[0;36mwait\u001b[0;34m(self, timeout)\u001b[0m\n\u001b[1;32m   1187\u001b[0m             \u001b[0mendtime\u001b[0m \u001b[0;34m=\u001b[0m \u001b[0m_time\u001b[0m\u001b[0;34m(\u001b[0m\u001b[0;34m)\u001b[0m \u001b[0;34m+\u001b[0m \u001b[0mtimeout\u001b[0m\u001b[0;34m\u001b[0m\u001b[0;34m\u001b[0m\u001b[0m\n\u001b[1;32m   1188\u001b[0m         \u001b[0;32mtry\u001b[0m\u001b[0;34m:\u001b[0m\u001b[0;34m\u001b[0m\u001b[0;34m\u001b[0m\u001b[0m\n\u001b[0;32m-> 1189\u001b[0;31m             \u001b[0;32mreturn\u001b[0m \u001b[0mself\u001b[0m\u001b[0;34m.\u001b[0m\u001b[0m_wait\u001b[0m\u001b[0;34m(\u001b[0m\u001b[0mtimeout\u001b[0m\u001b[0;34m=\u001b[0m\u001b[0mtimeout\u001b[0m\u001b[0;34m)\u001b[0m\u001b[0;34m\u001b[0m\u001b[0;34m\u001b[0m\u001b[0m\n\u001b[0m\u001b[1;32m   1190\u001b[0m         \u001b[0;32mexcept\u001b[0m \u001b[0mKeyboardInterrupt\u001b[0m\u001b[0;34m:\u001b[0m\u001b[0;34m\u001b[0m\u001b[0;34m\u001b[0m\u001b[0m\n\u001b[1;32m   1191\u001b[0m             \u001b[0;31m# https://bugs.python.org/issue25942\u001b[0m\u001b[0;34m\u001b[0m\u001b[0;34m\u001b[0m\u001b[0m\n",
      "\u001b[0;32m~/miniconda3/envs/nufeb/lib/python3.9/subprocess.py\u001b[0m in \u001b[0;36m_wait\u001b[0;34m(self, timeout)\u001b[0m\n\u001b[1;32m   1915\u001b[0m                         \u001b[0;32mif\u001b[0m \u001b[0mself\u001b[0m\u001b[0;34m.\u001b[0m\u001b[0mreturncode\u001b[0m \u001b[0;32mis\u001b[0m \u001b[0;32mnot\u001b[0m \u001b[0;32mNone\u001b[0m\u001b[0;34m:\u001b[0m\u001b[0;34m\u001b[0m\u001b[0;34m\u001b[0m\u001b[0m\n\u001b[1;32m   1916\u001b[0m                             \u001b[0;32mbreak\u001b[0m  \u001b[0;31m# Another thread waited.\u001b[0m\u001b[0;34m\u001b[0m\u001b[0;34m\u001b[0m\u001b[0m\n\u001b[0;32m-> 1917\u001b[0;31m                         \u001b[0;34m(\u001b[0m\u001b[0mpid\u001b[0m\u001b[0;34m,\u001b[0m \u001b[0msts\u001b[0m\u001b[0;34m)\u001b[0m \u001b[0;34m=\u001b[0m \u001b[0mself\u001b[0m\u001b[0;34m.\u001b[0m\u001b[0m_try_wait\u001b[0m\u001b[0;34m(\u001b[0m\u001b[0;36m0\u001b[0m\u001b[0;34m)\u001b[0m\u001b[0;34m\u001b[0m\u001b[0;34m\u001b[0m\u001b[0m\n\u001b[0m\u001b[1;32m   1918\u001b[0m                         \u001b[0;31m# Check the pid and loop as waitpid has been known to\u001b[0m\u001b[0;34m\u001b[0m\u001b[0;34m\u001b[0m\u001b[0m\n\u001b[1;32m   1919\u001b[0m                         \u001b[0;31m# return 0 even without WNOHANG in odd situations.\u001b[0m\u001b[0;34m\u001b[0m\u001b[0;34m\u001b[0m\u001b[0m\n",
      "\u001b[0;32m~/miniconda3/envs/nufeb/lib/python3.9/subprocess.py\u001b[0m in \u001b[0;36m_try_wait\u001b[0;34m(self, wait_flags)\u001b[0m\n\u001b[1;32m   1873\u001b[0m             \u001b[0;34m\"\"\"All callers to this function MUST hold self._waitpid_lock.\"\"\"\u001b[0m\u001b[0;34m\u001b[0m\u001b[0;34m\u001b[0m\u001b[0m\n\u001b[1;32m   1874\u001b[0m             \u001b[0;32mtry\u001b[0m\u001b[0;34m:\u001b[0m\u001b[0;34m\u001b[0m\u001b[0;34m\u001b[0m\u001b[0m\n\u001b[0;32m-> 1875\u001b[0;31m                 \u001b[0;34m(\u001b[0m\u001b[0mpid\u001b[0m\u001b[0;34m,\u001b[0m \u001b[0msts\u001b[0m\u001b[0;34m)\u001b[0m \u001b[0;34m=\u001b[0m \u001b[0mos\u001b[0m\u001b[0;34m.\u001b[0m\u001b[0mwaitpid\u001b[0m\u001b[0;34m(\u001b[0m\u001b[0mself\u001b[0m\u001b[0;34m.\u001b[0m\u001b[0mpid\u001b[0m\u001b[0;34m,\u001b[0m \u001b[0mwait_flags\u001b[0m\u001b[0;34m)\u001b[0m\u001b[0;34m\u001b[0m\u001b[0;34m\u001b[0m\u001b[0m\n\u001b[0m\u001b[1;32m   1876\u001b[0m             \u001b[0;32mexcept\u001b[0m \u001b[0mChildProcessError\u001b[0m\u001b[0;34m:\u001b[0m\u001b[0;34m\u001b[0m\u001b[0;34m\u001b[0m\u001b[0m\n\u001b[1;32m   1877\u001b[0m                 \u001b[0;31m# This happens if SIGCLD is set to be ignored or waiting\u001b[0m\u001b[0;34m\u001b[0m\u001b[0;34m\u001b[0m\u001b[0m\n",
      "\u001b[0;31mKeyboardInterrupt\u001b[0m: "
     ]
    }
   ],
   "source": [
    "mu_min = float('5.5e-5')\n",
    "mu_max = float('1.1e-4')\n",
    "rho_min = 185\n",
    "rho_max = 307\n",
    "k_suc_min = float('1e-1')\n",
    "k_suc_max = float('1.5e1')\n",
    "m_min = float('1e-9')\n",
    "m_max = float('1e-7')\n",
    "bounds = [(mu_min,mu_max),(rho_min,rho_max),(k_suc_min,k_suc_max),(m_min,m_max)]\n",
    "n_calls = 100\n",
    "gp_res = gp_minimize(func, bounds, n_calls=n_calls,n_initial_points=20,random_state=5348,verbose=True,callback=[tqdm_skopt(total=n_calls, desc=\"Bayesian opt\")])"
   ]
  },
  {
   "cell_type": "code",
   "execution_count": 16,
   "metadata": {
    "execution": {
     "iopub.execute_input": "2021-10-19T15:16:39.106900Z",
     "iopub.status.busy": "2021-10-19T15:16:39.106357Z",
     "iopub.status.idle": "2021-10-19T15:16:39.582339Z",
     "shell.execute_reply": "2021-10-19T15:16:39.582813Z"
    }
   },
   "outputs": [
    {
     "data": {
      "text/plain": [
       "<AxesSubplot:title={'center':'Convergence plot'}, xlabel='Number of calls $n$', ylabel='$\\\\min f(x)$ after $n$ calls'>"
      ]
     },
     "execution_count": 16,
     "metadata": {},
     "output_type": "execute_result"
    },
    {
     "data": {
      "image/png": "[encoded data removed]",
      "text/plain": [
       "<Figure size 432x288 with 1 Axes>"
      ]
     },
     "metadata": {
      "needs_background": "light"
     },
     "output_type": "display_data"
    }
   ],
   "source": [
    "plot_convergence(gp_res,yscale='log')"
   ]
  },
  {
   "cell_type": "code",
   "execution_count": 17,
   "metadata": {
    "execution": {
     "iopub.execute_input": "2021-10-19T15:16:39.586817Z",
     "iopub.status.busy": "2021-10-19T15:16:39.585901Z",
     "iopub.status.idle": "2021-10-19T15:16:46.442213Z",
     "shell.execute_reply": "2021-10-19T15:16:46.442659Z"
    }
   },
   "outputs": [
    {
     "data": {
      "text/plain": [
       "array([[<AxesSubplot:xlabel='$X_{0}$', ylabel='Partial dependence'>,\n",
       "        <AxesSubplot:>, <AxesSubplot:>],\n",
       "       [<AxesSubplot:ylabel='$X_{1}$'>,\n",
       "        <AxesSubplot:xlabel='$X_{1}$', ylabel='Partial dependence'>,\n",
       "        <AxesSubplot:>],\n",
       "       [<AxesSubplot:xlabel='$X_{0}$', ylabel='$X_{2}$'>,\n",
       "        <AxesSubplot:xlabel='$X_{1}$'>,\n",
       "        <AxesSubplot:xlabel='$X_{2}$', ylabel='Partial dependence'>]],\n",
       "      dtype=object)"
      ]
     },
     "execution_count": 17,
     "metadata": {},
     "output_type": "execute_result"
    },
    {
     "data": {
      "image/png": "[encoded data removed]",
      "text/plain": [
       "<Figure size 432x432 with 9 Axes>"
      ]
     },
     "metadata": {
      "needs_background": "light"
     },
     "output_type": "display_data"
    }
   ],
   "source": [
    "plot_objective(gp_res)"
   ]
  },
  {
   "cell_type": "code",
   "execution_count": 18,
   "metadata": {
    "execution": {
     "iopub.execute_input": "2021-10-19T15:16:46.446602Z",
     "iopub.status.busy": "2021-10-19T15:16:46.446109Z",
     "iopub.status.idle": "2021-10-19T15:16:46.448257Z",
     "shell.execute_reply": "2021-10-19T15:16:46.448681Z"
    }
   },
   "outputs": [
    {
     "data": {
      "text/plain": [
       "[5.5e-05, 15.0, 6.047004917694896e-08]"
      ]
     },
     "execution_count": 18,
     "metadata": {},
     "output_type": "execute_result"
    }
   ],
   "source": [
    "gp_res.x"
   ]
  },
  {
   "cell_type": "code",
   "execution_count": 20,
   "metadata": {
    "execution": {
     "iopub.execute_input": "2021-10-19T15:16:46.455171Z",
     "iopub.status.busy": "2021-10-19T15:16:46.454706Z",
     "iopub.status.idle": "2021-10-19T15:17:00.157689Z",
     "shell.execute_reply": "2021-10-19T15:17:00.158147Z"
    }
   },
   "outputs": [
    {
     "name": "stderr",
     "output_type": "stream",
     "text": [
      "\n",
      "\n",
      "Assigning ancestry:   0%|                                                                       | 0/173 [00:00<?, ?it/s]\u001b[A\u001b[A\n",
      "\n",
      "Assigning ancestry:   4%|██▌                                                            | 7/173 [00:00<00:02, 63.10it/s]\u001b[A\u001b[A\n",
      "\n",
      "Assigning ancestry:   8%|█████                                                         | 14/173 [00:00<00:02, 63.04it/s]\u001b[A\u001b[A\n",
      "\n",
      "Assigning ancestry:  12%|███████▌                                                      | 21/173 [00:00<00:02, 63.57it/s]\u001b[A\u001b[A\n",
      "\n",
      "Assigning ancestry:  16%|██████████                                                    | 28/173 [00:00<00:02, 63.60it/s]\u001b[A\u001b[A\n",
      "\n",
      "Assigning ancestry:  20%|████████████▌                                                 | 35/173 [00:00<00:02, 63.38it/s]\u001b[A\u001b[A\n",
      "\n",
      "Assigning ancestry:  24%|███████████████                                               | 42/173 [00:00<00:02, 63.86it/s]\u001b[A\u001b[A\n",
      "\n",
      "Assigning ancestry:  28%|█████████████████▌                                            | 49/173 [00:00<00:01, 63.27it/s]\u001b[A\u001b[A\n",
      "\n",
      "Assigning ancestry:  32%|████████████████████                                          | 56/173 [00:00<00:01, 62.46it/s]\u001b[A\u001b[A\n",
      "\n",
      "Assigning ancestry:  36%|██████████████████████▌                                       | 63/173 [00:00<00:01, 62.62it/s]\u001b[A\u001b[A\n",
      "\n",
      "Assigning ancestry:  40%|█████████████████████████                                     | 70/173 [00:01<00:01, 61.89it/s]\u001b[A\u001b[A\n",
      "\n",
      "Assigning ancestry:  45%|███████████████████████████▌                                  | 77/173 [00:01<00:01, 61.66it/s]\u001b[A\u001b[A\n",
      "\n",
      "Assigning ancestry:  49%|██████████████████████████████                                | 84/173 [00:01<00:01, 61.17it/s]\u001b[A\u001b[A\n",
      "\n",
      "Assigning ancestry:  53%|████████████████████████████████▌                             | 91/173 [00:01<00:01, 60.22it/s]\u001b[A\u001b[A\n",
      "\n",
      "Assigning ancestry:  57%|███████████████████████████████████                           | 98/173 [00:01<00:01, 59.41it/s]\u001b[A\u001b[A\n",
      "\n",
      "Assigning ancestry:  60%|████████████████████████████████████▋                        | 104/173 [00:01<00:01, 58.97it/s]\u001b[A\u001b[A\n",
      "\n",
      "Assigning ancestry:  64%|██████████████████████████████████████▊                      | 110/173 [00:01<00:01, 58.57it/s]\u001b[A\u001b[A\n",
      "\n",
      "Assigning ancestry:  67%|████████████████████████████████████████▉                    | 116/173 [00:01<00:00, 57.71it/s]\u001b[A\u001b[A\n",
      "\n",
      "Assigning ancestry:  71%|███████████████████████████████████████████                  | 122/173 [00:02<00:00, 56.69it/s]\u001b[A\u001b[A\n",
      "\n",
      "Assigning ancestry:  74%|█████████████████████████████████████████████▏               | 128/173 [00:02<00:00, 55.73it/s]\u001b[A\u001b[A\n",
      "\n",
      "Assigning ancestry:  77%|███████████████████████████████████████████████▏             | 134/173 [00:02<00:00, 54.62it/s]\u001b[A\u001b[A\n",
      "\n",
      "Assigning ancestry:  81%|█████████████████████████████████████████████████▎           | 140/173 [00:02<00:00, 51.38it/s]\u001b[A\u001b[A\n",
      "\n",
      "Assigning ancestry:  84%|███████████████████████████████████████████████████▍         | 146/173 [00:02<00:00, 49.76it/s]\u001b[A\u001b[A\n",
      "\n",
      "Assigning ancestry:  88%|█████████████████████████████████████████████████████▌       | 152/173 [00:02<00:00, 49.57it/s]\u001b[A\u001b[A\n",
      "\n",
      "Assigning ancestry:  91%|███████████████████████████████████████████████████████▎     | 157/173 [00:02<00:00, 49.22it/s]\u001b[A\u001b[A\n",
      "\n",
      "Assigning ancestry:  94%|█████████████████████████████████████████████████████████    | 162/173 [00:02<00:00, 49.32it/s]\u001b[A\u001b[A\n",
      "\n",
      "Assigning ancestry:  97%|██████████████████████████████████████████████████████████▉  | 167/173 [00:02<00:00, 49.00it/s]\u001b[A\u001b[A\n",
      "\n",
      "Assigning ancestry: 100%|█████████████████████████████████████████████████████████████| 173/173 [00:03<00:00, 56.45it/s]\u001b[A\u001b[A\n"
     ]
    },
    {
     "data": {
      "image/png": "[encoded data removed]",
      "text/plain": [
       "<Figure size 432x288 with 1 Axes>"
      ]
     },
     "metadata": {
      "needs_background": "light"
     },
     "output_type": "display_data"
    }
   ],
   "source": [
    "exp_x = np.array([ 0. ,  6.5, 10. , 12. , 14.5, 16.5, 18.5, 22.5, 26.5, 33. , 48. ,58. , 77. , 98. ])\n",
    "exp_y = np.array([0.003, 0.025, 0.11 , 0.245, 0.388, 0.44 , 0.504, 0.64 , 0.725, 0.788, 0.79 , 0.8  , 0.825, 0.83 ])\n",
    "\n",
    "\n",
    "os.chdir('/home/jonathan')\n",
    "os.system('nufeb-clean')\n",
    "\n",
    "    #Run simulation\n",
    "\n",
    "text = f'nufeb-seed --cells 0,100 --grid 10 --t 17300 --suc 58.4 --muecw {gp_res.x[0]}  --rhoecw 250 --ksuc {gp_res.x[1]} --maintecw {gp_res.x[2]}'\n",
    "os.system(text)\n",
    "run_nufeb = subprocess.run('/home/jonathan/NUFEB/quickrun.sh', stdout=subprocess.DEVNULL)\n",
    "os.chdir('/home/jonathan')\n",
    "BASE_DIR = Path(f'runs/')\n",
    "folders = [path for path in BASE_DIR.iterdir() if path.is_dir()]\n",
    "data = [utils.get_data(directory=str(x)) for x in folders]\n",
    "Volume = 1e-4*1e-4*1e-5 #m^3\n",
    "mlm3 = 1e6 #mL/m^3\n",
    "cellsperOD=8e8 #cells/mL @OD 1\n",
    "CellNum2OD = Volume*cellsperOD*mlm3\n",
    "\n",
    "df = pd.concat([data[0].ntypes.ecw/CellNum2OD,data[0].ntypes.step/60/60*data[0].timestep],axis=1)\n",
    "df.columns=['OD600','Hours']\n",
    "f, ax = plt.subplots()\n",
    "ax.plot(df.Hours,df.OD600,label='NUFEB')\n",
    "ax.plot(exp_x,exp_y,marker='o',label='Experimental')\n",
    "plt.show()"
   ]
  },
  {
   "cell_type": "code",
   "execution_count": null,
   "metadata": {},
   "outputs": [],
   "source": []
  },
  {
   "cell_type": "code",
   "execution_count": null,
   "metadata": {},
   "outputs": [],
   "source": []
  }
 ],
 "metadata": {
  "kernelspec": {
   "display_name": "Python 3 (ipykernel)",
   "language": "python",
   "name": "python3"
  },
  "language_info": {
   "codemirror_mode": {
    "name": "ipython",
    "version": 3
   },
   "file_extension": ".py",
   "mimetype": "text/x-python",
   "name": "python",
   "nbconvert_exporter": "python",
   "pygments_lexer": "ipython3",
   "version": "3.9.7"
  },
  "widgets": {
   "application/vnd.jupyter.widget-state+json": {
    "state": {
     "06f6804f516749438a70addb258c244d": {
      "model_module": "@jupyter-widgets/controls",
      "model_module_version": "1.5.0",
      "model_name": "HBoxModel",
      "state": {
       "_dom_classes": [],
       "_model_module": "@jupyter-widgets/controls",
       "_model_module_version": "1.5.0",
       "_model_name": "HBoxModel",
       "_view_count": null,
       "_view_module": "@jupyter-widgets/controls",
       "_view_module_version": "1.5.0",
       "_view_name": "HBoxView",
       "box_style": "",
       "children": [
        "IPY_MODEL_7e275af16d5a4671a357c464b250ba86",
        "IPY_MODEL_bf5b39a487d345a18aaec6c77e68b16a",
        "IPY_MODEL_18f6f0ffadc6492a9906c04bb065c3fd"
       ],
       "layout": "IPY_MODEL_2bdebc85140844ee878b7054899f357f"
      }
     },
     "18f6f0ffadc6492a9906c04bb065c3fd": {
      "model_module": "@jupyter-widgets/controls",
      "model_module_version": "1.5.0",
      "model_name": "HTMLModel",
      "state": {
       "_dom_classes": [],
       "_model_module": "@jupyter-widgets/controls",
       "_model_module_version": "1.5.0",
       "_model_name": "HTMLModel",
       "_view_count": null,
       "_view_module": "@jupyter-widgets/controls",
       "_view_module_version": "1.5.0",
       "_view_name": "HTMLView",
       "description": "",
       "description_tooltip": null,
       "layout": "IPY_MODEL_3b06f11342284ef58aaca0846d1b029c",
       "placeholder": "​",
       "style": "IPY_MODEL_47d161a9121c4f1ba32f68058dd69072",
       "value": " 40/40 [44:32&lt;00:00, 21.37s/it]"
      }
     },
     "297262a6b32b42e780ac8ee8ddcf8718": {
      "model_module": "@jupyter-widgets/controls",
      "model_module_version": "1.5.0",
      "model_name": "DescriptionStyleModel",
      "state": {
       "_model_module": "@jupyter-widgets/controls",
       "_model_module_version": "1.5.0",
       "_model_name": "DescriptionStyleModel",
       "_view_count": null,
       "_view_module": "@jupyter-widgets/base",
       "_view_module_version": "1.2.0",
       "_view_name": "StyleView",
       "description_width": ""
      }
     },
     "2bdebc85140844ee878b7054899f357f": {
      "model_module": "@jupyter-widgets/base",
      "model_module_version": "1.2.0",
      "model_name": "LayoutModel",
      "state": {
       "_model_module": "@jupyter-widgets/base",
       "_model_module_version": "1.2.0",
       "_model_name": "LayoutModel",
       "_view_count": null,
       "_view_module": "@jupyter-widgets/base",
       "_view_module_version": "1.2.0",
       "_view_name": "LayoutView",
       "align_content": null,
       "align_items": null,
       "align_self": null,
       "border": null,
       "bottom": null,
       "display": null,
       "flex": null,
       "flex_flow": null,
       "grid_area": null,
       "grid_auto_columns": null,
       "grid_auto_flow": null,
       "grid_auto_rows": null,
       "grid_column": null,
       "grid_gap": null,
       "grid_row": null,
       "grid_template_areas": null,
       "grid_template_columns": null,
       "grid_template_rows": null,
       "height": null,
       "justify_content": null,
       "justify_items": null,
       "left": null,
       "margin": null,
       "max_height": null,
       "max_width": null,
       "min_height": null,
       "min_width": null,
       "object_fit": null,
       "object_position": null,
       "order": null,
       "overflow": null,
       "overflow_x": null,
       "overflow_y": null,
       "padding": null,
       "right": null,
       "top": null,
       "visibility": null,
       "width": null
      }
     },
     "32d8f44eb11d4ed38e050df2b36efd01": {
      "model_module": "@jupyter-widgets/base",
      "model_module_version": "1.2.0",
      "model_name": "LayoutModel",
      "state": {
       "_model_module": "@jupyter-widgets/base",
       "_model_module_version": "1.2.0",
       "_model_name": "LayoutModel",
       "_view_count": null,
       "_view_module": "@jupyter-widgets/base",
       "_view_module_version": "1.2.0",
       "_view_name": "LayoutView",
       "align_content": null,
       "align_items": null,
       "align_self": null,
       "border": null,
       "bottom": null,
       "display": null,
       "flex": null,
       "flex_flow": null,
       "grid_area": null,
       "grid_auto_columns": null,
       "grid_auto_flow": null,
       "grid_auto_rows": null,
       "grid_column": null,
       "grid_gap": null,
       "grid_row": null,
       "grid_template_areas": null,
       "grid_template_columns": null,
       "grid_template_rows": null,
       "height": null,
       "justify_content": null,
       "justify_items": null,
       "left": null,
       "margin": null,
       "max_height": null,
       "max_width": null,
       "min_height": null,
       "min_width": null,
       "object_fit": null,
       "object_position": null,
       "order": null,
       "overflow": null,
       "overflow_x": null,
       "overflow_y": null,
       "padding": null,
       "right": null,
       "top": null,
       "visibility": null,
       "width": null
      }
     },
     "3ae5d793b45b477c9432cc6155983b68": {
      "model_module": "@jupyter-widgets/controls",
      "model_module_version": "1.5.0",
      "model_name": "ProgressStyleModel",
      "state": {
       "_model_module": "@jupyter-widgets/controls",
       "_model_module_version": "1.5.0",
       "_model_name": "ProgressStyleModel",
       "_view_count": null,
       "_view_module": "@jupyter-widgets/base",
       "_view_module_version": "1.2.0",
       "_view_name": "StyleView",
       "bar_color": null,
       "description_width": ""
      }
     },
     "3b06f11342284ef58aaca0846d1b029c": {
      "model_module": "@jupyter-widgets/base",
      "model_module_version": "1.2.0",
      "model_name": "LayoutModel",
      "state": {
       "_model_module": "@jupyter-widgets/base",
       "_model_module_version": "1.2.0",
       "_model_name": "LayoutModel",
       "_view_count": null,
       "_view_module": "@jupyter-widgets/base",
       "_view_module_version": "1.2.0",
       "_view_name": "LayoutView",
       "align_content": null,
       "align_items": null,
       "align_self": null,
       "border": null,
       "bottom": null,
       "display": null,
       "flex": null,
       "flex_flow": null,
       "grid_area": null,
       "grid_auto_columns": null,
       "grid_auto_flow": null,
       "grid_auto_rows": null,
       "grid_column": null,
       "grid_gap": null,
       "grid_row": null,
       "grid_template_areas": null,
       "grid_template_columns": null,
       "grid_template_rows": null,
       "height": null,
       "justify_content": null,
       "justify_items": null,
       "left": null,
       "margin": null,
       "max_height": null,
       "max_width": null,
       "min_height": null,
       "min_width": null,
       "object_fit": null,
       "object_position": null,
       "order": null,
       "overflow": null,
       "overflow_x": null,
       "overflow_y": null,
       "padding": null,
       "right": null,
       "top": null,
       "visibility": null,
       "width": null
      }
     },
     "47d161a9121c4f1ba32f68058dd69072": {
      "model_module": "@jupyter-widgets/controls",
      "model_module_version": "1.5.0",
      "model_name": "DescriptionStyleModel",
      "state": {
       "_model_module": "@jupyter-widgets/controls",
       "_model_module_version": "1.5.0",
       "_model_name": "DescriptionStyleModel",
       "_view_count": null,
       "_view_module": "@jupyter-widgets/base",
       "_view_module_version": "1.2.0",
       "_view_name": "StyleView",
       "description_width": ""
      }
     },
     "68a770eb201841bdbc824407b1a13f7d": {
      "model_module": "@jupyter-widgets/base",
      "model_module_version": "1.2.0",
      "model_name": "LayoutModel",
      "state": {
       "_model_module": "@jupyter-widgets/base",
       "_model_module_version": "1.2.0",
       "_model_name": "LayoutModel",
       "_view_count": null,
       "_view_module": "@jupyter-widgets/base",
       "_view_module_version": "1.2.0",
       "_view_name": "LayoutView",
       "align_content": null,
       "align_items": null,
       "align_self": null,
       "border": null,
       "bottom": null,
       "display": null,
       "flex": null,
       "flex_flow": null,
       "grid_area": null,
       "grid_auto_columns": null,
       "grid_auto_flow": null,
       "grid_auto_rows": null,
       "grid_column": null,
       "grid_gap": null,
       "grid_row": null,
       "grid_template_areas": null,
       "grid_template_columns": null,
       "grid_template_rows": null,
       "height": null,
       "justify_content": null,
       "justify_items": null,
       "left": null,
       "margin": null,
       "max_height": null,
       "max_width": null,
       "min_height": null,
       "min_width": null,
       "object_fit": null,
       "object_position": null,
       "order": null,
       "overflow": null,
       "overflow_x": null,
       "overflow_y": null,
       "padding": null,
       "right": null,
       "top": null,
       "visibility": null,
       "width": null
      }
     },
     "7e275af16d5a4671a357c464b250ba86": {
      "model_module": "@jupyter-widgets/controls",
      "model_module_version": "1.5.0",
      "model_name": "HTMLModel",
      "state": {
       "_dom_classes": [],
       "_model_module": "@jupyter-widgets/controls",
       "_model_module_version": "1.5.0",
       "_model_name": "HTMLModel",
       "_view_count": null,
       "_view_module": "@jupyter-widgets/controls",
       "_view_module_version": "1.5.0",
       "_view_name": "HTMLView",
       "description": "",
       "description_tooltip": null,
       "layout": "IPY_MODEL_32d8f44eb11d4ed38e050df2b36efd01",
       "placeholder": "​",
       "style": "IPY_MODEL_297262a6b32b42e780ac8ee8ddcf8718",
       "value": "Bayesian opt: 100%"
      }
     },
     "bf5b39a487d345a18aaec6c77e68b16a": {
      "model_module": "@jupyter-widgets/controls",
      "model_module_version": "1.5.0",
      "model_name": "FloatProgressModel",
      "state": {
       "_dom_classes": [],
       "_model_module": "@jupyter-widgets/controls",
       "_model_module_version": "1.5.0",
       "_model_name": "FloatProgressModel",
       "_view_count": null,
       "_view_module": "@jupyter-widgets/controls",
       "_view_module_version": "1.5.0",
       "_view_name": "ProgressView",
       "bar_style": "",
       "description": "",
       "description_tooltip": null,
       "layout": "IPY_MODEL_68a770eb201841bdbc824407b1a13f7d",
       "max": 40,
       "min": 0,
       "orientation": "horizontal",
       "style": "IPY_MODEL_3ae5d793b45b477c9432cc6155983b68",
       "value": 40
      }
     }
    },
    "version_major": 2,
    "version_minor": 0
   }
  }
 },
 "nbformat": 4,
 "nbformat_minor": 4
}
