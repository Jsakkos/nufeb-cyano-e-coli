{
 "cells": [
  {
   "cell_type": "code",
   "execution_count": 2,
   "metadata": {},
   "outputs": [],
   "source": [
    "from nufeb_tools import utils,plot\n",
    "import seaborn as sns\n",
    "import numpy as np\n",
    "import pandas as pd\n",
    "import matplotlib.pyplot as plt\n",
    "import matplotlib.gridspec as gridspec\n",
    "from scipy.signal import find_peaks\n",
    "from scipy.spatial.distance import pdist,squareform\n",
    "from scipy.spatial import KDTree\n",
    "from scipy.spatial import Voronoi, voronoi_plot_2d\n",
    "from pathlib import Path\n",
    "from tqdm import tqdm\n",
    "import cv2"
   ]
  },
  {
   "cell_type": "code",
   "execution_count": 3,
   "metadata": {},
   "outputs": [],
   "source": [
    "BASE_DIR = Path(f'../simulation-data/spacing/')\n",
    "folders = [path for path in BASE_DIR.iterdir() if path.is_dir()]\n",
    "data = [utils.get_data(directory=str(x)) for x in folders]"
   ]
  },
  {
   "cell_type": "code",
   "execution_count": 4,
   "id": "2f4050a4",
   "metadata": {},
   "outputs": [],
   "source": [
    "def colony(obj,time,colors=None,colony=None,ax=None,by=None,img=np.array([]),**kwargs):\n",
    "    \"\"\"\n",
    "    Plot bacterial colonies at a specific timepoint\n",
    "\n",
    "    Args:\n",
    "        obj (nufeb_tools.utils.get_data): \n",
    "            Object containing cell locations\n",
    "        time (int): \n",
    "            Simulation timestep to plot\n",
    "        colors (dict, optional): \n",
    "            Dictionary of colors to plot each colony. Defaults to None.\n",
    "        colony (int, optional): \n",
    "            Plot a specific colony. Defaults to None.\n",
    "        ax (matplotlib.pyplot.axes, optional): \n",
    "            Axis to plot on. Defaults to None.\n",
    "        by (str, optional): \n",
    "            Plot by species. Defaults to None.\n",
    "    \"\"\"\n",
    "\n",
    "    if not hasattr(obj,'colonies'):\n",
    "        obj.get_mothers()\n",
    "    df = obj.colonies\n",
    "    ax = ax or plt.gca()\n",
    "    timepoint = time\n",
    "    dims=obj.metadata['Dimensions']\n",
    "    if img.size==0:\n",
    "        img_size = 2000\n",
    "        bk = 255 * np.ones(shape=[img_size, img_size, 3], dtype=np.uint8)\n",
    "    else:\n",
    "        img_size = img.size[0]\n",
    "        bk = img\n",
    "    if by == 'Species' or by == 'species' or by == 'type':\n",
    "        colors = {1 : (26,150,65) ,2 : (230,97,1)}\n",
    "        tp = df[df.Timestep == timepoint]\n",
    "        circles = [cv2.circle(bk,center = (round(x/dims[0]*img_size),\n",
    "                    round(y/dims[1]*img_size)),radius = round(radius/dims[1]*img_size),\n",
    "                    color = (int(colors[type_][0]),int(colors[type_][1]),int(colors[type_][2])),thickness = -1) for x,y, radius,type_ in zip(tp.x,tp.y,tp.radius,tp.type)]\n",
    "    elif colony == None and by == None:\n",
    "        if colors == None:\n",
    "            IDs = sorted(df[df.mother_cell != -1].mother_cell.unique())\n",
    "            colors = {x : tuple(np.random.randint(0,256, 3).astype('int')) for x in IDs}\n",
    "        tp = df[df.Timestep == timepoint]\n",
    "        circles = [cv2.circle(bk,center = (round(x/dims[0]*img_size),\n",
    "                    round(y/dims[1]*img_size)),radius = round(radius/dims[1]*img_size),\n",
    "                    color = (int(colors[cell][0]),int(colors[cell][1]),int(colors[cell][2])),thickness = -1) for x,y, radius,cell in zip(tp.x,tp.y,tp.radius,tp.mother_cell)]\n",
    "    else:\n",
    "        if colors == None:\n",
    "            colors = tuple(np.random.randint(0,256, 3).astype('int'))\n",
    "        color = colors\n",
    "        tp = df[(df.Timestep == timepoint) & (df.mother_cell==colony)]\n",
    "        circles = [cv2.circle(bk,center = (round(x/dims[0]*img_size),\n",
    "                    round(y/dims[1]*img_size)),radius = round(radius/dims[1]*img_size),\n",
    "                    color = (int(color[0]),int(color[1]),int(color[2])),thickness = -1) for x,y, radius,cell in zip(tp.x,tp.y,tp.radius,tp.mother_cell)]\n",
    "\n",
    "    ax.imshow(bk)\n",
    "    ax.axes.xaxis.set_visible(False)\n",
    "    ax.axes.yaxis.set_visible(False)\n",
    "    return bk,(ax)"
   ]
  },
  {
   "cell_type": "code",
   "execution_count": 5,
   "metadata": {},
   "outputs": [
    {
     "name": "stderr",
     "output_type": "stream",
     "text": [
      "Assigning ancestry:   0%|          | 0/350 [00:00<?, ?it/s]C:\\Users\\Jonathan\\anaconda3\\envs\\nufeb\\lib\\site-packages\\nufeb_tools\\utils.py:305: FutureWarning: In a future version of pandas all arguments of DataFrame.drop except for the argument 'labels' will be keyword-only\n",
      "  motherless = pd.merge(temp,ancestors,on='ID',how='left', indicator=True).query('_merge == \"left_only\"').drop('_merge', 1).drop('x_y',1).iloc[:,:4]\n",
      "Assigning ancestry: 100%|██████████| 350/350 [00:08<00:00, 41.78it/s]\n",
      "C:\\Users\\Jonathan\\anaconda3\\envs\\nufeb\\lib\\site-packages\\nufeb_tools\\utils.py:311: FutureWarning: In a future version of pandas all arguments of DataFrame.drop except for the argument 'labels' will be keyword-only\n",
      "  df = df.join(ancestry_df.set_index(['ID']),on='ID',how='right', lsuffix='_left', rsuffix='').drop('mother_cell_left',1)\n",
      "Assigning ancestry: 100%|██████████| 350/350 [00:08<00:00, 39.42it/s]\n",
      "Assigning ancestry: 100%|██████████| 350/350 [00:08<00:00, 39.15it/s]\n",
      "Assigning ancestry: 100%|██████████| 350/350 [00:08<00:00, 42.30it/s]\n",
      "Assigning ancestry: 100%|██████████| 350/350 [00:09<00:00, 36.65it/s]\n",
      "Assigning ancestry: 100%|██████████| 350/350 [00:09<00:00, 35.44it/s]\n",
      "Assigning ancestry: 100%|██████████| 350/350 [00:08<00:00, 39.45it/s]\n",
      "Assigning ancestry: 100%|██████████| 350/350 [00:08<00:00, 39.99it/s]\n",
      "Assigning ancestry: 100%|██████████| 350/350 [00:08<00:00, 41.21it/s]\n",
      "Assigning ancestry: 100%|██████████| 350/350 [00:08<00:00, 39.77it/s]\n"
     ]
    },
    {
     "data": {
      "image/png": "[encoded data removed]",
      "text/plain": [
       "<Figure size 1440x720 with 20 Axes>"
      ]
     },
     "metadata": {
      "needs_background": "light"
     },
     "output_type": "display_data"
    }
   ],
   "source": [
    "window=200\n",
    "f,axes = plt.subplots(nrows=2,ncols=len(data),figsize=(20,10))\n",
    "for ax, x in zip(axes.ravel()[:len(data)],data):\n",
    "    im0,_=colony(x,0,by='Species',ax=ax)\n",
    "    x1 = int(im0.shape[0]/2-window)\n",
    "    x2= int(im0.shape[0]/2+window)\n",
    "    ax.imshow(im0[x1:x2,x1:x2,:])\n",
    "    ax.axes.xaxis.set_visible(False)\n",
    "    ax.axes.yaxis.set_visible(False)\n",
    "for ax, x in zip(axes.ravel()[len(data):],data):\n",
    "    im35,_=colony(x,35000,by='Species',ax=ax)\n",
    "    x1 = int(im35.shape[0]/2-window)\n",
    "    x2= int(im35.shape[0]/2+window)\n",
    "    ax.imshow(im35[x1:x2,x1:x2,:])\n",
    "    ax.axes.xaxis.set_visible(False)\n",
    "    ax.axes.yaxis.set_visible(False)\n",
    "plt.show()\n",
    "f.tight_layout()"
   ]
  },
  {
   "cell_type": "code",
   "execution_count": 6,
   "metadata": {},
   "outputs": [
    {
     "data": {
      "text/plain": [
       "(2000, 2000, 3)"
      ]
     },
     "execution_count": 6,
     "metadata": {},
     "output_type": "execute_result"
    }
   ],
   "source": [
    "im0.shape"
   ]
  }
 ],
 "metadata": {
  "interpreter": {
   "hash": "65eed4a49fb766f51fc64e473c9dd150f6dc91eaeb26f13a9c791029e5c8dac3"
  },
  "kernelspec": {
   "display_name": "Python 3.9.6 64-bit",
   "name": "python3"
  },
  "language_info": {
   "codemirror_mode": {
    "name": "ipython",
    "version": 3
   },
   "file_extension": ".py",
   "mimetype": "text/x-python",
   "name": "python",
   "nbconvert_exporter": "python",
   "pygments_lexer": "ipython3",
   "version": "3.9.5"
  }
 },
 "nbformat": 4,
 "nbformat_minor": 5
}
