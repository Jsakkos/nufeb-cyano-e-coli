{
 "cells": [
  {
   "cell_type": "markdown",
   "metadata": {},
   "source": [
    "# Optimization of E. coli growth parameters for NUFEB\n",
    "This notebook utilizes hyperparameter optimization to fit simulated E. coli growth curves to experimental data. Under the hood, we use scikit-optimize to perform a Bayesian optimization."
   ]
  },
  {
   "cell_type": "code",
   "execution_count": 1,
   "metadata": {
    "execution": {
     "iopub.execute_input": "2021-10-19T14:32:00.129778Z",
     "iopub.status.busy": "2021-10-19T14:32:00.129115Z",
     "iopub.status.idle": "2021-10-19T14:32:06.816820Z",
     "shell.execute_reply": "2021-10-19T14:32:06.817334Z"
    }
   },
   "outputs": [],
   "source": [
    "#Imports\n",
    "import os\n",
    "from random import uniform\n",
    "import subprocess\n",
    "from pathlib import Path\n",
    "from nufeb_tools import utils,plot\n",
    "import pandas as pd\n",
    "import numpy as np\n",
    "from scipy.optimize import curve_fit\n",
    "from skopt import gp_minimize\n",
    "from skopt.plots import plot_convergence, plot_objective\n",
    "import matplotlib.pyplot as plt\n",
    "from scipy import interpolate\n",
    "from sklearn.metrics import mean_squared_error "
   ]
  },
  {
   "cell_type": "markdown",
   "metadata": {},
   "source": [
    "# Optimization function\n",
    "## Parameters to optimize:\n",
    "### $\\mu_{max}$ (Monod-based growth rate, $s^{-1}$)\n",
    "### $\\rho$ (Cell density, $\\frac{kg}{m^3}$)\n",
    "### $k_{sucrose}$ (Sucrose uptake half-maximum, $\\frac{kg}{m^3}$)\n",
    "### m (Cellular maintenance cost, $s^{-1}$)"
   ]
  },
  {
   "cell_type": "code",
   "execution_count": null,
   "metadata": {},
   "outputs": [],
   "source": [
    "def mu_func(x,K,r,N0):\n",
    "    return K/(1  + ((K-N0)/N0)*np.exp(-r*x))"
   ]
  },
  {
   "cell_type": "code",
   "execution_count": 2,
   "metadata": {
    "execution": {
     "iopub.execute_input": "2021-10-19T14:32:06.828797Z",
     "iopub.status.busy": "2021-10-19T14:32:06.828196Z",
     "iopub.status.idle": "2021-10-19T14:32:06.831575Z",
     "shell.execute_reply": "2021-10-19T14:32:06.831079Z"
    }
   },
   "outputs": [
    {
     "data": {
      "text/plain": [
       "\"    file_pi = open('results.obj', 'w') \\n    pickle.dump(res, file_pi) \""
      ]
     },
     "execution_count": 1,
     "metadata": {},
     "output_type": "execute_result"
    }
   ],
   "source": [
    "def func(x):\n",
    "\n",
    "    mu = x[0]\n",
    "    rho = x[1]\n",
    "    ksuc = x[2]\n",
    "    maint = x[3]\n",
    "    growthRates = {1 : 0.002,2:.163,5:.21,10:.265,20:.2996}\n",
    "    exp_x = np.array([ 0. ,  6.5, 10. , 12. , 14.5, 16.5, 18.5, 22.5, 26.5, 33. , 48. ,58. , 77. , 98. ])\n",
    "    exp_y = np.array([0.003, 0.025, 0.11 , 0.245, 0.388, 0.44 , 0.504, 0.64 , 0.725, 0.788, 0.79 , 0.8  , 0.825, 0.83 ])\n",
    "    SucroseMW = 342.3\n",
    "\n",
    "    #Clean old simulations\n",
    "    os.chdir('/lustre/or-scratch/cades-cnms/12x')\n",
    "    os.system('nufeb-clean')\n",
    "\n",
    "    \n",
    "    print(f'mu: {mu},rho: {rho}, ksuc: {ksuc}, m {maint}')\n",
    "    # generate simulations for several initial sucrose concentrations\n",
    "    for key in growthRates.keys():\n",
    "        suc = key*1e3/SucroseMW\n",
    "\n",
    "    text = f'nufeb-seed --cells 0,100 --grid 10 --t 17300 --suc {suc:.2f} --muecw {mu}  --rhoecw {rho} --ksuc {ksuc} --maintecw {maint}'\n",
    "    os.system(text)\n",
    "    #Run simulation\n",
    "    run_nufeb = subprocess.run('/home/12x/NUFEB/optim.sh', stdout=subprocess.DEVNULL)\n",
    "\n",
    "    #Extract output\n",
    "    BASE_DIR = Path(f'runs/')\n",
    "    folders = [path for path in BASE_DIR.iterdir() if path.is_dir()]\n",
    "    data = [utils.get_data(directory=str(x)) for x in folders]\n",
    "    Volume = 1e-4*1e-4*1e-5 #m^3\n",
    "    CellNum2OD = Volume/1e-9\n",
    "\n",
    "    dfs = []\n",
    "    for x in data:\n",
    "        temp = pd.concat([x.ntypes.ecw/CellNum2OD,x.ntypes.step/60/60*x.timestep],axis=1)\n",
    "        temp.columns=['OD600','Hours']\n",
    "        temp['S0'] = x.avg_con.Sucrose[0]*SucroseMW/1e3\n",
    "        dfs.append(temp)\n",
    "    df = pd.concat(dfs,ignore_index=True)\n",
    "    gr = growthRates.copy()\n",
    "    for key in growthRates.keys():\n",
    "        temp = df.loc[df.S0==key]\n",
    "        popt, pcov = curve_fit(mu_func,temp.Hours, temp.OD600)\n",
    "        gr.update({key :popt[1]})\n",
    "    tmp = pd.DataFrame.from_dict(growthRates,orient='index',columns=['mu'])\n",
    "    tmp2 = pd.DataFrame.from_dict(gr,orient='index',columns=['mu'])\n",
    "    mu_rmse = mean_squared_error(tmp,tmp2, squared = False)\n",
    "    #Compare output with experimental data\n",
    "    exp = interpolate.interp1d(exp_x,exp_y)\n",
    "    sim = interpolate.interp1d(df.Hours.to_numpy(),df.OD600.to_numpy())\n",
    "    x_range = np.arange(0,48,.1)\n",
    "    rmse = mean_squared_error(exp(x_range), sim(x_range), squared = False)\n",
    "    #print(residual)\n",
    "    return rmse + mu_rmse\n",
    "    #Optimize\n",
    "\"\"\"    file_pi = open('results.obj', 'w') \n",
    "    pickle.dump(res, file_pi) \"\"\""
   ]
  },
  {
   "cell_type": "code",
   "execution_count": 3,
   "metadata": {
    "execution": {
     "iopub.execute_input": "2021-10-19T14:32:06.835658Z",
     "iopub.status.busy": "2021-10-19T14:32:06.835037Z",
     "iopub.status.idle": "2021-10-19T14:32:06.839020Z",
     "shell.execute_reply": "2021-10-19T14:32:06.838428Z"
    }
   },
   "outputs": [],
   "source": [
    "from tqdm.notebook import tqdm\n",
    "\n",
    "class tqdm_skopt(object):\n",
    "    def __init__(self, **kwargs):\n",
    "        self._bar = tqdm(**kwargs)\n",
    "        \n",
    "    def __call__(self, res):\n",
    "        self._bar.update()"
   ]
  },
  {
   "cell_type": "code",
   "execution_count": 4,
   "metadata": {
    "execution": {
     "iopub.execute_input": "2021-10-19T14:32:06.843918Z",
     "iopub.status.busy": "2021-10-19T14:32:06.843363Z",
     "iopub.status.idle": "2021-10-19T15:16:39.102615Z",
     "shell.execute_reply": "2021-10-19T15:16:39.103321Z"
    }
   },
   "outputs": [
    {
     "data": {
      "application/vnd.jupyter.widget-view+json": {
       "model_id": "06f6804f516749438a70addb258c244d",
       "version_major": 2,
       "version_minor": 0
      },
      "text/plain": [
       "HBox(children=(HTML(value='Bayesian opt'), FloatProgress(value=0.0, max=40.0), HTML(value='')))"
      ]
     },
     "metadata": {},
     "output_type": "display_data"
    },
    {
     "name": "stdout",
     "output_type": "stream",
     "text": [
      "Iteration No: 1 started. Evaluating function at random point.\n",
      "mu: 7.029995126668965e-05,rho: 251, ksuc: 1.6262950783365364, m 3.835136980925619e-08\n",
      "Iteration No: 1 ended. Evaluation done at random point.\n",
      "Time taken: 100.5191\n",
      "Function value obtained: 7.9827\n",
      "Current minimum: 7.9827\n",
      "Iteration No: 2 started. Evaluating function at random point.\n",
      "mu: 8.442183079433141e-05,rho: 244, ksuc: 0.832770406905429, m 2.1769051627819094e-08\n",
      "Iteration No: 2 ended. Evaluation done at random point.\n",
      "Time taken: 658.3880\n",
      "Function value obtained: 26.5948\n",
      "Current minimum: 7.9827\n",
      "Iteration No: 3 started. Evaluating function at random point.\n",
      "mu: 0.00010581367927452734,rho: 303, ksuc: 7.116610331420849, m 7.34962451615904e-08\n",
      "Iteration No: 3 ended. Evaluation done at random point.\n",
      "Time taken: 30.2772\n",
      "Function value obtained: 2.0256\n",
      "Current minimum: 2.0256\n",
      "Iteration No: 4 started. Evaluating function at random point.\n",
      "mu: 6.676002087460051e-05,rho: 235, ksuc: 6.491959863022771, m 3.431339726249793e-08\n",
      "Iteration No: 4 ended. Evaluation done at random point.\n",
      "Time taken: 17.1710\n",
      "Function value obtained: 0.7571\n",
      "Current minimum: 0.7571\n",
      "Iteration No: 5 started. Evaluating function at random point.\n",
      "mu: 0.00010103073801318054,rho: 259, ksuc: 5.212381297456455, m 5.742876530457583e-08\n",
      "Iteration No: 5 ended. Evaluation done at random point.\n",
      "Time taken: 30.9748\n",
      "Function value obtained: 2.6195\n",
      "Current minimum: 0.7571\n",
      "Iteration No: 6 started. Evaluating function at random point.\n",
      "mu: 8.562415378232507e-05,rho: 241, ksuc: 5.208088087239817, m 3.222128932560445e-08\n",
      "Iteration No: 6 ended. Evaluation done at random point.\n",
      "Time taken: 21.9527\n",
      "Function value obtained: 1.4379\n",
      "Current minimum: 0.7571\n",
      "Iteration No: 7 started. Evaluating function at random point.\n",
      "mu: 8.752389178217717e-05,rho: 223, ksuc: 1.2307776793967953, m 5.712722680472407e-08\n",
      "Iteration No: 7 ended. Evaluation done at random point.\n",
      "Time taken: 910.6759\n",
      "Function value obtained: 34.5473\n",
      "Current minimum: 0.7571\n",
      "Iteration No: 8 started. Evaluating function at random point.\n",
      "mu: 7.410355487513014e-05,rho: 209, ksuc: 9.229881045787511, m 1.2758340066639402e-08\n",
      "Iteration No: 8 ended. Evaluation done at random point.\n",
      "Time taken: 18.4205\n",
      "Function value obtained: 0.8013\n",
      "Current minimum: 0.7571\n",
      "Iteration No: 9 started. Evaluating function at random point.\n",
      "mu: 0.00010753385216195706,rho: 229, ksuc: 5.1801631398480525, m 7.776515512688253e-08\n",
      "Iteration No: 9 ended. Evaluation done at random point.\n",
      "Time taken: 78.9486\n",
      "Function value obtained: 5.9382\n",
      "Current minimum: 0.7571\n",
      "Iteration No: 10 started. Evaluating function at random point.\n",
      "mu: 6.877718107074513e-05,rho: 222, ksuc: 9.193654401723967, m 6.849037904501406e-08\n",
      "Iteration No: 10 ended. Evaluation done at random point.\n",
      "Time taken: 15.3058\n",
      "Function value obtained: 0.4805\n",
      "Current minimum: 0.4805\n",
      "Iteration No: 11 started. Searching for the next optimal point.\n",
      "mu: 5.5e-05,rho: 268, ksuc: 5.387687551346605, m 4.961129297857054e-08\n",
      "Iteration No: 11 ended. Search finished for the next optimal point.\n",
      "Time taken: 15.4078\n",
      "Function value obtained: 0.4666\n",
      "Current minimum: 0.4666\n",
      "Iteration No: 12 started. Searching for the next optimal point.\n",
      "mu: 7.60865735850614e-05,rho: 271, ksuc: 5.256282769013007, m 2.965270156718437e-08\n",
      "Iteration No: 12 ended. Search finished for the next optimal point.\n",
      "Time taken: 20.6446\n",
      "Function value obtained: 1.0554\n",
      "Current minimum: 0.4666\n",
      "Iteration No: 13 started. Searching for the next optimal point.\n",
      "mu: 7.471069924473456e-05,rho: 302, ksuc: 5.313976068757591, m 1e-08\n",
      "Iteration No: 13 ended. Search finished for the next optimal point.\n",
      "Time taken: 23.8380\n",
      "Function value obtained: 1.2187\n",
      "Current minimum: 0.4666\n",
      "Iteration No: 14 started. Searching for the next optimal point.\n",
      "mu: 5.5e-05,rho: 272, ksuc: 5.284291371953937, m 1e-08\n",
      "Iteration No: 14 ended. Search finished for the next optimal point.\n",
      "Time taken: 15.7153\n",
      "Function value obtained: 0.4354\n",
      "Current minimum: 0.4354\n",
      "Iteration No: 15 started. Searching for the next optimal point.\n",
      "mu: 5.5e-05,rho: 279, ksuc: 5.282179024163702, m 1e-08\n",
      "Iteration No: 15 ended. Search finished for the next optimal point.\n",
      "Time taken: 15.9733\n",
      "Function value obtained: 0.4922\n",
      "Current minimum: 0.4354\n",
      "Iteration No: 16 started. Searching for the next optimal point.\n",
      "mu: 8.620502291586829e-05,rho: 257, ksuc: 5.226939940217676, m 1e-08\n",
      "Iteration No: 16 ended. Search finished for the next optimal point.\n",
      "Time taken: 28.6248\n",
      "Function value obtained: 1.9387\n",
      "Current minimum: 0.4354\n",
      "Iteration No: 17 started. Searching for the next optimal point.\n",
      "mu: 5.5e-05,rho: 205, ksuc: 5.2561307419051175, m 4.99994703302914e-08\n",
      "Iteration No: 17 ended. Search finished for the next optimal point.\n",
      "Time taken: 16.5934\n",
      "Function value obtained: 0.7263\n",
      "Current minimum: 0.4354\n",
      "Iteration No: 18 started. Searching for the next optimal point.\n",
      "mu: 6.0591562003866055e-05,rho: 307, ksuc: 9.137875602896843, m 7.245154567965545e-08\n",
      "Iteration No: 18 ended. Search finished for the next optimal point.\n",
      "Time taken: 13.7724\n",
      "Function value obtained: 0.2581\n",
      "Current minimum: 0.2581\n",
      "Iteration No: 19 started. Searching for the next optimal point.\n",
      "mu: 8.549655917644067e-05,rho: 185, ksuc: 5.100581515564064, m 1e-07\n",
      "Iteration No: 19 ended. Search finished for the next optimal point.\n",
      "Time taken: 30.8084\n",
      "Function value obtained: 2.6078\n",
      "Current minimum: 0.2581\n",
      "Iteration No: 20 started. Searching for the next optimal point.\n",
      "mu: 5.582256508478538e-05,rho: 254, ksuc: 1.9545900279952053, m 1.4109117740889123e-08\n",
      "Iteration No: 20 ended. Search finished for the next optimal point.\n",
      "Time taken: 26.5345\n",
      "Function value obtained: 2.1118\n",
      "Current minimum: 0.2581\n",
      "Iteration No: 21 started. Searching for the next optimal point.\n",
      "mu: 6.0622445985829e-05,rho: 217, ksuc: 9.113840669395515, m 8.044555688226454e-08\n",
      "Iteration No: 21 ended. Search finished for the next optimal point.\n",
      "Time taken: 14.3867\n",
      "Function value obtained: 0.3765\n",
      "Current minimum: 0.2581\n",
      "Iteration No: 22 started. Searching for the next optimal point.\n",
      "mu: 5.8992304097198994e-05,rho: 307, ksuc: 9.188800693230187, m 6.63916213832585e-08\n",
      "Iteration No: 22 ended. Search finished for the next optimal point.\n",
      "Time taken: 18.7935\n",
      "Function value obtained: 0.2399\n",
      "Current minimum: 0.2399\n",
      "Iteration No: 23 started. Searching for the next optimal point.\n",
      "mu: 8.563168643680458e-05,rho: 197, ksuc: 5.26442414380135, m 1e-07\n",
      "Iteration No: 23 ended. Search finished for the next optimal point.\n",
      "Time taken: 44.1128\n",
      "Function value obtained: 3.5259\n",
      "Current minimum: 0.2399\n",
      "Iteration No: 24 started. Searching for the next optimal point.\n",
      "mu: 6.620691958732207e-05,rho: 241, ksuc: 5.306862903939638, m 1e-08\n",
      "Iteration No: 24 ended. Search finished for the next optimal point.\n",
      "Time taken: 17.4132\n",
      "Function value obtained: 0.8308\n",
      "Current minimum: 0.2399\n",
      "Iteration No: 25 started. Searching for the next optimal point.\n",
      "mu: 5.5e-05,rho: 307, ksuc: 5.1511382980069165, m 1e-08\n",
      "Iteration No: 25 ended. Search finished for the next optimal point.\n",
      "Time taken: 16.7239\n",
      "Function value obtained: 0.6320\n",
      "Current minimum: 0.2399\n",
      "Iteration No: 26 started. Searching for the next optimal point.\n",
      "mu: 5.700511377813715e-05,rho: 185, ksuc: 5.0155227264906665, m 8.833773379392197e-08\n",
      "Iteration No: 26 ended. Search finished for the next optimal point.\n",
      "Time taken: 18.6349\n",
      "Function value obtained: 0.8787\n",
      "Current minimum: 0.2399\n",
      "Iteration No: 27 started. Searching for the next optimal point.\n",
      "mu: 5.532585770433613e-05,rho: 307, ksuc: 5.721709398474522, m 3.747503395838314e-08\n",
      "Iteration No: 27 ended. Search finished for the next optimal point.\n",
      "Time taken: 14.1132\n",
      "Function value obtained: 0.2525\n",
      "Current minimum: 0.2399\n",
      "Iteration No: 28 started. Searching for the next optimal point.\n",
      "mu: 8.389439532466373e-05,rho: 250, ksuc: 5.070173983582433, m 1e-08\n",
      "Iteration No: 28 ended. Search finished for the next optimal point.\n",
      "Time taken: 24.3329\n",
      "Function value obtained: 1.2082\n",
      "Current minimum: 0.2399\n",
      "Iteration No: 29 started. Searching for the next optimal point.\n",
      "mu: 6.0792530748333544e-05,rho: 307, ksuc: 9.191373606289721, m 5.160352187523102e-08\n",
      "Iteration No: 29 ended. Search finished for the next optimal point.\n",
      "Time taken: 14.4517\n",
      "Function value obtained: 0.2379\n",
      "Current minimum: 0.2379\n",
      "Iteration No: 30 started. Searching for the next optimal point.\n",
      "mu: 8.164256921913949e-05,rho: 307, ksuc: 4.761005227985634, m 4.505548127834274e-08\n",
      "Iteration No: 30 ended. Search finished for the next optimal point.\n",
      "Time taken: 25.9582\n",
      "Function value obtained: 1.6452\n",
      "Current minimum: 0.2379\n",
      "Iteration No: 31 started. Searching for the next optimal point.\n",
      "mu: 5.593074332205823e-05,rho: 307, ksuc: 5.942962847114204, m 1e-08\n",
      "Iteration No: 31 ended. Search finished for the next optimal point.\n",
      "Time taken: 15.2600\n",
      "Function value obtained: 0.3302\n",
      "Current minimum: 0.2379\n",
      "Iteration No: 32 started. Searching for the next optimal point.\n",
      "mu: 5.639982812300513e-05,rho: 307, ksuc: 0.10440533647138146, m 1e-08\n",
      "Iteration No: 32 ended. Search finished for the next optimal point.\n",
      "Time taken: 217.7840\n",
      "Function value obtained: 13.6232\n",
      "Current minimum: 0.2379\n",
      "Iteration No: 33 started. Searching for the next optimal point.\n",
      "mu: 5.969317563842149e-05,rho: 307, ksuc: 9.309937727848851, m 1e-08\n",
      "Iteration No: 33 ended. Search finished for the next optimal point.\n",
      "Time taken: 16.3075\n",
      "Function value obtained: 0.2747\n",
      "Current minimum: 0.2379\n",
      "Iteration No: 34 started. Searching for the next optimal point.\n",
      "mu: 6.168735939728859e-05,rho: 307, ksuc: 7.062102959529621, m 1e-08\n",
      "Iteration No: 34 ended. Search finished for the next optimal point.\n",
      "Time taken: 15.0004\n",
      "Function value obtained: 0.3274\n",
      "Current minimum: 0.2379\n",
      "Iteration No: 35 started. Searching for the next optimal point.\n",
      "mu: 5.750416177546896e-05,rho: 307, ksuc: 5.652725726851734, m 5.127669388545553e-08\n",
      "Iteration No: 35 ended. Search finished for the next optimal point.\n",
      "Time taken: 15.6412\n",
      "Function value obtained: 0.4332\n",
      "Current minimum: 0.2379\n",
      "Iteration No: 36 started. Searching for the next optimal point.\n",
      "mu: 5.923959313474166e-05,rho: 307, ksuc: 9.226325171007066, m 5.102657406445893e-08\n",
      "Iteration No: 36 ended. Search finished for the next optimal point.\n",
      "Time taken: 13.9703\n",
      "Function value obtained: 0.2337\n",
      "Current minimum: 0.2337\n",
      "Iteration No: 37 started. Searching for the next optimal point.\n",
      "mu: 0.00011,rho: 307, ksuc: 8.222517157304532, m 3.349325395911677e-08\n",
      "Iteration No: 37 ended. Search finished for the next optimal point.\n",
      "Time taken: 28.4625\n",
      "Function value obtained: 1.9191\n",
      "Current minimum: 0.2337\n",
      "Iteration No: 38 started. Searching for the next optimal point.\n",
      "mu: 5.5e-05,rho: 307, ksuc: 5.653099839641486, m 1e-08\n",
      "Iteration No: 38 ended. Search finished for the next optimal point.\n",
      "Time taken: 14.9252\n",
      "Function value obtained: 0.3220\n",
      "Current minimum: 0.2337\n",
      "Iteration No: 39 started. Searching for the next optimal point.\n",
      "mu: 5.5e-05,rho: 307, ksuc: 5.858625143996299, m 5.036862521940207e-08\n",
      "Iteration No: 39 ended. Search finished for the next optimal point.\n",
      "Time taken: 18.2514\n",
      "Function value obtained: 0.2701\n",
      "Current minimum: 0.2337\n",
      "Iteration No: 40 started. Searching for the next optimal point.\n",
      "mu: 6.018516328860116e-05,rho: 307, ksuc: 6.650920021645683, m 1e-08\n",
      "Iteration No: 40 ended. Search finished for the next optimal point.\n",
      "Time taken: 17.1416\n",
      "Function value obtained: 0.4269\n",
      "Current minimum: 0.2337\n"
     ]
    }
   ],
   "source": [
    "mu_min = float('5.5e-5')\n",
    "mu_max = float('1.1e-4')\n",
    "rho_min = 185\n",
    "rho_max = 307\n",
    "k_suc_min = float('1e-1')\n",
    "k_suc_max = float('5e1')\n",
    "m_min = float('1e-8')\n",
    "m_max = float('1e-7')\n",
    "bounds = [(mu_min,mu_max),(rho_min,rho_max),(k_suc_min,k_suc_max),(m_min,m_max)]\n",
    "n_calls = 60\n",
    "gp_res = gp_minimize(func, bounds, n_calls=n_calls,n_initial_points=20,random_state=5348,verbose=True,callback=[tqdm_skopt(total=n_calls, desc=\"Bayesian opt\")])"
   ]
  },
  {
   "cell_type": "code",
   "execution_count": 5,
   "metadata": {
    "execution": {
     "iopub.execute_input": "2021-10-19T15:16:39.106900Z",
     "iopub.status.busy": "2021-10-19T15:16:39.106357Z",
     "iopub.status.idle": "2021-10-19T15:16:39.582339Z",
     "shell.execute_reply": "2021-10-19T15:16:39.582813Z"
    }
   },
   "outputs": [
    {
     "data": {
      "text/plain": [
       "<AxesSubplot:title={'center':'Convergence plot'}, xlabel='Number of calls $n$', ylabel='$\\\\min f(x)$ after $n$ calls'>"
      ]
     },
     "execution_count": 1,
     "metadata": {},
     "output_type": "execute_result"
    },
    {
     "data": {
      "image/png": "[encoded data removed]",
      "text/plain": [
       "<Figure size 432x288 with 1 Axes>"
      ]
     },
     "metadata": {
      "needs_background": "light"
     },
     "output_type": "display_data"
    }
   ],
   "source": [
    "plot_convergence(gp_res,yscale='log')"
   ]
  },
  {
   "cell_type": "code",
   "execution_count": 6,
   "metadata": {
    "execution": {
     "iopub.execute_input": "2021-10-19T15:16:39.586817Z",
     "iopub.status.busy": "2021-10-19T15:16:39.585901Z",
     "iopub.status.idle": "2021-10-19T15:16:46.442213Z",
     "shell.execute_reply": "2021-10-19T15:16:46.442659Z"
    }
   },
   "outputs": [
    {
     "data": {
      "text/plain": [
       "array([[<AxesSubplot:xlabel='$X_{0}$', ylabel='Partial dependence'>,\n",
       "        <AxesSubplot:>, <AxesSubplot:>, <AxesSubplot:>],\n",
       "       [<AxesSubplot:ylabel='$X_{1}$'>,\n",
       "        <AxesSubplot:xlabel='$X_{1}$', ylabel='Partial dependence'>,\n",
       "        <AxesSubplot:>, <AxesSubplot:>],\n",
       "       [<AxesSubplot:ylabel='$X_{2}$'>, <AxesSubplot:>,\n",
       "        <AxesSubplot:xlabel='$X_{2}$', ylabel='Partial dependence'>,\n",
       "        <AxesSubplot:>],\n",
       "       [<AxesSubplot:xlabel='$X_{0}$', ylabel='$X_{3}$'>,\n",
       "        <AxesSubplot:xlabel='$X_{1}$'>, <AxesSubplot:xlabel='$X_{2}$'>,\n",
       "        <AxesSubplot:xlabel='$X_{3}$', ylabel='Partial dependence'>]],\n",
       "      dtype=object)"
      ]
     },
     "execution_count": 1,
     "metadata": {},
     "output_type": "execute_result"
    },
    {
     "data": {
      "image/png": "[encoded data removed]",
      "text/plain": [
       "<Figure size 576x576 with 16 Axes>"
      ]
     },
     "metadata": {
      "needs_background": "light"
     },
     "output_type": "display_data"
    }
   ],
   "source": [
    "plot_objective(gp_res)"
   ]
  },
  {
   "cell_type": "code",
   "execution_count": 7,
   "metadata": {
    "execution": {
     "iopub.execute_input": "2021-10-19T15:16:46.446602Z",
     "iopub.status.busy": "2021-10-19T15:16:46.446109Z",
     "iopub.status.idle": "2021-10-19T15:16:46.448257Z",
     "shell.execute_reply": "2021-10-19T15:16:46.448681Z"
    }
   },
   "outputs": [
    {
     "data": {
      "text/plain": [
       "[5.923959313474166e-05, 307, 9.226325171007066, 5.102657406445893e-08]"
      ]
     },
     "execution_count": 1,
     "metadata": {},
     "output_type": "execute_result"
    }
   ],
   "source": [
    "gp_res.x"
   ]
  },
  {
   "cell_type": "code",
   "execution_count": 8,
   "metadata": {
    "execution": {
     "iopub.execute_input": "2021-10-19T15:16:46.455171Z",
     "iopub.status.busy": "2021-10-19T15:16:46.454706Z",
     "iopub.status.idle": "2021-10-19T15:17:00.157689Z",
     "shell.execute_reply": "2021-10-19T15:17:00.158147Z"
    }
   },
   "outputs": [
    {
     "data": {
      "image/png": "[encoded data removed]",
      "text/plain": [
       "<Figure size 432x288 with 1 Axes>"
      ]
     },
     "metadata": {
      "needs_background": "light"
     },
     "output_type": "display_data"
    }
   ],
   "source": [
    "exp_x = np.array([ 0. ,  6.5, 10. , 12. , 14.5, 16.5, 18.5, 22.5, 26.5, 33. , 48. ,58. , 77. , 98. ])\n",
    "exp_y = np.array([0.003, 0.025, 0.11 , 0.245, 0.388, 0.44 , 0.504, 0.64 , 0.725, 0.788, 0.79 , 0.8  , 0.825, 0.83 ])\n",
    "\n",
    "\n",
    "os.chdir('/lustre/or-scratch/cades-cnms/12x')\n",
    "os.system('nufeb-clean')\n",
    "\n",
    "    #Run simulation\n",
    "\n",
    "text = f'nufeb-seed --cells 0,100 --grid 10 --t 17300 --suc 58.4 --muecw {gp_res.x[0]}  --rhoecw {gp_res.x[1]} --ksuc {gp_res.x[2]} --maintecw {gp_res.x[3]}'\n",
    "os.system(text)\n",
    "run_nufeb = subprocess.run('/home/12x/NUFEB/optim.sh', stdout=subprocess.DEVNULL)\n",
    "os.chdir('/lustre/or-scratch/cades-cnms/12x')\n",
    "BASE_DIR = Path(f'runs/')\n",
    "folders = [path for path in BASE_DIR.iterdir() if path.is_dir()]\n",
    "data = [utils.get_data(directory=str(x)) for x in folders]\n",
    "Volume = 1e-4*1e-4*1e-5 #m^3\n",
    "CellNum2OD = Volume/1e-9\n",
    "df = pd.concat([data[0].ntypes.ecw*CellNum2OD,data[0].ntypes.step/60/60*data[0].timestep],axis=1)\n",
    "df.columns=['OD600','Hours']\n",
    "f, ax = plt.subplots()\n",
    "ax.plot(df.Hours,df.OD600,label='NUFEB')\n",
    "ax.plot(exp_x,exp_y,marker='o',label='Experimental')\n",
    "plt.show()"
   ]
  },
  {
   "cell_type": "code",
   "execution_count": null,
   "metadata": {},
   "outputs": [],
   "source": []
  },
  {
   "cell_type": "code",
   "execution_count": null,
   "metadata": {},
   "outputs": [],
   "source": []
  }
 ],
 "metadata": {
  "kernelspec": {
   "display_name": "Python NUFEB",
   "language": "python",
   "name": "nufeb"
  },
  "language_info": {
   "codemirror_mode": {
    "name": "ipython",
    "version": 3
   },
   "file_extension": ".py",
   "mimetype": "text/x-python",
   "name": "python",
   "nbconvert_exporter": "python",
   "pygments_lexer": "ipython3",
   "version": "3.7.3"
  },
  "widgets": {
   "application/vnd.jupyter.widget-state+json": {
    "state": {
     "06f6804f516749438a70addb258c244d": {
      "model_module": "@jupyter-widgets/controls",
      "model_module_version": "1.5.0",
      "model_name": "HBoxModel",
      "state": {
       "_dom_classes": [],
       "_model_module": "@jupyter-widgets/controls",
       "_model_module_version": "1.5.0",
       "_model_name": "HBoxModel",
       "_view_count": null,
       "_view_module": "@jupyter-widgets/controls",
       "_view_module_version": "1.5.0",
       "_view_name": "HBoxView",
       "box_style": "",
       "children": [
        "IPY_MODEL_7e275af16d5a4671a357c464b250ba86",
        "IPY_MODEL_bf5b39a487d345a18aaec6c77e68b16a",
        "IPY_MODEL_18f6f0ffadc6492a9906c04bb065c3fd"
       ],
       "layout": "IPY_MODEL_2bdebc85140844ee878b7054899f357f"
      }
     },
     "18f6f0ffadc6492a9906c04bb065c3fd": {
      "model_module": "@jupyter-widgets/controls",
      "model_module_version": "1.5.0",
      "model_name": "HTMLModel",
      "state": {
       "_dom_classes": [],
       "_model_module": "@jupyter-widgets/controls",
       "_model_module_version": "1.5.0",
       "_model_name": "HTMLModel",
       "_view_count": null,
       "_view_module": "@jupyter-widgets/controls",
       "_view_module_version": "1.5.0",
       "_view_name": "HTMLView",
       "description": "",
       "description_tooltip": null,
       "layout": "IPY_MODEL_3b06f11342284ef58aaca0846d1b029c",
       "placeholder": "​",
       "style": "IPY_MODEL_47d161a9121c4f1ba32f68058dd69072",
       "value": " 40/40 [44:32&lt;00:00, 21.37s/it]"
      }
     },
     "297262a6b32b42e780ac8ee8ddcf8718": {
      "model_module": "@jupyter-widgets/controls",
      "model_module_version": "1.5.0",
      "model_name": "DescriptionStyleModel",
      "state": {
       "_model_module": "@jupyter-widgets/controls",
       "_model_module_version": "1.5.0",
       "_model_name": "DescriptionStyleModel",
       "_view_count": null,
       "_view_module": "@jupyter-widgets/base",
       "_view_module_version": "1.2.0",
       "_view_name": "StyleView",
       "description_width": ""
      }
     },
     "2bdebc85140844ee878b7054899f357f": {
      "model_module": "@jupyter-widgets/base",
      "model_module_version": "1.2.0",
      "model_name": "LayoutModel",
      "state": {
       "_model_module": "@jupyter-widgets/base",
       "_model_module_version": "1.2.0",
       "_model_name": "LayoutModel",
       "_view_count": null,
       "_view_module": "@jupyter-widgets/base",
       "_view_module_version": "1.2.0",
       "_view_name": "LayoutView",
       "align_content": null,
       "align_items": null,
       "align_self": null,
       "border": null,
       "bottom": null,
       "display": null,
       "flex": null,
       "flex_flow": null,
       "grid_area": null,
       "grid_auto_columns": null,
       "grid_auto_flow": null,
       "grid_auto_rows": null,
       "grid_column": null,
       "grid_gap": null,
       "grid_row": null,
       "grid_template_areas": null,
       "grid_template_columns": null,
       "grid_template_rows": null,
       "height": null,
       "justify_content": null,
       "justify_items": null,
       "left": null,
       "margin": null,
       "max_height": null,
       "max_width": null,
       "min_height": null,
       "min_width": null,
       "object_fit": null,
       "object_position": null,
       "order": null,
       "overflow": null,
       "overflow_x": null,
       "overflow_y": null,
       "padding": null,
       "right": null,
       "top": null,
       "visibility": null,
       "width": null
      }
     },
     "32d8f44eb11d4ed38e050df2b36efd01": {
      "model_module": "@jupyter-widgets/base",
      "model_module_version": "1.2.0",
      "model_name": "LayoutModel",
      "state": {
       "_model_module": "@jupyter-widgets/base",
       "_model_module_version": "1.2.0",
       "_model_name": "LayoutModel",
       "_view_count": null,
       "_view_module": "@jupyter-widgets/base",
       "_view_module_version": "1.2.0",
       "_view_name": "LayoutView",
       "align_content": null,
       "align_items": null,
       "align_self": null,
       "border": null,
       "bottom": null,
       "display": null,
       "flex": null,
       "flex_flow": null,
       "grid_area": null,
       "grid_auto_columns": null,
       "grid_auto_flow": null,
       "grid_auto_rows": null,
       "grid_column": null,
       "grid_gap": null,
       "grid_row": null,
       "grid_template_areas": null,
       "grid_template_columns": null,
       "grid_template_rows": null,
       "height": null,
       "justify_content": null,
       "justify_items": null,
       "left": null,
       "margin": null,
       "max_height": null,
       "max_width": null,
       "min_height": null,
       "min_width": null,
       "object_fit": null,
       "object_position": null,
       "order": null,
       "overflow": null,
       "overflow_x": null,
       "overflow_y": null,
       "padding": null,
       "right": null,
       "top": null,
       "visibility": null,
       "width": null
      }
     },
     "3ae5d793b45b477c9432cc6155983b68": {
      "model_module": "@jupyter-widgets/controls",
      "model_module_version": "1.5.0",
      "model_name": "ProgressStyleModel",
      "state": {
       "_model_module": "@jupyter-widgets/controls",
       "_model_module_version": "1.5.0",
       "_model_name": "ProgressStyleModel",
       "_view_count": null,
       "_view_module": "@jupyter-widgets/base",
       "_view_module_version": "1.2.0",
       "_view_name": "StyleView",
       "bar_color": null,
       "description_width": ""
      }
     },
     "3b06f11342284ef58aaca0846d1b029c": {
      "model_module": "@jupyter-widgets/base",
      "model_module_version": "1.2.0",
      "model_name": "LayoutModel",
      "state": {
       "_model_module": "@jupyter-widgets/base",
       "_model_module_version": "1.2.0",
       "_model_name": "LayoutModel",
       "_view_count": null,
       "_view_module": "@jupyter-widgets/base",
       "_view_module_version": "1.2.0",
       "_view_name": "LayoutView",
       "align_content": null,
       "align_items": null,
       "align_self": null,
       "border": null,
       "bottom": null,
       "display": null,
       "flex": null,
       "flex_flow": null,
       "grid_area": null,
       "grid_auto_columns": null,
       "grid_auto_flow": null,
       "grid_auto_rows": null,
       "grid_column": null,
       "grid_gap": null,
       "grid_row": null,
       "grid_template_areas": null,
       "grid_template_columns": null,
       "grid_template_rows": null,
       "height": null,
       "justify_content": null,
       "justify_items": null,
       "left": null,
       "margin": null,
       "max_height": null,
       "max_width": null,
       "min_height": null,
       "min_width": null,
       "object_fit": null,
       "object_position": null,
       "order": null,
       "overflow": null,
       "overflow_x": null,
       "overflow_y": null,
       "padding": null,
       "right": null,
       "top": null,
       "visibility": null,
       "width": null
      }
     },
     "47d161a9121c4f1ba32f68058dd69072": {
      "model_module": "@jupyter-widgets/controls",
      "model_module_version": "1.5.0",
      "model_name": "DescriptionStyleModel",
      "state": {
       "_model_module": "@jupyter-widgets/controls",
       "_model_module_version": "1.5.0",
       "_model_name": "DescriptionStyleModel",
       "_view_count": null,
       "_view_module": "@jupyter-widgets/base",
       "_view_module_version": "1.2.0",
       "_view_name": "StyleView",
       "description_width": ""
      }
     },
     "68a770eb201841bdbc824407b1a13f7d": {
      "model_module": "@jupyter-widgets/base",
      "model_module_version": "1.2.0",
      "model_name": "LayoutModel",
      "state": {
       "_model_module": "@jupyter-widgets/base",
       "_model_module_version": "1.2.0",
       "_model_name": "LayoutModel",
       "_view_count": null,
       "_view_module": "@jupyter-widgets/base",
       "_view_module_version": "1.2.0",
       "_view_name": "LayoutView",
       "align_content": null,
       "align_items": null,
       "align_self": null,
       "border": null,
       "bottom": null,
       "display": null,
       "flex": null,
       "flex_flow": null,
       "grid_area": null,
       "grid_auto_columns": null,
       "grid_auto_flow": null,
       "grid_auto_rows": null,
       "grid_column": null,
       "grid_gap": null,
       "grid_row": null,
       "grid_template_areas": null,
       "grid_template_columns": null,
       "grid_template_rows": null,
       "height": null,
       "justify_content": null,
       "justify_items": null,
       "left": null,
       "margin": null,
       "max_height": null,
       "max_width": null,
       "min_height": null,
       "min_width": null,
       "object_fit": null,
       "object_position": null,
       "order": null,
       "overflow": null,
       "overflow_x": null,
       "overflow_y": null,
       "padding": null,
       "right": null,
       "top": null,
       "visibility": null,
       "width": null
      }
     },
     "7e275af16d5a4671a357c464b250ba86": {
      "model_module": "@jupyter-widgets/controls",
      "model_module_version": "1.5.0",
      "model_name": "HTMLModel",
      "state": {
       "_dom_classes": [],
       "_model_module": "@jupyter-widgets/controls",
       "_model_module_version": "1.5.0",
       "_model_name": "HTMLModel",
       "_view_count": null,
       "_view_module": "@jupyter-widgets/controls",
       "_view_module_version": "1.5.0",
       "_view_name": "HTMLView",
       "description": "",
       "description_tooltip": null,
       "layout": "IPY_MODEL_32d8f44eb11d4ed38e050df2b36efd01",
       "placeholder": "​",
       "style": "IPY_MODEL_297262a6b32b42e780ac8ee8ddcf8718",
       "value": "Bayesian opt: 100%"
      }
     },
     "bf5b39a487d345a18aaec6c77e68b16a": {
      "model_module": "@jupyter-widgets/controls",
      "model_module_version": "1.5.0",
      "model_name": "FloatProgressModel",
      "state": {
       "_dom_classes": [],
       "_model_module": "@jupyter-widgets/controls",
       "_model_module_version": "1.5.0",
       "_model_name": "FloatProgressModel",
       "_view_count": null,
       "_view_module": "@jupyter-widgets/controls",
       "_view_module_version": "1.5.0",
       "_view_name": "ProgressView",
       "bar_style": "",
       "description": "",
       "description_tooltip": null,
       "layout": "IPY_MODEL_68a770eb201841bdbc824407b1a13f7d",
       "max": 40,
       "min": 0,
       "orientation": "horizontal",
       "style": "IPY_MODEL_3ae5d793b45b477c9432cc6155983b68",
       "value": 40
      }
     }
    },
    "version_major": 2,
    "version_minor": 0
   }
  }
 },
 "nbformat": 4,
 "nbformat_minor": 4
}
