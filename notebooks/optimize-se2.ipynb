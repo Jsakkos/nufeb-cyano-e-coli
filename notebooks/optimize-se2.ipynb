{
 "cells": [
  {
   "cell_type": "code",
   "execution_count": 1,
   "metadata": {
    "execution": {
     "iopub.execute_input": "2021-10-19T19:11:36.020851Z",
     "iopub.status.busy": "2021-10-19T19:11:36.020177Z",
     "iopub.status.idle": "2021-10-19T19:11:42.454023Z",
     "shell.execute_reply": "2021-10-19T19:11:42.454461Z"
    }
   },
   "outputs": [],
   "source": [
    "!pip3 install nufeb-tools -U --quiet"
   ]
  },
  {
   "cell_type": "code",
   "execution_count": 1,
   "metadata": {},
   "outputs": [],
   "source": [
    "#Imports\n",
    "import os\n",
    "from random import uniform\n",
    "import subprocess\n",
    "from pathlib import Path\n",
    "from nufeb_tools import utils,plot\n",
    "import pandas as pd\n",
    "from string import Template\n",
    "import numpy as np\n",
    "from functools import partial\n",
    "import time\n",
    "from skopt import gp_minimize, forest_minimize, dummy_minimize, gbrt_minimize\n",
    "from skopt.plots import plot_convergence, plot_objective\n",
    "import matplotlib.pyplot as plt\n",
    "from scipy import interpolate\n",
    "from sklearn.metrics import r2_score\n",
    "from sklearn.metrics import mean_squared_error \n",
    "from skopt import dump, load\n",
    "from skopt.callbacks import CheckpointSaver"
   ]
  },
  {
   "cell_type": "code",
   "execution_count": 2,
   "metadata": {
    "execution": {
     "iopub.execute_input": "2021-10-19T19:11:42.459651Z",
     "iopub.status.busy": "2021-10-19T19:11:42.459167Z",
     "iopub.status.idle": "2021-10-19T19:11:42.533695Z",
     "shell.execute_reply": "2021-10-19T19:11:42.533276Z"
    }
   },
   "outputs": [],
   "source": [
    "test_data = pd.read_excel('../experimental-data/sucrose-OD-IPTG-sweep.xls',sheet_name='data')\n",
    "from scipy.optimize import curve_fit\n",
    "def od_func(x):\n",
    "    \"\"\"Exponential fit to IPTG vs OD750 experimental data\n",
    "\n",
    "    Args:\n",
    "        x (float): IPTG concentration (mM)\n",
    "\n",
    "    Returns:\n",
    "        float: Smoothed OD750\n",
    "    \"\"\"\n",
    "    return 0.25482 * np.exp(-x/.06811) + 1.12893\n",
    "def suc_func(x,a,b,c):\n",
    "    return a*np.exp(-x/b)+c\n",
    "# Smooth OD750 data for fitting\n",
    "test_data.loc[:,'OD750'] = od_func(test_data.IPTG)\n",
    "#popt, pcov = curve_fit(suc_func, test_data.IPTG, test_data.Sucrose)\n",
    "    #Compare output with experimental data\n",
    "#OD = interpolate.interp1d(test_data.IPTG,test_data.OD750)\n",
    "#Sucrose = interpolate.interp1d(test_data.IPTG,test_data.Sucrose)\n",
    "#sim = interpolate.interp1d(df.Hours.to_numpy(),df.OD600.to_numpy())\n",
    "#x_range = np.arange(0,1,.01)\n",
    "#plt.plot(x_range,suc_func(x_range))\n",
    "#plt.plot(test_data.IPTG,test_data.Sucrose,marker='o')\n",
    "#plt.plot(x_range, suc_func(x_range, *popt), 'r-')\n",
    "#xr = np.array([0.001,.01,.05,0.2,1])\n",
    "#plt.plot(xr,suc_func(xr, *popt),marker='s',ls='')\n",
    "#plt.plot(x_range,od_func(x_range))\n",
    "#residual = abs(r2_score(exp(x_range),sim(x_range))-1)"
   ]
  },
  {
   "cell_type": "code",
   "execution_count": 3,
   "metadata": {
    "execution": {
     "iopub.execute_input": "2021-10-19T19:11:42.554028Z",
     "iopub.status.busy": "2021-10-19T19:11:42.553548Z",
     "iopub.status.idle": "2021-10-19T19:20:10.704156Z",
     "shell.execute_reply": "2021-10-19T19:20:10.704693Z"
    }
   },
   "outputs": [],
   "source": [
    "# Base install of NUFEB\n",
    "os.chdir('/tmp')\n",
    "os.system('git clone https://github.com/Jsakkos/NUFEB --recursive')\n",
    "os.chdir('NUFEB')\n",
    "os.system('git checkout cyano')\n",
    "initial_compile = subprocess.run('/home/12x/init-compile.sh')\n"
   ]
  },
  {
   "cell_type": "code",
   "execution_count": 5,
   "metadata": {
    "execution": {
     "iopub.execute_input": "2021-10-19T19:20:10.709621Z",
     "iopub.status.busy": "2021-10-19T19:20:10.708967Z",
     "iopub.status.idle": "2021-10-19T19:20:10.711250Z",
     "shell.execute_reply": "2021-10-19T19:20:10.711764Z"
    }
   },
   "outputs": [],
   "source": [
    "#nufeb_compile = subprocess.run('/home/12x/rapid-compile.sh')\n"
   ]
  },
  {
   "cell_type": "code",
   "execution_count": 4,
   "metadata": {
    "execution": {
     "iopub.execute_input": "2021-10-19T19:20:10.717077Z",
     "iopub.status.busy": "2021-10-19T19:20:10.716416Z",
     "iopub.status.idle": "2021-10-19T19:20:10.718584Z",
     "shell.execute_reply": "2021-10-19T19:20:10.719131Z"
    }
   },
   "outputs": [],
   "source": [
    "def recompile(alpha,tau,c,alpha2,tau2,c2):\n",
    "    os.chdir('/tmp/NUFEB')\n",
    "    filein = open( f'/home/12x/nufeb-cyano-e-coli/templates/fix_bio_kinetics_monod2.txt' )\n",
    "    #read it\n",
    "    src = Template( filein.read() )\n",
    "    #do the substitution\n",
    "    result = src.safe_substitute({'alpha' : alpha, 'tau' : tau, 'c' : c,'alpha2' : alpha2, 'tau2' : tau2, 'c2' : c2\n",
    "                                        \n",
    "                                        })\n",
    "    with open(\"/tmp/NUFEB/src/USER-NUFEB/fix_bio_kinetics_monod.cpp\",\"w\") as f:\n",
    "       f.writelines(result)\n",
    "    #Compile NUFEB\n",
    "    nufeb_compile = subprocess.run('/home/12x/rapid-compile.sh')"
   ]
  },
  {
   "cell_type": "code",
   "execution_count": 5,
   "metadata": {
    "execution": {
     "iopub.execute_input": "2021-10-19T19:20:10.723328Z",
     "iopub.status.busy": "2021-10-19T19:20:10.722727Z",
     "iopub.status.idle": "2021-10-19T19:20:10.724734Z",
     "shell.execute_reply": "2021-10-19T19:20:10.725270Z"
    }
   },
   "outputs": [],
   "source": [
    "def test_run():\n",
    "    os.chdir('/tmp/NUFEB')\n",
    "    os.system('nufeb-clean')\n",
    "    text = f'nufeb-seed --cells 100,0 --d 1e-4,1e-4,1e-4 --grid 20 --t 8700'\n",
    "    os.system(text)\n",
    "    run_nufeb = subprocess.run('/home/12x/optim2.sh', stdout=subprocess.DEVNULL)"
   ]
  },
  {
   "cell_type": "code",
   "execution_count": 8,
   "metadata": {
    "execution": {
     "iopub.execute_input": "2021-10-19T19:20:10.729873Z",
     "iopub.status.busy": "2021-10-19T19:20:10.729297Z",
     "iopub.status.idle": "2021-10-19T19:20:51.373999Z",
     "shell.execute_reply": "2021-10-19T19:20:51.374393Z"
    }
   },
   "outputs": [
    {
     "data": {
      "image/png": "[encoded data removed]",
      "text/plain": [
       "<Figure size 432x288 with 1 Axes>"
      ]
     },
     "metadata": {
      "needs_background": "light"
     },
     "output_type": "display_data"
    }
   ],
   "source": [
    "# Test to make sure everything is working\n",
    "recompile(.18,.07,.8,.79,9.9,.01)\n",
    "test_run()\n",
    "BASE_DIR = Path(f'runs/')\n",
    "folders = [path for path in BASE_DIR.iterdir() if path.is_dir()]\n",
    "data = [utils.get_data(directory=str(x)) for x in folders]\n",
    "f, ax = plt.subplots()\n",
    "plot.overall_growth(data[0].biomass,ax=ax)\n",
    "plt.show()"
   ]
  },
  {
   "cell_type": "code",
   "execution_count": 9,
   "metadata": {
    "execution": {
     "iopub.execute_input": "2021-10-19T19:20:51.378158Z",
     "iopub.status.busy": "2021-10-19T19:20:51.377705Z",
     "iopub.status.idle": "2021-10-19T19:20:51.381442Z",
     "shell.execute_reply": "2021-10-19T19:20:51.381816Z"
    }
   },
   "outputs": [],
   "source": [
    "from tqdm.notebook import tqdm\n",
    "\n",
    "class tqdm_skopt(object):\n",
    "    def __init__(self, **kwargs):\n",
    "        self._bar = tqdm(**kwargs)\n",
    "        \n",
    "    def __call__(self, res):\n",
    "        self._bar.update()"
   ]
  },
  {
   "cell_type": "code",
   "execution_count": 10,
   "metadata": {
    "execution": {
     "iopub.execute_input": "2021-10-19T19:20:51.389256Z",
     "iopub.status.busy": "2021-10-19T19:20:51.388763Z",
     "iopub.status.idle": "2021-10-19T19:20:51.391941Z",
     "shell.execute_reply": "2021-10-19T19:20:51.391471Z"
    }
   },
   "outputs": [],
   "source": [
    "def func(x):\n",
    "\n",
    "    alpha = x[0]\n",
    "    tau = x[1]\n",
    "    c = x[2]\n",
    "    #alpha2= 0.7917548932118175\n",
    "    #tau2= 9.928116064234674\n",
    "    #c2= 0.017154626440951674\n",
    "    alpha2 = x[3]\n",
    "    tau2 = x[4]\n",
    "    c2 = x[5]\n",
    "    mu = x[6]\n",
    "\n",
    "\n",
    "\n",
    "\n",
    "\n",
    "    #Change input params\n",
    "    \n",
    "    os.chdir('/tmp/NUFEB')\n",
    "    recompile(alpha,tau,c,alpha2,tau2,c2)\n",
    "    print(f'alpha: {alpha},tau: {tau},c: {c},alpha2: {alpha2},tau2: {tau2},c2: {c2}, mu: {mu}')\n",
    "\n",
    "    #Clean old simulations\n",
    "    os.system('nufeb-clean')\n",
    "    #Run simulation\n",
    "    for iptg in test_data.IPTG:\n",
    "        text = f'nufeb-seed --cells 10,0 --d 1e-4,1e-4,1e-5 --t 8700 --mucya {mu} --sucR {iptg}'\n",
    "        os.system(text)\n",
    "\n",
    "    run_nufeb = subprocess.run('/home/12x/optim2.sh', stdout=subprocess.DEVNULL)\n",
    "    BASE_DIR = Path(f'runs/')\n",
    "    folders = [path for path in BASE_DIR.iterdir() if path.is_dir()]\n",
    "\n",
    "    #Extract output\n",
    "\n",
    "    data = [utils.get_data(directory=str(x)) for x in folders]\n",
    "    Volume = 1e-4*1e-4*1e-4 #m^3\n",
    "    CellNum2OD = Volume*1e6/0.3e-8\n",
    "    SucroseMW = 342.3\n",
    "    dfs = []\n",
    "    for x in data:\n",
    "        temp = pd.concat([x.ntypes.cyano/CellNum2OD,x.ntypes.step/60/60*x.timestep,x.avg_con.Sucrose.reset_index(drop=True)],axis=1)\n",
    "        temp.columns=['OD750','Hours','Sucrose']\n",
    "        temp['IPTG'] = x.metadata['SucRatio']\n",
    "        dfs.append(temp)\n",
    "    df = pd.concat(dfs,ignore_index=True)\n",
    "    df = df.loc[(df.Hours > 23.8) & (df.Hours < 24)]\n",
    "    df.sort_values(by='IPTG',inplace=True)\n",
    "    df.reset_index(inplace=True)\n",
    "    \n",
    "    #plot\n",
    "    f, ax = plt.subplots(ncols=2)\n",
    "    ax[0].set_title('Sucrose')\n",
    "    ax[0].plot(test_data.IPTG,test_data.Sucrose,marker='o')\n",
    "    ax[0].plot(df.IPTG,df.Sucrose)\n",
    "    ax[1].set_title('OD750')\n",
    "    ax[1].plot(test_data.IPTG,test_data.OD750,marker='o')\n",
    "    ax[1].plot(df.IPTG,df.OD750)\n",
    "    plt.show()\n",
    "    #Compare output with experimental data via RMSE\n",
    "    \n",
    "    return mean_squared_error(df.OD750,test_data.OD750, squared = False) + mean_squared_error(df.Sucrose,test_data.Sucrose, squared = False)\n",
    "\n",
    "\n"
   ]
  },
  {
   "cell_type": "code",
   "execution_count": 7,
   "metadata": {},
   "outputs": [],
   "source": [
    "res = load('/home/12x/nufeb-cyano-e-coli/checkpoints/checkpoint-se.pkl')\n",
    "x0 = res.x_iters\n",
    "y0 = res.func_vals\n",
    "base_estimator = res.specs['args']['base_estimator']\n",
    "random_state = res.random_state\n",
    "          #  x0=x0,              # already examined values for x\n",
    "       #     y0=y0,              # observed values for x0"
   ]
  },
  {
   "cell_type": "code",
   "execution_count": null,
   "metadata": {
    "execution": {
     "iopub.execute_input": "2021-10-19T19:20:51.414831Z",
     "iopub.status.busy": "2021-10-19T19:20:51.396730Z",
     "iopub.status.idle": "2021-10-19T23:22:17.047430Z",
     "shell.execute_reply": "2021-10-19T23:22:17.047919Z"
    }
   },
   "outputs": [
    {
     "name": "stdout",
     "output_type": "stream",
     "text": [
      "Iteration No: 1 started. Evaluating function at random point.\n",
      "alpha: -0.5728407946783137,tau: 0.5335097559243281,c: -9.577401385644146,alpha2: -6.36283530554098,tau2: 0.9772465725071923,c2: 4.971016319012707, mu: 3.3969351843132475e-05\n"
     ]
    }
   ],
   "source": [
    "\n",
    "alpha_min = float('-1e0')\n",
    "alpha_max = float('0')\n",
    "tau_min = float('0')\n",
    "tau_max = float('1e0')\n",
    "c_min = float('-1e1')\n",
    "c_max = float('5e-1')\n",
    "alpha2_min = float('-1e1')\n",
    "alpha2_max = float('1e-1')\n",
    "tau2_min = float('0')\n",
    "tau2_max = float('1e0')\n",
    "c2_min = float('0')\n",
    "c2_max = float('1e1')\n",
    "\n",
    "mu_min = float('1e-6')\n",
    "mu_max = float('5e-5')\n",
    "\n",
    "bounds = [(alpha_min,alpha_max),(tau_min,tau_max),(c_min,c_max),(alpha2_min,alpha2_max),(tau2_min,tau2_max),(c2_min,c2_max),(mu_min,mu_max)]#,\n",
    "\n",
    "\n",
    "\n",
    "checkpoint_saver = CheckpointSaver('/home/12x/nufeb-cyano-e-coli/checkpoints/checkpoint-se2.pkl', compress=9) # keyword arguments will be passed to `skopt.dump`\n",
    "n_calls = 200\n",
    "#res = forest_minimize(func, bounds, n_calls=n_calls,callback=[tqdm_skopt(total=n_calls, desc=\"Random forest\")],base_estimator=\"ET\",verbose=True)\n",
    "res = gp_minimize(func, bounds, n_calls=n_calls,verbose=True,\n",
    "                  callback=[checkpoint_saver])"
   ]
  },
  {
   "cell_type": "code",
   "execution_count": null,
   "metadata": {
    "execution": {
     "iopub.execute_input": "2021-10-19T23:22:17.064804Z",
     "iopub.status.busy": "2021-10-19T23:22:17.063271Z",
     "iopub.status.idle": "2021-10-19T23:22:17.366304Z",
     "shell.execute_reply": "2021-10-19T23:22:17.366740Z"
    }
   },
   "outputs": [],
   "source": [
    "plot_convergence(res,yscale='log')"
   ]
  },
  {
   "cell_type": "code",
   "execution_count": null,
   "metadata": {
    "execution": {
     "iopub.execute_input": "2021-10-19T23:22:17.369760Z",
     "iopub.status.busy": "2021-10-19T23:22:17.369222Z",
     "iopub.status.idle": "2021-10-19T23:22:44.444070Z",
     "shell.execute_reply": "2021-10-19T23:22:44.443586Z"
    }
   },
   "outputs": [],
   "source": [
    "plot_objective(res)"
   ]
  },
  {
   "cell_type": "code",
   "execution_count": null,
   "metadata": {
    "execution": {
     "iopub.execute_input": "2021-10-19T23:22:44.447413Z",
     "iopub.status.busy": "2021-10-19T23:22:44.446943Z",
     "iopub.status.idle": "2021-10-19T23:22:44.449067Z",
     "shell.execute_reply": "2021-10-19T23:22:44.449436Z"
    }
   },
   "outputs": [],
   "source": [
    "res.x"
   ]
  },
  {
   "cell_type": "code",
   "execution_count": null,
   "metadata": {
    "execution": {
     "iopub.execute_input": "2021-10-19T23:22:44.455901Z",
     "iopub.status.busy": "2021-10-19T23:22:44.455433Z",
     "iopub.status.idle": "2021-10-19T23:26:52.095451Z",
     "shell.execute_reply": "2021-10-19T23:26:52.095000Z"
    }
   },
   "outputs": [],
   "source": [
    "\"\"\"\n",
    "os.chdir('/tmp/NUFEB')\n",
    "recompile(res.x[0],res.x[1],res.x[2],res.x[3],res.x[4],res.x[5])\n",
    "\n",
    "#Clean old simulations\n",
    "os.system('nufeb-clean')\n",
    "#Run simulation\n",
    "for iptg in test_data.IPTG:\n",
    "    text = f'nufeb-seed --cells 100,0 --d 1e-4,1e-4,1e-4 --grid 20 --t 8700 --mucya {res.x[6]} --sucR {iptg}}'\n",
    "    os.system(text)\n",
    "\n",
    "run_nufeb = subprocess.run('/home/12x/optim2.sh', stdout=subprocess.DEVNULL)\n",
    "BASE_DIR = Path(f'runs/')\n",
    "folders = [path for path in BASE_DIR.iterdir() if path.is_dir()]\n",
    "\n",
    "#Extract output\n",
    "\n",
    "data = [utils.get_data(directory=str(x)) for x in folders]\n",
    "Volume = 1e-4*1e-4*1e-4 #m^3\n",
    "CellNum2OD = Volume*1e6/0.3e-8\n",
    "SucroseMW = 342.3\n",
    "dfs = []\n",
    "for x in data:\n",
    "    temp = pd.concat([x.ntypes.cyano/CellNum2OD,x.ntypes.step/60/60*x.timestep,x.avg_con.Sucrose.reset_index(drop=True)],axis=1)\n",
    "    temp.columns=['OD750','Hours','Sucrose']\n",
    "    temp['IPTG'] = x.metadata['SucRatio']\n",
    "    dfs.append(temp)\n",
    "df = pd.concat(dfs,ignore_index=True)\n",
    "df = df.loc[(df.Hours > 23.8) & (df.Hours < 24)]\n",
    "df.sort_values(by='IPTG',inplace=True)\n",
    "df.reset_index(inplace=True)\n",
    "\"\"\""
   ]
  },
  {
   "cell_type": "code",
   "execution_count": null,
   "metadata": {
    "execution": {
     "iopub.execute_input": "2021-10-19T23:26:52.110828Z",
     "iopub.status.busy": "2021-10-19T23:26:52.110344Z",
     "iopub.status.idle": "2021-10-19T23:26:52.334974Z",
     "shell.execute_reply": "2021-10-19T23:26:52.334562Z"
    }
   },
   "outputs": [],
   "source": [
    "#f, ax = plt.subplots(ncols=2)\n",
    "#ax[0].set_title('Sucrose')\n",
    "#ax[0].plot(test_data.IPTG,test_data.Sucrose,marker='o')\n",
    "#ax[0].plot(df.IPTG,df.Sucrose)\n",
    "#ax[1].set_title('OD750')\n",
    "#ax[1].plot(test_data.IPTG,test_data.OD750,marker='o')\n",
    "#ax[1].plot(df.IPTG,df.OD750)"
   ]
  },
  {
   "cell_type": "code",
   "execution_count": null,
   "metadata": {
    "execution": {
     "iopub.execute_input": "2021-10-19T23:26:52.341144Z",
     "iopub.status.busy": "2021-10-19T23:26:52.340644Z",
     "iopub.status.idle": "2021-10-19T23:26:52.342849Z",
     "shell.execute_reply": "2021-10-19T23:26:52.343223Z"
    }
   },
   "outputs": [],
   "source": [
    "os.system('rm -R /tmp/NUFEB')"
   ]
  },
  {
   "cell_type": "code",
   "execution_count": null,
   "metadata": {
    "execution": {
     "iopub.execute_input": "2021-10-19T23:26:52.348397Z",
     "iopub.status.busy": "2021-10-19T23:26:52.347955Z",
     "iopub.status.idle": "2021-10-19T23:26:52.355737Z",
     "shell.execute_reply": "2021-10-19T23:26:52.356151Z"
    }
   },
   "outputs": [],
   "source": []
  },
  {
   "cell_type": "code",
   "execution_count": null,
   "metadata": {},
   "outputs": [],
   "source": []
  }
 ],
 "metadata": {
  "interpreter": {
   "hash": "2626e5adae8198ed7264a71f52684958c93e45a3e0e106b4eda1bc852fc4cd77"
  },
  "kernelspec": {
   "display_name": "Python NUFEB",
   "language": "python",
   "name": "nufeb"
  },
  "language_info": {
   "codemirror_mode": {
    "name": "ipython",
    "version": 3
   },
   "file_extension": ".py",
   "mimetype": "text/x-python",
   "name": "python",
   "nbconvert_exporter": "python",
   "pygments_lexer": "ipython3",
   "version": "3.7.3"
  },
  "widgets": {
   "application/vnd.jupyter.widget-state+json": {
    "state": {
     "28d8b8c3f94e4318bb6ed06b05927fc0": {
      "model_module": "@jupyter-widgets/base",
      "model_module_version": "1.2.0",
      "model_name": "LayoutModel",
      "state": {
       "_model_module": "@jupyter-widgets/base",
       "_model_module_version": "1.2.0",
       "_model_name": "LayoutModel",
       "_view_count": null,
       "_view_module": "@jupyter-widgets/base",
       "_view_module_version": "1.2.0",
       "_view_name": "LayoutView",
       "align_content": null,
       "align_items": null,
       "align_self": null,
       "border": null,
       "bottom": null,
       "display": null,
       "flex": null,
       "flex_flow": null,
       "grid_area": null,
       "grid_auto_columns": null,
       "grid_auto_flow": null,
       "grid_auto_rows": null,
       "grid_column": null,
       "grid_gap": null,
       "grid_row": null,
       "grid_template_areas": null,
       "grid_template_columns": null,
       "grid_template_rows": null,
       "height": null,
       "justify_content": null,
       "justify_items": null,
       "left": null,
       "margin": null,
       "max_height": null,
       "max_width": null,
       "min_height": null,
       "min_width": null,
       "object_fit": null,
       "object_position": null,
       "order": null,
       "overflow": null,
       "overflow_x": null,
       "overflow_y": null,
       "padding": null,
       "right": null,
       "top": null,
       "visibility": null,
       "width": null
      }
     },
     "2e9c1e70da3a4c0a8cb6b463d0c540fb": {
      "model_module": "@jupyter-widgets/controls",
      "model_module_version": "1.5.0",
      "model_name": "FloatProgressModel",
      "state": {
       "_dom_classes": [],
       "_model_module": "@jupyter-widgets/controls",
       "_model_module_version": "1.5.0",
       "_model_name": "FloatProgressModel",
       "_view_count": null,
       "_view_module": "@jupyter-widgets/controls",
       "_view_module_version": "1.5.0",
       "_view_name": "ProgressView",
       "bar_style": "",
       "description": "",
       "description_tooltip": null,
       "layout": "IPY_MODEL_6e03de5f2ed64c28a80c0ad457e59906",
       "max": 60,
       "min": 0,
       "orientation": "horizontal",
       "style": "IPY_MODEL_88723ad28dbb4654a0a15e1e10509b77",
       "value": 60
      }
     },
     "4daf942a91df4d3eab05b72da16d2467": {
      "model_module": "@jupyter-widgets/controls",
      "model_module_version": "1.5.0",
      "model_name": "HBoxModel",
      "state": {
       "_dom_classes": [],
       "_model_module": "@jupyter-widgets/controls",
       "_model_module_version": "1.5.0",
       "_model_name": "HBoxModel",
       "_view_count": null,
       "_view_module": "@jupyter-widgets/controls",
       "_view_module_version": "1.5.0",
       "_view_name": "HBoxView",
       "box_style": "",
       "children": [
        "IPY_MODEL_ae0e7607fd8f490d9a61c427b6da7f09",
        "IPY_MODEL_2e9c1e70da3a4c0a8cb6b463d0c540fb",
        "IPY_MODEL_87b2a33d96c147abb271dff135e5b82f"
       ],
       "layout": "IPY_MODEL_28d8b8c3f94e4318bb6ed06b05927fc0"
      }
     },
     "6e03de5f2ed64c28a80c0ad457e59906": {
      "model_module": "@jupyter-widgets/base",
      "model_module_version": "1.2.0",
      "model_name": "LayoutModel",
      "state": {
       "_model_module": "@jupyter-widgets/base",
       "_model_module_version": "1.2.0",
       "_model_name": "LayoutModel",
       "_view_count": null,
       "_view_module": "@jupyter-widgets/base",
       "_view_module_version": "1.2.0",
       "_view_name": "LayoutView",
       "align_content": null,
       "align_items": null,
       "align_self": null,
       "border": null,
       "bottom": null,
       "display": null,
       "flex": null,
       "flex_flow": null,
       "grid_area": null,
       "grid_auto_columns": null,
       "grid_auto_flow": null,
       "grid_auto_rows": null,
       "grid_column": null,
       "grid_gap": null,
       "grid_row": null,
       "grid_template_areas": null,
       "grid_template_columns": null,
       "grid_template_rows": null,
       "height": null,
       "justify_content": null,
       "justify_items": null,
       "left": null,
       "margin": null,
       "max_height": null,
       "max_width": null,
       "min_height": null,
       "min_width": null,
       "object_fit": null,
       "object_position": null,
       "order": null,
       "overflow": null,
       "overflow_x": null,
       "overflow_y": null,
       "padding": null,
       "right": null,
       "top": null,
       "visibility": null,
       "width": null
      }
     },
     "70aabaf7fe144dcb9de8d1ac18271865": {
      "model_module": "@jupyter-widgets/base",
      "model_module_version": "1.2.0",
      "model_name": "LayoutModel",
      "state": {
       "_model_module": "@jupyter-widgets/base",
       "_model_module_version": "1.2.0",
       "_model_name": "LayoutModel",
       "_view_count": null,
       "_view_module": "@jupyter-widgets/base",
       "_view_module_version": "1.2.0",
       "_view_name": "LayoutView",
       "align_content": null,
       "align_items": null,
       "align_self": null,
       "border": null,
       "bottom": null,
       "display": null,
       "flex": null,
       "flex_flow": null,
       "grid_area": null,
       "grid_auto_columns": null,
       "grid_auto_flow": null,
       "grid_auto_rows": null,
       "grid_column": null,
       "grid_gap": null,
       "grid_row": null,
       "grid_template_areas": null,
       "grid_template_columns": null,
       "grid_template_rows": null,
       "height": null,
       "justify_content": null,
       "justify_items": null,
       "left": null,
       "margin": null,
       "max_height": null,
       "max_width": null,
       "min_height": null,
       "min_width": null,
       "object_fit": null,
       "object_position": null,
       "order": null,
       "overflow": null,
       "overflow_x": null,
       "overflow_y": null,
       "padding": null,
       "right": null,
       "top": null,
       "visibility": null,
       "width": null
      }
     },
     "742bcf3d17544e60bb5c3296ff9928f3": {
      "model_module": "@jupyter-widgets/controls",
      "model_module_version": "1.5.0",
      "model_name": "DescriptionStyleModel",
      "state": {
       "_model_module": "@jupyter-widgets/controls",
       "_model_module_version": "1.5.0",
       "_model_name": "DescriptionStyleModel",
       "_view_count": null,
       "_view_module": "@jupyter-widgets/base",
       "_view_module_version": "1.2.0",
       "_view_name": "StyleView",
       "description_width": ""
      }
     },
     "87b2a33d96c147abb271dff135e5b82f": {
      "model_module": "@jupyter-widgets/controls",
      "model_module_version": "1.5.0",
      "model_name": "HTMLModel",
      "state": {
       "_dom_classes": [],
       "_model_module": "@jupyter-widgets/controls",
       "_model_module_version": "1.5.0",
       "_model_name": "HTMLModel",
       "_view_count": null,
       "_view_module": "@jupyter-widgets/controls",
       "_view_module_version": "1.5.0",
       "_view_name": "HTMLView",
       "description": "",
       "description_tooltip": null,
       "layout": "IPY_MODEL_70aabaf7fe144dcb9de8d1ac18271865",
       "placeholder": "​",
       "style": "IPY_MODEL_8d5f5b4dcb604386ae621cfd0c1111fb",
       "value": " 60/60 [4:01:25&lt;00:00, 238.37s/it]"
      }
     },
     "88723ad28dbb4654a0a15e1e10509b77": {
      "model_module": "@jupyter-widgets/controls",
      "model_module_version": "1.5.0",
      "model_name": "ProgressStyleModel",
      "state": {
       "_model_module": "@jupyter-widgets/controls",
       "_model_module_version": "1.5.0",
       "_model_name": "ProgressStyleModel",
       "_view_count": null,
       "_view_module": "@jupyter-widgets/base",
       "_view_module_version": "1.2.0",
       "_view_name": "StyleView",
       "bar_color": null,
       "description_width": ""
      }
     },
     "8d5f5b4dcb604386ae621cfd0c1111fb": {
      "model_module": "@jupyter-widgets/controls",
      "model_module_version": "1.5.0",
      "model_name": "DescriptionStyleModel",
      "state": {
       "_model_module": "@jupyter-widgets/controls",
       "_model_module_version": "1.5.0",
       "_model_name": "DescriptionStyleModel",
       "_view_count": null,
       "_view_module": "@jupyter-widgets/base",
       "_view_module_version": "1.2.0",
       "_view_name": "StyleView",
       "description_width": ""
      }
     },
     "ae0e7607fd8f490d9a61c427b6da7f09": {
      "model_module": "@jupyter-widgets/controls",
      "model_module_version": "1.5.0",
      "model_name": "HTMLModel",
      "state": {
       "_dom_classes": [],
       "_model_module": "@jupyter-widgets/controls",
       "_model_module_version": "1.5.0",
       "_model_name": "HTMLModel",
       "_view_count": null,
       "_view_module": "@jupyter-widgets/controls",
       "_view_module_version": "1.5.0",
       "_view_name": "HTMLView",
       "description": "",
       "description_tooltip": null,
       "layout": "IPY_MODEL_f9a2c2da32ab448ca0a7b282dad77e83",
       "placeholder": "​",
       "style": "IPY_MODEL_742bcf3d17544e60bb5c3296ff9928f3",
       "value": "Bayesian opt: 100%"
      }
     },
     "f9a2c2da32ab448ca0a7b282dad77e83": {
      "model_module": "@jupyter-widgets/base",
      "model_module_version": "1.2.0",
      "model_name": "LayoutModel",
      "state": {
       "_model_module": "@jupyter-widgets/base",
       "_model_module_version": "1.2.0",
       "_model_name": "LayoutModel",
       "_view_count": null,
       "_view_module": "@jupyter-widgets/base",
       "_view_module_version": "1.2.0",
       "_view_name": "LayoutView",
       "align_content": null,
       "align_items": null,
       "align_self": null,
       "border": null,
       "bottom": null,
       "display": null,
       "flex": null,
       "flex_flow": null,
       "grid_area": null,
       "grid_auto_columns": null,
       "grid_auto_flow": null,
       "grid_auto_rows": null,
       "grid_column": null,
       "grid_gap": null,
       "grid_row": null,
       "grid_template_areas": null,
       "grid_template_columns": null,
       "grid_template_rows": null,
       "height": null,
       "justify_content": null,
       "justify_items": null,
       "left": null,
       "margin": null,
       "max_height": null,
       "max_width": null,
       "min_height": null,
       "min_width": null,
       "object_fit": null,
       "object_position": null,
       "order": null,
       "overflow": null,
       "overflow_x": null,
       "overflow_y": null,
       "padding": null,
       "right": null,
       "top": null,
       "visibility": null,
       "width": null
      }
     }
    },
    "version_major": 2,
    "version_minor": 0
   }
  }
 },
 "nbformat": 4,
 "nbformat_minor": 4
}
