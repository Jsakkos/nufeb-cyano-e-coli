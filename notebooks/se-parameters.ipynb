{
 "cells": [
  {
   "cell_type": "code",
   "execution_count": 25,
   "metadata": {
    "execution": {
     "iopub.execute_input": "2021-10-19T19:11:36.020851Z",
     "iopub.status.busy": "2021-10-19T19:11:36.020177Z",
     "iopub.status.idle": "2021-10-19T19:11:42.454023Z",
     "shell.execute_reply": "2021-10-19T19:11:42.454461Z"
    }
   },
   "outputs": [],
   "source": [
    "#Imports\n",
    "import os\n",
    "from random import uniform\n",
    "import subprocess\n",
    "from pathlib import Path\n",
    "from nufeb_tools import utils,plot\n",
    "import pandas as pd\n",
    "from string import Template\n",
    "import numpy as np\n",
    "from functools import partial\n",
    "import time\n",
    "from skopt import gp_minimize, forest_minimize, dummy_minimize, gbrt_minimize\n",
    "from skopt.plots import plot_convergence, plot_objective\n",
    "import matplotlib.pyplot as plt\n",
    "from scipy import interpolate\n",
    "from sklearn.metrics import r2_score\n",
    "from scipy.optimize import curve_fit"
   ]
  },
  {
   "cell_type": "markdown",
   "metadata": {},
   "source": [
    "# Caclulate $\\mu_{max}$ from experimental growth curve"
   ]
  },
  {
   "cell_type": "code",
   "execution_count": 26,
   "metadata": {},
   "outputs": [],
   "source": [
    "def mu_func(x,K,r,N0):\n",
    "    return K/(1  + ((K-N0)/N0)*np.exp(-r*x))"
   ]
  },
  {
   "cell_type": "code",
   "execution_count": 27,
   "metadata": {},
   "outputs": [
    {
     "data": {
      "text/html": [
       "<div>\n",
       "<style scoped>\n",
       "    .dataframe tbody tr th:only-of-type {\n",
       "        vertical-align: middle;\n",
       "    }\n",
       "\n",
       "    .dataframe tbody tr th {\n",
       "        vertical-align: top;\n",
       "    }\n",
       "\n",
       "    .dataframe thead th {\n",
       "        text-align: right;\n",
       "    }\n",
       "</style>\n",
       "<table border=\"1\" class=\"dataframe\">\n",
       "  <thead>\n",
       "    <tr style=\"text-align: right;\">\n",
       "      <th></th>\n",
       "      <th>Time</th>\n",
       "      <th>OD750</th>\n",
       "      <th>IPTG</th>\n",
       "      <th>Biomass</th>\n",
       "      <th>Sucrose</th>\n",
       "      <th>Total Biomass</th>\n",
       "      <th>% Sucrose</th>\n",
       "      <th>% Biomass</th>\n",
       "      <th>Biomass Ratio</th>\n",
       "    </tr>\n",
       "  </thead>\n",
       "  <tbody>\n",
       "    <tr>\n",
       "      <th>0</th>\n",
       "      <td>0</td>\n",
       "      <td>0.271</td>\n",
       "      <td>0.0</td>\n",
       "      <td>0.075790</td>\n",
       "      <td>0.020914</td>\n",
       "      <td>0.096704</td>\n",
       "      <td>0.216271</td>\n",
       "      <td>0.783729</td>\n",
       "      <td>0.275951</td>\n",
       "    </tr>\n",
       "    <tr>\n",
       "      <th>1</th>\n",
       "      <td>0</td>\n",
       "      <td>0.300</td>\n",
       "      <td>0.0</td>\n",
       "      <td>0.090530</td>\n",
       "      <td>0.031371</td>\n",
       "      <td>0.121901</td>\n",
       "      <td>0.257351</td>\n",
       "      <td>0.742649</td>\n",
       "      <td>0.346531</td>\n",
       "    </tr>\n",
       "    <tr>\n",
       "      <th>2</th>\n",
       "      <td>0</td>\n",
       "      <td>0.270</td>\n",
       "      <td>0.0</td>\n",
       "      <td>0.077890</td>\n",
       "      <td>0.027108</td>\n",
       "      <td>0.104998</td>\n",
       "      <td>0.258176</td>\n",
       "      <td>0.741824</td>\n",
       "      <td>0.348029</td>\n",
       "    </tr>\n",
       "    <tr>\n",
       "      <th>3</th>\n",
       "      <td>6</td>\n",
       "      <td>0.440</td>\n",
       "      <td>0.0</td>\n",
       "      <td>0.130530</td>\n",
       "      <td>0.028273</td>\n",
       "      <td>0.158803</td>\n",
       "      <td>0.178038</td>\n",
       "      <td>0.821962</td>\n",
       "      <td>0.216602</td>\n",
       "    </tr>\n",
       "    <tr>\n",
       "      <th>4</th>\n",
       "      <td>6</td>\n",
       "      <td>0.396</td>\n",
       "      <td>0.0</td>\n",
       "      <td>0.136842</td>\n",
       "      <td>0.027111</td>\n",
       "      <td>0.163953</td>\n",
       "      <td>0.165359</td>\n",
       "      <td>0.834641</td>\n",
       "      <td>0.198120</td>\n",
       "    </tr>\n",
       "  </tbody>\n",
       "</table>\n",
       "</div>"
      ],
      "text/plain": [
       "   Time  OD750  IPTG   Biomass   Sucrose  Total Biomass  % Sucrose  % Biomass  \\\n",
       "0     0  0.271   0.0  0.075790  0.020914       0.096704   0.216271   0.783729   \n",
       "1     0  0.300   0.0  0.090530  0.031371       0.121901   0.257351   0.742649   \n",
       "2     0  0.270   0.0  0.077890  0.027108       0.104998   0.258176   0.741824   \n",
       "3     6  0.440   0.0  0.130530  0.028273       0.158803   0.178038   0.821962   \n",
       "4     6  0.396   0.0  0.136842  0.027111       0.163953   0.165359   0.834641   \n",
       "\n",
       "   Biomass Ratio  \n",
       "0       0.275951  \n",
       "1       0.346531  \n",
       "2       0.348029  \n",
       "3       0.216602  \n",
       "4       0.198120  "
      ]
     },
     "execution_count": 27,
     "metadata": {},
     "output_type": "execute_result"
    }
   ],
   "source": [
    "df = pd.read_excel('../experimental-data/Biomass CscB-SPS original strain.xlsx',sheet_name='Compiled')\n",
    "df.head()"
   ]
  },
  {
   "cell_type": "code",
   "execution_count": 28,
   "metadata": {},
   "outputs": [],
   "source": [
    "df2 = df.loc[df.IPTG==0]\n",
    "popt, pcov = curve_fit(mu_func,df2.Time, df2.OD750)"
   ]
  },
  {
   "cell_type": "code",
   "execution_count": 29,
   "metadata": {},
   "outputs": [
    {
     "data": {
      "text/plain": [
       "1.889387235661103e-05"
      ]
     },
     "execution_count": 29,
     "metadata": {},
     "output_type": "execute_result"
    }
   ],
   "source": [
    "popt[1]/3600"
   ]
  },
  {
   "cell_type": "code",
   "execution_count": 30,
   "metadata": {
    "execution": {
     "iopub.execute_input": "2021-10-19T19:11:42.459651Z",
     "iopub.status.busy": "2021-10-19T19:11:42.459167Z",
     "iopub.status.idle": "2021-10-19T19:11:42.533695Z",
     "shell.execute_reply": "2021-10-19T19:11:42.533276Z"
    }
   },
   "outputs": [],
   "source": [
    "test_data = pd.read_excel('../experimental-data/sucrose-OD-IPTG-sweep.xls',sheet_name='data')\n",
    "from scipy.optimize import curve_fit\n",
    "def od_func(x):\n",
    "    \"\"\"Exponential fit to IPTG vs OD750 experimental data\n",
    "\n",
    "    Args:\n",
    "        x (float): IPTG concentration (mM)\n",
    "\n",
    "    Returns:\n",
    "        float: Smoothed OD750\n",
    "    \"\"\"\n",
    "    return 0.25482 * np.exp(-x/.06811) + 1.12893\n",
    "\n",
    "# Smooth OD750 data for fitting\n",
    "#test_data.loc[:,'OD750'] = od_func(test_data.IPTG)\n",
    "#popt, pcov = curve_fit(suc_func, test_data.IPTG, test_data.Sucrose)\n",
    "    #Compare output with experimental data\n",
    "#OD = interpolate.interp1d(test_data.IPTG,test_data.OD750)\n",
    "#Sucrose = interpolate.interp1d(test_data.IPTG,test_data.Sucrose)\n",
    "#sim = interpolate.interp1d(df.Hours.to_numpy(),df.OD600.to_numpy())\n",
    "x_range = np.arange(0,1,.01)\n",
    "#plt.plot(x_range,suc_func(x_range))\n",
    "#plt.plot(test_data.IPTG,test_data.Sucrose,marker='o')\n",
    "#plt.plot(x_range, suc_func(x_range, *popt), 'r-')\n",
    "#xr = np.array([0.001,.01,.05,0.2,1])\n",
    "#\n",
    "\n",
    "#residual = abs(r2_score(exp(x_range),sim(x_range))-1)\n",
    "#  r4 = r1 * ${alpha} * suc_exp / (${kappa} + suc_exp); \n",
    "#  r5 = ${beta} * r1 * (suc_exp / (${kappa_2} + suc_exp) + ${delta}); "
   ]
  },
  {
   "cell_type": "code",
   "execution_count": 31,
   "metadata": {},
   "outputs": [
    {
     "data": {
      "text/plain": [
       "array([-0.18415048,  0.06811174,  0.18415069])"
      ]
     },
     "execution_count": 31,
     "metadata": {},
     "output_type": "execute_result"
    }
   ],
   "source": [
    "mu = .06/3600\n",
    "def od_fit(x,a,b,c):\n",
    "    return 1-a*np.exp(-x/b)-c\n",
    "popt, pcov = curve_fit(od_fit, test_data.IPTG, test_data.OD750/od_func(0))\n",
    "popt"
   ]
  },
  {
   "cell_type": "code",
   "execution_count": 32,
   "metadata": {},
   "outputs": [
    {
     "data": {
      "text/plain": [
       "1.6666666666666667e-05"
      ]
     },
     "execution_count": 32,
     "metadata": {},
     "output_type": "execute_result"
    }
   ],
   "source": [
    "mu"
   ]
  },
  {
   "cell_type": "code",
   "execution_count": 33,
   "metadata": {},
   "outputs": [
    {
     "data": {
      "text/plain": [
       "array([-3.26601079,  0.03910353,  3.24273204])"
      ]
     },
     "execution_count": 33,
     "metadata": {},
     "output_type": "execute_result"
    }
   ],
   "source": [
    "def suc_func(x,a,b,c):\n",
    "    return a*np.exp(-x/b)+c\n",
    "popt2, pcov2 = curve_fit(suc_func, test_data.IPTG, test_data.Sucrose)\n",
    "popt2"
   ]
  },
  {
   "cell_type": "code",
   "execution_count": 34,
   "metadata": {},
   "outputs": [],
   "source": [
    "def suc2(x,a,b,c):\n",
    "    return a*x/(x+b)+c\n",
    "popt3, pcov3 = curve_fit(suc2, test_data.IPTG, test_data.Sucrose)"
   ]
  },
  {
   "cell_type": "code",
   "execution_count": 35,
   "metadata": {},
   "outputs": [
    {
     "data": {
      "image/png": "[encoded data removed]",
      "text/plain": [
       "<Figure size 720x432 with 2 Axes>"
      ]
     },
     "metadata": {
      "needs_background": "light"
     },
     "output_type": "display_data"
    }
   ],
   "source": [
    "import seaborn as sns\n",
    "sns.set_context('talk')\n",
    "f, ax = plt.subplots(ncols=2,figsize=(10,6))\n",
    "#ax[1].plot(x_range,od_func(x_range))\n",
    "\n",
    "ax[0].set_title('Sucrose')\n",
    "ax[0].plot(test_data.IPTG,test_data.Sucrose,marker='o',ls='')\n",
    "ax[0].plot(x_range,suc_func(x_range, *popt2), 'r-')\n",
    "ax[0].set_xlabel('IPTG (mM)')\n",
    "ax[1].set_xlabel('IPTG (mM)')\n",
    "ax[0].set_ylabel('Sucrose (mM)')\n",
    "ax[1].set_ylabel('OD750')\n",
    "#ax[0].plot(x_range,suc2(x_range, *popt3),marker='d',ls='',c='r')\n",
    "#ax[0].plot(df.IPTG,df.Sucrose)\n",
    "ax[1].set_title('OD750')\n",
    "ax[1].plot(test_data.IPTG,test_data.OD750/od_func(0),marker='o',ls='')\n",
    "ax[1].plot(x_range, od_fit(x_range, *popt), 'r-')\n",
    "#ax[1].plot(x_range,od_func(x_range)/od_func(0))\n",
    "f.tight_layout()\n",
    "sns.despine()\n",
    "#ax[1].plot(df.IPTG,df.OD750)"
   ]
  },
  {
   "cell_type": "code",
   "execution_count": 36,
   "metadata": {
    "execution": {
     "iopub.execute_input": "2021-10-19T19:11:42.547535Z",
     "iopub.status.busy": "2021-10-19T19:11:42.542230Z",
     "iopub.status.idle": "2021-10-19T19:11:42.550763Z",
     "shell.execute_reply": "2021-10-19T19:11:42.550282Z"
    }
   },
   "outputs": [
    {
     "name": "stdout",
     "output_type": "stream",
     "text": [
      "    IPTG     OD750   Sucrose\n",
      "0  0.000  1.370000  0.107117\n",
      "1  0.005  1.360000  0.200273\n",
      "2  0.010  1.400000  0.584090\n",
      "3  0.020  1.283333  1.473699\n",
      "4  0.050  1.230000  2.405350\n",
      "5  0.100  1.210000  2.790814\n",
      "6  0.200  1.166667  3.234595\n",
      "7  0.500  1.106667  3.348596\n",
      "8  1.000  1.128333  3.230569\n"
     ]
    },
    {
     "data": {
      "text/plain": [
       "0.0012505885122411353"
      ]
     },
     "execution_count": 36,
     "metadata": {},
     "output_type": "execute_result"
    }
   ],
   "source": [
    "t2 = test_data.copy()\n",
    "t2.loc[2,'OD750']=1.40\n",
    "t2.loc[4,'OD750']=1.23\n",
    "t2.sort_values(by='IPTG',inplace=True)\n",
    "print(t2)\n",
    "abs(r2_score(t2[['OD750','Sucrose']],test_data[['OD750','Sucrose']])-1)"
   ]
  }
 ],
 "metadata": {
  "interpreter": {
   "hash": "2626e5adae8198ed7264a71f52684958c93e45a3e0e106b4eda1bc852fc4cd77"
  },
  "kernelspec": {
   "display_name": "Python 3.9.5 64-bit ('nufeb': conda)",
   "name": "python3"
  },
  "language_info": {
   "codemirror_mode": {
    "name": "ipython",
    "version": 3
   },
   "file_extension": ".py",
   "mimetype": "text/x-python",
   "name": "python",
   "nbconvert_exporter": "python",
   "pygments_lexer": "ipython3",
   "version": "3.9.5"
  },
  "widgets": {
   "application/vnd.jupyter.widget-state+json": {
    "state": {
     "28d8b8c3f94e4318bb6ed06b05927fc0": {
      "model_module": "@jupyter-widgets/base",
      "model_module_version": "1.2.0",
      "model_name": "LayoutModel",
      "state": {
       "_model_module": "@jupyter-widgets/base",
       "_model_module_version": "1.2.0",
       "_model_name": "LayoutModel",
       "_view_count": null,
       "_view_module": "@jupyter-widgets/base",
       "_view_module_version": "1.2.0",
       "_view_name": "LayoutView",
       "align_content": null,
       "align_items": null,
       "align_self": null,
       "border": null,
       "bottom": null,
       "display": null,
       "flex": null,
       "flex_flow": null,
       "grid_area": null,
       "grid_auto_columns": null,
       "grid_auto_flow": null,
       "grid_auto_rows": null,
       "grid_column": null,
       "grid_gap": null,
       "grid_row": null,
       "grid_template_areas": null,
       "grid_template_columns": null,
       "grid_template_rows": null,
       "height": null,
       "justify_content": null,
       "justify_items": null,
       "left": null,
       "margin": null,
       "max_height": null,
       "max_width": null,
       "min_height": null,
       "min_width": null,
       "object_fit": null,
       "object_position": null,
       "order": null,
       "overflow": null,
       "overflow_x": null,
       "overflow_y": null,
       "padding": null,
       "right": null,
       "top": null,
       "visibility": null,
       "width": null
      }
     },
     "2e9c1e70da3a4c0a8cb6b463d0c540fb": {
      "model_module": "@jupyter-widgets/controls",
      "model_module_version": "1.5.0",
      "model_name": "FloatProgressModel",
      "state": {
       "_dom_classes": [],
       "_model_module": "@jupyter-widgets/controls",
       "_model_module_version": "1.5.0",
       "_model_name": "FloatProgressModel",
       "_view_count": null,
       "_view_module": "@jupyter-widgets/controls",
       "_view_module_version": "1.5.0",
       "_view_name": "ProgressView",
       "bar_style": "",
       "description": "",
       "description_tooltip": null,
       "layout": "IPY_MODEL_6e03de5f2ed64c28a80c0ad457e59906",
       "max": 60,
       "min": 0,
       "orientation": "horizontal",
       "style": "IPY_MODEL_88723ad28dbb4654a0a15e1e10509b77",
       "value": 60
      }
     },
     "4daf942a91df4d3eab05b72da16d2467": {
      "model_module": "@jupyter-widgets/controls",
      "model_module_version": "1.5.0",
      "model_name": "HBoxModel",
      "state": {
       "_dom_classes": [],
       "_model_module": "@jupyter-widgets/controls",
       "_model_module_version": "1.5.0",
       "_model_name": "HBoxModel",
       "_view_count": null,
       "_view_module": "@jupyter-widgets/controls",
       "_view_module_version": "1.5.0",
       "_view_name": "HBoxView",
       "box_style": "",
       "children": [
        "IPY_MODEL_ae0e7607fd8f490d9a61c427b6da7f09",
        "IPY_MODEL_2e9c1e70da3a4c0a8cb6b463d0c540fb",
        "IPY_MODEL_87b2a33d96c147abb271dff135e5b82f"
       ],
       "layout": "IPY_MODEL_28d8b8c3f94e4318bb6ed06b05927fc0"
      }
     },
     "6e03de5f2ed64c28a80c0ad457e59906": {
      "model_module": "@jupyter-widgets/base",
      "model_module_version": "1.2.0",
      "model_name": "LayoutModel",
      "state": {
       "_model_module": "@jupyter-widgets/base",
       "_model_module_version": "1.2.0",
       "_model_name": "LayoutModel",
       "_view_count": null,
       "_view_module": "@jupyter-widgets/base",
       "_view_module_version": "1.2.0",
       "_view_name": "LayoutView",
       "align_content": null,
       "align_items": null,
       "align_self": null,
       "border": null,
       "bottom": null,
       "display": null,
       "flex": null,
       "flex_flow": null,
       "grid_area": null,
       "grid_auto_columns": null,
       "grid_auto_flow": null,
       "grid_auto_rows": null,
       "grid_column": null,
       "grid_gap": null,
       "grid_row": null,
       "grid_template_areas": null,
       "grid_template_columns": null,
       "grid_template_rows": null,
       "height": null,
       "justify_content": null,
       "justify_items": null,
       "left": null,
       "margin": null,
       "max_height": null,
       "max_width": null,
       "min_height": null,
       "min_width": null,
       "object_fit": null,
       "object_position": null,
       "order": null,
       "overflow": null,
       "overflow_x": null,
       "overflow_y": null,
       "padding": null,
       "right": null,
       "top": null,
       "visibility": null,
       "width": null
      }
     },
     "70aabaf7fe144dcb9de8d1ac18271865": {
      "model_module": "@jupyter-widgets/base",
      "model_module_version": "1.2.0",
      "model_name": "LayoutModel",
      "state": {
       "_model_module": "@jupyter-widgets/base",
       "_model_module_version": "1.2.0",
       "_model_name": "LayoutModel",
       "_view_count": null,
       "_view_module": "@jupyter-widgets/base",
       "_view_module_version": "1.2.0",
       "_view_name": "LayoutView",
       "align_content": null,
       "align_items": null,
       "align_self": null,
       "border": null,
       "bottom": null,
       "display": null,
       "flex": null,
       "flex_flow": null,
       "grid_area": null,
       "grid_auto_columns": null,
       "grid_auto_flow": null,
       "grid_auto_rows": null,
       "grid_column": null,
       "grid_gap": null,
       "grid_row": null,
       "grid_template_areas": null,
       "grid_template_columns": null,
       "grid_template_rows": null,
       "height": null,
       "justify_content": null,
       "justify_items": null,
       "left": null,
       "margin": null,
       "max_height": null,
       "max_width": null,
       "min_height": null,
       "min_width": null,
       "object_fit": null,
       "object_position": null,
       "order": null,
       "overflow": null,
       "overflow_x": null,
       "overflow_y": null,
       "padding": null,
       "right": null,
       "top": null,
       "visibility": null,
       "width": null
      }
     },
     "742bcf3d17544e60bb5c3296ff9928f3": {
      "model_module": "@jupyter-widgets/controls",
      "model_module_version": "1.5.0",
      "model_name": "DescriptionStyleModel",
      "state": {
       "_model_module": "@jupyter-widgets/controls",
       "_model_module_version": "1.5.0",
       "_model_name": "DescriptionStyleModel",
       "_view_count": null,
       "_view_module": "@jupyter-widgets/base",
       "_view_module_version": "1.2.0",
       "_view_name": "StyleView",
       "description_width": ""
      }
     },
     "87b2a33d96c147abb271dff135e5b82f": {
      "model_module": "@jupyter-widgets/controls",
      "model_module_version": "1.5.0",
      "model_name": "HTMLModel",
      "state": {
       "_dom_classes": [],
       "_model_module": "@jupyter-widgets/controls",
       "_model_module_version": "1.5.0",
       "_model_name": "HTMLModel",
       "_view_count": null,
       "_view_module": "@jupyter-widgets/controls",
       "_view_module_version": "1.5.0",
       "_view_name": "HTMLView",
       "description": "",
       "description_tooltip": null,
       "layout": "IPY_MODEL_70aabaf7fe144dcb9de8d1ac18271865",
       "placeholder": "​",
       "style": "IPY_MODEL_8d5f5b4dcb604386ae621cfd0c1111fb",
       "value": " 60/60 [4:01:25&lt;00:00, 238.37s/it]"
      }
     },
     "88723ad28dbb4654a0a15e1e10509b77": {
      "model_module": "@jupyter-widgets/controls",
      "model_module_version": "1.5.0",
      "model_name": "ProgressStyleModel",
      "state": {
       "_model_module": "@jupyter-widgets/controls",
       "_model_module_version": "1.5.0",
       "_model_name": "ProgressStyleModel",
       "_view_count": null,
       "_view_module": "@jupyter-widgets/base",
       "_view_module_version": "1.2.0",
       "_view_name": "StyleView",
       "bar_color": null,
       "description_width": ""
      }
     },
     "8d5f5b4dcb604386ae621cfd0c1111fb": {
      "model_module": "@jupyter-widgets/controls",
      "model_module_version": "1.5.0",
      "model_name": "DescriptionStyleModel",
      "state": {
       "_model_module": "@jupyter-widgets/controls",
       "_model_module_version": "1.5.0",
       "_model_name": "DescriptionStyleModel",
       "_view_count": null,
       "_view_module": "@jupyter-widgets/base",
       "_view_module_version": "1.2.0",
       "_view_name": "StyleView",
       "description_width": ""
      }
     },
     "ae0e7607fd8f490d9a61c427b6da7f09": {
      "model_module": "@jupyter-widgets/controls",
      "model_module_version": "1.5.0",
      "model_name": "HTMLModel",
      "state": {
       "_dom_classes": [],
       "_model_module": "@jupyter-widgets/controls",
       "_model_module_version": "1.5.0",
       "_model_name": "HTMLModel",
       "_view_count": null,
       "_view_module": "@jupyter-widgets/controls",
       "_view_module_version": "1.5.0",
       "_view_name": "HTMLView",
       "description": "",
       "description_tooltip": null,
       "layout": "IPY_MODEL_f9a2c2da32ab448ca0a7b282dad77e83",
       "placeholder": "​",
       "style": "IPY_MODEL_742bcf3d17544e60bb5c3296ff9928f3",
       "value": "Bayesian opt: 100%"
      }
     },
     "f9a2c2da32ab448ca0a7b282dad77e83": {
      "model_module": "@jupyter-widgets/base",
      "model_module_version": "1.2.0",
      "model_name": "LayoutModel",
      "state": {
       "_model_module": "@jupyter-widgets/base",
       "_model_module_version": "1.2.0",
       "_model_name": "LayoutModel",
       "_view_count": null,
       "_view_module": "@jupyter-widgets/base",
       "_view_module_version": "1.2.0",
       "_view_name": "LayoutView",
       "align_content": null,
       "align_items": null,
       "align_self": null,
       "border": null,
       "bottom": null,
       "display": null,
       "flex": null,
       "flex_flow": null,
       "grid_area": null,
       "grid_auto_columns": null,
       "grid_auto_flow": null,
       "grid_auto_rows": null,
       "grid_column": null,
       "grid_gap": null,
       "grid_row": null,
       "grid_template_areas": null,
       "grid_template_columns": null,
       "grid_template_rows": null,
       "height": null,
       "justify_content": null,
       "justify_items": null,
       "left": null,
       "margin": null,
       "max_height": null,
       "max_width": null,
       "min_height": null,
       "min_width": null,
       "object_fit": null,
       "object_position": null,
       "order": null,
       "overflow": null,
       "overflow_x": null,
       "overflow_y": null,
       "padding": null,
       "right": null,
       "top": null,
       "visibility": null,
       "width": null
      }
     }
    },
    "version_major": 2,
    "version_minor": 0
   }
  }
 },
 "nbformat": 4,
 "nbformat_minor": 4
}
