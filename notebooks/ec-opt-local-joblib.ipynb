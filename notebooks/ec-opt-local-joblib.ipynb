{
 "cells": [
  {
   "cell_type": "markdown",
   "metadata": {},
   "source": [
    "# Optimization of E. coli growth parameters for NUFEB\n",
    "This notebook utilizes hyperparameter optimization to fit simulated E. coli growth curves to experimental data. Under the hood, we use scikit-optimize to perform a Bayesian optimization."
   ]
  },
  {
   "cell_type": "code",
   "execution_count": 1,
   "metadata": {},
   "outputs": [],
   "source": [
    "#Imports\n",
    "import os\n",
    "from random import uniform\n",
    "from pathlib import Path\n",
    "from nufeb_tools import utils,plot\n",
    "import pandas as pd\n",
    "from string import Template\n",
    "import numpy as np\n",
    "import matplotlib.pyplot as plt\n",
    "from sklearn.metrics import r2_score,mean_squared_error\n",
    "import seaborn as sns\n",
    "from tqdm import tqdm\n",
    "from joblib import Parallel,delayed\n",
    "import joblib\n",
    "import subprocess\n",
    "from skopt import gp_minimize, forest_minimize, dummy_minimize, gbrt_minimize,load\n",
    "from skopt.callbacks import CheckpointSaver\n",
    "from skopt.plots import plot_convergence, plot_objective,plot_gaussian_process\n",
    "from scipy.optimize import curve_fit\n",
    "from scipy import interpolate\n",
    "from skopt import Optimizer\n",
    "from skopt.space import Real\n",
    "import shutil\n"
   ]
  },
  {
   "cell_type": "code",
   "execution_count": 17,
   "metadata": {},
   "outputs": [],
   "source": [
    "expPath = r'/home/jonathan/nufeb-cyano-e-coli/experimental-data/ecw-growth-R2.xlsx'\n",
    "growthData = pd.read_excel(expPath,sheet_name='Growth')\n",
    "expSucrose =pd.read_excel(expPath,sheet_name='Sucrose')"
   ]
  },
  {
   "cell_type": "code",
   "execution_count": 18,
   "metadata": {},
   "outputs": [
    {
     "data": {
      "text/html": [
       "<div>\n",
       "<style scoped>\n",
       "    .dataframe tbody tr th:only-of-type {\n",
       "        vertical-align: middle;\n",
       "    }\n",
       "\n",
       "    .dataframe tbody tr th {\n",
       "        vertical-align: top;\n",
       "    }\n",
       "\n",
       "    .dataframe thead th {\n",
       "        text-align: right;\n",
       "    }\n",
       "</style>\n",
       "<table border=\"1\" class=\"dataframe\">\n",
       "  <thead>\n",
       "    <tr style=\"text-align: right;\">\n",
       "      <th></th>\n",
       "      <th>Time</th>\n",
       "      <th>Initial Sucrose</th>\n",
       "      <th>OD600</th>\n",
       "    </tr>\n",
       "  </thead>\n",
       "  <tbody>\n",
       "    <tr>\n",
       "      <th>0</th>\n",
       "      <td>0</td>\n",
       "      <td>2</td>\n",
       "      <td>0.010000</td>\n",
       "    </tr>\n",
       "    <tr>\n",
       "      <th>1</th>\n",
       "      <td>0</td>\n",
       "      <td>5</td>\n",
       "      <td>0.010000</td>\n",
       "    </tr>\n",
       "    <tr>\n",
       "      <th>2</th>\n",
       "      <td>0</td>\n",
       "      <td>10</td>\n",
       "      <td>0.010000</td>\n",
       "    </tr>\n",
       "    <tr>\n",
       "      <th>3</th>\n",
       "      <td>1</td>\n",
       "      <td>2</td>\n",
       "      <td>0.010000</td>\n",
       "    </tr>\n",
       "    <tr>\n",
       "      <th>4</th>\n",
       "      <td>1</td>\n",
       "      <td>5</td>\n",
       "      <td>0.016333</td>\n",
       "    </tr>\n",
       "  </tbody>\n",
       "</table>\n",
       "</div>"
      ],
      "text/plain": [
       "   Time  Initial Sucrose     OD600\n",
       "0     0                2  0.010000\n",
       "1     0                5  0.010000\n",
       "2     0               10  0.010000\n",
       "3     1                2  0.010000\n",
       "4     1                5  0.016333"
      ]
     },
     "execution_count": 18,
     "metadata": {},
     "output_type": "execute_result"
    }
   ],
   "source": [
    "growthData = growthData.loc[growthData['Initial Sucrose'] !=20]\n",
    "growthData=growthData.groupby(['Time','Initial Sucrose']).mean().reset_index()[['Time','Initial Sucrose','OD600']]\n",
    "growthData.head()\n"
   ]
  },
  {
   "cell_type": "code",
   "execution_count": 19,
   "metadata": {},
   "outputs": [
    {
     "data": {
      "text/html": [
       "<div>\n",
       "<style scoped>\n",
       "    .dataframe tbody tr th:only-of-type {\n",
       "        vertical-align: middle;\n",
       "    }\n",
       "\n",
       "    .dataframe tbody tr th {\n",
       "        vertical-align: top;\n",
       "    }\n",
       "\n",
       "    .dataframe thead th {\n",
       "        text-align: right;\n",
       "    }\n",
       "</style>\n",
       "<table border=\"1\" class=\"dataframe\">\n",
       "  <thead>\n",
       "    <tr style=\"text-align: right;\">\n",
       "      <th></th>\n",
       "      <th>Time</th>\n",
       "      <th>Initial Sucrose</th>\n",
       "      <th>Sucrose</th>\n",
       "    </tr>\n",
       "  </thead>\n",
       "  <tbody>\n",
       "    <tr>\n",
       "      <th>0</th>\n",
       "      <td>0</td>\n",
       "      <td>2</td>\n",
       "      <td>1.855295</td>\n",
       "    </tr>\n",
       "    <tr>\n",
       "      <th>1</th>\n",
       "      <td>0</td>\n",
       "      <td>5</td>\n",
       "      <td>4.685920</td>\n",
       "    </tr>\n",
       "    <tr>\n",
       "      <th>2</th>\n",
       "      <td>0</td>\n",
       "      <td>10</td>\n",
       "      <td>9.489184</td>\n",
       "    </tr>\n",
       "    <tr>\n",
       "      <th>3</th>\n",
       "      <td>4</td>\n",
       "      <td>2</td>\n",
       "      <td>1.808598</td>\n",
       "    </tr>\n",
       "    <tr>\n",
       "      <th>4</th>\n",
       "      <td>4</td>\n",
       "      <td>5</td>\n",
       "      <td>4.631757</td>\n",
       "    </tr>\n",
       "  </tbody>\n",
       "</table>\n",
       "</div>"
      ],
      "text/plain": [
       "   Time  Initial Sucrose   Sucrose\n",
       "0     0                2  1.855295\n",
       "1     0                5  4.685920\n",
       "2     0               10  9.489184\n",
       "3     4                2  1.808598\n",
       "4     4                5  4.631757"
      ]
     },
     "execution_count": 19,
     "metadata": {},
     "output_type": "execute_result"
    }
   ],
   "source": [
    "expSucrose = expSucrose.loc[expSucrose['Initial Sucrose'] !=20]\n",
    "expSucrose = expSucrose.groupby(['Time','Initial Sucrose']).mean().reset_index()[['Time','Initial Sucrose','Sucrose']]\n",
    "expSucrose.head()"
   ]
  },
  {
   "cell_type": "code",
   "execution_count": 20,
   "metadata": {},
   "outputs": [],
   "source": [
    "growthData10 = growthData.loc[(growthData['Initial Sucrose']==10) & (growthData.Time < 15)]\n",
    "expSucrose10 = expSucrose.loc[(expSucrose['Initial Sucrose']==10) & (expSucrose.Time < 15)]"
   ]
  },
  {
   "cell_type": "code",
   "execution_count": 21,
   "metadata": {},
   "outputs": [
    {
     "name": "stdout",
     "output_type": "stream",
     "text": [
      "27.72183540345684\n"
     ]
    }
   ],
   "source": [
    "    SucroseMW = 342.3\n",
    "suc = expSucrose.loc[(expSucrose.Time ==0) & (expSucrose['Initial Sucrose']==10)].Sucrose.values[0]*1e3/SucroseMW\n",
    "print(suc)"
   ]
  },
  {
   "cell_type": "markdown",
   "metadata": {},
   "source": [
    "# Optimization function\n",
    "## Parameters to optimize:\n",
    "### $\\mu_{max}$ (Monod-based growth rate, $s^{-1}$)\n",
    "### $\\rho$ (Cell density, $\\frac{kg}{m^3}$)\n",
    "### $k_{sucrose}$ (Sucrose uptake half-maximum, $\\frac{kg}{m^3}$)\n",
    "### m (Cellular maintenance cost, $s^{-1}$)"
   ]
  },
  {
   "cell_type": "code",
   "execution_count": 22,
   "metadata": {},
   "outputs": [],
   "source": [
    "#Volume = 1e-4*1e-4*1e-4 #m^3\n",
    "#mlm3 = 1e6 #mL/m^3\n",
    "#Biomass2OD = Volume*.44\n"
   ]
  },
  {
   "cell_type": "code",
   "execution_count": 23,
   "metadata": {},
   "outputs": [],
   "source": [
    "def mu_func(x,K,r,N0):\n",
    "    return K/(1  + ((K-N0)/N0)*np.exp(-r*x))"
   ]
  },
  {
   "cell_type": "code",
   "execution_count": 24,
   "metadata": {},
   "outputs": [],
   "source": [
    "def run_sim(folder):\n",
    "    os.chdir(folder)\n",
    "    in_path = folder / 'Inputscript.lammps'\n",
    "    try:\n",
    "        os.system(f'mpirun -np 1 /home/jonathan/NUFEB/lammps/src/lmp_png -in {in_path} > nufeb.log')\n",
    "        #subprocess.run(['mpirun', '-np', '4','/home/jsakkos/NUFEB/lammps/src/lmp_png','-in', '*.lammps > nufeb.log'], stdout=subprocess.DEVNULL, stderr=subprocess.DEVNULL)\n",
    "        #os.chdir(r'/home/jsakkos/NUFEB')\n",
    "        return folder\n",
    "    except:\n",
    "        print('Something went wrong')\n",
    "def collect_data(folder):\n",
    "    SucroseMW = 342.3\n",
    "    x = utils.get_data(directory=str(folder))\n",
    "    Volume = np.prod(x.metadata['Dimensions'])\n",
    "    Biomass2OD = .44*Volume*1e18\n",
    "    temp = pd.concat([x.biomass.ecw.reset_index(drop=True)/Biomass2OD,x.biomass.step.reset_index(drop=True)/60/60*x.timestep,x.avg_con.Sucrose.reset_index(drop=True)],axis=1)\n",
    "    temp.columns=['OD600','Hours','Sucrose']\n",
    "    temp['Sucrose']=temp['Sucrose']*SucroseMW*1e-3\n",
    "    temp['S0'] = temp.Sucrose.iloc[0]\n",
    "    return temp\n",
    "def run_collect(folder):\n",
    "    os.chdir(folder)\n",
    "    in_path = folder / 'Inputscript.lammps'\n",
    "    os.system(f'mpirun -np 1 /home/jonathan/NUFEB/lammps/src/lmp_png -in {in_path} > nufeb.log')\n",
    "    SucroseMW = 342.3\n",
    "    x = utils.get_data(directory=str(folder))\n",
    "    Volume = np.prod(x.metadata['Dimensions'])\n",
    "    Biomass2OD = .44*Volume*1e18\n",
    "    temp = pd.concat([x.biomass.ecw.reset_index(drop=True)/Biomass2OD,x.biomass.step.reset_index(drop=True)/60/60*x.timestep,x.avg_con.Sucrose.reset_index(drop=True)],axis=1)\n",
    "    temp.columns=['OD600','Hours','Sucrose']\n",
    "    temp['Sucrose']=temp['Sucrose']*SucroseMW*1e-3\n",
    "    temp['S0'] = temp.Sucrose.iloc[0]\n",
    "    return temp\n",
    "def test(x,growth=growthData10,sucrose=expSucrose10):\n",
    "   \n",
    "    mu = x[0]\n",
    "    rho = x[1]\n",
    "    ksuc = x[2]\n",
    "    #yield_ = x[3]\n",
    "    maint = 0#x[3]\n",
    "    SucroseMW = 342.3\n",
    "    os.chdir('/home/jonathan/NUFEB')\n",
    "    SucroseMW = 342.3\n",
    "    rng = str(np.random.randint(0,1e6,1)[0])\n",
    "    os.mkdir(rng)\n",
    "    os.chdir(rng)\n",
    "    dir_path = Path(os.getcwd()).resolve()\n",
    "    text = f'nufeb-seed --n 1 --od 0,0.01 --d 1e-4,1e-4,1e-4 --grid 100 --t 4700 --suc 27.72 --muecw {mu}  --rhoecw {rho} --ksuc {ksuc} --maintecw {maint} --yieldecw .5 --niter 1000000 --mass 7e-12 --biodt 1 --suc_halt True'\n",
    "    os.system(text)\n",
    "    BASE_DIR = Path(f'runs/')\n",
    "    folders = [path for path in BASE_DIR.resolve().iterdir() if path.is_dir()]\n",
    "    #tmp=Parallel(n_jobs=-1)(delayed(run_collect)(folder) for folder in folders)\n",
    "    #data = pd.concat(tmp,ignore_index=True)\n",
    "    data = run_collect(folders[0])\n",
    "    #data=pd.concat((futures[i].result() for i in range(3)),ignore_index=True) \n",
    "    df = data.groupby(['Hours','S0']).mean().reset_index()\n",
    "    df.loc[df.S0==10]\n",
    "    g=interpolate.interp1d(df.Hours,df.OD600,fill_value='extrapolate')\n",
    "    rmse = mean_squared_error(growth.OD600, g(growth.Time), sample_weight=growth.OD600,squared = False)\n",
    "    r2g = r2_score(growth.OD600, g(growth.Time))\n",
    "    suc=interpolate.interp1d(df.Hours,df.Sucrose,fill_value='extrapolate')\n",
    "    rmse += mean_squared_error(sucrose.Sucrose, suc(sucrose.Time), sample_weight=sucrose.Sucrose,squared = False)\n",
    "    r2s = r2_score(sucrose.Sucrose, suc(sucrose.Time))\n",
    "    # f, axes = plt.subplots(ncols=2)\n",
    "    # sns.scatterplot(x='Time',y='OD600',data=growth,ax=axes[0])\n",
    "    # sns.scatterplot(x='Time',y='Sucrose',data=sucrose,ax=axes[1])\n",
    "    # sns.lineplot(x='Hours',y='OD600',hue='S0',data=df,ax=axes[0])\n",
    "    # sns.lineplot(x='Hours',y='Sucrose',hue='S0',data=df,ax=axes[1])\n",
    "    # #plot\n",
    "    # sns.despine()\n",
    "    # plt.show()\n",
    "    print(f'R2 = {r2g:.3f} (growth),{r2s:.3f} (sucrose)')\n",
    "    os.chdir('/home/jonathan/NUFEB')\n",
    "    try:\n",
    "        shutil.rmtree(dir_path)\n",
    "    except OSError as e:\n",
    "        print(\"Error: %s : %s\" % (dir_path, e.strerror))\n",
    "    return rmse\n"
   ]
  },
  {
   "cell_type": "code",
   "execution_count": 25,
   "metadata": {},
   "outputs": [],
   "source": [
    "# os.chdir('/home/jonathan/NUFEB')\n",
    "# os.system('nufeb-clean')\n",
    "# SucroseMW = 342.3\n",
    "# for s in growthData['Initial Sucrose'].unique():\n",
    "#     suc = s*1e3/SucroseMW\n",
    "#     text = f'nufeb-seed --n 1 --od 0,0.01 --d 1e-4,1e-4,1e-4 --grid 20 --t 8700 --suc {suc:.2f} --muecw 4e-4  --rhoecw 250 --ksuc .1 --maintecw 0 --niter 1000000 --mass 1e-11 --yieldecw 0.43 --biodt 10'\n",
    "#     os.system(text)\n",
    "# BASE_DIR = Path(f'runs/')\n",
    "# folders = [path for path in BASE_DIR.resolve().iterdir() if path.is_dir()]\n",
    "# futures =client.map(run_collect,folders)\n",
    "# wait(futures,return_when='ALL_COMPLETED')\n",
    "# data=pd.concat((futures[i].result() for i in range(3)),ignore_index=True) \n",
    "# #data=dd.concat((futures[i].result() for i in range(3)),ignore_index=True) \n",
    "# df = data.groupby(['Hours','S0']).mean().reset_index()\n",
    "# f, axes = plt.subplots(ncols=2)\n",
    "# sns.scatterplot(x='Time',y='OD600',hue='Initial Sucrose',data=growthData,ax=axes[0])\n",
    "# sns.scatterplot(x='Time',y='Sucrose',hue='Initial Sucrose',data=expSucrose,ax=axes[1])\n",
    "# sns.lineplot(x='Hours',y='OD600',hue='S0',data=df,ax=axes[0])\n",
    "# sns.lineplot(x='Hours',y='Sucrose',hue='S0',data=df,ax=axes[1])\n",
    "# sns.despine()\n",
    "# plt.show()\n",
    "# rmse = 0\n",
    "# r2g=0\n",
    "# r2s=0\n",
    "# for s in growthData['Initial Sucrose'].unique():\n",
    "#     temp = growthData.loc[growthData['Initial Sucrose']==s]\n",
    "#     sim_temp = df.loc[df.S0==s]\n",
    "#     g=interpolate.interp1d(sim_temp.Hours,sim_temp.OD600)\n",
    "#     rmse += mean_squared_error(temp.OD600, g(temp.Time), sample_weight=temp.OD600,squared = False)\n",
    "#     r2g += r2_score(temp.OD600, g(temp.Time))\n",
    "#     temp2 = expSucrose.loc[expSucrose['Initial Sucrose']==s]\n",
    "#     suc=interpolate.interp1d(sim_temp.Hours,sim_temp.Sucrose)\n",
    "#     rmse += mean_squared_error(temp2.Sucrose, suc(temp2.Time), sample_weight=temp2.Sucrose,squared = False)\n",
    "#     r2s += r2_score(temp2.Sucrose, suc(temp2.Time))\n",
    "#     r2g=r2g/len(growthData['Initial Sucrose'].unique())\n",
    "#     r2s=r2s/len(growthData['Initial Sucrose'].unique())\n",
    "\n",
    "# print(f'R2 = {r2g:.3f} (growth),{r2s:.3f} (sucrose)')"
   ]
  },
  {
   "cell_type": "code",
   "execution_count": 26,
   "metadata": {},
   "outputs": [],
   "source": [
    "# sns.scatterplot(x='Hours',y='OD600',data=df.loc[df.S0==10])\n",
    "# sns.scatterplot(x='Time',y='OD600',data=growthData.loc[growthData['Initial Sucrose']==10])"
   ]
  },
  {
   "cell_type": "code",
   "execution_count": 27,
   "metadata": {},
   "outputs": [],
   "source": [
    "# sns.scatterplot(x='Hours',y='Sucrose',data=df.loc[df.S0==10])\n",
    "# sns.scatterplot(x='Time',y='Sucrose',data=expSucrose.loc[expSucrose['Initial Sucrose']==10])"
   ]
  },
  {
   "cell_type": "code",
   "execution_count": 28,
   "metadata": {},
   "outputs": [],
   "source": [
    "# temp = growthData.loc[growthData['Initial Sucrose']==10]\n",
    "# sim_temp = df.loc[df.S0==10]\n",
    "# g=interpolate.interp1d(sim_temp.Hours,sim_temp.OD600)\n",
    "# rmse += mean_squared_error(temp.OD600, g(temp.Time), sample_weight=temp.OD600,squared = False)\n",
    "# r2g += r2_score(temp.OD600, g(temp.Time))\n",
    "# temp2 = expSucrose.loc[expSucrose['Initial Sucrose']==10]\n",
    "# suc=interpolate.interp1d(sim_temp.Hours,sim_temp.Sucrose)\n",
    "# rmse += mean_squared_error(temp2.Sucrose, suc(temp2.Time), sample_weight=temp2.Sucrose,squared = False)\n",
    "# r2s += r2_score(temp2.Sucrose, suc(temp2.Time))\n",
    "# r2g=r2g/len(growthData['Initial Sucrose'].unique())\n",
    "# r2s=r2s/len(growthData['Initial Sucrose'].unique())\n",
    "\n",
    "# print(f'R2 = {r2g:.3f} (growth),{r2s:.3f} (sucrose)')"
   ]
  },
  {
   "cell_type": "code",
   "execution_count": 40,
   "metadata": {},
   "outputs": [],
   "source": [
    "def check_result(x,growth=growthData10,sucrose=expSucrose10):\n",
    "   \n",
    "    mu = x[0]\n",
    "    rho = x[1]\n",
    "    ksuc = x[2]\n",
    "    #yield_ = x[3]\n",
    "    maint = 0#x[3]\n",
    "    print(f'mu: {mu:.3e},rho: {rho:.3e},ksuc: {ksuc:.3e}')\n",
    "    SucroseMW = 342.3\n",
    "    os.chdir('/home/jonathan/NUFEB')\n",
    "    SucroseMW = 342.3\n",
    "    rng = str(np.random.randint(0,1e6,1)[0])\n",
    "    os.mkdir(rng)\n",
    "    os.chdir(rng)\n",
    "    dir_path = Path(os.getcwd()).resolve()\n",
    "    text = f'nufeb-seed --n 1 --od 0,0.01 --d 1e-4,1e-4,1e-4 --grid 100 --t 4700 --suc 27.72 --muecw {mu}  --rhoecw {rho} --ksuc {ksuc} --maintecw {maint} --yieldecw .5 --niter 1000000 --mass 7e-12 --biodt 1 --suc_halt True'\n",
    "    os.system(text)\n",
    "    BASE_DIR = Path(f'runs/')\n",
    "    folders = [path for path in BASE_DIR.resolve().iterdir() if path.is_dir()]\n",
    "    #tmp=Parallel(n_jobs=-1)(delayed(run_collect)(folder) for folder in folders)\n",
    "    data = run_collect(folders[0])\n",
    "    #data=pd.concat((futures[i].result() for i in range(3)),ignore_index=True) \n",
    "    df = data.groupby(['Hours','S0']).mean().reset_index()\n",
    "    df.loc[df.S0==10]\n",
    "    g=interpolate.interp1d(df.Hours,df.OD600,fill_value='extrapolate')\n",
    "    rmse = mean_squared_error(growth.OD600, g(growth.Time), sample_weight=growth.OD600,squared = False)\n",
    "    r2g = r2_score(growth.OD600, g(growth.Time))\n",
    "    suc=interpolate.interp1d(df.Hours,df.Sucrose,fill_value='extrapolate')\n",
    "    rmse += mean_squared_error(sucrose.Sucrose, suc(sucrose.Time), sample_weight=sucrose.Sucrose,squared = False)\n",
    "    r2s = r2_score(sucrose.Sucrose, suc(sucrose.Time))\n",
    "    f, axes = plt.subplots(ncols=2)\n",
    "    sns.scatterplot(x='Time',y='OD600',data=growth,ax=axes[0],label='Experimental')\n",
    "    sns.scatterplot(x='Time',y='Sucrose',data=sucrose,ax=axes[1],label='Experimental')\n",
    "    axes[0].plot(df.Hours,df.OD600,color='red',label='Simulated')\n",
    "    axes[1].plot(df.Hours,df.Sucrose,color='red',label='Simulated')\n",
    "    #sns.lineplot(x='Hours',y='OD600',data=df,ax=axes[0],palette='Reds',label='Simulated')\n",
    "    #sns.lineplot(x='Hours',y='Sucrose',data=df,ax=axes[1],palette='Reds',label='Simulated')\n",
    "    #plot\n",
    "    sns.despine()\n",
    "    plt.show()\n",
    "    print(f'R2 = {r2g:.3f} (growth),{r2s:.3f} (sucrose)')\n",
    "    os.chdir('/home/jonathan/NUFEB')\n",
    "    try:\n",
    "        shutil.rmtree(dir_path)\n",
    "    except OSError as e:\n",
    "        print(\"Error: %s : %s\" % (dir_path, e.strerror))\n",
    "    return rmse\n",
    "\n"
   ]
  },
  {
   "cell_type": "code",
   "execution_count": 30,
   "metadata": {},
   "outputs": [
    {
     "name": "stderr",
     "output_type": "stream",
     "text": [
      "  0%|                                                                                                                                     | 0/5 [00:00<?, ?it/s]"
     ]
    },
    {
     "name": "stdout",
     "output_type": "stream",
     "text": [
      "R2 = -0.860 (growth),-1.016 (sucrose)\n",
      "R2 = -0.851 (growth),-1.001 (sucrose)\n",
      "R2 = -0.825 (growth),-0.959 (sucrose)\n",
      "R2 = -0.802 (growth),-0.921 (sucrose)\n"
     ]
    },
    {
     "name": "stderr",
     "output_type": "stream",
     "text": [
      " 20%|████████████████████████▊                                                                                                   | 1/5 [14:12<56:50, 852.74s/it]"
     ]
    },
    {
     "name": "stdout",
     "output_type": "stream",
     "text": [
      "R2 = -0.058 (growth),-0.982 (sucrose)\n",
      "R2 = 0.970 (growth),0.641 (sucrose)\n",
      "R2 = -0.027 (growth),-1.296 (sucrose)\n"
     ]
    },
    {
     "name": "stderr",
     "output_type": "stream",
     "text": [
      "100%|█████████████████████████████████████████████████████████████████████████████████████████████████████████████████████████| 5/5 [1:38:06<00:00, 1177.36s/it]"
     ]
    },
    {
     "name": "stdout",
     "output_type": "stream",
     "text": [
      "1.279901829415012\n"
     ]
    },
    {
     "name": "stderr",
     "output_type": "stream",
     "text": [
      "\n"
     ]
    },
    {
     "name": "stdout",
     "output_type": "stream",
     "text": [
      "R2 = 0.129 (growth),-0.964 (sucrose)\n",
      "R2 = 0.930 (growth),0.949 (sucrose)\n",
      "R2 = 0.860 (growth),0.200 (sucrose)\n",
      "R2 = 0.986 (growth),0.894 (sucrose)\n",
      "R2 = 0.768 (growth),0.952 (sucrose)\n",
      "R2 = 0.942 (growth),0.945 (sucrose)\n",
      "R2 = 0.994 (growth),0.799 (sucrose)\n",
      "R2 = 0.984 (growth),0.898 (sucrose)\n",
      "R2 = 0.470 (growth),-0.509 (sucrose)\n",
      "R2 = 0.936 (growth),0.948 (sucrose)\n",
      "R2 = 0.840 (growth),0.199 (sucrose)\n",
      "R2 = 0.989 (growth),0.892 (sucrose)\n",
      "R2 = 0.682 (growth),-0.012 (sucrose)\n",
      "R2 = 0.993 (growth),0.851 (sucrose)\n",
      "R2 = 0.939 (growth),0.947 (sucrose)\n",
      "R2 = 0.826 (growth),0.197 (sucrose)\n",
      "R2 = 0.989 (growth),0.891 (sucrose)\n",
      "R2 = 0.489 (growth),-0.434 (sucrose)\n",
      "R2 = 0.988 (growth),0.890 (sucrose)\n",
      "R2 = 0.994 (growth),0.860 (sucrose)\n",
      "R2 = 0.995 (growth),0.800 (sucrose)\n",
      "R2 = 0.977 (growth),0.905 (sucrose)\n",
      "R2 = 0.977 (growth),0.880 (sucrose)\n",
      "R2 = 0.510 (growth),0.803 (sucrose)\n",
      "R2 = 0.994 (growth),0.854 (sucrose)\n",
      "R2 = 0.854 (growth),0.198 (sucrose)\n",
      "R2 = 0.988 (growth),0.893 (sucrose)\n",
      "R2 = 0.994 (growth),0.852 (sucrose)\n",
      "R2 = 0.872 (growth),0.226 (sucrose)\n",
      "R2 = 0.986 (growth),0.892 (sucrose)\n",
      "R2 = 0.994 (growth),0.829 (sucrose)\n",
      "R2 = 0.825 (growth),0.196 (sucrose)\n",
      "R2 = 0.985 (growth),0.896 (sucrose)\n"
     ]
    }
   ],
   "source": [
    "\n",
    "optimizer = Optimizer(\n",
    "    dimensions=[Real(float('5e-5'), float('8e-4')), \n",
    "                Real(180, 307),\n",
    "                Real(float('1e-1'),float('1e1'))],\n",
    "    random_state=1,\n",
    "    base_estimator='gp'\n",
    ")\n",
    "\n",
    "\n",
    "for i in tqdm(range(5)):\n",
    "    x = optimizer.ask(n_points=8)  # x is a list of n_points points\n",
    "    y = Parallel(n_jobs=8)(delayed(test)(v) for v in x)  # evaluate points in parallel\n",
    "    optimizer.tell(x, y)\n",
    "print(min(optimizer.yi)) # print the best objective found"
   ]
  },
  {
   "cell_type": "code",
   "execution_count": 31,
   "metadata": {},
   "outputs": [
    {
     "data": {
      "text/plain": [
       "          fun: 1.279901829415012\n",
       "    func_vals: array([ 6.89544063, 11.75488191, 11.84494324,  1.72683802, 11.87543998,\n",
       "       11.67569918,  5.69380691,  2.73254243,  8.57928805,  5.60808474,\n",
       "        1.34133646,  1.35007044,  8.30359712,  3.55833368,  7.00898691,\n",
       "        8.091759  ,  1.38191057,  1.81645861,  1.97472896,  1.34799014,\n",
       "        1.89822353,  1.83725094,  1.49380827,  1.40690828,  4.6027086 ,\n",
       "        1.61469999,  4.70546909,  4.87837621,  4.87147675,  4.80148947,\n",
       "        1.62651148,  4.68379311,  1.39436328,  1.39508116,  1.27990183,\n",
       "        1.38235535,  1.28083325,  1.31408895,  1.42837848,  1.56542153])\n",
       "       models: [GaussianProcessRegressor(kernel=1**2 * Matern(length_scale=[1, 1, 1], nu=2.5) + WhiteKernel(noise_level=1),\n",
       "                         n_restarts_optimizer=2, noise='gaussian',\n",
       "                         normalize_y=True, random_state=1791095845), GaussianProcessRegressor(kernel=1**2 * Matern(length_scale=[1, 1, 1], nu=2.5) + WhiteKernel(noise_level=1),\n",
       "                         n_restarts_optimizer=2, noise='gaussian',\n",
       "                         normalize_y=True, random_state=1791095845), GaussianProcessRegressor(kernel=1**2 * Matern(length_scale=[1, 1, 1], nu=2.5) + WhiteKernel(noise_level=1),\n",
       "                         n_restarts_optimizer=2, noise='gaussian',\n",
       "                         normalize_y=True, random_state=1791095845), GaussianProcessRegressor(kernel=1**2 * Matern(length_scale=[1, 1, 1], nu=2.5) + WhiteKernel(noise_level=1),\n",
       "                         n_restarts_optimizer=2, noise='gaussian',\n",
       "                         normalize_y=True, random_state=1791095845)]\n",
       " random_state: RandomState(MT19937) at 0x7FD27DA3B040\n",
       "        space: Space([Real(low=5e-05, high=0.0008, prior='uniform', transform='normalize'),\n",
       "       Real(low=180, high=307, prior='uniform', transform='normalize'),\n",
       "       Real(low=0.1, high=10.0, prior='uniform', transform='normalize')])\n",
       "        specs: {'args': {'dimensions': [Real(low=5e-05, high=0.0008, prior='uniform', transform='normalize'), Real(low=180, high=307, prior='uniform', transform='normalize'), Real(low=0.1, high=10.0, prior='uniform', transform='normalize')], 'base_estimator': 'gp', 'n_random_starts': None, 'n_initial_points': 10, 'initial_point_generator': 'random', 'n_jobs': 1, 'acq_func': 'gp_hedge', 'acq_optimizer': 'auto', 'random_state': 1, 'model_queue_size': None, 'acq_func_kwargs': None, 'acq_optimizer_kwargs': None}, 'function': 'Optimizer'}\n",
       "            x: [0.0005364796780378654, 279.82515011646757, 10.0]\n",
       "      x_iters: [[0.0005769837443332693, 187.82976994040635, 3.831229574121182], [0.00015923254654813806, 242.6332851641095, 8.900361509219836], [9.386538943133829e-05, 212.47324186407707, 4.841670118233373], [0.0005570656233157515, 220.08658822503068, 9.653077872655581], [6.822436496091077e-05, 298.99571381526243, 8.310934721562985], [0.0001508460617434606, 263.41474628929825, 6.229529091066006], [0.0007373786214088714, 243.57259255529095, 9.335231443972589], [0.0003640417010727787, 305.4240364577575, 2.872838937344005], [0.0005626680799057187, 222.49503124053751, 0.3911719363332109], [0.00037608125464714664, 231.23855201892468, 7.4897350587659055], [0.000554995438863748, 222.2161349867047, 9.604294655664157], [0.0005352598777956158, 289.1849375881694, 10.0], [0.00047602642649478296, 247.97377357179238, 0.1], [0.0004546052537929299, 307.0, 10.0], [0.0007385909316729699, 232.97942145815028, 7.228833360101962], [0.000565996088624774, 281.8024221029756, 2.2110169819087053], [0.0005441300243992917, 307.0, 10.0], [0.0005433231222889165, 180.0, 10.0], [0.0005424711545048669, 180.0, 10.0], [0.0005416447900412162, 307.0, 10.0], [0.0005406084930887605, 180.0, 10.0], [0.0005397596680447725, 180.0, 10.0], [0.0005522535351183906, 260.89304144232744, 9.54421968083598], [0.0005380977135538781, 307.0, 9.7931294929141], [0.000289447222638328, 307.0, 0.1], [0.0005521716043711114, 307.0, 9.774299945865282], [0.0003278617814824871, 180.0, 0.1], [0.0003090009260807131, 246.49911721292113, 0.1], [0.0003089213186746913, 245.45047815613856, 0.1], [0.000308955783319956, 244.5727045870964, 0.1], [0.0005520569569529622, 307.0, 9.711242963749909], [0.0003090742812551349, 242.99128510161972, 0.1], [0.000537134977026372, 278.59578592570506, 10.0], [0.0005368059550309192, 279.2220479217926, 10.0], [0.0005364796780378654, 279.82515011646757, 10.0], [0.0005361322375878795, 280.50650357775083, 10.0], [0.0005357537320037141, 281.3085267528166, 10.0], [0.0005353348084770534, 282.27549179037516, 10.0], [0.0005348754403837002, 283.4417021431726, 10.0], [0.0005344034888904314, 284.77228118003245, 10.0]]"
      ]
     },
     "execution_count": 31,
     "metadata": {},
     "output_type": "execute_result"
    }
   ],
   "source": [
    "optimizer.get_result()"
   ]
  },
  {
   "cell_type": "code",
   "execution_count": 32,
   "metadata": {},
   "outputs": [
    {
     "data": {
      "text/plain": [
       "[0.0005364796780378654, 279.82515011646757, 10.0]"
      ]
     },
     "execution_count": 32,
     "metadata": {},
     "output_type": "execute_result"
    }
   ],
   "source": [
    "optimizer.get_result().x"
   ]
  },
  {
   "cell_type": "code",
   "execution_count": 33,
   "metadata": {},
   "outputs": [
    {
     "data": {
      "text/plain": [
       "<AxesSubplot:title={'center':'Convergence plot'}, xlabel='Number of calls $n$', ylabel='$\\\\min f(x)$ after $n$ calls'>"
      ]
     },
     "execution_count": 33,
     "metadata": {},
     "output_type": "execute_result"
    },
    {
     "data": {
      "image/png": "[encoded data removed]",
      "text/plain": [
       "<Figure size 432x288 with 1 Axes>"
      ]
     },
     "metadata": {
      "needs_background": "light"
     },
     "output_type": "display_data"
    }
   ],
   "source": [
    "plot_convergence(optimizer.get_result(),yscale='log')"
   ]
  },
  {
   "cell_type": "code",
   "execution_count": 35,
   "metadata": {},
   "outputs": [
    {
     "data": {
      "text/plain": [
       "array([[<AxesSubplot:xlabel='$\\\\mu$', ylabel='Partial dependence'>,\n",
       "        <AxesSubplot:>, <AxesSubplot:>],\n",
       "       [<AxesSubplot:ylabel='$\\\\rho$'>,\n",
       "        <AxesSubplot:xlabel='$\\\\rho$', ylabel='Partial dependence'>,\n",
       "        <AxesSubplot:>],\n",
       "       [<AxesSubplot:xlabel='$\\\\mu$', ylabel='$K_{sucrose}$'>,\n",
       "        <AxesSubplot:xlabel='$\\\\rho$'>,\n",
       "        <AxesSubplot:xlabel='$K_{sucrose}$', ylabel='Partial dependence'>]],\n",
       "      dtype=object)"
      ]
     },
     "execution_count": 35,
     "metadata": {},
     "output_type": "execute_result"
    },
    {
     "data": {
      "image/png": "[encoded data removed]",
      "text/plain": [
       "<Figure size 432x432 with 9 Axes>"
      ]
     },
     "metadata": {
      "needs_background": "light"
     },
     "output_type": "display_data"
    }
   ],
   "source": [
    "plot_objective(optimizer.get_result(),dimensions=[r'$\\mu$',r'$\\rho$',r'$K_{sucrose}$'],cmap='inferno')"
   ]
  },
  {
   "cell_type": "code",
   "execution_count": 41,
   "metadata": {},
   "outputs": [
    {
     "name": "stdout",
     "output_type": "stream",
     "text": [
      "mu: 5.365e-04,rho: 2.798e+02,ksuc: 1.000e+01\n"
     ]
    },
    {
     "data": {
      "image/png": "[encoded data removed]",
      "text/plain": [
       "<Figure size 432x288 with 2 Axes>"
      ]
     },
     "metadata": {
      "needs_background": "light"
     },
     "output_type": "display_data"
    },
    {
     "name": "stdout",
     "output_type": "stream",
     "text": [
      "R2 = 0.989 (growth),0.891 (sucrose)\n"
     ]
    },
    {
     "data": {
      "text/plain": [
       "1.27926669015441"
      ]
     },
     "execution_count": 41,
     "metadata": {},
     "output_type": "execute_result"
    }
   ],
   "source": [
    "check_result(optimizer.get_result().x)"
   ]
  },
  {
   "cell_type": "code",
   "execution_count": null,
   "metadata": {},
   "outputs": [],
   "source": []
  }
 ],
 "metadata": {
  "kernelspec": {
   "display_name": "Python 3 (ipykernel)",
   "language": "python",
   "name": "python3"
  },
  "language_info": {
   "codemirror_mode": {
    "name": "ipython",
    "version": 3
   },
   "file_extension": ".py",
   "mimetype": "text/x-python",
   "name": "python",
   "nbconvert_exporter": "python",
   "pygments_lexer": "ipython3",
   "version": "3.8.10"
  },
  "widgets": {
   "application/vnd.jupyter.widget-state+json": {
    "state": {
     "06f6804f516749438a70addb258c244d": {
      "model_module": "@jupyter-widgets/controls",
      "model_module_version": "1.5.0",
      "model_name": "HBoxModel",
      "state": {
       "_dom_classes": [],
       "_model_module": "@jupyter-widgets/controls",
       "_model_module_version": "1.5.0",
       "_model_name": "HBoxModel",
       "_view_count": null,
       "_view_module": "@jupyter-widgets/controls",
       "_view_module_version": "1.5.0",
       "_view_name": "HBoxView",
       "box_style": "",
       "children": [
        "IPY_MODEL_7e275af16d5a4671a357c464b250ba86",
        "IPY_MODEL_bf5b39a487d345a18aaec6c77e68b16a",
        "IPY_MODEL_18f6f0ffadc6492a9906c04bb065c3fd"
       ],
       "layout": "IPY_MODEL_2bdebc85140844ee878b7054899f357f"
      }
     },
     "18f6f0ffadc6492a9906c04bb065c3fd": {
      "model_module": "@jupyter-widgets/controls",
      "model_module_version": "1.5.0",
      "model_name": "HTMLModel",
      "state": {
       "_dom_classes": [],
       "_model_module": "@jupyter-widgets/controls",
       "_model_module_version": "1.5.0",
       "_model_name": "HTMLModel",
       "_view_count": null,
       "_view_module": "@jupyter-widgets/controls",
       "_view_module_version": "1.5.0",
       "_view_name": "HTMLView",
       "description": "",
       "description_tooltip": null,
       "layout": "IPY_MODEL_3b06f11342284ef58aaca0846d1b029c",
       "placeholder": "​",
       "style": "IPY_MODEL_47d161a9121c4f1ba32f68058dd69072",
       "value": " 40/40 [44:32&lt;00:00, 21.37s/it]"
      }
     },
     "297262a6b32b42e780ac8ee8ddcf8718": {
      "model_module": "@jupyter-widgets/controls",
      "model_module_version": "1.5.0",
      "model_name": "DescriptionStyleModel",
      "state": {
       "_model_module": "@jupyter-widgets/controls",
       "_model_module_version": "1.5.0",
       "_model_name": "DescriptionStyleModel",
       "_view_count": null,
       "_view_module": "@jupyter-widgets/base",
       "_view_module_version": "1.2.0",
       "_view_name": "StyleView",
       "description_width": ""
      }
     },
     "2bdebc85140844ee878b7054899f357f": {
      "model_module": "@jupyter-widgets/base",
      "model_module_version": "1.2.0",
      "model_name": "LayoutModel",
      "state": {
       "_model_module": "@jupyter-widgets/base",
       "_model_module_version": "1.2.0",
       "_model_name": "LayoutModel",
       "_view_count": null,
       "_view_module": "@jupyter-widgets/base",
       "_view_module_version": "1.2.0",
       "_view_name": "LayoutView",
       "align_content": null,
       "align_items": null,
       "align_self": null,
       "border": null,
       "bottom": null,
       "display": null,
       "flex": null,
       "flex_flow": null,
       "grid_area": null,
       "grid_auto_columns": null,
       "grid_auto_flow": null,
       "grid_auto_rows": null,
       "grid_column": null,
       "grid_gap": null,
       "grid_row": null,
       "grid_template_areas": null,
       "grid_template_columns": null,
       "grid_template_rows": null,
       "height": null,
       "justify_content": null,
       "justify_items": null,
       "left": null,
       "margin": null,
       "max_height": null,
       "max_width": null,
       "min_height": null,
       "min_width": null,
       "object_fit": null,
       "object_position": null,
       "order": null,
       "overflow": null,
       "overflow_x": null,
       "overflow_y": null,
       "padding": null,
       "right": null,
       "top": null,
       "visibility": null,
       "width": null
      }
     },
     "32d8f44eb11d4ed38e050df2b36efd01": {
      "model_module": "@jupyter-widgets/base",
      "model_module_version": "1.2.0",
      "model_name": "LayoutModel",
      "state": {
       "_model_module": "@jupyter-widgets/base",
       "_model_module_version": "1.2.0",
       "_model_name": "LayoutModel",
       "_view_count": null,
       "_view_module": "@jupyter-widgets/base",
       "_view_module_version": "1.2.0",
       "_view_name": "LayoutView",
       "align_content": null,
       "align_items": null,
       "align_self": null,
       "border": null,
       "bottom": null,
       "display": null,
       "flex": null,
       "flex_flow": null,
       "grid_area": null,
       "grid_auto_columns": null,
       "grid_auto_flow": null,
       "grid_auto_rows": null,
       "grid_column": null,
       "grid_gap": null,
       "grid_row": null,
       "grid_template_areas": null,
       "grid_template_columns": null,
       "grid_template_rows": null,
       "height": null,
       "justify_content": null,
       "justify_items": null,
       "left": null,
       "margin": null,
       "max_height": null,
       "max_width": null,
       "min_height": null,
       "min_width": null,
       "object_fit": null,
       "object_position": null,
       "order": null,
       "overflow": null,
       "overflow_x": null,
       "overflow_y": null,
       "padding": null,
       "right": null,
       "top": null,
       "visibility": null,
       "width": null
      }
     },
     "3ae5d793b45b477c9432cc6155983b68": {
      "model_module": "@jupyter-widgets/controls",
      "model_module_version": "1.5.0",
      "model_name": "ProgressStyleModel",
      "state": {
       "_model_module": "@jupyter-widgets/controls",
       "_model_module_version": "1.5.0",
       "_model_name": "ProgressStyleModel",
       "_view_count": null,
       "_view_module": "@jupyter-widgets/base",
       "_view_module_version": "1.2.0",
       "_view_name": "StyleView",
       "bar_color": null,
       "description_width": ""
      }
     },
     "3b06f11342284ef58aaca0846d1b029c": {
      "model_module": "@jupyter-widgets/base",
      "model_module_version": "1.2.0",
      "model_name": "LayoutModel",
      "state": {
       "_model_module": "@jupyter-widgets/base",
       "_model_module_version": "1.2.0",
       "_model_name": "LayoutModel",
       "_view_count": null,
       "_view_module": "@jupyter-widgets/base",
       "_view_module_version": "1.2.0",
       "_view_name": "LayoutView",
       "align_content": null,
       "align_items": null,
       "align_self": null,
       "border": null,
       "bottom": null,
       "display": null,
       "flex": null,
       "flex_flow": null,
       "grid_area": null,
       "grid_auto_columns": null,
       "grid_auto_flow": null,
       "grid_auto_rows": null,
       "grid_column": null,
       "grid_gap": null,
       "grid_row": null,
       "grid_template_areas": null,
       "grid_template_columns": null,
       "grid_template_rows": null,
       "height": null,
       "justify_content": null,
       "justify_items": null,
       "left": null,
       "margin": null,
       "max_height": null,
       "max_width": null,
       "min_height": null,
       "min_width": null,
       "object_fit": null,
       "object_position": null,
       "order": null,
       "overflow": null,
       "overflow_x": null,
       "overflow_y": null,
       "padding": null,
       "right": null,
       "top": null,
       "visibility": null,
       "width": null
      }
     },
     "47d161a9121c4f1ba32f68058dd69072": {
      "model_module": "@jupyter-widgets/controls",
      "model_module_version": "1.5.0",
      "model_name": "DescriptionStyleModel",
      "state": {
       "_model_module": "@jupyter-widgets/controls",
       "_model_module_version": "1.5.0",
       "_model_name": "DescriptionStyleModel",
       "_view_count": null,
       "_view_module": "@jupyter-widgets/base",
       "_view_module_version": "1.2.0",
       "_view_name": "StyleView",
       "description_width": ""
      }
     },
     "68a770eb201841bdbc824407b1a13f7d": {
      "model_module": "@jupyter-widgets/base",
      "model_module_version": "1.2.0",
      "model_name": "LayoutModel",
      "state": {
       "_model_module": "@jupyter-widgets/base",
       "_model_module_version": "1.2.0",
       "_model_name": "LayoutModel",
       "_view_count": null,
       "_view_module": "@jupyter-widgets/base",
       "_view_module_version": "1.2.0",
       "_view_name": "LayoutView",
       "align_content": null,
       "align_items": null,
       "align_self": null,
       "border": null,
       "bottom": null,
       "display": null,
       "flex": null,
       "flex_flow": null,
       "grid_area": null,
       "grid_auto_columns": null,
       "grid_auto_flow": null,
       "grid_auto_rows": null,
       "grid_column": null,
       "grid_gap": null,
       "grid_row": null,
       "grid_template_areas": null,
       "grid_template_columns": null,
       "grid_template_rows": null,
       "height": null,
       "justify_content": null,
       "justify_items": null,
       "left": null,
       "margin": null,
       "max_height": null,
       "max_width": null,
       "min_height": null,
       "min_width": null,
       "object_fit": null,
       "object_position": null,
       "order": null,
       "overflow": null,
       "overflow_x": null,
       "overflow_y": null,
       "padding": null,
       "right": null,
       "top": null,
       "visibility": null,
       "width": null
      }
     },
     "7e275af16d5a4671a357c464b250ba86": {
      "model_module": "@jupyter-widgets/controls",
      "model_module_version": "1.5.0",
      "model_name": "HTMLModel",
      "state": {
       "_dom_classes": [],
       "_model_module": "@jupyter-widgets/controls",
       "_model_module_version": "1.5.0",
       "_model_name": "HTMLModel",
       "_view_count": null,
       "_view_module": "@jupyter-widgets/controls",
       "_view_module_version": "1.5.0",
       "_view_name": "HTMLView",
       "description": "",
       "description_tooltip": null,
       "layout": "IPY_MODEL_32d8f44eb11d4ed38e050df2b36efd01",
       "placeholder": "​",
       "style": "IPY_MODEL_297262a6b32b42e780ac8ee8ddcf8718",
       "value": "Bayesian opt: 100%"
      }
     },
     "bf5b39a487d345a18aaec6c77e68b16a": {
      "model_module": "@jupyter-widgets/controls",
      "model_module_version": "1.5.0",
      "model_name": "FloatProgressModel",
      "state": {
       "_dom_classes": [],
       "_model_module": "@jupyter-widgets/controls",
       "_model_module_version": "1.5.0",
       "_model_name": "FloatProgressModel",
       "_view_count": null,
       "_view_module": "@jupyter-widgets/controls",
       "_view_module_version": "1.5.0",
       "_view_name": "ProgressView",
       "bar_style": "",
       "description": "",
       "description_tooltip": null,
       "layout": "IPY_MODEL_68a770eb201841bdbc824407b1a13f7d",
       "max": 40,
       "min": 0,
       "orientation": "horizontal",
       "style": "IPY_MODEL_3ae5d793b45b477c9432cc6155983b68",
       "value": 40
      }
     }
    },
    "version_major": 2,
    "version_minor": 0
   }
  }
 },
 "nbformat": 4,
 "nbformat_minor": 4
}
