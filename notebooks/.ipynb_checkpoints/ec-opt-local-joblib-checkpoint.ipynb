{
 "cells": [
  {
   "cell_type": "markdown",
   "metadata": {},
   "source": [
    "# Optimization of E. coli growth parameters for NUFEB\n",
    "This notebook utilizes hyperparameter optimization to fit simulated E. coli growth curves to experimental data. Under the hood, we use scikit-optimize to perform a Bayesian optimization."
   ]
  },
  {
   "cell_type": "code",
   "execution_count": 1,
   "metadata": {},
   "outputs": [],
   "source": [
    "#Imports\n",
    "import os\n",
    "from random import uniform\n",
    "from pathlib import Path\n",
    "from nufeb_tools import utils,plot\n",
    "import pandas as pd\n",
    "from string import Template\n",
    "import numpy as np\n",
    "import matplotlib.pyplot as plt\n",
    "from sklearn.metrics import r2_score,mean_squared_error\n",
    "import seaborn as sns\n",
    "from tqdm import tqdm\n",
    "from joblib import Parallel,delayed\n",
    "import joblib\n",
    "import subprocess\n",
    "from skopt import gp_minimize, forest_minimize, dummy_minimize, gbrt_minimize,load\n",
    "from skopt.callbacks import CheckpointSaver\n",
    "from skopt.plots import plot_convergence, plot_objective,plot_gaussian_process\n",
    "from scipy.optimize import curve_fit\n",
    "from scipy import interpolate\n",
    "from skopt import Optimizer\n",
    "from skopt.space import Real\n",
    "import shutil\n"
   ]
  },
  {
   "cell_type": "code",
   "execution_count": 2,
   "metadata": {},
   "outputs": [],
   "source": [
    "expPath = r'/home/jonathan/nufeb-cyano-e-coli/experimental-data/ecw-growth-R2.xlsx'\n",
    "growthData = pd.read_excel(expPath,sheet_name='Growth')\n",
    "expSucrose =pd.read_excel(expPath,sheet_name='Sucrose')"
   ]
  },
  {
   "cell_type": "code",
   "execution_count": 3,
   "metadata": {},
   "outputs": [
    {
     "data": {
      "text/html": [
       "<div>\n",
       "<style scoped>\n",
       "    .dataframe tbody tr th:only-of-type {\n",
       "        vertical-align: middle;\n",
       "    }\n",
       "\n",
       "    .dataframe tbody tr th {\n",
       "        vertical-align: top;\n",
       "    }\n",
       "\n",
       "    .dataframe thead th {\n",
       "        text-align: right;\n",
       "    }\n",
       "</style>\n",
       "<table border=\"1\" class=\"dataframe\">\n",
       "  <thead>\n",
       "    <tr style=\"text-align: right;\">\n",
       "      <th></th>\n",
       "      <th>Time</th>\n",
       "      <th>Initial Sucrose</th>\n",
       "      <th>OD600</th>\n",
       "    </tr>\n",
       "  </thead>\n",
       "  <tbody>\n",
       "    <tr>\n",
       "      <th>0</th>\n",
       "      <td>0</td>\n",
       "      <td>2</td>\n",
       "      <td>0.010000</td>\n",
       "    </tr>\n",
       "    <tr>\n",
       "      <th>1</th>\n",
       "      <td>0</td>\n",
       "      <td>5</td>\n",
       "      <td>0.010000</td>\n",
       "    </tr>\n",
       "    <tr>\n",
       "      <th>2</th>\n",
       "      <td>0</td>\n",
       "      <td>10</td>\n",
       "      <td>0.010000</td>\n",
       "    </tr>\n",
       "    <tr>\n",
       "      <th>3</th>\n",
       "      <td>1</td>\n",
       "      <td>2</td>\n",
       "      <td>0.010000</td>\n",
       "    </tr>\n",
       "    <tr>\n",
       "      <th>4</th>\n",
       "      <td>1</td>\n",
       "      <td>5</td>\n",
       "      <td>0.016333</td>\n",
       "    </tr>\n",
       "  </tbody>\n",
       "</table>\n",
       "</div>"
      ],
      "text/plain": [
       "   Time  Initial Sucrose     OD600\n",
       "0     0                2  0.010000\n",
       "1     0                5  0.010000\n",
       "2     0               10  0.010000\n",
       "3     1                2  0.010000\n",
       "4     1                5  0.016333"
      ]
     },
     "execution_count": 3,
     "metadata": {},
     "output_type": "execute_result"
    }
   ],
   "source": [
    "growthData = growthData.loc[growthData['Initial Sucrose'] !=20]\n",
    "growthData=growthData.groupby(['Time','Initial Sucrose']).mean().reset_index()[['Time','Initial Sucrose','OD600']]\n",
    "growthData.head()\n"
   ]
  },
  {
   "cell_type": "code",
   "execution_count": 4,
   "metadata": {},
   "outputs": [
    {
     "data": {
      "text/html": [
       "<div>\n",
       "<style scoped>\n",
       "    .dataframe tbody tr th:only-of-type {\n",
       "        vertical-align: middle;\n",
       "    }\n",
       "\n",
       "    .dataframe tbody tr th {\n",
       "        vertical-align: top;\n",
       "    }\n",
       "\n",
       "    .dataframe thead th {\n",
       "        text-align: right;\n",
       "    }\n",
       "</style>\n",
       "<table border=\"1\" class=\"dataframe\">\n",
       "  <thead>\n",
       "    <tr style=\"text-align: right;\">\n",
       "      <th></th>\n",
       "      <th>Time</th>\n",
       "      <th>Initial Sucrose</th>\n",
       "      <th>Sucrose</th>\n",
       "    </tr>\n",
       "  </thead>\n",
       "  <tbody>\n",
       "    <tr>\n",
       "      <th>0</th>\n",
       "      <td>0</td>\n",
       "      <td>2</td>\n",
       "      <td>1.855295</td>\n",
       "    </tr>\n",
       "    <tr>\n",
       "      <th>1</th>\n",
       "      <td>0</td>\n",
       "      <td>5</td>\n",
       "      <td>4.685920</td>\n",
       "    </tr>\n",
       "    <tr>\n",
       "      <th>2</th>\n",
       "      <td>0</td>\n",
       "      <td>10</td>\n",
       "      <td>9.489184</td>\n",
       "    </tr>\n",
       "    <tr>\n",
       "      <th>3</th>\n",
       "      <td>4</td>\n",
       "      <td>2</td>\n",
       "      <td>1.808598</td>\n",
       "    </tr>\n",
       "    <tr>\n",
       "      <th>4</th>\n",
       "      <td>4</td>\n",
       "      <td>5</td>\n",
       "      <td>4.631757</td>\n",
       "    </tr>\n",
       "  </tbody>\n",
       "</table>\n",
       "</div>"
      ],
      "text/plain": [
       "   Time  Initial Sucrose   Sucrose\n",
       "0     0                2  1.855295\n",
       "1     0                5  4.685920\n",
       "2     0               10  9.489184\n",
       "3     4                2  1.808598\n",
       "4     4                5  4.631757"
      ]
     },
     "execution_count": 4,
     "metadata": {},
     "output_type": "execute_result"
    }
   ],
   "source": [
    "expSucrose = expSucrose.loc[expSucrose['Initial Sucrose'] !=20]\n",
    "expSucrose = expSucrose.groupby(['Time','Initial Sucrose']).mean().reset_index()[['Time','Initial Sucrose','Sucrose']]\n",
    "expSucrose.head()"
   ]
  },
  {
   "cell_type": "code",
   "execution_count": 5,
   "metadata": {},
   "outputs": [],
   "source": [
    "growthData10 = growthData.loc[growthData['Initial Sucrose']==10]\n",
    "expSucrose10 = expSucrose.loc[expSucrose['Initial Sucrose']==10]"
   ]
  },
  {
   "cell_type": "code",
   "execution_count": 6,
   "metadata": {},
   "outputs": [
    {
     "name": "stdout",
     "output_type": "stream",
     "text": [
      "27.72183540345684\n"
     ]
    }
   ],
   "source": [
    "    SucroseMW = 342.3\n",
    "suc = expSucrose.loc[(expSucrose.Time ==0) & (expSucrose['Initial Sucrose']==10)].Sucrose.values[0]*1e3/SucroseMW\n",
    "print(suc)"
   ]
  },
  {
   "cell_type": "markdown",
   "metadata": {},
   "source": [
    "# Optimization function\n",
    "## Parameters to optimize:\n",
    "### $\\mu_{max}$ (Monod-based growth rate, $s^{-1}$)\n",
    "### $\\rho$ (Cell density, $\\frac{kg}{m^3}$)\n",
    "### $k_{sucrose}$ (Sucrose uptake half-maximum, $\\frac{kg}{m^3}$)\n",
    "### m (Cellular maintenance cost, $s^{-1}$)"
   ]
  },
  {
   "cell_type": "code",
   "execution_count": 7,
   "metadata": {},
   "outputs": [],
   "source": [
    "#Volume = 1e-4*1e-4*1e-4 #m^3\n",
    "#mlm3 = 1e6 #mL/m^3\n",
    "#Biomass2OD = Volume*.44\n"
   ]
  },
  {
   "cell_type": "code",
   "execution_count": 8,
   "metadata": {},
   "outputs": [],
   "source": [
    "def mu_func(x,K,r,N0):\n",
    "    return K/(1  + ((K-N0)/N0)*np.exp(-r*x))"
   ]
  },
  {
   "cell_type": "code",
   "execution_count": 9,
   "metadata": {},
   "outputs": [],
   "source": [
    "def run_sim(folder):\n",
    "    os.chdir(folder)\n",
    "    in_path = folder / 'Inputscript.lammps'\n",
    "    try:\n",
    "        os.system(f'mpirun -np 1 /home/jonathan/NUFEB/lammps/src/lmp_png -in {in_path} > nufeb.log')\n",
    "        #subprocess.run(['mpirun', '-np', '4','/home/jsakkos/NUFEB/lammps/src/lmp_png','-in', '*.lammps > nufeb.log'], stdout=subprocess.DEVNULL, stderr=subprocess.DEVNULL)\n",
    "        #os.chdir(r'/home/jsakkos/NUFEB')\n",
    "        return folder\n",
    "    except:\n",
    "        print('Something went wrong')\n",
    "def collect_data(folder):\n",
    "    SucroseMW = 342.3\n",
    "    x = utils.get_data(directory=str(folder))\n",
    "    Volume = np.prod(x.metadata['Dimensions'])\n",
    "    Biomass2OD = .44*Volume*1e18\n",
    "    temp = pd.concat([x.biomass.ecw.reset_index(drop=True)/Biomass2OD,x.biomass.step.reset_index(drop=True)/60/60*x.timestep,x.avg_con.Sucrose.reset_index(drop=True)],axis=1)\n",
    "    temp.columns=['OD600','Hours','Sucrose']\n",
    "    temp['Sucrose']=temp['Sucrose']*SucroseMW*1e-3\n",
    "    temp['S0'] = temp.Sucrose.iloc[0]\n",
    "    return temp\n",
    "def run_collect(folder):\n",
    "    os.chdir(folder)\n",
    "    in_path = folder / 'Inputscript.lammps'\n",
    "    os.system(f'mpirun -np 1 /home/jonathan/NUFEB/lammps/src/lmp_png -in {in_path} > nufeb.log')\n",
    "    SucroseMW = 342.3\n",
    "    x = utils.get_data(directory=str(folder))\n",
    "    Volume = np.prod(x.metadata['Dimensions'])\n",
    "    Biomass2OD = .44*Volume*1e18\n",
    "    temp = pd.concat([x.biomass.ecw.reset_index(drop=True)/Biomass2OD,x.biomass.step.reset_index(drop=True)/60/60*x.timestep,x.avg_con.Sucrose.reset_index(drop=True)],axis=1)\n",
    "    temp.columns=['OD600','Hours','Sucrose']\n",
    "    temp['Sucrose']=temp['Sucrose']*SucroseMW*1e-3\n",
    "    temp['S0'] = temp.Sucrose.iloc[0]\n",
    "    return temp\n",
    "def test(x,growth=growthData10,sucrose=expSucrose10):\n",
    "   \n",
    "    mu = x[0]\n",
    "    rho = x[1]\n",
    "    ksuc = x[2]\n",
    "    yield_ = x[3]\n",
    "    maint = 0#x[3]\n",
    "    SucroseMW = 342.3\n",
    "    os.chdir('/home/jonathan/NUFEB')\n",
    "    SucroseMW = 342.3\n",
    "    rng = str(np.random.randint(0,1e6,1)[0])\n",
    "    os.mkdir(rng)\n",
    "    os.chdir(rng)\n",
    "    dir_path = Path(os.getcwd()).resolve()\n",
    "    text = f'nufeb-seed --n 1 --od 0,0.01 --d 1e-4,1e-4,1e-4 --grid 20 --t 8700 --suc 27.72 --muecw {mu}  --rhoecw {rho} --ksuc {ksuc} --maintecw {maint} --yieldecw {yield_} --niter 1000 --mass 7e-12 --biodt 10 --suc_halt True'\n",
    "    os.system(text)\n",
    "    BASE_DIR = Path(f'runs/')\n",
    "    folders = [path for path in BASE_DIR.resolve().iterdir() if path.is_dir()]\n",
    "    tmp=Parallel(n_jobs=-1)(delayed(run_collect)(folder) for folder in folders)\n",
    "    data = pd.concat(tmp,ignore_index=True)\n",
    "    #data=pd.concat((futures[i].result() for i in range(3)),ignore_index=True) \n",
    "    df = data.groupby(['Hours','S0']).mean().reset_index()\n",
    "    df.loc[df.S0==10]\n",
    "    g=interpolate.interp1d(df.Hours,df.OD600)\n",
    "    rmse = mean_squared_error(growth.OD600, g(growth.Time), sample_weight=growth.OD600,squared = False)\n",
    "    r2g = r2_score(growth.OD600, g(growth.Time))\n",
    "    suc=interpolate.interp1d(df.Hours,df.Sucrose)\n",
    "    rmse += mean_squared_error(sucrose.Sucrose, suc(sucrose.Time), sample_weight=sucrose.Sucrose,squared = False)\n",
    "    r2s = r2_score(sucrose.Sucrose, suc(sucrose.Time))\n",
    "    f, axes = plt.subplots(ncols=2)\n",
    "    sns.scatterplot(x='Time',y='OD600',data=growth,ax=axes[0])\n",
    "    sns.scatterplot(x='Time',y='Sucrose',data=sucrose,ax=axes[1])\n",
    "    sns.lineplot(x='Hours',y='OD600',hue='S0',data=df,ax=axes[0])\n",
    "    sns.lineplot(x='Hours',y='Sucrose',hue='S0',data=df,ax=axes[1])\n",
    "    #plot\n",
    "    sns.despine()\n",
    "    plt.show()\n",
    "    print(f'R2 = {r2g:.3f} (growth),{r2s:.3f} (sucrose)')\n",
    "    os.chdir('/home/jonathan/NUFEB')\n",
    "    try:\n",
    "        shutil.rmtree(dir_path)\n",
    "    except OSError as e:\n",
    "        print(\"Error: %s : %s\" % (dir_path, e.strerror))\n",
    "    return rmse\n"
   ]
  },
  {
   "cell_type": "code",
   "execution_count": 35,
   "metadata": {},
   "outputs": [],
   "source": [
    "# os.chdir('/home/jonathan/NUFEB')\n",
    "# os.system('nufeb-clean')\n",
    "# SucroseMW = 342.3\n",
    "# for s in growthData['Initial Sucrose'].unique():\n",
    "#     suc = s*1e3/SucroseMW\n",
    "#     text = f'nufeb-seed --n 1 --od 0,0.01 --d 1e-4,1e-4,1e-4 --grid 20 --t 8700 --suc {suc:.2f} --muecw 4e-4  --rhoecw 250 --ksuc .1 --maintecw 0 --niter 1000000 --mass 1e-11 --yieldecw 0.43 --biodt 10'\n",
    "#     os.system(text)\n",
    "# BASE_DIR = Path(f'runs/')\n",
    "# folders = [path for path in BASE_DIR.resolve().iterdir() if path.is_dir()]\n",
    "# futures =client.map(run_collect,folders)\n",
    "# wait(futures,return_when='ALL_COMPLETED')\n",
    "# data=pd.concat((futures[i].result() for i in range(3)),ignore_index=True) \n",
    "# #data=dd.concat((futures[i].result() for i in range(3)),ignore_index=True) \n",
    "# df = data.groupby(['Hours','S0']).mean().reset_index()\n",
    "# f, axes = plt.subplots(ncols=2)\n",
    "# sns.scatterplot(x='Time',y='OD600',hue='Initial Sucrose',data=growthData,ax=axes[0])\n",
    "# sns.scatterplot(x='Time',y='Sucrose',hue='Initial Sucrose',data=expSucrose,ax=axes[1])\n",
    "# sns.lineplot(x='Hours',y='OD600',hue='S0',data=df,ax=axes[0])\n",
    "# sns.lineplot(x='Hours',y='Sucrose',hue='S0',data=df,ax=axes[1])\n",
    "# sns.despine()\n",
    "# plt.show()\n",
    "# rmse = 0\n",
    "# r2g=0\n",
    "# r2s=0\n",
    "# for s in growthData['Initial Sucrose'].unique():\n",
    "#     temp = growthData.loc[growthData['Initial Sucrose']==s]\n",
    "#     sim_temp = df.loc[df.S0==s]\n",
    "#     g=interpolate.interp1d(sim_temp.Hours,sim_temp.OD600)\n",
    "#     rmse += mean_squared_error(temp.OD600, g(temp.Time), sample_weight=temp.OD600,squared = False)\n",
    "#     r2g += r2_score(temp.OD600, g(temp.Time))\n",
    "#     temp2 = expSucrose.loc[expSucrose['Initial Sucrose']==s]\n",
    "#     suc=interpolate.interp1d(sim_temp.Hours,sim_temp.Sucrose)\n",
    "#     rmse += mean_squared_error(temp2.Sucrose, suc(temp2.Time), sample_weight=temp2.Sucrose,squared = False)\n",
    "#     r2s += r2_score(temp2.Sucrose, suc(temp2.Time))\n",
    "#     r2g=r2g/len(growthData['Initial Sucrose'].unique())\n",
    "#     r2s=r2s/len(growthData['Initial Sucrose'].unique())\n",
    "\n",
    "# print(f'R2 = {r2g:.3f} (growth),{r2s:.3f} (sucrose)')"
   ]
  },
  {
   "cell_type": "code",
   "execution_count": 36,
   "metadata": {},
   "outputs": [],
   "source": [
    "# sns.scatterplot(x='Hours',y='OD600',data=df.loc[df.S0==10])\n",
    "# sns.scatterplot(x='Time',y='OD600',data=growthData.loc[growthData['Initial Sucrose']==10])"
   ]
  },
  {
   "cell_type": "code",
   "execution_count": 37,
   "metadata": {},
   "outputs": [],
   "source": [
    "# sns.scatterplot(x='Hours',y='Sucrose',data=df.loc[df.S0==10])\n",
    "# sns.scatterplot(x='Time',y='Sucrose',data=expSucrose.loc[expSucrose['Initial Sucrose']==10])"
   ]
  },
  {
   "cell_type": "code",
   "execution_count": 38,
   "metadata": {},
   "outputs": [],
   "source": [
    "# temp = growthData.loc[growthData['Initial Sucrose']==10]\n",
    "# sim_temp = df.loc[df.S0==10]\n",
    "# g=interpolate.interp1d(sim_temp.Hours,sim_temp.OD600)\n",
    "# rmse += mean_squared_error(temp.OD600, g(temp.Time), sample_weight=temp.OD600,squared = False)\n",
    "# r2g += r2_score(temp.OD600, g(temp.Time))\n",
    "# temp2 = expSucrose.loc[expSucrose['Initial Sucrose']==10]\n",
    "# suc=interpolate.interp1d(sim_temp.Hours,sim_temp.Sucrose)\n",
    "# rmse += mean_squared_error(temp2.Sucrose, suc(temp2.Time), sample_weight=temp2.Sucrose,squared = False)\n",
    "# r2s += r2_score(temp2.Sucrose, suc(temp2.Time))\n",
    "# r2g=r2g/len(growthData['Initial Sucrose'].unique())\n",
    "# r2s=r2s/len(growthData['Initial Sucrose'].unique())\n",
    "\n",
    "# print(f'R2 = {r2g:.3f} (growth),{r2s:.3f} (sucrose)')"
   ]
  },
  {
   "cell_type": "code",
   "execution_count": 51,
   "metadata": {},
   "outputs": [],
   "source": [
    "def check_result(x,growth=growthData,sucrose=expSucrose):\n",
    "    mu = x[0]\n",
    "    rho = x[1]\n",
    "    ksuc = x[2]\n",
    "    yield_ = x[3]\n",
    "    maint = 0#x[3]\n",
    "    SucroseMW = 342.3\n",
    "    os.chdir('/home/jonathan/NUFEB')\n",
    "    os.system('nufeb-clean')\n",
    "    SucroseMW = 342.3\n",
    "    dir_path = Path(os.getcwd()).resolve()\n",
    "    text = f'nufeb-seed --n 1 --od 0,0.01 --d 1e-4,1e-4,1e-4 --grid 20 --t 8700 --suc 27.72 --muecw {mu}  --rhoecw {rho} --ksuc {ksuc} --maintecw {maint} --yieldecw {yield_} --niter 1000 --mass 7e-12 --biodt 10'\n",
    "    os.system(text)\n",
    "    BASE_DIR = Path(f'runs/')\n",
    "    folders = [path for path in BASE_DIR.resolve().iterdir() if path.is_dir()]\n",
    "    tmp=Parallel(n_jobs=3)(delayed(run_collect)(folder) for folder in folders)\n",
    "    data = pd.concat(tmp,ignore_index=True)\n",
    "    BASE_DIR = Path(f'runs/')\n",
    "    folders = [path for path in BASE_DIR.resolve().iterdir() if path.is_dir()]\n",
    "    tmp=Parallel(n_jobs=1)(delayed(run_collect)(folder) for folder in folders)\n",
    "    data = pd.concat(tmp,ignore_index=True)\n",
    "    #data=pd.concat((futures[i].result() for i in range(3)),ignore_index=True) \n",
    "    df = data.groupby(['Hours','S0']).mean().reset_index()\n",
    "    f, axes = plt.subplots(ncols=2)\n",
    "    sns.scatterplot(x='Time',y='OD600',hue='Initial Sucrose',data=growthData,ax=axes[0])\n",
    "    sns.scatterplot(x='Time',y='Sucrose',hue='Initial Sucrose',data=expSucrose,ax=axes[1])\n",
    "    sns.lineplot(x='Hours',y='OD600',hue='S0',data=df,ax=axes[0])\n",
    "    sns.lineplot(x='Hours',y='Sucrose',hue='S0',data=df,ax=axes[1])\n",
    "    #plot\n",
    "    sns.despine()\n",
    "    plt.show()\n",
    "\n",
    "    g=interpolate.interp1d(df.Hours,df.OD600)\n",
    "    rmse = mean_squared_error(growth.OD600, g(growth.Time), sample_weight=growth.OD600,squared = False)\n",
    "    r2g = r2_score(growth.OD600, g(growth.Time))\n",
    "    suc=interpolate.interp1d(df.Hours,df.Sucrose)\n",
    "    rmse += mean_squared_error(sucrose.Sucrose, suc(sucrose.Time), sample_weight=sucrose.Sucrose,squared = False)\n",
    "    r2s = r2_score(sucrose.Sucrose, suc(sucrose.Time))\n",
    "\n",
    "    print(f'R2 = {r2g:.3f} (growth),{r2s:.3f} (sucrose)')\n",
    "\n"
   ]
  },
  {
   "cell_type": "code",
   "execution_count": 42,
   "metadata": {},
   "outputs": [
    {
     "name": "stderr",
     "output_type": "stream",
     "text": [
      "  0%|                                                                                             | 0/5 [00:00<?, ?it/s]/home/jonathan/miniconda3/envs/nufeb/lib/python3.9/site-packages/skopt/optimizer/optimizer.py:449: UserWarning: The objective has been evaluated at this point before.\n",
      "  warnings.warn(\"The objective has been evaluated \"\n",
      " 20%|████████████████▊                                                                   | 1/5 [14:22<57:31, 862.82s/it]"
     ]
    },
    {
     "name": "stdout",
     "output_type": "stream",
     "text": [
      "Figure(640x480)\n",
      "R2 = 0.741 (growth),0.937 (sucrose)\n",
      "Figure(640x480)\n",
      "R2 = 0.979 (growth),0.931 (sucrose)\n"
     ]
    },
    {
     "name": "stderr",
     "output_type": "stream",
     "text": [
      " 40%|█████████████████████████████████▌                                                  | 2/5 [32:01<48:54, 978.11s/it]"
     ]
    },
    {
     "name": "stdout",
     "output_type": "stream",
     "text": [
      "Figure(640x480)\n",
      "R2 = 0.962 (growth),0.901 (sucrose)\n",
      "Figure(640x480)\n",
      "R2 = 0.937 (growth),0.793 (sucrose)\n",
      "Figure(640x480)\n",
      "R2 = 0.057 (growth),0.475 (sucrose)\n",
      "Figure(640x480)\n",
      "R2 = 0.963 (growth),0.976 (sucrose)\n",
      "Figure(640x480)\n",
      "R2 = -1.125 (growth),-1.565 (sucrose)\n",
      "Figure(640x480)\n",
      "R2 = -1.109 (growth),-1.525 (sucrose)\n",
      "Figure(640x480)\n",
      "R2 = -1.128 (growth),-1.572 (sucrose)\n",
      "Figure(640x480)\n",
      "R2 = 0.947 (growth),0.875 (sucrose)\n",
      "Figure(640x480)\n",
      "R2 = 0.512 (growth),0.881 (sucrose)\n",
      "Figure(640x480)\n",
      "R2 = 0.737 (growth),0.974 (sucrose)\n",
      "Figure(640x480)\n",
      "R2 = 0.962 (growth),0.953 (sucrose)\n"
     ]
    },
    {
     "name": "stderr",
     "output_type": "stream",
     "text": [
      " 60%|█████████████████████████████████████████████████▊                                 | 3/5 [54:28<38:12, 1146.32s/it]"
     ]
    },
    {
     "name": "stdout",
     "output_type": "stream",
     "text": [
      "Figure(640x480)\n",
      "R2 = 0.963 (growth),0.978 (sucrose)\n",
      "Figure(640x480)\n",
      "R2 = -1.131 (growth),-1.577 (sucrose)\n",
      "Figure(640x480)\n",
      "R2 = 0.940 (growth),0.833 (sucrose)\n",
      "Figure(640x480)\n",
      "R2 = 0.967 (growth),0.963 (sucrose)\n",
      "Figure(640x480)\n",
      "R2 = 0.822 (growth),0.979 (sucrose)\n",
      "Figure(640x480)\n",
      "R2 = 0.955 (growth),0.970 (sucrose)\n",
      "Figure(640x480)\n",
      "R2 = 0.980 (growth),0.950 (sucrose)\n",
      "Figure(640x480)\n",
      "R2 = 0.979 (growth),0.959 (sucrose)\n"
     ]
    },
    {
     "name": "stderr",
     "output_type": "stream",
     "text": [
      "/home/jonathan/miniconda3/envs/nufeb/lib/python3.9/site-packages/joblib/externals/loky/process_executor.py:702: UserWarning: A worker stopped while some jobs were given to the executor. This can be caused by a too short worker timeout or by a memory leak.\n",
      "  warnings.warn(\n"
     ]
    },
    {
     "name": "stdout",
     "output_type": "stream",
     "text": [
      "Figure(640x480)\n",
      "R2 = 0.670 (growth),0.069 (sucrose)\n",
      "Figure(640x480)\n",
      "R2 = -0.393 (growth),-0.181 (sucrose)\n",
      "Figure(640x480)\n",
      "R2 = 0.975 (growth),0.887 (sucrose)\n",
      "Figure(640x480)\n",
      "R2 = 0.970 (growth),0.958 (sucrose)\n",
      "Figure(640x480)\n",
      "R2 = 0.983 (growth),0.957 (sucrose)\n",
      "Figure(640x480)\n",
      "R2 = 0.994 (growth),0.930 (sucrose)\n",
      "Figure(640x480)\n",
      "R2 = 0.976 (growth),0.956 (sucrose)\n",
      "Figure(640x480)\n",
      "R2 = 0.870 (growth),0.601 (sucrose)\n",
      "Figure(640x480)\n",
      "R2 = 0.984 (growth),0.923 (sucrose)\n",
      "Figure(640x480)\n",
      "R2 = 0.961 (growth),0.972 (sucrose)\n",
      "Figure(640x480)\n",
      "R2 = 0.981 (growth),0.959 (sucrose)\n",
      "Figure(640x480)\n",
      "R2 = 0.328 (growth),-0.614 (sucrose)\n",
      "Figure(640x480)\n",
      "R2 = 0.353 (growth),0.686 (sucrose)\n",
      "Figure(640x480)\n",
      "R2 = 0.985 (growth),0.929 (sucrose)\n",
      "Figure(640x480)\n",
      "R2 = 0.986 (growth),0.918 (sucrose)\n",
      "Figure(640x480)\n",
      "R2 = 0.978 (growth),0.956 (sucrose)\n",
      "Figure(640x480)\n",
      "R2 = 0.971 (growth),0.877 (sucrose)\n",
      "Figure(640x480)\n",
      "R2 = 0.954 (growth),0.979 (sucrose)\n",
      "Figure(640x480)\n",
      "R2 = 0.979 (growth),0.930 (sucrose)\n",
      "Figure(640x480)\n",
      "R2 = 0.941 (growth),0.975 (sucrose)\n",
      "Figure(640x480)\n",
      "R2 = 0.984 (growth),0.956 (sucrose)\n"
     ]
    },
    {
     "name": "stderr",
     "output_type": "stream",
     "text": [
      " 80%|████████████████████████████████████████████████████████████████▊                | 4/5 [1:25:46<23:55, 1435.37s/it]"
     ]
    },
    {
     "name": "stdout",
     "output_type": "stream",
     "text": [
      "Figure(640x480)\n",
      "R2 = -1.020 (growth),-1.383 (sucrose)\n",
      "Figure(640x480)\n",
      "R2 = -1.123 (growth),-1.568 (sucrose)\n",
      "Figure(640x480)\n",
      "R2 = -0.226 (growth),-0.834 (sucrose)\n",
      "Figure(640x480)\n",
      "R2 = 0.982 (growth),0.920 (sucrose)\n",
      "Figure(640x480)\n",
      "R2 = -0.013 (growth),0.464 (sucrose)\n",
      "Figure(640x480)\n",
      "R2 = 0.976 (growth),0.925 (sucrose)\n",
      "Figure(640x480)\n",
      "R2 = 0.977 (growth),0.947 (sucrose)\n",
      "Figure(640x480)\n",
      "R2 = 0.983 (growth),0.959 (sucrose)\n",
      "Figure(640x480)\n",
      "R2 = 0.982 (growth),0.947 (sucrose)\n",
      "Figure(640x480)\n",
      "R2 = 0.977 (growth),0.939 (sucrose)\n",
      "Figure(640x480)\n",
      "R2 = 0.986 (growth),0.955 (sucrose)\n",
      "Figure(640x480)\n",
      "R2 = 0.982 (growth),0.935 (sucrose)\n",
      "Figure(640x480)\n",
      "R2 = 0.985 (growth),0.953 (sucrose)\n",
      "Figure(640x480)\n",
      "R2 = 0.984 (growth),0.948 (sucrose)\n",
      "Figure(640x480)\n",
      "R2 = 0.981 (growth),0.937 (sucrose)\n",
      "Figure(640x480)\n",
      "R2 = 0.971 (growth),0.940 (sucrose)\n"
     ]
    },
    {
     "name": "stderr",
     "output_type": "stream",
     "text": [
      "100%|█████████████████████████████████████████████████████████████████████████████████| 5/5 [1:53:03<00:00, 1356.61s/it]"
     ]
    },
    {
     "name": "stdout",
     "output_type": "stream",
     "text": [
      "1.1911088120877433\n"
     ]
    },
    {
     "name": "stderr",
     "output_type": "stream",
     "text": [
      "\n"
     ]
    }
   ],
   "source": [
    "\n",
    "optimizer = Optimizer(\n",
    "    dimensions=[Real(float('5e-5'), float('8e-4')), \n",
    "                Real(180, 307),\n",
    "                Real(float('1e-1'),float('1e1')),\n",
    "                Real(0.43,0.49)],\n",
    "    random_state=1,\n",
    "    base_estimator='gp'\n",
    ")\n",
    "\n",
    "\n",
    "for i in tqdm(range(5)):\n",
    "    x = optimizer.ask(n_points=20)  # x is a list of n_points points\n",
    "    y = Parallel(n_jobs=-1)(delayed(test)(v) for v in x)  # evaluate points in parallel\n",
    "    optimizer.tell(x, y)\n",
    "print(min(optimizer.yi)) # print the best objective found"
   ]
  },
  {
   "cell_type": "code",
   "execution_count": 43,
   "metadata": {},
   "outputs": [
    {
     "data": {
      "text/plain": [
       "          fun: 1.1911088120877433\n",
       "    func_vals: array([ 5.01207825,  6.8020595 ,  2.22432572, 12.61644177,  3.94063224,\n",
       "        2.37331278,  8.68378791,  8.87820063,  4.68971208,  4.28042851,\n",
       "       12.63574157, 12.31878347,  3.14876665, 12.56874839, 12.61517923,\n",
       "       12.62736276,  9.3432493 ,  2.6467525 , 10.26442982, 12.56936944,\n",
       "        6.82495553,  1.62552105,  2.26334505,  3.17604367,  1.56372071,\n",
       "        3.02318723,  3.04468722,  2.09869148,  1.45526312,  1.65346907,\n",
       "        5.52572859,  1.64680317,  8.59020776,  1.86969941,  6.7692623 ,\n",
       "        8.52160811,  8.26535489,  1.60705797,  2.9927184 ,  3.67499581,\n",
       "        2.18602237,  1.5193958 ,  1.78871523,  1.46927284,  1.69120154,\n",
       "        1.5913141 ,  1.58055932,  1.45098501,  1.53589016,  1.74660372,\n",
       "        1.38539273,  1.41907192,  1.31802602,  1.60044511,  1.74594211,\n",
       "        1.27985633,  1.67231623,  1.54759735,  1.790054  ,  1.24220755,\n",
       "        1.30676008,  1.45291017,  1.29316635,  1.4298852 ,  1.21941449,\n",
       "        1.39848595,  1.2663873 ,  1.19110881,  1.50693789,  1.26488328,\n",
       "        1.31943084,  1.380541  ,  1.35714571,  1.55367155,  1.36139831,\n",
       "        1.61943586,  1.6970615 ,  1.23034734,  1.48442285,  1.39955386,\n",
       "        1.54915447,  1.9011985 ,  1.9326462 ,  1.84827702,  1.84623698,\n",
       "        1.5514436 ,  2.26543082,  1.63503269,  2.09364559,  1.74997247,\n",
       "        1.88068954,  2.10596008,  1.94368996,  1.92231294,  1.86192547,\n",
       "        2.11449013,  1.89458435,  2.3741395 ,  1.93584742,  2.21472924])\n",
       "       models: [GaussianProcessRegressor(kernel=1**2 * Matern(length_scale=[1, 1, 1, 1], nu=2.5) + WhiteKernel(noise_level=1),\n",
       "                         n_restarts_optimizer=2, noise='gaussian',\n",
       "                         normalize_y=True, random_state=1791095845), GaussianProcessRegressor(kernel=1**2 * Matern(length_scale=[1, 1, 1, 1], nu=2.5) + WhiteKernel(noise_level=1),\n",
       "                         n_restarts_optimizer=2, noise='gaussian',\n",
       "                         normalize_y=True, random_state=1791095845), GaussianProcessRegressor(kernel=1**2 * Matern(length_scale=[1, 1, 1, 1], nu=2.5) + WhiteKernel(noise_level=1),\n",
       "                         n_restarts_optimizer=2, noise='gaussian',\n",
       "                         normalize_y=True, random_state=1791095845), GaussianProcessRegressor(kernel=1**2 * Matern(length_scale=[1, 1, 1, 1], nu=2.5) + WhiteKernel(noise_level=1),\n",
       "                         n_restarts_optimizer=2, noise='gaussian',\n",
       "                         normalize_y=True, random_state=1791095845), GaussianProcessRegressor(kernel=1**2 * Matern(length_scale=[1, 1, 1, 1], nu=2.5) + WhiteKernel(noise_level=1),\n",
       "                         n_restarts_optimizer=2, noise='gaussian',\n",
       "                         normalize_y=True, random_state=1791095845)]\n",
       " random_state: RandomState(MT19937) at 0x7FF491245440\n",
       "        space: Space([Real(low=5e-05, high=0.0008, prior='uniform', transform='normalize'),\n",
       "       Real(low=180, high=307, prior='uniform', transform='normalize'),\n",
       "       Real(low=0.01, high=15.0, prior='uniform', transform='normalize'),\n",
       "       Real(low=0.43, high=0.6, prior='uniform', transform='normalize')])\n",
       "        specs: {'args': {'dimensions': [Real(low=5e-05, high=0.0008, prior='uniform', transform='normalize'), Real(low=180, high=307, prior='uniform', transform='normalize'), Real(low=0.01, high=15.0, prior='uniform', transform='normalize'), Real(low=0.43, high=0.6, prior='uniform', transform='normalize')], 'base_estimator': 'gp', 'n_random_starts': None, 'n_initial_points': 10, 'initial_point_generator': 'random', 'n_jobs': 1, 'acq_func': 'gp_hedge', 'acq_optimizer': 'auto', 'random_state': 1, 'model_queue_size': None, 'acq_func_kwargs': None, 'acq_optimizer_kwargs': None}, 'function': 'Optimizer'}\n",
       "            x: [0.0006937944873154537, 180.0, 13.63045870500184, 0.6]\n",
       "      x_iters: [[0.0005769837443332693, 187.82976994040635, 5.659609223846113, 0.454759377217578], [0.00041988160529985943, 292.893526431406, 0.8867229167676812, 0.47346811903065433], [0.000409217433199498, 265.8631122148006, 4.741479980261495, 0.5940427513486312], [6.822436496091077e-05, 298.99571381526243, 12.442516310730216, 0.45285844066185105], [0.0005426067694249899, 258.6313327843821, 13.748407379891976, 0.5150971711370036], [0.0007496387457554992, 233.17772804832387, 14.813986665368382, 0.47761440599479604], [0.0006776313087110137, 285.16781254508714, 1.831791602625718, 0.4523774446944707], [0.0006417528607919874, 287.3000531675825, 0.9719332563322987, 0.48703264676150954], [0.0005972787325402703, 304.6072735815063, 7.249349648401655, 0.5661840133650748], [0.00044600370151804655, 195.88725857786466, 3.298566545780276, 0.5516133290655196], [7.28071964603851e-05, 185.70445841209138, 14.46391784345194, 0.5992745872399058], [7.555726023547883e-05, 180.9095536612134, 0.5371242301226221, 0.5864545162892837], [0.0007925409624906356, 183.13513647624399, 14.98897148473807, 0.4397582552717322], [5e-05, 180.0, 0.01, 0.43], [7.91025346653136e-05, 298.82117492963215, 14.739651138728174, 0.5980729011630879], [5.9408346502059885e-05, 306.1436902275713, 13.950641639282447, 0.43188722831418475], [0.0007913371015133599, 196.22820755116098, 0.010100744350843653, 0.5908639600489376], [0.0008, 180.0, 15.0, 0.6], [0.00011364272437037074, 304.96052480907633, 0.3343466804665413, 0.5985986311494325], [5e-05, 180.0, 0.01, 0.43], [0.00039403676135329633, 180.0, 9.391025814475114, 0.6], [0.00040611651986685116, 259.1555664257758, 5.01194846035053, 0.5994619055292862], [0.00040798838499722445, 307.0, 7.050207072855661, 0.6], [0.0004526864772973774, 307.0, 9.194770325909442, 0.43], [0.0006963147861824935, 180.0, 15.0, 0.6], [0.0007356253387811167, 307.0, 13.1108533761565, 0.6], [0.0003626899574406005, 307.0, 5.466684434642719, 0.43], [0.0007350645856804719, 307.0, 14.73005585787353, 0.6], [0.00039415539363899264, 275.8161182553762, 5.499173043310548, 0.5709824525700704], [0.0007375353230972625, 180.0, 13.975744019469545, 0.6], [0.0004142859559035276, 180.0, 8.874485873331038, 0.43], [0.00040038958065732904, 296.27903873150706, 4.979710833998113, 0.5772231019648605], [0.0003963655588477218, 303.3839923814213, 14.873416315717161, 0.6], [0.0004047025696842203, 271.49434349057327, 5.178224243100935, 0.5977878649657302], [0.0004189522021201913, 307.0, 12.492884119625902, 0.6], [0.0003617884266422069, 307.0, 12.777760255668433, 0.43], [0.00037746892966087237, 290.6415865996232, 12.85783114196186, 0.48914180346787217], [0.0007031575853194939, 243.73932613157234, 15.0, 0.534791638873679], [0.0004418321986675287, 307.0, 9.008719806560075, 0.46600468439748327], [0.00037192638875881536, 242.78873005599306, 5.952935344015854, 0.43], [0.0004379159252461992, 307.0, 5.76877469292303, 0.6], [0.0004200105183124254, 307.0, 5.613383224154886, 0.6], [0.00041912947911177176, 307.0, 5.606298595231404, 0.6], [0.0007041699714624764, 180.0, 15.0, 0.6], [0.00041751390223585525, 307.0, 5.597150866217491, 0.6], [0.0007052658540241049, 180.0, 15.0, 0.6], [0.0003908568996060302, 276.84132194592087, 5.634671033088726, 0.5650743352203421], [0.000426072457510239, 306.91476201384944, 5.593659174814122, 0.6], [0.0003928678260682524, 277.43103897112576, 5.5757381775602735, 0.5817378199967431], [0.0004015934407472138, 255.78915780785906, 5.3538332176778, 0.6], [0.000701817970367442, 263.61084610869074, 15.0, 0.6], [0.0007097235190896478, 180.0, 14.972889205772313, 0.6], [0.0007094139586116468, 180.0, 14.74951387558392, 0.6], [0.00043122617258449774, 307.0, 5.786179945943062, 0.59385402896536], [0.0003915363831489168, 272.8700717363628, 5.618697891382068, 0.5708598567228453], [0.0004053458689131996, 254.25664923568002, 5.386104114406539, 0.5671781217083683], [0.0007089558323784584, 266.1530450265944, 15.0, 0.6], [0.0007039813348600556, 269.8914341481485, 15.0, 0.6], [0.00039100835236154747, 276.1515494206443, 5.560563663390083, 0.5334572441207347], [0.0007226031848628869, 180.0, 13.376030048779285, 0.6], [0.0006932768140943617, 180.0, 13.672204173776013, 0.6], [0.0006931118154413151, 180.0, 13.674427641542392, 0.6], [0.0006931838493196242, 180.0, 13.669183728777051, 0.6], [0.0006932897664728965, 180.0, 13.662599562618883, 0.6], [0.000693407886338503, 180.0, 13.655348374569327, 0.6], [0.0006935325759392901, 180.0, 13.647575216276582, 0.6], [0.0006936617302369581, 180.0, 13.639292607648015, 0.6], [0.0006937944873154537, 180.0, 13.63045870500184, 0.6], [0.0006939303771384478, 180.0, 13.621020079048805, 0.6], [0.0006940690876282834, 180.0, 13.610898489432994, 0.6], [0.0006942103738578694, 180.0, 13.600022736350159, 0.6], [0.0006943538141911887, 180.0, 13.58835982256802, 0.6], [0.0006944991703373208, 180.0, 13.575928718919618, 0.6], [0.0006946462555243657, 180.0, 13.56285974478388, 0.6], [0.0006947951832533113, 180.0, 13.549458705278935, 0.6], [0.0006949469448024836, 180.0, 13.536046856635329, 0.6], [0.0006951025003790394, 180.0, 13.523107507617578, 0.6], [0.0006952632543038509, 180.0, 13.511006627941002, 0.6], [0.0006954304218933519, 180.0, 13.500008884066714, 0.6], [0.0006956054504763167, 180.0, 13.490262871134837, 0.6], [0.0006905937456263791, 180.0, 13.50375337639848, 0.5060052978687238], [0.0006896553224363503, 180.0, 13.460936095139063, 0.4998646749385105], [0.0006898468267237199, 180.0, 13.457211480991582, 0.4999080682758327], [0.0006902140960289638, 180.0, 13.465707763468327, 0.501126499572124], [0.0006892909591068051, 180.0, 13.35853761138554, 0.4931642726231003], [0.0006916429189757026, 180.0, 13.55677974853166, 0.5087378416568884], [0.0006892044188997892, 180.0, 13.316785404389485, 0.49016691062361883], [0.000691897248374887, 180.0, 13.536217543372105, 0.5078336616143204], [0.0006893391929136955, 180.0, 13.298868556275902, 0.4888380216751996], [0.0006922320277162174, 180.0, 13.513064519926015, 0.5069917806537614], [0.0006895381701555722, 180.0, 13.285882335918076, 0.48789679874039094], [0.0006896386895301113, 180.0, 13.283065371974057, 0.48748035283146934], [0.0006931230186986833, 180.0, 13.468247400651405, 0.5063658177253633], [0.0006897994708967405, 180.0, 13.272236849081008, 0.48634957720671906], [0.0006935003480239303, 180.0, 13.436391705877387, 0.505263025477264], [0.0006890050014577958, 180.0, 13.29117546987464, 0.4823127045369927], [0.000693539162090914, 180.0, 13.32952868507682, 0.5001339793657938], [0.0006884187800605041, 180.0, 13.357621108657693, 0.4809289646135012], [0.000693173483969543, 180.0, 13.284911509510048, 0.4957290896453753], [0.0006886325405737261, 180.0, 13.390124834932516, 0.48143273533491127]]"
      ]
     },
     "execution_count": 43,
     "metadata": {},
     "output_type": "execute_result"
    }
   ],
   "source": [
    "optimizer.get_result()"
   ]
  },
  {
   "cell_type": "code",
   "execution_count": 53,
   "metadata": {},
   "outputs": [
    {
     "data": {
      "text/plain": [
       "[0.0006937944873154537, 180.0, 13.63045870500184, 0.6]"
      ]
     },
     "execution_count": 53,
     "metadata": {},
     "output_type": "execute_result"
    }
   ],
   "source": [
    "optimizer.get_result().x"
   ]
  },
  {
   "cell_type": "code",
   "execution_count": 45,
   "metadata": {},
   "outputs": [
    {
     "data": {
      "text/plain": [
       "<AxesSubplot:title={'center':'Convergence plot'}, xlabel='Number of calls $n$', ylabel='$\\\\min f(x)$ after $n$ calls'>"
      ]
     },
     "execution_count": 45,
     "metadata": {},
     "output_type": "execute_result"
    },
    {
     "data": {
      "image/png": "[encoded data removed]",
      "text/plain": [
       "<Figure size 432x288 with 1 Axes>"
      ]
     },
     "metadata": {
      "needs_background": "light"
     },
     "output_type": "display_data"
    }
   ],
   "source": [
    "plot_convergence(optimizer.get_result(),yscale='log')"
   ]
  },
  {
   "cell_type": "code",
   "execution_count": 46,
   "metadata": {},
   "outputs": [
    {
     "data": {
      "text/plain": [
       "array([[<AxesSubplot:xlabel='$\\\\mu$', ylabel='Partial dependence'>,\n",
       "        <AxesSubplot:>, <AxesSubplot:>, <AxesSubplot:>],\n",
       "       [<AxesSubplot:ylabel='$\\\\rho$'>,\n",
       "        <AxesSubplot:xlabel='$\\\\rho$', ylabel='Partial dependence'>,\n",
       "        <AxesSubplot:>, <AxesSubplot:>],\n",
       "       [<AxesSubplot:ylabel='$K_{sucrose}$'>, <AxesSubplot:>,\n",
       "        <AxesSubplot:xlabel='$K_{sucrose}$', ylabel='Partial dependence'>,\n",
       "        <AxesSubplot:>],\n",
       "       [<AxesSubplot:xlabel='$\\\\mu$', ylabel='Yield'>,\n",
       "        <AxesSubplot:xlabel='$\\\\rho$'>,\n",
       "        <AxesSubplot:xlabel='$K_{sucrose}$'>,\n",
       "        <AxesSubplot:xlabel='Yield', ylabel='Partial dependence'>]],\n",
       "      dtype=object)"
      ]
     },
     "execution_count": 46,
     "metadata": {},
     "output_type": "execute_result"
    },
    {
     "data": {
      "image/png": "[encoded data removed]",
      "text/plain": [
       "<Figure size 576x576 with 16 Axes>"
      ]
     },
     "metadata": {
      "needs_background": "light"
     },
     "output_type": "display_data"
    }
   ],
   "source": [
    "plot_objective(optimizer.get_result(),dimensions=[r'$\\mu$',r'$\\rho$',r'$K_{sucrose}$','Yield'],cmap='inferno')"
   ]
  },
  {
   "cell_type": "code",
   "execution_count": 54,
   "metadata": {},
   "outputs": [
    {
     "data": {
      "image/png": "[encoded data removed]",
      "text/plain": [
       "<Figure size 432x288 with 2 Axes>"
      ]
     },
     "metadata": {
      "needs_background": "light"
     },
     "output_type": "display_data"
    },
    {
     "name": "stdout",
     "output_type": "stream",
     "text": [
      "R2 = 0.972 (growth),0.950 (sucrose)\n"
     ]
    },
    {
     "data": {
      "text/plain": [
       "1.683913563099438"
      ]
     },
     "execution_count": 54,
     "metadata": {},
     "output_type": "execute_result"
    }
   ],
   "source": [
    "test(optimizer.get_result().x)"
   ]
  },
  {
   "cell_type": "code",
   "execution_count": null,
   "metadata": {},
   "outputs": [],
   "source": []
  }
 ],
 "metadata": {
  "kernelspec": {
   "display_name": "Python 3 (ipykernel)",
   "language": "python",
   "name": "python3"
  },
  "language_info": {
   "codemirror_mode": {
    "name": "ipython",
    "version": 3
   },
   "file_extension": ".py",
   "mimetype": "text/x-python",
   "name": "python",
   "nbconvert_exporter": "python",
   "pygments_lexer": "ipython3",
   "version": "3.8.10"
  },
  "widgets": {
   "application/vnd.jupyter.widget-state+json": {
    "state": {
     "06f6804f516749438a70addb258c244d": {
      "model_module": "@jupyter-widgets/controls",
      "model_module_version": "1.5.0",
      "model_name": "HBoxModel",
      "state": {
       "_dom_classes": [],
       "_model_module": "@jupyter-widgets/controls",
       "_model_module_version": "1.5.0",
       "_model_name": "HBoxModel",
       "_view_count": null,
       "_view_module": "@jupyter-widgets/controls",
       "_view_module_version": "1.5.0",
       "_view_name": "HBoxView",
       "box_style": "",
       "children": [
        "IPY_MODEL_7e275af16d5a4671a357c464b250ba86",
        "IPY_MODEL_bf5b39a487d345a18aaec6c77e68b16a",
        "IPY_MODEL_18f6f0ffadc6492a9906c04bb065c3fd"
       ],
       "layout": "IPY_MODEL_2bdebc85140844ee878b7054899f357f"
      }
     },
     "18f6f0ffadc6492a9906c04bb065c3fd": {
      "model_module": "@jupyter-widgets/controls",
      "model_module_version": "1.5.0",
      "model_name": "HTMLModel",
      "state": {
       "_dom_classes": [],
       "_model_module": "@jupyter-widgets/controls",
       "_model_module_version": "1.5.0",
       "_model_name": "HTMLModel",
       "_view_count": null,
       "_view_module": "@jupyter-widgets/controls",
       "_view_module_version": "1.5.0",
       "_view_name": "HTMLView",
       "description": "",
       "description_tooltip": null,
       "layout": "IPY_MODEL_3b06f11342284ef58aaca0846d1b029c",
       "placeholder": "​",
       "style": "IPY_MODEL_47d161a9121c4f1ba32f68058dd69072",
       "value": " 40/40 [44:32&lt;00:00, 21.37s/it]"
      }
     },
     "297262a6b32b42e780ac8ee8ddcf8718": {
      "model_module": "@jupyter-widgets/controls",
      "model_module_version": "1.5.0",
      "model_name": "DescriptionStyleModel",
      "state": {
       "_model_module": "@jupyter-widgets/controls",
       "_model_module_version": "1.5.0",
       "_model_name": "DescriptionStyleModel",
       "_view_count": null,
       "_view_module": "@jupyter-widgets/base",
       "_view_module_version": "1.2.0",
       "_view_name": "StyleView",
       "description_width": ""
      }
     },
     "2bdebc85140844ee878b7054899f357f": {
      "model_module": "@jupyter-widgets/base",
      "model_module_version": "1.2.0",
      "model_name": "LayoutModel",
      "state": {
       "_model_module": "@jupyter-widgets/base",
       "_model_module_version": "1.2.0",
       "_model_name": "LayoutModel",
       "_view_count": null,
       "_view_module": "@jupyter-widgets/base",
       "_view_module_version": "1.2.0",
       "_view_name": "LayoutView",
       "align_content": null,
       "align_items": null,
       "align_self": null,
       "border": null,
       "bottom": null,
       "display": null,
       "flex": null,
       "flex_flow": null,
       "grid_area": null,
       "grid_auto_columns": null,
       "grid_auto_flow": null,
       "grid_auto_rows": null,
       "grid_column": null,
       "grid_gap": null,
       "grid_row": null,
       "grid_template_areas": null,
       "grid_template_columns": null,
       "grid_template_rows": null,
       "height": null,
       "justify_content": null,
       "justify_items": null,
       "left": null,
       "margin": null,
       "max_height": null,
       "max_width": null,
       "min_height": null,
       "min_width": null,
       "object_fit": null,
       "object_position": null,
       "order": null,
       "overflow": null,
       "overflow_x": null,
       "overflow_y": null,
       "padding": null,
       "right": null,
       "top": null,
       "visibility": null,
       "width": null
      }
     },
     "32d8f44eb11d4ed38e050df2b36efd01": {
      "model_module": "@jupyter-widgets/base",
      "model_module_version": "1.2.0",
      "model_name": "LayoutModel",
      "state": {
       "_model_module": "@jupyter-widgets/base",
       "_model_module_version": "1.2.0",
       "_model_name": "LayoutModel",
       "_view_count": null,
       "_view_module": "@jupyter-widgets/base",
       "_view_module_version": "1.2.0",
       "_view_name": "LayoutView",
       "align_content": null,
       "align_items": null,
       "align_self": null,
       "border": null,
       "bottom": null,
       "display": null,
       "flex": null,
       "flex_flow": null,
       "grid_area": null,
       "grid_auto_columns": null,
       "grid_auto_flow": null,
       "grid_auto_rows": null,
       "grid_column": null,
       "grid_gap": null,
       "grid_row": null,
       "grid_template_areas": null,
       "grid_template_columns": null,
       "grid_template_rows": null,
       "height": null,
       "justify_content": null,
       "justify_items": null,
       "left": null,
       "margin": null,
       "max_height": null,
       "max_width": null,
       "min_height": null,
       "min_width": null,
       "object_fit": null,
       "object_position": null,
       "order": null,
       "overflow": null,
       "overflow_x": null,
       "overflow_y": null,
       "padding": null,
       "right": null,
       "top": null,
       "visibility": null,
       "width": null
      }
     },
     "3ae5d793b45b477c9432cc6155983b68": {
      "model_module": "@jupyter-widgets/controls",
      "model_module_version": "1.5.0",
      "model_name": "ProgressStyleModel",
      "state": {
       "_model_module": "@jupyter-widgets/controls",
       "_model_module_version": "1.5.0",
       "_model_name": "ProgressStyleModel",
       "_view_count": null,
       "_view_module": "@jupyter-widgets/base",
       "_view_module_version": "1.2.0",
       "_view_name": "StyleView",
       "bar_color": null,
       "description_width": ""
      }
     },
     "3b06f11342284ef58aaca0846d1b029c": {
      "model_module": "@jupyter-widgets/base",
      "model_module_version": "1.2.0",
      "model_name": "LayoutModel",
      "state": {
       "_model_module": "@jupyter-widgets/base",
       "_model_module_version": "1.2.0",
       "_model_name": "LayoutModel",
       "_view_count": null,
       "_view_module": "@jupyter-widgets/base",
       "_view_module_version": "1.2.0",
       "_view_name": "LayoutView",
       "align_content": null,
       "align_items": null,
       "align_self": null,
       "border": null,
       "bottom": null,
       "display": null,
       "flex": null,
       "flex_flow": null,
       "grid_area": null,
       "grid_auto_columns": null,
       "grid_auto_flow": null,
       "grid_auto_rows": null,
       "grid_column": null,
       "grid_gap": null,
       "grid_row": null,
       "grid_template_areas": null,
       "grid_template_columns": null,
       "grid_template_rows": null,
       "height": null,
       "justify_content": null,
       "justify_items": null,
       "left": null,
       "margin": null,
       "max_height": null,
       "max_width": null,
       "min_height": null,
       "min_width": null,
       "object_fit": null,
       "object_position": null,
       "order": null,
       "overflow": null,
       "overflow_x": null,
       "overflow_y": null,
       "padding": null,
       "right": null,
       "top": null,
       "visibility": null,
       "width": null
      }
     },
     "47d161a9121c4f1ba32f68058dd69072": {
      "model_module": "@jupyter-widgets/controls",
      "model_module_version": "1.5.0",
      "model_name": "DescriptionStyleModel",
      "state": {
       "_model_module": "@jupyter-widgets/controls",
       "_model_module_version": "1.5.0",
       "_model_name": "DescriptionStyleModel",
       "_view_count": null,
       "_view_module": "@jupyter-widgets/base",
       "_view_module_version": "1.2.0",
       "_view_name": "StyleView",
       "description_width": ""
      }
     },
     "68a770eb201841bdbc824407b1a13f7d": {
      "model_module": "@jupyter-widgets/base",
      "model_module_version": "1.2.0",
      "model_name": "LayoutModel",
      "state": {
       "_model_module": "@jupyter-widgets/base",
       "_model_module_version": "1.2.0",
       "_model_name": "LayoutModel",
       "_view_count": null,
       "_view_module": "@jupyter-widgets/base",
       "_view_module_version": "1.2.0",
       "_view_name": "LayoutView",
       "align_content": null,
       "align_items": null,
       "align_self": null,
       "border": null,
       "bottom": null,
       "display": null,
       "flex": null,
       "flex_flow": null,
       "grid_area": null,
       "grid_auto_columns": null,
       "grid_auto_flow": null,
       "grid_auto_rows": null,
       "grid_column": null,
       "grid_gap": null,
       "grid_row": null,
       "grid_template_areas": null,
       "grid_template_columns": null,
       "grid_template_rows": null,
       "height": null,
       "justify_content": null,
       "justify_items": null,
       "left": null,
       "margin": null,
       "max_height": null,
       "max_width": null,
       "min_height": null,
       "min_width": null,
       "object_fit": null,
       "object_position": null,
       "order": null,
       "overflow": null,
       "overflow_x": null,
       "overflow_y": null,
       "padding": null,
       "right": null,
       "top": null,
       "visibility": null,
       "width": null
      }
     },
     "7e275af16d5a4671a357c464b250ba86": {
      "model_module": "@jupyter-widgets/controls",
      "model_module_version": "1.5.0",
      "model_name": "HTMLModel",
      "state": {
       "_dom_classes": [],
       "_model_module": "@jupyter-widgets/controls",
       "_model_module_version": "1.5.0",
       "_model_name": "HTMLModel",
       "_view_count": null,
       "_view_module": "@jupyter-widgets/controls",
       "_view_module_version": "1.5.0",
       "_view_name": "HTMLView",
       "description": "",
       "description_tooltip": null,
       "layout": "IPY_MODEL_32d8f44eb11d4ed38e050df2b36efd01",
       "placeholder": "​",
       "style": "IPY_MODEL_297262a6b32b42e780ac8ee8ddcf8718",
       "value": "Bayesian opt: 100%"
      }
     },
     "bf5b39a487d345a18aaec6c77e68b16a": {
      "model_module": "@jupyter-widgets/controls",
      "model_module_version": "1.5.0",
      "model_name": "FloatProgressModel",
      "state": {
       "_dom_classes": [],
       "_model_module": "@jupyter-widgets/controls",
       "_model_module_version": "1.5.0",
       "_model_name": "FloatProgressModel",
       "_view_count": null,
       "_view_module": "@jupyter-widgets/controls",
       "_view_module_version": "1.5.0",
       "_view_name": "ProgressView",
       "bar_style": "",
       "description": "",
       "description_tooltip": null,
       "layout": "IPY_MODEL_68a770eb201841bdbc824407b1a13f7d",
       "max": 40,
       "min": 0,
       "orientation": "horizontal",
       "style": "IPY_MODEL_3ae5d793b45b477c9432cc6155983b68",
       "value": 40
      }
     }
    },
    "version_major": 2,
    "version_minor": 0
   }
  }
 },
 "nbformat": 4,
 "nbformat_minor": 4
}
