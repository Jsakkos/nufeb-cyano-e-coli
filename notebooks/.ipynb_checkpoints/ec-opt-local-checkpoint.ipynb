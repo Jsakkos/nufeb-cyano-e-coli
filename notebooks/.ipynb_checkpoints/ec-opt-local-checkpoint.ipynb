{
 "cells": [
  {
   "cell_type": "markdown",
   "metadata": {},
   "source": [
    "# Optimization of E. coli growth parameters for NUFEB\n",
    "This notebook utilizes hyperparameter optimization to fit simulated E. coli growth curves to experimental data. Under the hood, we use scikit-optimize to perform a Bayesian optimization."
   ]
  },
  {
   "cell_type": "code",
   "execution_count": 52,
   "metadata": {},
   "outputs": [],
   "source": [
    "#Imports\n",
    "import os\n",
    "from random import uniform\n",
    "from pathlib import Path\n",
    "from nufeb_tools import utils,plot\n",
    "import pandas as pd\n",
    "from string import Template\n",
    "import numpy as np\n",
    "import matplotlib.pyplot as plt\n",
    "from sklearn.metrics import r2_score,mean_squared_error\n",
    "import seaborn as sns\n",
    "from tqdm import tqdm\n",
    "from joblib import Parallel, delayed\n",
    "import joblib\n",
    "import subprocess\n",
    "from skopt import gp_minimize, forest_minimize, dummy_minimize, gbrt_minimize,load\n",
    "from skopt.callbacks import CheckpointSaver\n",
    "from skopt.plots import plot_convergence, plot_objective,plot_gaussian_process\n",
    "from scipy.optimize import curve_fit\n",
    "from scipy import interpolate\n",
    "from skopt import Optimizer\n",
    "from skopt.space import Real\n",
    "from skopt.benchmarks import branin\n",
    "import shutil\n"
   ]
  },
  {
   "cell_type": "code",
   "execution_count": 53,
   "metadata": {},
   "outputs": [],
   "source": [
    "from tqdm.notebook import tqdm\n",
    "class tqdm_skopt(object):\n",
    "    def __init__(self, **kwargs):\n",
    "        self._bar = tqdm(**kwargs)\n",
    "\n",
    "    def __call__(self, res):\n",
    "        self._bar.update()\n",
    "\n",
    "    def __getstate__(self):\n",
    "        state = self.__dict__.copy()\n",
    "        del state['_bar']\n",
    "        return state"
   ]
  },
  {
   "cell_type": "code",
   "execution_count": 54,
   "metadata": {},
   "outputs": [
    {
     "data": {
      "text/html": [
       "<div>\n",
       "<style scoped>\n",
       "    .dataframe tbody tr th:only-of-type {\n",
       "        vertical-align: middle;\n",
       "    }\n",
       "\n",
       "    .dataframe tbody tr th {\n",
       "        vertical-align: top;\n",
       "    }\n",
       "\n",
       "    .dataframe thead th {\n",
       "        text-align: right;\n",
       "    }\n",
       "</style>\n",
       "<table border=\"1\" class=\"dataframe\">\n",
       "  <thead>\n",
       "    <tr style=\"text-align: right;\">\n",
       "      <th></th>\n",
       "      <th>Time</th>\n",
       "      <th>Sucrose</th>\n",
       "      <th>Initial Sucrose</th>\n",
       "      <th>Replicate</th>\n",
       "    </tr>\n",
       "  </thead>\n",
       "  <tbody>\n",
       "    <tr>\n",
       "      <th>0</th>\n",
       "      <td>0</td>\n",
       "      <td>1.892480</td>\n",
       "      <td>2</td>\n",
       "      <td>1</td>\n",
       "    </tr>\n",
       "    <tr>\n",
       "      <th>1</th>\n",
       "      <td>4</td>\n",
       "      <td>1.832000</td>\n",
       "      <td>2</td>\n",
       "      <td>1</td>\n",
       "    </tr>\n",
       "    <tr>\n",
       "      <th>2</th>\n",
       "      <td>6</td>\n",
       "      <td>1.586310</td>\n",
       "      <td>2</td>\n",
       "      <td>1</td>\n",
       "    </tr>\n",
       "    <tr>\n",
       "      <th>3</th>\n",
       "      <td>8</td>\n",
       "      <td>0.871310</td>\n",
       "      <td>2</td>\n",
       "      <td>1</td>\n",
       "    </tr>\n",
       "    <tr>\n",
       "      <th>4</th>\n",
       "      <td>10</td>\n",
       "      <td>0.276060</td>\n",
       "      <td>2</td>\n",
       "      <td>1</td>\n",
       "    </tr>\n",
       "    <tr>\n",
       "      <th>...</th>\n",
       "      <td>...</td>\n",
       "      <td>...</td>\n",
       "      <td>...</td>\n",
       "      <td>...</td>\n",
       "    </tr>\n",
       "    <tr>\n",
       "      <th>123</th>\n",
       "      <td>8</td>\n",
       "      <td>15.241357</td>\n",
       "      <td>20</td>\n",
       "      <td>4</td>\n",
       "    </tr>\n",
       "    <tr>\n",
       "      <th>124</th>\n",
       "      <td>10</td>\n",
       "      <td>11.745500</td>\n",
       "      <td>20</td>\n",
       "      <td>4</td>\n",
       "    </tr>\n",
       "    <tr>\n",
       "      <th>125</th>\n",
       "      <td>13</td>\n",
       "      <td>9.353344</td>\n",
       "      <td>20</td>\n",
       "      <td>4</td>\n",
       "    </tr>\n",
       "    <tr>\n",
       "      <th>126</th>\n",
       "      <td>19</td>\n",
       "      <td>9.554274</td>\n",
       "      <td>20</td>\n",
       "      <td>4</td>\n",
       "    </tr>\n",
       "    <tr>\n",
       "      <th>127</th>\n",
       "      <td>24</td>\n",
       "      <td>8.821958</td>\n",
       "      <td>20</td>\n",
       "      <td>4</td>\n",
       "    </tr>\n",
       "  </tbody>\n",
       "</table>\n",
       "<p>128 rows × 4 columns</p>\n",
       "</div>"
      ],
      "text/plain": [
       "     Time    Sucrose  Initial Sucrose  Replicate\n",
       "0       0   1.892480                2          1\n",
       "1       4   1.832000                2          1\n",
       "2       6   1.586310                2          1\n",
       "3       8   0.871310                2          1\n",
       "4      10   0.276060                2          1\n",
       "..    ...        ...              ...        ...\n",
       "123     8  15.241357               20          4\n",
       "124    10  11.745500               20          4\n",
       "125    13   9.353344               20          4\n",
       "126    19   9.554274               20          4\n",
       "127    24   8.821958               20          4\n",
       "\n",
       "[128 rows x 4 columns]"
      ]
     },
     "execution_count": 54,
     "metadata": {},
     "output_type": "execute_result"
    }
   ],
   "source": [
    "expPath = r'/home/jonathan/nufeb-cyano-e-coli/experimental-data/ecw-growth-R2.xlsx'\n",
    "growthData = pd.read_excel(expPath,sheet_name='Growth')\n",
    "expSucrose =pd.read_excel(expPath,sheet_name='Sucrose')\n",
    "expSucrose"
   ]
  },
  {
   "cell_type": "code",
   "execution_count": 55,
   "metadata": {},
   "outputs": [
    {
     "data": {
      "text/html": [
       "<div>\n",
       "<style scoped>\n",
       "    .dataframe tbody tr th:only-of-type {\n",
       "        vertical-align: middle;\n",
       "    }\n",
       "\n",
       "    .dataframe tbody tr th {\n",
       "        vertical-align: top;\n",
       "    }\n",
       "\n",
       "    .dataframe thead th {\n",
       "        text-align: right;\n",
       "    }\n",
       "</style>\n",
       "<table border=\"1\" class=\"dataframe\">\n",
       "  <thead>\n",
       "    <tr style=\"text-align: right;\">\n",
       "      <th></th>\n",
       "      <th>Time</th>\n",
       "      <th>Initial Sucrose</th>\n",
       "      <th>OD600</th>\n",
       "    </tr>\n",
       "  </thead>\n",
       "  <tbody>\n",
       "    <tr>\n",
       "      <th>0</th>\n",
       "      <td>0</td>\n",
       "      <td>2</td>\n",
       "      <td>0.010000</td>\n",
       "    </tr>\n",
       "    <tr>\n",
       "      <th>1</th>\n",
       "      <td>0</td>\n",
       "      <td>5</td>\n",
       "      <td>0.010000</td>\n",
       "    </tr>\n",
       "    <tr>\n",
       "      <th>2</th>\n",
       "      <td>0</td>\n",
       "      <td>10</td>\n",
       "      <td>0.010000</td>\n",
       "    </tr>\n",
       "    <tr>\n",
       "      <th>3</th>\n",
       "      <td>1</td>\n",
       "      <td>2</td>\n",
       "      <td>0.010000</td>\n",
       "    </tr>\n",
       "    <tr>\n",
       "      <th>4</th>\n",
       "      <td>1</td>\n",
       "      <td>5</td>\n",
       "      <td>0.016333</td>\n",
       "    </tr>\n",
       "  </tbody>\n",
       "</table>\n",
       "</div>"
      ],
      "text/plain": [
       "   Time  Initial Sucrose     OD600\n",
       "0     0                2  0.010000\n",
       "1     0                5  0.010000\n",
       "2     0               10  0.010000\n",
       "3     1                2  0.010000\n",
       "4     1                5  0.016333"
      ]
     },
     "execution_count": 55,
     "metadata": {},
     "output_type": "execute_result"
    }
   ],
   "source": [
    "growthData = growthData.loc[growthData['Initial Sucrose'] !=20]\n",
    "growthData=growthData.groupby(['Time','Initial Sucrose']).mean().reset_index()[['Time','Initial Sucrose','OD600']]\n",
    "growthData.head()"
   ]
  },
  {
   "cell_type": "code",
   "execution_count": null,
   "metadata": {},
   "outputs": [],
   "source": []
  },
  {
   "cell_type": "code",
   "execution_count": 56,
   "metadata": {},
   "outputs": [
    {
     "data": {
      "text/html": [
       "<div>\n",
       "<style scoped>\n",
       "    .dataframe tbody tr th:only-of-type {\n",
       "        vertical-align: middle;\n",
       "    }\n",
       "\n",
       "    .dataframe tbody tr th {\n",
       "        vertical-align: top;\n",
       "    }\n",
       "\n",
       "    .dataframe thead th {\n",
       "        text-align: right;\n",
       "    }\n",
       "</style>\n",
       "<table border=\"1\" class=\"dataframe\">\n",
       "  <thead>\n",
       "    <tr style=\"text-align: right;\">\n",
       "      <th></th>\n",
       "      <th>Time</th>\n",
       "      <th>Initial Sucrose</th>\n",
       "      <th>Sucrose</th>\n",
       "    </tr>\n",
       "  </thead>\n",
       "  <tbody>\n",
       "    <tr>\n",
       "      <th>0</th>\n",
       "      <td>0</td>\n",
       "      <td>2</td>\n",
       "      <td>1.855295</td>\n",
       "    </tr>\n",
       "    <tr>\n",
       "      <th>1</th>\n",
       "      <td>0</td>\n",
       "      <td>5</td>\n",
       "      <td>4.685920</td>\n",
       "    </tr>\n",
       "    <tr>\n",
       "      <th>2</th>\n",
       "      <td>0</td>\n",
       "      <td>10</td>\n",
       "      <td>9.489184</td>\n",
       "    </tr>\n",
       "    <tr>\n",
       "      <th>3</th>\n",
       "      <td>4</td>\n",
       "      <td>2</td>\n",
       "      <td>1.808598</td>\n",
       "    </tr>\n",
       "    <tr>\n",
       "      <th>4</th>\n",
       "      <td>4</td>\n",
       "      <td>5</td>\n",
       "      <td>4.631757</td>\n",
       "    </tr>\n",
       "  </tbody>\n",
       "</table>\n",
       "</div>"
      ],
      "text/plain": [
       "   Time  Initial Sucrose   Sucrose\n",
       "0     0                2  1.855295\n",
       "1     0                5  4.685920\n",
       "2     0               10  9.489184\n",
       "3     4                2  1.808598\n",
       "4     4                5  4.631757"
      ]
     },
     "execution_count": 56,
     "metadata": {},
     "output_type": "execute_result"
    }
   ],
   "source": [
    "expSucrose = expSucrose.loc[expSucrose['Initial Sucrose'] !=20]\n",
    "expSucrose = expSucrose.groupby(['Time','Initial Sucrose']).mean().reset_index()[['Time','Initial Sucrose','Sucrose']]\n",
    "expSucrose.head()"
   ]
  },
  {
   "cell_type": "code",
   "execution_count": 57,
   "metadata": {},
   "outputs": [],
   "source": [
    "growthData10 = growthData.loc[(growthData['Initial Sucrose']==10) & (growthData.Time < 15)]\n",
    "expSucrose10 = expSucrose.loc[(expSucrose['Initial Sucrose']==10) & (expSucrose.Time < 15)]"
   ]
  },
  {
   "cell_type": "code",
   "execution_count": 58,
   "metadata": {},
   "outputs": [
    {
     "data": {
      "text/html": [
       "<div>\n",
       "<style scoped>\n",
       "    .dataframe tbody tr th:only-of-type {\n",
       "        vertical-align: middle;\n",
       "    }\n",
       "\n",
       "    .dataframe tbody tr th {\n",
       "        vertical-align: top;\n",
       "    }\n",
       "\n",
       "    .dataframe thead th {\n",
       "        text-align: right;\n",
       "    }\n",
       "</style>\n",
       "<table border=\"1\" class=\"dataframe\">\n",
       "  <thead>\n",
       "    <tr style=\"text-align: right;\">\n",
       "      <th></th>\n",
       "      <th>Time</th>\n",
       "      <th>Initial Sucrose</th>\n",
       "      <th>Sucrose</th>\n",
       "    </tr>\n",
       "  </thead>\n",
       "  <tbody>\n",
       "    <tr>\n",
       "      <th>2</th>\n",
       "      <td>0</td>\n",
       "      <td>10</td>\n",
       "      <td>9.489184</td>\n",
       "    </tr>\n",
       "    <tr>\n",
       "      <th>5</th>\n",
       "      <td>4</td>\n",
       "      <td>10</td>\n",
       "      <td>9.225052</td>\n",
       "    </tr>\n",
       "    <tr>\n",
       "      <th>8</th>\n",
       "      <td>6</td>\n",
       "      <td>10</td>\n",
       "      <td>8.345636</td>\n",
       "    </tr>\n",
       "    <tr>\n",
       "      <th>11</th>\n",
       "      <td>8</td>\n",
       "      <td>10</td>\n",
       "      <td>6.275219</td>\n",
       "    </tr>\n",
       "    <tr>\n",
       "      <th>14</th>\n",
       "      <td>10</td>\n",
       "      <td>10</td>\n",
       "      <td>3.035694</td>\n",
       "    </tr>\n",
       "    <tr>\n",
       "      <th>17</th>\n",
       "      <td>13</td>\n",
       "      <td>10</td>\n",
       "      <td>0.881312</td>\n",
       "    </tr>\n",
       "  </tbody>\n",
       "</table>\n",
       "</div>"
      ],
      "text/plain": [
       "    Time  Initial Sucrose   Sucrose\n",
       "2      0               10  9.489184\n",
       "5      4               10  9.225052\n",
       "8      6               10  8.345636\n",
       "11     8               10  6.275219\n",
       "14    10               10  3.035694\n",
       "17    13               10  0.881312"
      ]
     },
     "execution_count": 58,
     "metadata": {},
     "output_type": "execute_result"
    }
   ],
   "source": [
    "expSucrose10"
   ]
  },
  {
   "cell_type": "markdown",
   "metadata": {},
   "source": [
    "# Optimization function\n",
    "## Parameters to optimize:\n",
    "### $\\mu_{max}$ (Monod-based growth rate, $s^{-1}$)\n",
    "### $\\rho$ (Cell density, $\\frac{kg}{m^3}$)\n",
    "### $k_{sucrose}$ (Sucrose uptake half-maximum, $\\frac{kg}{m^3}$)\n",
    "### m (Cellular maintenance cost, $s^{-1}$)"
   ]
  },
  {
   "cell_type": "code",
   "execution_count": 59,
   "metadata": {},
   "outputs": [],
   "source": [
    "#Volume = 1e-4*1e-4*1e-4 #m^3\n",
    "#mlm3 = 1e6 #mL/m^3\n",
    "#Biomass2OD = Volume*.44\n"
   ]
  },
  {
   "cell_type": "code",
   "execution_count": 60,
   "metadata": {},
   "outputs": [],
   "source": [
    "def mu_func(x,K,r,N0):\n",
    "    return K/(1  + ((K-N0)/N0)*np.exp(-r*x))"
   ]
  },
  {
   "cell_type": "code",
   "execution_count": 61,
   "metadata": {},
   "outputs": [],
   "source": [
    "def run_sim(folder):\n",
    "    os.chdir(folder)\n",
    "    in_path = folder / 'Inputscript.lammps'\n",
    "    try:\n",
    "        os.system(f'mpirun -np 1 /home/jonathan/NUFEB/lammps/src/lmp_png -in {in_path} > nufeb.log')\n",
    "        #subprocess.run(['mpirun', '-np', '4','/home/jsakkos/NUFEB/lammps/src/lmp_png','-in', '*.lammps > nufeb.log'], stdout=subprocess.DEVNULL, stderr=subprocess.DEVNULL)\n",
    "        #os.chdir(r'/home/jsakkos/NUFEB')\n",
    "        return folder\n",
    "    except:\n",
    "        print('Something went wrong')\n",
    "def collect_data(folder):\n",
    "    SucroseMW = 342.3\n",
    "    x = utils.get_data(directory=str(folder))\n",
    "    Volume = np.prod(x.metadata['Dimensions'])\n",
    "    Biomass2OD = .44*Volume*1e18\n",
    "    temp = pd.concat([x.biomass.ecw.reset_index(drop=True)/Biomass2OD,x.biomass.step.reset_index(drop=True)/60/60*x.timestep,x.avg_con.Sucrose.reset_index(drop=True)],axis=1)\n",
    "    temp.columns=['OD600','Hours','Sucrose']\n",
    "    temp['Sucrose']=temp['Sucrose']*SucroseMW*1e-3\n",
    "    temp['S0'] = temp.Sucrose.iloc[0]\n",
    "    return temp\n",
    "def run_collect(folder):\n",
    "    os.chdir(folder)\n",
    "    in_path = folder / 'Inputscript.lammps'\n",
    "    os.system(f'mpirun -np 1 /home/jonathan/NUFEB/lammps/src/lmp_png -in {in_path} > nufeb.log')\n",
    "    SucroseMW = 342.3\n",
    "    x = utils.get_data(directory=str(folder))\n",
    "    Volume = np.prod(x.metadata['Dimensions'])\n",
    "    Biomass2OD = .44*Volume*1e18\n",
    "    temp = pd.concat([x.biomass.ecw.reset_index(drop=True)/Biomass2OD,x.biomass.step.reset_index(drop=True)/60/60*x.timestep,x.avg_con.Sucrose.reset_index(drop=True)],axis=1)\n",
    "    temp.columns=['OD600','Hours','Sucrose']\n",
    "    temp['Sucrose']=temp['Sucrose']*SucroseMW*1e-3\n",
    "    temp['S0'] = temp.Sucrose.iloc[0]\n",
    "    return temp\n",
    "def func(x,growth=growthData10,sucrose=expSucrose10):\n",
    "   \n",
    "    mu = x[0]\n",
    "    rho = x[1]\n",
    "    ksuc = x[2]\n",
    "    #yield_ = x[3]\n",
    "    maint = 0#x[3]\n",
    "    print(f'mu: {mu:.3e},rho: {rho:.3e},ksuc: {ksuc:.3e}')\n",
    "    SucroseMW = 342.3\n",
    "    os.chdir('/home/jonathan/NUFEB')\n",
    "    SucroseMW = 342.3\n",
    "    rng = str(np.random.randint(0,1e6,1)[0])\n",
    "    os.mkdir(rng)\n",
    "    os.chdir(rng)\n",
    "    dir_path = Path(os.getcwd()).resolve()\n",
    "    text = f'nufeb-seed --n 1 --od 0,0.01 --d 1e-4,1e-4,1e-4 --grid 100 --t 4700 --suc 29.2 --muecw {mu}  --rhoecw {rho} --ksuc {ksuc} --maintecw {maint} --yieldecw .49 --niter 1000000 --mass 7e-12 --biodt 1 --suc_halt 1 --division off'\n",
    "    os.system(text)\n",
    "    BASE_DIR = Path(f'runs/')\n",
    "    folders = [path for path in BASE_DIR.resolve().iterdir() if path.is_dir()]\n",
    "    #tmp=Parallel(n_jobs=-1)(delayed(run_collect)(folder) for folder in folders)\n",
    "    data = run_collect(folders[0])\n",
    "    #data=pd.concat((futures[i].result() for i in range(3)),ignore_index=True) \n",
    "    df = data.groupby(['Hours','S0']).mean().reset_index()\n",
    "    df.loc[df.S0==10]\n",
    "    g=interpolate.interp1d(df.Hours,df.OD600,fill_value='extrapolate')\n",
    "    rmse = mean_squared_error(growth.OD600, g(growth.Time), sample_weight=growth.OD600,squared = False)\n",
    "    r2g = r2_score(growth.OD600, g(growth.Time))\n",
    "    suc=interpolate.interp1d(df.Hours,df.Sucrose,fill_value='extrapolate')\n",
    "    rmse += mean_squared_error(sucrose.Sucrose, suc(sucrose.Time), sample_weight=sucrose.Sucrose,squared = False)*.5\n",
    "    r2s = r2_score(sucrose.Sucrose, suc(sucrose.Time))\n",
    "    f, axes = plt.subplots(ncols=2)\n",
    "    sns.scatterplot(x='Time',y='OD600',data=growth,ax=axes[0],label='Experimental')\n",
    "    sns.scatterplot(x='Time',y='Sucrose',data=sucrose,ax=axes[1],label='Experimental')\n",
    "    axes[0].plot(df.Hours,df.OD600,color='red',label='Simulated')\n",
    "    axes[1].plot(df.Hours,df.Sucrose,color='red',label='Simulated')\n",
    "    #sns.lineplot(x='Hours',y='OD600',data=df,ax=axes[0],palette='Reds',label='Simulated')\n",
    "    #sns.lineplot(x='Hours',y='Sucrose',data=df,ax=axes[1],palette='Reds',label='Simulated')\n",
    "    #plot\n",
    "    sns.despine()\n",
    "    plt.show()\n",
    "    print(f'R2 = {r2g:.3f} (growth),{r2s:.3f} (sucrose)')\n",
    "    os.chdir('/home/jonathan/NUFEB')\n",
    "    try:\n",
    "        shutil.rmtree(dir_path)\n",
    "    except OSError as e:\n",
    "        print(\"Error: %s : %s\" % (dir_path, e.strerror))\n",
    "    return rmse"
   ]
  },
  {
   "cell_type": "code",
   "execution_count": 62,
   "metadata": {},
   "outputs": [],
   "source": [
    "# os.chdir('/home/jonathan/NUFEB')\n",
    "# os.system('nufeb-clean')\n",
    "# SucroseMW = 342.3\n",
    "# for s in growthData['Initial Sucrose'].unique():\n",
    "#     suc = s*1e3/SucroseMW\n",
    "#     text = f'nufeb-seed --n 1 --od 0,0.01 --d 1e-4,1e-4,1e-4 --grid 20 --t 8700 --suc {suc:.2f} --muecw 4.5e-4  --rhoecw 280 --ksuc .1 --maintecw 0 --niter 1000000 --mass 1e-11 --yieldecw 0.8'\n",
    "#     os.system(text)\n",
    "# BASE_DIR = Path(f'runs/')\n",
    "# folders = [path for path in BASE_DIR.iterdir() if path.is_dir()]\n",
    "# tmp=Parallel(n_jobs=12)(delayed(run_collect)(folder) for folder in folders)\n",
    "\n",
    "# data = pd.concat(tmp,ignore_index=True)\n",
    "# df = data.groupby(['Hours','S0']).mean().reset_index()\n",
    "# f, axes = plt.subplots(ncols=2)\n",
    "# sns.scatterplot(x='Time',y='OD600',hue='Initial Sucrose',data=growthData,ax=axes[0])\n",
    "# sns.scatterplot(x='Time',y='Sucrose',hue='Initial Sucrose',data=expSucrose,ax=axes[1])\n",
    "# sns.lineplot(x='Hours',y='OD600',hue='S0',data=df,ax=axes[0])\n",
    "# sns.lineplot(x='Hours',y='Sucrose',hue='S0',data=df,ax=axes[1])"
   ]
  },
  {
   "cell_type": "code",
   "execution_count": 63,
   "metadata": {},
   "outputs": [],
   "source": [
    "# os.chdir('/home/jsakkos/NUFEB')\n",
    "# os.system('nufeb-clean')\n",
    "# SucroseMW = 342.3\n",
    "# for s in growthData['Initial Sucrose'].unique():\n",
    "#     suc = s*1e3/SucroseMW\n",
    "#     text = f'nufeb-seed --n 1 --od 0,0.01 --d 1e-4,1e-4,1e-4 --grid 20 --t 8700 --suc {suc:.2f} --muecw 9e-4  --rhoecw 180 --ksuc .1 --maintecw 0 --niter 1 --mass 5e-13'\n",
    "#     os.system(text)\n",
    "# BASE_DIR = Path(f'runs/')\n",
    "# folders = [path for path in BASE_DIR.iterdir() if path.is_dir()]\n",
    "# futures=client.map(run_sim,folders,pure=False)\n",
    "# progress(futures)\n",
    "# tmp=Parallel(n_jobs=-1)(delayed(collect_data)(folder) for folder in folders)\n",
    "# data = pd.concat(tmp,ignore_index=True)\n",
    "# df = data.groupby(['Hours','S0']).mean().reset_index()\n",
    "# f, axes = plt.subplots(ncols=2)\n",
    "# sns.scatterplot(x='Time',y='OD600',hue='Initial Sucrose',data=growthData,ax=axes[0])\n",
    "# sns.scatterplot(x='Time',y='Sucrose',hue='Initial Sucrose',data=expSucrose,ax=axes[1])\n",
    "# sns.lineplot(x='Hours',y='OD600',hue='S0',data=df,ax=axes[0])\n",
    "# sns.lineplot(x='Hours',y='Sucrose',hue='S0',data=df,ax=axes[1])"
   ]
  },
  {
   "cell_type": "code",
   "execution_count": 64,
   "metadata": {
    "tags": []
   },
   "outputs": [],
   "source": [
    "# def func(x,growth=growthData,sucrose=expSucrose):\n",
    "\n",
    "#     mu = x[0]\n",
    "#     rho = x[1]\n",
    "#     ksuc = x[2]\n",
    "#     maint = 0#x[3]\n",
    "#     SucroseMW = 342.3\n",
    "\n",
    "#     #Clean old simulations\n",
    "#     os.chdir('/home/jsakkos/NUFEB')\n",
    "#     rng = str(np.random.randint(0,1e6,1)[0])\n",
    "#     os.mkdir(rng)\n",
    "#     os.chdir(rng)\n",
    "#     dir_path = Path(os.getcwd()).resolve()\n",
    "#     #os.system('nufeb-clean')\n",
    "\n",
    "    \n",
    "#     print(f'mu: {mu:.3e},rho: {rho:.3e},ksuc: {ksuc:.3e}, m {maint:.3e}')\n",
    "#     # generate simulations for several initial sucrose concentrations\n",
    "#     for s in growthData['Initial Sucrose'].unique():\n",
    "#         suc = s*1e3/SucroseMW\n",
    "#         text = f'nufeb-seed --n 1 --od 0,0.01 --d 1e-4,1e-4,1e-4 --grid 20 --t 8700 --suc {suc:.2f} --muecw {mu}  --rhoecw {rho} --ksuc {ksuc} --maintecw {maint} --niter 1 --mass 7e-12'\n",
    "#         os.system(text)\n",
    "#     #Run new simulations\n",
    "#     #os.system('/home/jsakkos/par.sh')\n",
    "#     BASE_DIR = Path(f'runs/')\n",
    "#     folders = [path for path in BASE_DIR.resolve().iterdir() if path.is_dir()]\n",
    "#     try:\n",
    "#         _=Parallel(n_jobs=3)(delayed(run_sim)(folder) for folder in folders)\n",
    "#     except:\n",
    "#         print('error')\n",
    "#     tmp=Parallel(n_jobs=3)(delayed(collect_data)(folder) for folder in folders)\n",
    "#     data = pd.concat(tmp,ignore_index=True)\n",
    "#     df = data.groupby(['Hours','S0']).mean().reset_index()\n",
    "#     f, axes = plt.subplots(ncols=2)\n",
    "#     sns.scatterplot(x='Time',y='OD600',hue='Initial Sucrose',data=growthData,ax=axes[0])\n",
    "#     sns.scatterplot(x='Time',y='Sucrose',hue='Initial Sucrose',data=expSucrose,ax=axes[1])\n",
    "#     sns.lineplot(x='Hours',y='OD600',hue='S0',data=df,ax=axes[0])\n",
    "#     sns.lineplot(x='Hours',y='Sucrose',hue='S0',data=df,ax=axes[1])\n",
    "#     #plot\n",
    "#     sns.despine()\n",
    "#     plt.show()\n",
    "#     rmse = 0\n",
    "#     r2g=0\n",
    "#     r2s=0\n",
    "#     for s in growthData['Initial Sucrose'].unique():\n",
    "#         temp = growthData.loc[growthData['Initial Sucrose']==s]\n",
    "#         g=interpolate.interp1d(df.Hours,df.OD600)\n",
    "#         rmse += mean_squared_error(temp.OD600, g(temp.Time), sample_weight=temp.OD600,squared = False)\n",
    "#         r2g += r2_score(temp.OD600, g(temp.Time))\n",
    "#         temp2 = expSucrose.loc[expSucrose['Initial Sucrose']==s]\n",
    "#         suc=interpolate.interp1d(df.Hours,df.Sucrose)\n",
    "#         #rmse += mean_squared_error(temp2.Sucrose, suc(temp2.Time), sample_weight=temp2.Sucrose,squared = False)\n",
    "#         r2s += r2_score(temp2.Sucrose, suc(temp2.Time))\n",
    "#     r2g=r2g/len(growthData['Initial Sucrose'].unique())\n",
    "#     r2s=r2s/len(growthData['Initial Sucrose'].unique())\n",
    "\n",
    "#     print(f'R2 = {r2g:.3f} (growth),{r2s:.3f} (sucrose)')\n",
    "#     os.chdir('/home/jsakkos/NUFEB')\n",
    "#     try:\n",
    "#         shutil.rmtree(dir_path)\n",
    "#     except OSError as e:\n",
    "#         print(\"Error: %s : %s\" % (dir_path, e.strerror))\n",
    "#     return rmse\n"
   ]
  },
  {
   "cell_type": "code",
   "execution_count": null,
   "metadata": {},
   "outputs": [
    {
     "data": {
      "application/vnd.jupyter.widget-view+json": {
       "model_id": "4b81faa66ec14821bcc8b9ea02e1fce5",
       "version_major": 2,
       "version_minor": 0
      },
      "text/plain": [
       "Gaussian Process:   0%|          | 0/200 [00:00<?, ?it/s]"
      ]
     },
     "metadata": {},
     "output_type": "display_data"
    },
    {
     "name": "stdout",
     "output_type": "stream",
     "text": [
      "Iteration No: 1 started. Evaluating function at random point.\n",
      "mu: 2.586e-04,rho: 2.490e+02,ksuc: 3.168e+00\n"
     ]
    },
    {
     "data": {
      "image/png": "[encoded data removed]",
      "text/plain": [
       "<Figure size 432x288 with 2 Axes>"
      ]
     },
     "metadata": {
      "needs_background": "light"
     },
     "output_type": "display_data"
    },
    {
     "name": "stdout",
     "output_type": "stream",
     "text": [
      "R2 = 0.437 (growth),0.601 (sucrose)\n",
      "Iteration No: 1 ended. Evaluation done at random point.\n",
      "Time taken: 161.2153\n",
      "Function value obtained: 5.6088\n",
      "Current minimum: 5.6088\n",
      "Iteration No: 2 started. Evaluating function at random point.\n",
      "mu: 2.863e-04,rho: 2.479e+02,ksuc: 9.679e+00\n"
     ]
    },
    {
     "data": {
      "image/png": "[encoded data removed]",
      "text/plain": [
       "<Figure size 432x288 with 2 Axes>"
      ]
     },
     "metadata": {
      "needs_background": "light"
     },
     "output_type": "display_data"
    },
    {
     "name": "stdout",
     "output_type": "stream",
     "text": [
      "R2 = -0.458 (growth),-0.598 (sucrose)\n",
      "Iteration No: 2 ended. Evaluation done at random point.\n",
      "Time taken: 91.8941\n",
      "Function value obtained: 9.4020\n",
      "Current minimum: 5.6088\n",
      "Iteration No: 3 started. Evaluating function at random point.\n",
      "mu: 1.055e-04,rho: 1.966e+02,ksuc: 1.849e+01\n"
     ]
    },
    {
     "data": {
      "image/png": "[encoded data removed]",
      "text/plain": [
       "<Figure size 432x288 with 2 Axes>"
      ]
     },
     "metadata": {
      "needs_background": "light"
     },
     "output_type": "display_data"
    },
    {
     "name": "stdout",
     "output_type": "stream",
     "text": [
      "R2 = -0.864 (growth),-1.363 (sucrose)\n",
      "Iteration No: 3 ended. Evaluation done at random point.\n",
      "Time taken: 2.3833\n",
      "Function value obtained: 10.7134\n",
      "Current minimum: 5.6088\n",
      "Iteration No: 4 started. Evaluating function at random point.\n",
      "mu: 7.754e-04,rho: 2.700e+02,ksuc: 1.414e+01\n"
     ]
    },
    {
     "data": {
      "image/png": "[encoded data removed]",
      "text/plain": [
       "<Figure size 432x288 with 2 Axes>"
      ]
     },
     "metadata": {
      "needs_background": "light"
     },
     "output_type": "display_data"
    },
    {
     "name": "stdout",
     "output_type": "stream",
     "text": [
      "R2 = 0.864 (growth),0.451 (sucrose)\n",
      "Iteration No: 4 ended. Evaluation done at random point.\n",
      "Time taken: 174.6917\n",
      "Function value obtained: 2.9753\n",
      "Current minimum: 2.9753\n",
      "Iteration No: 5 started. Evaluating function at random point.\n",
      "mu: 2.104e-04,rho: 2.324e+02,ksuc: 1.295e+01\n"
     ]
    },
    {
     "data": {
      "image/png": "[encoded data removed]",
      "text/plain": [
       "<Figure size 432x288 with 2 Axes>"
      ]
     },
     "metadata": {
      "needs_background": "light"
     },
     "output_type": "display_data"
    },
    {
     "name": "stdout",
     "output_type": "stream",
     "text": [
      "R2 = -0.810 (growth),-1.267 (sucrose)\n",
      "Iteration No: 5 ended. Evaluation done at random point.\n",
      "Time taken: 25.7042\n",
      "Function value obtained: 10.5498\n",
      "Current minimum: 2.9753\n",
      "Iteration No: 6 started. Evaluating function at random point.\n",
      "mu: 2.526e-04,rho: 2.863e+02,ksuc: 1.213e+01\n"
     ]
    }
   ],
   "source": [
    "# optimizer = Optimizer(\n",
    "#     dimensions=[Real(float('5e-5'), float('8e-4')), \n",
    "#                 Real(180, 307),\n",
    "#                 Real(float('1e-1'),float('1e1')),\n",
    "#                 Real(0.43,0.49)],\n",
    "#     random_state=1,\n",
    "#     base_estimator='gp',\n",
    "#     verbose=True,\n",
    "# )\n",
    "bounds=[Real(float('5e-5'), float('8e-4')), \n",
    "            Real(180, 307),\n",
    "            Real(float('1e-1'),float('2e1'))]\n",
    "\n",
    "# for i in tqdm(range(50)):\n",
    "#     x = optimizer.ask()# x is a list of n_points points\n",
    "#     y = func(x)  # evaluate points in parallel\n",
    "#     optimizer.tell(x, y)\n",
    "# print(min(optimizer.yi)) # print the best objective found\n",
    "checkpoint_saver = CheckpointSaver(r\"/home/jonathan/nufeb-cyano-e-coli/checkpoints/ecw.pkl\", compress=9)\n",
    "n_calls = 200\n",
    "gp_res = gp_minimize(func, bounds, n_calls=n_calls,n_initial_points=40,\n",
    "                     random_state=5348,verbose=True,\n",
    "                     callback=[tqdm_skopt(total=n_calls, desc=\"Gaussian Process\"),checkpoint_saver],\n",
    "                     n_jobs=-1)"
   ]
  },
  {
   "cell_type": "code",
   "execution_count": null,
   "metadata": {},
   "outputs": [],
   "source": [
    "gp_res=load(\"/home/jonathan/nufeb-cyano-e-coli/checkpoints/ecw.pkl\")"
   ]
  },
  {
   "cell_type": "code",
   "execution_count": null,
   "metadata": {},
   "outputs": [],
   "source": [
    "plot_convergence(gp_res,yscale='log')"
   ]
  },
  {
   "cell_type": "code",
   "execution_count": null,
   "metadata": {},
   "outputs": [],
   "source": [
    "plot_objective(gp_res,dimensions=[r'$\\mu$',r'$\\rho$',r'$K_{sucrose}$'],cmap='inferno')"
   ]
  },
  {
   "cell_type": "code",
   "execution_count": null,
   "metadata": {
    "tags": []
   },
   "outputs": [],
   "source": [
    "gp_res.x"
   ]
  },
  {
   "cell_type": "code",
   "execution_count": null,
   "metadata": {},
   "outputs": [],
   "source": [
    "func(gp_res.x,growth=growthData10,sucrose=expSucrose10)"
   ]
  },
  {
   "cell_type": "code",
   "execution_count": null,
   "metadata": {},
   "outputs": [],
   "source": []
  }
 ],
 "metadata": {
  "kernelspec": {
   "display_name": "Python 3 (ipykernel)",
   "language": "python",
   "name": "python3"
  },
  "language_info": {
   "codemirror_mode": {
    "name": "ipython",
    "version": 3
   },
   "file_extension": ".py",
   "mimetype": "text/x-python",
   "name": "python",
   "nbconvert_exporter": "python",
   "pygments_lexer": "ipython3",
   "version": "3.8.10"
  },
  "widgets": {
   "application/vnd.jupyter.widget-state+json": {
    "state": {
     "06f6804f516749438a70addb258c244d": {
      "model_module": "@jupyter-widgets/controls",
      "model_module_version": "1.5.0",
      "model_name": "HBoxModel",
      "state": {
       "_dom_classes": [],
       "_model_module": "@jupyter-widgets/controls",
       "_model_module_version": "1.5.0",
       "_model_name": "HBoxModel",
       "_view_count": null,
       "_view_module": "@jupyter-widgets/controls",
       "_view_module_version": "1.5.0",
       "_view_name": "HBoxView",
       "box_style": "",
       "children": [
        "IPY_MODEL_7e275af16d5a4671a357c464b250ba86",
        "IPY_MODEL_bf5b39a487d345a18aaec6c77e68b16a",
        "IPY_MODEL_18f6f0ffadc6492a9906c04bb065c3fd"
       ],
       "layout": "IPY_MODEL_2bdebc85140844ee878b7054899f357f"
      }
     },
     "18f6f0ffadc6492a9906c04bb065c3fd": {
      "model_module": "@jupyter-widgets/controls",
      "model_module_version": "1.5.0",
      "model_name": "HTMLModel",
      "state": {
       "_dom_classes": [],
       "_model_module": "@jupyter-widgets/controls",
       "_model_module_version": "1.5.0",
       "_model_name": "HTMLModel",
       "_view_count": null,
       "_view_module": "@jupyter-widgets/controls",
       "_view_module_version": "1.5.0",
       "_view_name": "HTMLView",
       "description": "",
       "description_tooltip": null,
       "layout": "IPY_MODEL_3b06f11342284ef58aaca0846d1b029c",
       "placeholder": "​",
       "style": "IPY_MODEL_47d161a9121c4f1ba32f68058dd69072",
       "value": " 40/40 [44:32&lt;00:00, 21.37s/it]"
      }
     },
     "297262a6b32b42e780ac8ee8ddcf8718": {
      "model_module": "@jupyter-widgets/controls",
      "model_module_version": "1.5.0",
      "model_name": "DescriptionStyleModel",
      "state": {
       "_model_module": "@jupyter-widgets/controls",
       "_model_module_version": "1.5.0",
       "_model_name": "DescriptionStyleModel",
       "_view_count": null,
       "_view_module": "@jupyter-widgets/base",
       "_view_module_version": "1.2.0",
       "_view_name": "StyleView",
       "description_width": ""
      }
     },
     "2bdebc85140844ee878b7054899f357f": {
      "model_module": "@jupyter-widgets/base",
      "model_module_version": "1.2.0",
      "model_name": "LayoutModel",
      "state": {
       "_model_module": "@jupyter-widgets/base",
       "_model_module_version": "1.2.0",
       "_model_name": "LayoutModel",
       "_view_count": null,
       "_view_module": "@jupyter-widgets/base",
       "_view_module_version": "1.2.0",
       "_view_name": "LayoutView",
       "align_content": null,
       "align_items": null,
       "align_self": null,
       "border": null,
       "bottom": null,
       "display": null,
       "flex": null,
       "flex_flow": null,
       "grid_area": null,
       "grid_auto_columns": null,
       "grid_auto_flow": null,
       "grid_auto_rows": null,
       "grid_column": null,
       "grid_gap": null,
       "grid_row": null,
       "grid_template_areas": null,
       "grid_template_columns": null,
       "grid_template_rows": null,
       "height": null,
       "justify_content": null,
       "justify_items": null,
       "left": null,
       "margin": null,
       "max_height": null,
       "max_width": null,
       "min_height": null,
       "min_width": null,
       "object_fit": null,
       "object_position": null,
       "order": null,
       "overflow": null,
       "overflow_x": null,
       "overflow_y": null,
       "padding": null,
       "right": null,
       "top": null,
       "visibility": null,
       "width": null
      }
     },
     "32d8f44eb11d4ed38e050df2b36efd01": {
      "model_module": "@jupyter-widgets/base",
      "model_module_version": "1.2.0",
      "model_name": "LayoutModel",
      "state": {
       "_model_module": "@jupyter-widgets/base",
       "_model_module_version": "1.2.0",
       "_model_name": "LayoutModel",
       "_view_count": null,
       "_view_module": "@jupyter-widgets/base",
       "_view_module_version": "1.2.0",
       "_view_name": "LayoutView",
       "align_content": null,
       "align_items": null,
       "align_self": null,
       "border": null,
       "bottom": null,
       "display": null,
       "flex": null,
       "flex_flow": null,
       "grid_area": null,
       "grid_auto_columns": null,
       "grid_auto_flow": null,
       "grid_auto_rows": null,
       "grid_column": null,
       "grid_gap": null,
       "grid_row": null,
       "grid_template_areas": null,
       "grid_template_columns": null,
       "grid_template_rows": null,
       "height": null,
       "justify_content": null,
       "justify_items": null,
       "left": null,
       "margin": null,
       "max_height": null,
       "max_width": null,
       "min_height": null,
       "min_width": null,
       "object_fit": null,
       "object_position": null,
       "order": null,
       "overflow": null,
       "overflow_x": null,
       "overflow_y": null,
       "padding": null,
       "right": null,
       "top": null,
       "visibility": null,
       "width": null
      }
     },
     "3ae5d793b45b477c9432cc6155983b68": {
      "model_module": "@jupyter-widgets/controls",
      "model_module_version": "1.5.0",
      "model_name": "ProgressStyleModel",
      "state": {
       "_model_module": "@jupyter-widgets/controls",
       "_model_module_version": "1.5.0",
       "_model_name": "ProgressStyleModel",
       "_view_count": null,
       "_view_module": "@jupyter-widgets/base",
       "_view_module_version": "1.2.0",
       "_view_name": "StyleView",
       "bar_color": null,
       "description_width": ""
      }
     },
     "3b06f11342284ef58aaca0846d1b029c": {
      "model_module": "@jupyter-widgets/base",
      "model_module_version": "1.2.0",
      "model_name": "LayoutModel",
      "state": {
       "_model_module": "@jupyter-widgets/base",
       "_model_module_version": "1.2.0",
       "_model_name": "LayoutModel",
       "_view_count": null,
       "_view_module": "@jupyter-widgets/base",
       "_view_module_version": "1.2.0",
       "_view_name": "LayoutView",
       "align_content": null,
       "align_items": null,
       "align_self": null,
       "border": null,
       "bottom": null,
       "display": null,
       "flex": null,
       "flex_flow": null,
       "grid_area": null,
       "grid_auto_columns": null,
       "grid_auto_flow": null,
       "grid_auto_rows": null,
       "grid_column": null,
       "grid_gap": null,
       "grid_row": null,
       "grid_template_areas": null,
       "grid_template_columns": null,
       "grid_template_rows": null,
       "height": null,
       "justify_content": null,
       "justify_items": null,
       "left": null,
       "margin": null,
       "max_height": null,
       "max_width": null,
       "min_height": null,
       "min_width": null,
       "object_fit": null,
       "object_position": null,
       "order": null,
       "overflow": null,
       "overflow_x": null,
       "overflow_y": null,
       "padding": null,
       "right": null,
       "top": null,
       "visibility": null,
       "width": null
      }
     },
     "47d161a9121c4f1ba32f68058dd69072": {
      "model_module": "@jupyter-widgets/controls",
      "model_module_version": "1.5.0",
      "model_name": "DescriptionStyleModel",
      "state": {
       "_model_module": "@jupyter-widgets/controls",
       "_model_module_version": "1.5.0",
       "_model_name": "DescriptionStyleModel",
       "_view_count": null,
       "_view_module": "@jupyter-widgets/base",
       "_view_module_version": "1.2.0",
       "_view_name": "StyleView",
       "description_width": ""
      }
     },
     "68a770eb201841bdbc824407b1a13f7d": {
      "model_module": "@jupyter-widgets/base",
      "model_module_version": "1.2.0",
      "model_name": "LayoutModel",
      "state": {
       "_model_module": "@jupyter-widgets/base",
       "_model_module_version": "1.2.0",
       "_model_name": "LayoutModel",
       "_view_count": null,
       "_view_module": "@jupyter-widgets/base",
       "_view_module_version": "1.2.0",
       "_view_name": "LayoutView",
       "align_content": null,
       "align_items": null,
       "align_self": null,
       "border": null,
       "bottom": null,
       "display": null,
       "flex": null,
       "flex_flow": null,
       "grid_area": null,
       "grid_auto_columns": null,
       "grid_auto_flow": null,
       "grid_auto_rows": null,
       "grid_column": null,
       "grid_gap": null,
       "grid_row": null,
       "grid_template_areas": null,
       "grid_template_columns": null,
       "grid_template_rows": null,
       "height": null,
       "justify_content": null,
       "justify_items": null,
       "left": null,
       "margin": null,
       "max_height": null,
       "max_width": null,
       "min_height": null,
       "min_width": null,
       "object_fit": null,
       "object_position": null,
       "order": null,
       "overflow": null,
       "overflow_x": null,
       "overflow_y": null,
       "padding": null,
       "right": null,
       "top": null,
       "visibility": null,
       "width": null
      }
     },
     "7e275af16d5a4671a357c464b250ba86": {
      "model_module": "@jupyter-widgets/controls",
      "model_module_version": "1.5.0",
      "model_name": "HTMLModel",
      "state": {
       "_dom_classes": [],
       "_model_module": "@jupyter-widgets/controls",
       "_model_module_version": "1.5.0",
       "_model_name": "HTMLModel",
       "_view_count": null,
       "_view_module": "@jupyter-widgets/controls",
       "_view_module_version": "1.5.0",
       "_view_name": "HTMLView",
       "description": "",
       "description_tooltip": null,
       "layout": "IPY_MODEL_32d8f44eb11d4ed38e050df2b36efd01",
       "placeholder": "​",
       "style": "IPY_MODEL_297262a6b32b42e780ac8ee8ddcf8718",
       "value": "Bayesian opt: 100%"
      }
     },
     "bf5b39a487d345a18aaec6c77e68b16a": {
      "model_module": "@jupyter-widgets/controls",
      "model_module_version": "1.5.0",
      "model_name": "FloatProgressModel",
      "state": {
       "_dom_classes": [],
       "_model_module": "@jupyter-widgets/controls",
       "_model_module_version": "1.5.0",
       "_model_name": "FloatProgressModel",
       "_view_count": null,
       "_view_module": "@jupyter-widgets/controls",
       "_view_module_version": "1.5.0",
       "_view_name": "ProgressView",
       "bar_style": "",
       "description": "",
       "description_tooltip": null,
       "layout": "IPY_MODEL_68a770eb201841bdbc824407b1a13f7d",
       "max": 40,
       "min": 0,
       "orientation": "horizontal",
       "style": "IPY_MODEL_3ae5d793b45b477c9432cc6155983b68",
       "value": 40
      }
     }
    },
    "version_major": 2,
    "version_minor": 0
   }
  }
 },
 "nbformat": 4,
 "nbformat_minor": 4
}
