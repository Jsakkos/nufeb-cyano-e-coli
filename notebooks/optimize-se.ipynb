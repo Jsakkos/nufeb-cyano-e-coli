{
 "cells": [
  {
   "cell_type": "code",
   "execution_count": 1,
   "metadata": {
    "execution": {
     "iopub.execute_input": "2021-10-19T19:11:36.020851Z",
     "iopub.status.busy": "2021-10-19T19:11:36.020177Z",
     "iopub.status.idle": "2021-10-19T19:11:42.454023Z",
     "shell.execute_reply": "2021-10-19T19:11:42.454461Z"
    }
   },
   "outputs": [],
   "source": [
    "#Imports\n",
    "import os\n",
    "from random import uniform\n",
    "import subprocess\n",
    "from pathlib import Path\n",
    "from nufeb_tools import utils,plot\n",
    "import pandas as pd\n",
    "from string import Template\n",
    "import numpy as np\n",
    "from functools import partial\n",
    "import time\n",
    "from skopt import gp_minimize, forest_minimize, dummy_minimize, gbrt_minimize\n",
    "from skopt.plots import plot_convergence, plot_objective\n",
    "import matplotlib.pyplot as plt\n",
    "from scipy import interpolate\n",
    "from sklearn.metrics import r2_score"
   ]
  },
  {
   "cell_type": "code",
   "execution_count": 2,
   "metadata": {
    "execution": {
     "iopub.execute_input": "2021-10-19T19:11:42.459651Z",
     "iopub.status.busy": "2021-10-19T19:11:42.459167Z",
     "iopub.status.idle": "2021-10-19T19:11:42.533695Z",
     "shell.execute_reply": "2021-10-19T19:11:42.533276Z"
    }
   },
   "outputs": [],
   "source": [
    "test_data = pd.read_excel('../experimental-data/sucrose-OD-IPTG-sweep.xls',sheet_name='data')\n",
    "from scipy.optimize import curve_fit\n",
    "def od_func(x):\n",
    "    \"\"\"Exponential fit to IPTG vs OD750 experimental data\n",
    "\n",
    "    Args:\n",
    "        x (float): IPTG concentration (mM)\n",
    "\n",
    "    Returns:\n",
    "        float: Smoothed OD750\n",
    "    \"\"\"\n",
    "    return 0.25482 * np.exp(-x/.06811) + 1.12893\n",
    "def suc_func(x,a,b,c):\n",
    "    return a*np.exp(-x/b)+c\n",
    "# Smooth OD750 data for fitting\n",
    "test_data.loc[:,'OD750'] = od_func(test_data.IPTG)\n",
    "#popt, pcov = curve_fit(suc_func, test_data.IPTG, test_data.Sucrose)\n",
    "    #Compare output with experimental data\n",
    "#OD = interpolate.interp1d(test_data.IPTG,test_data.OD750)\n",
    "#Sucrose = interpolate.interp1d(test_data.IPTG,test_data.Sucrose)\n",
    "#sim = interpolate.interp1d(df.Hours.to_numpy(),df.OD600.to_numpy())\n",
    "#x_range = np.arange(0,1,.01)\n",
    "#plt.plot(x_range,suc_func(x_range))\n",
    "#plt.plot(test_data.IPTG,test_data.Sucrose,marker='o')\n",
    "#plt.plot(x_range, suc_func(x_range, *popt), 'r-')\n",
    "#xr = np.array([0.001,.01,.05,0.2,1])\n",
    "#plt.plot(xr,suc_func(xr, *popt),marker='s',ls='')\n",
    "#plt.plot(x_range,od_func(x_range))\n",
    "#residual = abs(r2_score(exp(x_range),sim(x_range))-1)"
   ]
  },
  {
   "cell_type": "code",
   "execution_count": 3,
   "metadata": {
    "execution": {
     "iopub.execute_input": "2021-10-19T19:11:42.547535Z",
     "iopub.status.busy": "2021-10-19T19:11:42.542230Z",
     "iopub.status.idle": "2021-10-19T19:11:42.550763Z",
     "shell.execute_reply": "2021-10-19T19:11:42.550282Z"
    }
   },
   "outputs": [
    {
     "name": "stdout",
     "output_type": "stream",
     "text": [
      "    IPTG     OD750   Sucrose\n",
      "0  0.000  1.383750  0.107117\n",
      "1  0.005  1.365714  0.200273\n",
      "2  0.010  1.400000  0.584090\n",
      "3  0.020  1.318909  1.473699\n",
      "4  0.050  1.230000  2.405350\n",
      "5  0.100  1.187624  2.790814\n",
      "6  0.200  1.142449  3.234595\n",
      "7  0.500  1.129095  3.348596\n",
      "8  1.000  1.128930  3.230569\n"
     ]
    },
    {
     "data": {
      "text/plain": [
       "0.014762782427352406"
      ]
     },
     "execution_count": 1,
     "metadata": {},
     "output_type": "execute_result"
    }
   ],
   "source": [
    "t2 = test_data.copy()\n",
    "t2.loc[2,'OD750']=1.40\n",
    "t2.loc[4,'OD750']=1.23\n",
    "t2.sort_values(by='IPTG',inplace=True)\n",
    "print(t2)\n",
    "abs(r2_score(t2[['OD750','Sucrose']],test_data[['OD750','Sucrose']])-1)"
   ]
  },
  {
   "cell_type": "code",
   "execution_count": 4,
   "metadata": {
    "execution": {
     "iopub.execute_input": "2021-10-19T19:11:42.554028Z",
     "iopub.status.busy": "2021-10-19T19:11:42.553548Z",
     "iopub.status.idle": "2021-10-19T19:20:10.704156Z",
     "shell.execute_reply": "2021-10-19T19:20:10.704693Z"
    }
   },
   "outputs": [],
   "source": [
    "# Base install of NUFEB\n",
    "os.chdir('/tmp')\n",
    "os.system('git clone https://github.com/Jsakkos/NUFEB --recursive')\n",
    "os.chdir('NUFEB')\n",
    "os.system('git checkout cyano')\n",
    "initial_compile = subprocess.run('/home/12x/init-compile.sh')\n"
   ]
  },
  {
   "cell_type": "code",
   "execution_count": 5,
   "metadata": {
    "execution": {
     "iopub.execute_input": "2021-10-19T19:20:10.709621Z",
     "iopub.status.busy": "2021-10-19T19:20:10.708967Z",
     "iopub.status.idle": "2021-10-19T19:20:10.711250Z",
     "shell.execute_reply": "2021-10-19T19:20:10.711764Z"
    }
   },
   "outputs": [],
   "source": [
    "#nufeb_compile = subprocess.run('/home/12x/rapid-compile.sh')\n"
   ]
  },
  {
   "cell_type": "code",
   "execution_count": 6,
   "metadata": {
    "execution": {
     "iopub.execute_input": "2021-10-19T19:20:10.717077Z",
     "iopub.status.busy": "2021-10-19T19:20:10.716416Z",
     "iopub.status.idle": "2021-10-19T19:20:10.718584Z",
     "shell.execute_reply": "2021-10-19T19:20:10.719131Z"
    }
   },
   "outputs": [],
   "source": [
    "def recompile(alpha,tau,c,alpha2,tau2,c2):\n",
    "    os.chdir('/tmp/NUFEB')\n",
    "    filein = open( f'/home/12x/nufeb-cyano-e-coli/templates/fix_bio_kinetics_monod2.txt' )\n",
    "    #read it\n",
    "    src = Template( filein.read() )\n",
    "    #do the substitution\n",
    "    result = src.safe_substitute({'alpha' : alpha, 'tau' : tau, 'c' : c,'alpha2' : alpha2, 'tau2' : tau2, 'c2' : c2\n",
    "                                        \n",
    "                                        })\n",
    "    with open(\"/tmp/NUFEB/src/USER-NUFEB/fix_bio_kinetics_monod.cpp\",\"w\") as f:\n",
    "       f.writelines(result)\n",
    "    #Compile NUFEB\n",
    "    nufeb_compile = subprocess.run('/home/12x/rapid-compile.sh')"
   ]
  },
  {
   "cell_type": "code",
   "execution_count": 7,
   "metadata": {
    "execution": {
     "iopub.execute_input": "2021-10-19T19:20:10.723328Z",
     "iopub.status.busy": "2021-10-19T19:20:10.722727Z",
     "iopub.status.idle": "2021-10-19T19:20:10.724734Z",
     "shell.execute_reply": "2021-10-19T19:20:10.725270Z"
    }
   },
   "outputs": [],
   "source": [
    "def test_run():\n",
    "    os.chdir('/tmp/NUFEB')\n",
    "    os.system('nufeb-clean')\n",
    "    text = f'nufeb-seed --cells 100,0 --d 1e-4,1e-4,1e-4 --grid 20 --t 8700'\n",
    "    os.system(text)\n",
    "    run_nufeb = subprocess.run('/home/12x/optim2.sh', stdout=subprocess.DEVNULL)"
   ]
  },
  {
   "cell_type": "code",
   "execution_count": 8,
   "metadata": {
    "execution": {
     "iopub.execute_input": "2021-10-19T19:20:10.729873Z",
     "iopub.status.busy": "2021-10-19T19:20:10.729297Z",
     "iopub.status.idle": "2021-10-19T19:20:51.373999Z",
     "shell.execute_reply": "2021-10-19T19:20:51.374393Z"
    }
   },
   "outputs": [
    {
     "data": {
      "image/png": "[encoded data removed]",
      "text/plain": [
       "<Figure size 432x288 with 1 Axes>"
      ]
     },
     "metadata": {
      "needs_background": "light"
     },
     "output_type": "display_data"
    }
   ],
   "source": [
    "# Test to make sure everything is working\n",
    "recompile(1,.03,.01,1,.05,.25)\n",
    "test_run()\n",
    "BASE_DIR = Path(f'runs/')\n",
    "folders = [path for path in BASE_DIR.iterdir() if path.is_dir()]\n",
    "data = [utils.get_data(directory=str(x)) for x in folders]\n",
    "f, ax = plt.subplots()\n",
    "plot.overall_growth(data[0].biomass,ax=ax)\n",
    "plt.show()"
   ]
  },
  {
   "cell_type": "code",
   "execution_count": 9,
   "metadata": {
    "execution": {
     "iopub.execute_input": "2021-10-19T19:20:51.378158Z",
     "iopub.status.busy": "2021-10-19T19:20:51.377705Z",
     "iopub.status.idle": "2021-10-19T19:20:51.381442Z",
     "shell.execute_reply": "2021-10-19T19:20:51.381816Z"
    }
   },
   "outputs": [],
   "source": [
    "from tqdm.notebook import tqdm\n",
    "\n",
    "class tqdm_skopt(object):\n",
    "    def __init__(self, **kwargs):\n",
    "        self._bar = tqdm(**kwargs)\n",
    "        \n",
    "    def __call__(self, res):\n",
    "        self._bar.update()"
   ]
  },
  {
   "cell_type": "code",
   "execution_count": 10,
   "metadata": {
    "execution": {
     "iopub.execute_input": "2021-10-19T19:20:51.389256Z",
     "iopub.status.busy": "2021-10-19T19:20:51.388763Z",
     "iopub.status.idle": "2021-10-19T19:20:51.391941Z",
     "shell.execute_reply": "2021-10-19T19:20:51.391471Z"
    }
   },
   "outputs": [
    {
     "data": {
      "text/plain": [
       "' def optimize():\\n    \\n\\n    res = gp_minimize(func,                  # the function to minimize\\n                    ,      # the bounds on each dimension of x\\n                    acq_func=\"EI\",      # the acquisition function\\n                    n_calls=5,         # the number of evaluations of f\\n                    n_random_starts=5,  # the number of random initialization points\\n                    random_state=1234)\\n    print(res)\\n    file_pi = open(\\'results.obj\\', \\'w\\') \\n    pickle.dump(res, file_pi) '"
      ]
     },
     "execution_count": 1,
     "metadata": {},
     "output_type": "execute_result"
    }
   ],
   "source": [
    "def func(x):\n",
    "\n",
    "    alpha = x[0]\n",
    "    tau = x[1]\n",
    "    c = x[2]\n",
    "    alpha2 = x[3]\n",
    "    tau2 = x[4]\n",
    "    c2 = x[5]\n",
    "    mu = x[6]\n",
    "    rho = x[7]\n",
    "\n",
    "\n",
    "\n",
    "\n",
    "    #Change input params\n",
    "    \n",
    "    os.chdir('/tmp/NUFEB')\n",
    "    recompile(alpha,tau,c,alpha2,tau2,c2)\n",
    "\n",
    "    #Clean old simulations\n",
    "    os.system('nufeb-clean')\n",
    "    #Run simulation\n",
    "    for iptg in test_data.IPTG:\n",
    "        text = f'nufeb-seed --cells 100,0 --d 1e-4,1e-4,1e-4 --grid 20 --t 8700 --mucya {mu} --sucR {iptg} --rhocya {rho}'\n",
    "        os.system(text)\n",
    "\n",
    "    run_nufeb = subprocess.run('/home/12x/optim2.sh', stdout=subprocess.DEVNULL)\n",
    "    BASE_DIR = Path(f'runs/')\n",
    "    folders = [path for path in BASE_DIR.iterdir() if path.is_dir()]\n",
    "\n",
    "    #Extract output\n",
    "\n",
    "    data = [utils.get_data(directory=str(x)) for x in folders]\n",
    "    Volume = 1e-4*1e-4*1e-4 #m^3\n",
    "    CellNum2OD = Volume*1e6/0.3e-8\n",
    "    SucroseMW = 342.3\n",
    "    dfs = []\n",
    "    for x in data:\n",
    "        temp = pd.concat([x.ntypes.cyano/CellNum2OD,x.ntypes.step/60/60*x.timestep,x.avg_con.Sucrose.reset_index(drop=True)],axis=1)\n",
    "        temp.columns=['OD750','Hours','Sucrose']\n",
    "        temp['IPTG'] = x.metadata['SucRatio']\n",
    "        dfs.append(temp)\n",
    "    df = pd.concat(dfs,ignore_index=True)\n",
    "    df = df.loc[(df.Hours > 23.8) & (df.Hours < 24)]\n",
    "    df.sort_values(by='IPTG',inplace=True)\n",
    "    df.reset_index(inplace=True)\n",
    "    #Compare output with experimental data via RMSE\n",
    "\n",
    "    return ((df[['OD750','Sucrose']]-test_data[['OD750','Sucrose']]) ** 2).mean().mean() ** .5\n",
    "\n",
    "    #Optimize\n",
    "\"\"\" def optimize():\n",
    "    \n",
    "\n",
    "    res = gp_minimize(func,                  # the function to minimize\n",
    "                    ,      # the bounds on each dimension of x\n",
    "                    acq_func=\"EI\",      # the acquisition function\n",
    "                    n_calls=5,         # the number of evaluations of f\n",
    "                    n_random_starts=5,  # the number of random initialization points\n",
    "                    random_state=1234)\n",
    "    print(res)\n",
    "    file_pi = open('results.obj', 'w') \n",
    "    pickle.dump(res, file_pi) \"\"\""
   ]
  },
  {
   "cell_type": "code",
   "execution_count": 11,
   "metadata": {
    "execution": {
     "iopub.execute_input": "2021-10-19T19:20:51.414831Z",
     "iopub.status.busy": "2021-10-19T19:20:51.396730Z",
     "iopub.status.idle": "2021-10-19T23:22:17.047430Z",
     "shell.execute_reply": "2021-10-19T23:22:17.047919Z"
    }
   },
   "outputs": [
    {
     "data": {
      "application/vnd.jupyter.widget-view+json": {
       "model_id": "4daf942a91df4d3eab05b72da16d2467",
       "version_major": 2,
       "version_minor": 0
      },
      "text/plain": [
       "HBox(children=(HTML(value='Bayesian opt'), FloatProgress(value=0.0, max=60.0), HTML(value='')))"
      ]
     },
     "metadata": {},
     "output_type": "display_data"
    },
    {
     "name": "stdout",
     "output_type": "stream",
     "text": [
      "Iteration No: 1 started. Evaluating function at random point.\n",
      "Iteration No: 1 ended. Evaluation done at random point.\n",
      "Time taken: 246.7982\n",
      "Function value obtained: 0.9079\n",
      "Current minimum: 0.9079\n",
      "Iteration No: 2 started. Evaluating function at random point.\n",
      "Iteration No: 2 ended. Evaluation done at random point.\n",
      "Time taken: 215.3235\n",
      "Function value obtained: 1.0101\n",
      "Current minimum: 0.9079\n",
      "Iteration No: 3 started. Evaluating function at random point.\n",
      "Iteration No: 3 ended. Evaluation done at random point.\n",
      "Time taken: 263.6978\n",
      "Function value obtained: 0.9399\n",
      "Current minimum: 0.9079\n",
      "Iteration No: 4 started. Evaluating function at random point.\n",
      "Iteration No: 4 ended. Evaluation done at random point.\n",
      "Time taken: 174.1084\n",
      "Function value obtained: 1.5213\n",
      "Current minimum: 0.9079\n",
      "Iteration No: 5 started. Evaluating function at random point.\n",
      "Iteration No: 5 ended. Evaluation done at random point.\n",
      "Time taken: 226.0310\n",
      "Function value obtained: 1.3398\n",
      "Current minimum: 0.9079\n",
      "Iteration No: 6 started. Evaluating function at random point.\n",
      "Iteration No: 6 ended. Evaluation done at random point.\n",
      "Time taken: 209.9358\n",
      "Function value obtained: 1.4331\n",
      "Current minimum: 0.9079\n",
      "Iteration No: 7 started. Evaluating function at random point.\n",
      "Iteration No: 7 ended. Evaluation done at random point.\n",
      "Time taken: 306.3425\n",
      "Function value obtained: 11.2913\n",
      "Current minimum: 0.9079\n",
      "Iteration No: 8 started. Evaluating function at random point.\n",
      "Iteration No: 8 ended. Evaluation done at random point.\n",
      "Time taken: 273.1959\n",
      "Function value obtained: 2.5235\n",
      "Current minimum: 0.9079\n",
      "Iteration No: 9 started. Evaluating function at random point.\n",
      "Iteration No: 9 ended. Evaluation done at random point.\n",
      "Time taken: 343.4128\n",
      "Function value obtained: 24.8681\n",
      "Current minimum: 0.9079\n",
      "Iteration No: 10 started. Evaluating function at random point.\n",
      "Iteration No: 10 ended. Evaluation done at random point.\n",
      "Time taken: 284.4955\n",
      "Function value obtained: 3.5569\n",
      "Current minimum: 0.9079\n",
      "Iteration No: 11 started. Evaluating function at random point.\n",
      "Iteration No: 11 ended. Evaluation done at random point.\n",
      "Time taken: 289.2808\n",
      "Function value obtained: 3.1045\n",
      "Current minimum: 0.9079\n",
      "Iteration No: 12 started. Evaluating function at random point.\n",
      "Iteration No: 12 ended. Evaluation done at random point.\n",
      "Time taken: 332.8234\n",
      "Function value obtained: 20.8489\n",
      "Current minimum: 0.9079\n",
      "Iteration No: 13 started. Evaluating function at random point.\n",
      "Iteration No: 13 ended. Evaluation done at random point.\n",
      "Time taken: 298.7967\n",
      "Function value obtained: 5.5397\n",
      "Current minimum: 0.9079\n",
      "Iteration No: 14 started. Evaluating function at random point.\n",
      "Iteration No: 14 ended. Evaluation done at random point.\n",
      "Time taken: 311.1210\n",
      "Function value obtained: 10.1465\n",
      "Current minimum: 0.9079\n",
      "Iteration No: 15 started. Evaluating function at random point.\n",
      "Iteration No: 15 ended. Evaluation done at random point.\n",
      "Time taken: 315.3324\n",
      "Function value obtained: 8.8157\n",
      "Current minimum: 0.9079\n",
      "Iteration No: 16 started. Evaluating function at random point.\n",
      "Iteration No: 16 ended. Evaluation done at random point.\n",
      "Time taken: 320.9238\n",
      "Function value obtained: 9.1549\n",
      "Current minimum: 0.9079\n",
      "Iteration No: 17 started. Evaluating function at random point.\n",
      "Iteration No: 17 ended. Evaluation done at random point.\n",
      "Time taken: 357.1058\n",
      "Function value obtained: 3.7200\n",
      "Current minimum: 0.9079\n",
      "Iteration No: 18 started. Evaluating function at random point.\n",
      "Iteration No: 18 ended. Evaluation done at random point.\n",
      "Time taken: 186.1850\n",
      "Function value obtained: 1.7333\n",
      "Current minimum: 0.9079\n",
      "Iteration No: 19 started. Evaluating function at random point.\n",
      "Iteration No: 19 ended. Evaluation done at random point.\n",
      "Time taken: 314.4850\n",
      "Function value obtained: 0.7714\n",
      "Current minimum: 0.7714\n",
      "Iteration No: 20 started. Evaluating function at random point.\n",
      "Iteration No: 20 ended. Evaluation done at random point.\n",
      "Time taken: 352.6476\n",
      "Function value obtained: 4.9371\n",
      "Current minimum: 0.7714\n",
      "Iteration No: 21 started. Searching for the next optimal point.\n",
      "Iteration No: 21 ended. Search finished for the next optimal point.\n",
      "Time taken: 333.6086\n",
      "Function value obtained: 0.7517\n",
      "Current minimum: 0.7517\n",
      "Iteration No: 22 started. Searching for the next optimal point.\n",
      "Iteration No: 22 ended. Search finished for the next optimal point.\n",
      "Time taken: 41.6689\n",
      "Function value obtained: 1.7669\n",
      "Current minimum: 0.7517\n",
      "Iteration No: 23 started. Searching for the next optimal point.\n",
      "Iteration No: 23 ended. Search finished for the next optimal point.\n",
      "Time taken: 221.6046\n",
      "Function value obtained: 0.9393\n",
      "Current minimum: 0.7517\n",
      "Iteration No: 24 started. Searching for the next optimal point.\n",
      "Iteration No: 24 ended. Search finished for the next optimal point.\n",
      "Time taken: 203.3432\n",
      "Function value obtained: 1.0524\n",
      "Current minimum: 0.7517\n",
      "Iteration No: 25 started. Searching for the next optimal point.\n",
      "Iteration No: 25 ended. Search finished for the next optimal point.\n",
      "Time taken: 42.6605\n",
      "Function value obtained: 1.7674\n",
      "Current minimum: 0.7517\n",
      "Iteration No: 26 started. Searching for the next optimal point.\n",
      "Iteration No: 26 ended. Search finished for the next optimal point.\n",
      "Time taken: 183.6670\n",
      "Function value obtained: 1.7208\n",
      "Current minimum: 0.7517\n",
      "Iteration No: 27 started. Searching for the next optimal point.\n",
      "Iteration No: 27 ended. Search finished for the next optimal point.\n",
      "Time taken: 228.3608\n",
      "Function value obtained: 1.1354\n",
      "Current minimum: 0.7517\n",
      "Iteration No: 28 started. Searching for the next optimal point.\n",
      "Iteration No: 28 ended. Search finished for the next optimal point.\n",
      "Time taken: 106.4451\n",
      "Function value obtained: 1.7339\n",
      "Current minimum: 0.7517\n",
      "Iteration No: 29 started. Searching for the next optimal point.\n",
      "Iteration No: 29 ended. Search finished for the next optimal point.\n",
      "Time taken: 248.6825\n",
      "Function value obtained: 0.9700\n",
      "Current minimum: 0.7517\n",
      "Iteration No: 30 started. Searching for the next optimal point.\n",
      "Iteration No: 30 ended. Search finished for the next optimal point.\n",
      "Time taken: 229.7435\n",
      "Function value obtained: 0.8982\n",
      "Current minimum: 0.7517\n",
      "Iteration No: 31 started. Searching for the next optimal point.\n",
      "Iteration No: 31 ended. Search finished for the next optimal point.\n",
      "Time taken: 114.8710\n",
      "Function value obtained: 1.7322\n",
      "Current minimum: 0.7517\n",
      "Iteration No: 32 started. Searching for the next optimal point.\n",
      "Iteration No: 32 ended. Search finished for the next optimal point.\n",
      "Time taken: 290.4428\n",
      "Function value obtained: 5.8856\n",
      "Current minimum: 0.7517\n",
      "Iteration No: 33 started. Searching for the next optimal point.\n",
      "Iteration No: 33 ended. Search finished for the next optimal point.\n",
      "Time taken: 196.9851\n",
      "Function value obtained: 2.0356\n",
      "Current minimum: 0.7517\n",
      "Iteration No: 34 started. Searching for the next optimal point.\n",
      "Iteration No: 34 ended. Search finished for the next optimal point.\n",
      "Time taken: 192.6698\n",
      "Function value obtained: 1.8255\n",
      "Current minimum: 0.7517\n",
      "Iteration No: 35 started. Searching for the next optimal point.\n",
      "Iteration No: 35 ended. Search finished for the next optimal point.\n",
      "Time taken: 261.2755\n",
      "Function value obtained: 0.7293\n",
      "Current minimum: 0.7293\n",
      "Iteration No: 36 started. Searching for the next optimal point.\n",
      "Iteration No: 36 ended. Search finished for the next optimal point.\n",
      "Time taken: 247.0571\n",
      "Function value obtained: 0.9270\n",
      "Current minimum: 0.7293\n",
      "Iteration No: 37 started. Searching for the next optimal point.\n",
      "Iteration No: 37 ended. Search finished for the next optimal point.\n",
      "Time taken: 236.5727\n",
      "Function value obtained: 0.8692\n",
      "Current minimum: 0.7293\n",
      "Iteration No: 38 started. Searching for the next optimal point.\n",
      "Iteration No: 38 ended. Search finished for the next optimal point.\n",
      "Time taken: 241.9343\n",
      "Function value obtained: 0.9479\n",
      "Current minimum: 0.7293\n",
      "Iteration No: 39 started. Searching for the next optimal point.\n",
      "Iteration No: 39 ended. Search finished for the next optimal point.\n",
      "Time taken: 242.6834\n",
      "Function value obtained: 0.6986\n",
      "Current minimum: 0.6986\n",
      "Iteration No: 40 started. Searching for the next optimal point.\n",
      "Iteration No: 40 ended. Search finished for the next optimal point.\n",
      "Time taken: 251.0886\n",
      "Function value obtained: 0.8122\n",
      "Current minimum: 0.6986\n",
      "Iteration No: 41 started. Searching for the next optimal point.\n",
      "Iteration No: 41 ended. Search finished for the next optimal point.\n",
      "Time taken: 256.2514\n",
      "Function value obtained: 0.6853\n",
      "Current minimum: 0.6853\n",
      "Iteration No: 42 started. Searching for the next optimal point.\n",
      "Iteration No: 42 ended. Search finished for the next optimal point.\n",
      "Time taken: 231.2664\n",
      "Function value obtained: 0.9635\n",
      "Current minimum: 0.6853\n",
      "Iteration No: 43 started. Searching for the next optimal point.\n",
      "Iteration No: 43 ended. Search finished for the next optimal point.\n",
      "Time taken: 246.6956\n",
      "Function value obtained: 0.6421\n",
      "Current minimum: 0.6421\n",
      "Iteration No: 44 started. Searching for the next optimal point.\n",
      "Iteration No: 44 ended. Search finished for the next optimal point.\n",
      "Time taken: 205.0632\n",
      "Function value obtained: 2.6142\n",
      "Current minimum: 0.6421\n",
      "Iteration No: 45 started. Searching for the next optimal point.\n",
      "Iteration No: 45 ended. Search finished for the next optimal point.\n",
      "Time taken: 249.6148\n",
      "Function value obtained: 0.6667\n",
      "Current minimum: 0.6421\n",
      "Iteration No: 46 started. Searching for the next optimal point.\n",
      "Iteration No: 46 ended. Search finished for the next optimal point.\n",
      "Time taken: 245.9356\n",
      "Function value obtained: 0.6734\n",
      "Current minimum: 0.6421\n",
      "Iteration No: 47 started. Searching for the next optimal point.\n",
      "Iteration No: 47 ended. Search finished for the next optimal point.\n",
      "Time taken: 216.7437\n",
      "Function value obtained: 1.2288\n",
      "Current minimum: 0.6421\n",
      "Iteration No: 48 started. Searching for the next optimal point.\n",
      "Iteration No: 48 ended. Search finished for the next optimal point.\n",
      "Time taken: 240.4846\n",
      "Function value obtained: 0.6973\n",
      "Current minimum: 0.6421\n",
      "Iteration No: 49 started. Searching for the next optimal point.\n",
      "Iteration No: 49 ended. Search finished for the next optimal point.\n",
      "Time taken: 253.7821\n",
      "Function value obtained: 1.1240\n",
      "Current minimum: 0.6421\n",
      "Iteration No: 50 started. Searching for the next optimal point.\n",
      "Iteration No: 50 ended. Search finished for the next optimal point.\n",
      "Time taken: 248.3222\n",
      "Function value obtained: 0.6332\n",
      "Current minimum: 0.6332\n",
      "Iteration No: 51 started. Searching for the next optimal point.\n",
      "Iteration No: 51 ended. Search finished for the next optimal point.\n",
      "Time taken: 238.7183\n",
      "Function value obtained: 0.6837\n",
      "Current minimum: 0.6332\n",
      "Iteration No: 52 started. Searching for the next optimal point.\n",
      "Iteration No: 52 ended. Search finished for the next optimal point.\n",
      "Time taken: 251.3469\n",
      "Function value obtained: 0.6730\n",
      "Current minimum: 0.6332\n",
      "Iteration No: 53 started. Searching for the next optimal point.\n",
      "Iteration No: 53 ended. Search finished for the next optimal point.\n",
      "Time taken: 261.1837\n",
      "Function value obtained: 1.7797\n",
      "Current minimum: 0.6332\n",
      "Iteration No: 54 started. Searching for the next optimal point.\n",
      "Iteration No: 54 ended. Search finished for the next optimal point.\n",
      "Time taken: 240.2308\n",
      "Function value obtained: 0.7137\n",
      "Current minimum: 0.6332\n",
      "Iteration No: 55 started. Searching for the next optimal point.\n",
      "Iteration No: 55 ended. Search finished for the next optimal point.\n",
      "Time taken: 247.8240\n",
      "Function value obtained: 0.6881\n",
      "Current minimum: 0.6332\n",
      "Iteration No: 56 started. Searching for the next optimal point.\n",
      "Iteration No: 56 ended. Search finished for the next optimal point.\n",
      "Time taken: 118.5792\n",
      "Function value obtained: 1.7015\n",
      "Current minimum: 0.6332\n",
      "Iteration No: 57 started. Searching for the next optimal point.\n",
      "Iteration No: 57 ended. Search finished for the next optimal point.\n",
      "Time taken: 253.8376\n",
      "Function value obtained: 0.6751\n",
      "Current minimum: 0.6332\n",
      "Iteration No: 58 started. Searching for the next optimal point.\n",
      "Iteration No: 58 ended. Search finished for the next optimal point.\n",
      "Time taken: 249.9756\n",
      "Function value obtained: 0.6640\n",
      "Current minimum: 0.6332\n",
      "Iteration No: 59 started. Searching for the next optimal point.\n",
      "Iteration No: 59 ended. Search finished for the next optimal point.\n",
      "Time taken: 247.4136\n",
      "Function value obtained: 0.6771\n",
      "Current minimum: 0.6332\n",
      "Iteration No: 60 started. Searching for the next optimal point.\n",
      "Iteration No: 60 ended. Search finished for the next optimal point.\n",
      "Time taken: 244.9189\n",
      "Function value obtained: 0.6378\n",
      "Current minimum: 0.6332\n"
     ]
    }
   ],
   "source": [
    "\n",
    "alpha_min = float('0')\n",
    "alpha_max = float('5e-1')\n",
    "tau_min = float('0')\n",
    "tau_max = float('1e-1')\n",
    "c_min = float('0')\n",
    "c_max = float('5e-1')\n",
    "alpha2_min = float('0')\n",
    "alpha2_max = float('5e1')\n",
    "tau2_min = float('0')\n",
    "tau2_max = float('1e-1')\n",
    "c2_min = float('0')\n",
    "c2_max = float('5e1')\n",
    "\n",
    "mu_min = float('1e-6')\n",
    "mu_max = float('5e-5')\n",
    "rho_min = 320\n",
    "rho_max = 390\n",
    "bounds = [(alpha_min,alpha_max),(tau_min,tau_max),(c_min,c_max),(alpha2_min,alpha2_max),(tau2_min,tau2_max),(c2_min,c2_max),(mu_min,mu_max),(rho_min,rho_max)]\n",
    "\n",
    "\n",
    "\n",
    "\n",
    "n_calls = 60\n",
    "#et_res = forest_minimize(func, bounds, n_calls=n_calls,callback=[tqdm_skopt(total=n_calls, desc=\"Random forest\")],base_estimator=\"ET\",n_initial_points =20)\n",
    "gp_res = gp_minimize(func, bounds, n_calls=n_calls,n_initial_points=20,random_state=5348,verbose=True,callback=[tqdm_skopt(total=n_calls, desc=\"Bayesian opt\")])"
   ]
  },
  {
   "cell_type": "code",
   "execution_count": 12,
   "metadata": {
    "execution": {
     "iopub.execute_input": "2021-10-19T23:22:17.064804Z",
     "iopub.status.busy": "2021-10-19T23:22:17.063271Z",
     "iopub.status.idle": "2021-10-19T23:22:17.366304Z",
     "shell.execute_reply": "2021-10-19T23:22:17.366740Z"
    }
   },
   "outputs": [
    {
     "data": {
      "text/plain": [
       "<AxesSubplot:title={'center':'Convergence plot'}, xlabel='Number of calls $n$', ylabel='$\\\\min f(x)$ after $n$ calls'>"
      ]
     },
     "execution_count": 1,
     "metadata": {},
     "output_type": "execute_result"
    },
    {
     "data": {
      "image/png": "[encoded data removed]",
      "text/plain": [
       "<Figure size 432x288 with 1 Axes>"
      ]
     },
     "metadata": {
      "needs_background": "light"
     },
     "output_type": "display_data"
    }
   ],
   "source": [
    "plot_convergence(gp_res,yscale='log')"
   ]
  },
  {
   "cell_type": "code",
   "execution_count": 13,
   "metadata": {
    "execution": {
     "iopub.execute_input": "2021-10-19T23:22:17.369760Z",
     "iopub.status.busy": "2021-10-19T23:22:17.369222Z",
     "iopub.status.idle": "2021-10-19T23:22:44.444070Z",
     "shell.execute_reply": "2021-10-19T23:22:44.443586Z"
    }
   },
   "outputs": [
    {
     "data": {
      "text/plain": [
       "array([[<AxesSubplot:xlabel='$X_{0}$', ylabel='Partial dependence'>,\n",
       "        <AxesSubplot:>, <AxesSubplot:>, <AxesSubplot:>, <AxesSubplot:>,\n",
       "        <AxesSubplot:>, <AxesSubplot:>],\n",
       "       [<AxesSubplot:ylabel='$X_{1}$'>,\n",
       "        <AxesSubplot:xlabel='$X_{1}$', ylabel='Partial dependence'>,\n",
       "        <AxesSubplot:>, <AxesSubplot:>, <AxesSubplot:>, <AxesSubplot:>,\n",
       "        <AxesSubplot:>],\n",
       "       [<AxesSubplot:ylabel='$X_{2}$'>, <AxesSubplot:>,\n",
       "        <AxesSubplot:xlabel='$X_{2}$', ylabel='Partial dependence'>,\n",
       "        <AxesSubplot:>, <AxesSubplot:>, <AxesSubplot:>, <AxesSubplot:>],\n",
       "       [<AxesSubplot:ylabel='$X_{3}$'>, <AxesSubplot:>, <AxesSubplot:>,\n",
       "        <AxesSubplot:xlabel='$X_{3}$', ylabel='Partial dependence'>,\n",
       "        <AxesSubplot:>, <AxesSubplot:>, <AxesSubplot:>],\n",
       "       [<AxesSubplot:ylabel='$X_{4}$'>, <AxesSubplot:>, <AxesSubplot:>,\n",
       "        <AxesSubplot:>,\n",
       "        <AxesSubplot:xlabel='$X_{4}$', ylabel='Partial dependence'>,\n",
       "        <AxesSubplot:>, <AxesSubplot:>],\n",
       "       [<AxesSubplot:ylabel='$X_{5}$'>, <AxesSubplot:>, <AxesSubplot:>,\n",
       "        <AxesSubplot:>, <AxesSubplot:>,\n",
       "        <AxesSubplot:xlabel='$X_{5}$', ylabel='Partial dependence'>,\n",
       "        <AxesSubplot:>],\n",
       "       [<AxesSubplot:xlabel='$X_{0}$', ylabel='$X_{6}$'>,\n",
       "        <AxesSubplot:xlabel='$X_{1}$'>, <AxesSubplot:xlabel='$X_{2}$'>,\n",
       "        <AxesSubplot:xlabel='$X_{3}$'>, <AxesSubplot:xlabel='$X_{4}$'>,\n",
       "        <AxesSubplot:xlabel='$X_{5}$'>,\n",
       "        <AxesSubplot:xlabel='$X_{6}$', ylabel='Partial dependence'>]],\n",
       "      dtype=object)"
      ]
     },
     "execution_count": 1,
     "metadata": {},
     "output_type": "execute_result"
    },
    {
     "data": {
      "image/png": "[encoded data removed]",
      "text/plain": [
       "<Figure size 1008x1008 with 49 Axes>"
      ]
     },
     "metadata": {
      "needs_background": "light"
     },
     "output_type": "display_data"
    }
   ],
   "source": [
    "plot_objective(gp_res)"
   ]
  },
  {
   "cell_type": "code",
   "execution_count": 14,
   "metadata": {
    "execution": {
     "iopub.execute_input": "2021-10-19T23:22:44.447413Z",
     "iopub.status.busy": "2021-10-19T23:22:44.446943Z",
     "iopub.status.idle": "2021-10-19T23:22:44.449067Z",
     "shell.execute_reply": "2021-10-19T23:22:44.449436Z"
    }
   },
   "outputs": [
    {
     "data": {
      "text/plain": [
       "[0.05230549727455282,\n",
       " 4.308608118584795,\n",
       " 0.1,\n",
       " 0.5421369492026907,\n",
       " 0.4338509485483162,\n",
       " 2.156617120244333e-05,\n",
       " 320]"
      ]
     },
     "execution_count": 1,
     "metadata": {},
     "output_type": "execute_result"
    }
   ],
   "source": [
    "gp_res.x"
   ]
  },
  {
   "cell_type": "code",
   "execution_count": 15,
   "metadata": {
    "execution": {
     "iopub.execute_input": "2021-10-19T23:22:44.455901Z",
     "iopub.status.busy": "2021-10-19T23:22:44.455433Z",
     "iopub.status.idle": "2021-10-19T23:26:52.095451Z",
     "shell.execute_reply": "2021-10-19T23:26:52.095000Z"
    }
   },
   "outputs": [],
   "source": [
    "os.chdir('/tmp/NUFEB')\n",
    "recompile(gp_res.x[0],gp_res.x[1],gp_res.x[2],gp_res.x[3],gp_res.x[4])\n",
    "\n",
    "#Clean old simulations\n",
    "os.system('nufeb-clean')\n",
    "#Run simulation\n",
    "for iptg in test_data.IPTG:\n",
    "    text = f'nufeb-seed --cells 100,0 --d 1e-4,1e-4,1e-4 --grid 20 --t 8700 --mucya {gp_res.x[5]} --sucR {iptg} --rhocya {gp_res.x[6]}'\n",
    "    os.system(text)\n",
    "\n",
    "run_nufeb = subprocess.run('/home/12x/optim2.sh', stdout=subprocess.DEVNULL)\n",
    "BASE_DIR = Path(f'runs/')\n",
    "folders = [path for path in BASE_DIR.iterdir() if path.is_dir()]\n",
    "\n",
    "#Extract output\n",
    "\n",
    "data = [utils.get_data(directory=str(x)) for x in folders]\n",
    "Volume = 1e-4*1e-4*1e-4 #m^3\n",
    "CellNum2OD = Volume*1e6/0.3e-8\n",
    "SucroseMW = 342.3\n",
    "dfs = []\n",
    "for x in data:\n",
    "    temp = pd.concat([x.ntypes.cyano/CellNum2OD,x.ntypes.step/60/60*x.timestep,x.avg_con.Sucrose.reset_index(drop=True)],axis=1)\n",
    "    temp.columns=['OD750','Hours','Sucrose']\n",
    "    temp['IPTG'] = x.metadata['SucRatio']\n",
    "    dfs.append(temp)\n",
    "df = pd.concat(dfs,ignore_index=True)\n",
    "df = df.loc[(df.Hours > 23.8) & (df.Hours < 24)]\n",
    "df.sort_values(by='IPTG',inplace=True)\n",
    "df.reset_index(inplace=True)"
   ]
  },
  {
   "cell_type": "code",
   "execution_count": 16,
   "metadata": {
    "execution": {
     "iopub.execute_input": "2021-10-19T23:26:52.110828Z",
     "iopub.status.busy": "2021-10-19T23:26:52.110344Z",
     "iopub.status.idle": "2021-10-19T23:26:52.334974Z",
     "shell.execute_reply": "2021-10-19T23:26:52.334562Z"
    }
   },
   "outputs": [
    {
     "data": {
      "text/plain": [
       "[<matplotlib.lines.Line2D at 0x2b7e215a4c50>]"
      ]
     },
     "execution_count": 1,
     "metadata": {},
     "output_type": "execute_result"
    },
    {
     "data": {
      "image/png": "[encoded data removed]",
      "text/plain": [
       "<Figure size 432x288 with 2 Axes>"
      ]
     },
     "metadata": {
      "needs_background": "light"
     },
     "output_type": "display_data"
    }
   ],
   "source": [
    "f, ax = plt.subplots(ncols=2)\n",
    "ax[0].set_title('Sucrose')\n",
    "ax[0].plot(test_data.IPTG,test_data.Sucrose,marker='o')\n",
    "ax[0].plot(df.IPTG,df.Sucrose)\n",
    "ax[1].set_title('OD750')\n",
    "ax[1].plot(test_data.IPTG,test_data.OD750,marker='o')\n",
    "ax[1].plot(df.IPTG,df.OD750)"
   ]
  },
  {
   "cell_type": "code",
   "execution_count": 17,
   "metadata": {
    "execution": {
     "iopub.execute_input": "2021-10-19T23:26:52.341144Z",
     "iopub.status.busy": "2021-10-19T23:26:52.340644Z",
     "iopub.status.idle": "2021-10-19T23:26:52.342849Z",
     "shell.execute_reply": "2021-10-19T23:26:52.343223Z"
    }
   },
   "outputs": [
    {
     "data": {
      "text/plain": [
       "OD750      0.401567\n",
       "Sucrose    0.827631\n",
       "dtype: float64"
      ]
     },
     "execution_count": 1,
     "metadata": {},
     "output_type": "execute_result"
    }
   ],
   "source": [
    "((df[['OD750','Sucrose']]-test_data[['OD750','Sucrose']]) ** 2).mean() ** .5\n"
   ]
  },
  {
   "cell_type": "code",
   "execution_count": 18,
   "metadata": {
    "execution": {
     "iopub.execute_input": "2021-10-19T23:26:52.348397Z",
     "iopub.status.busy": "2021-10-19T23:26:52.347955Z",
     "iopub.status.idle": "2021-10-19T23:26:52.355737Z",
     "shell.execute_reply": "2021-10-19T23:26:52.356151Z"
    }
   },
   "outputs": [
    {
     "data": {
      "text/html": [
       "<div>\n",
       "<style scoped>\n",
       "    .dataframe tbody tr th:only-of-type {\n",
       "        vertical-align: middle;\n",
       "    }\n",
       "\n",
       "    .dataframe tbody tr th {\n",
       "        vertical-align: top;\n",
       "    }\n",
       "\n",
       "    .dataframe thead th {\n",
       "        text-align: right;\n",
       "    }\n",
       "</style>\n",
       "<table border=\"1\" class=\"dataframe\">\n",
       "  <thead>\n",
       "    <tr style=\"text-align: right;\">\n",
       "      <th></th>\n",
       "      <th>index</th>\n",
       "      <th>OD750</th>\n",
       "      <th>Hours</th>\n",
       "      <th>Sucrose</th>\n",
       "      <th>IPTG</th>\n",
       "    </tr>\n",
       "  </thead>\n",
       "  <tbody>\n",
       "    <tr>\n",
       "      <th>0</th>\n",
       "      <td>790</td>\n",
       "      <td>1.713</td>\n",
       "      <td>23.888889</td>\n",
       "      <td>0.527416</td>\n",
       "      <td>0.000</td>\n",
       "    </tr>\n",
       "    <tr>\n",
       "      <th>1</th>\n",
       "      <td>702</td>\n",
       "      <td>1.719</td>\n",
       "      <td>23.888889</td>\n",
       "      <td>0.533876</td>\n",
       "      <td>0.005</td>\n",
       "    </tr>\n",
       "    <tr>\n",
       "      <th>2</th>\n",
       "      <td>614</td>\n",
       "      <td>1.737</td>\n",
       "      <td>23.888889</td>\n",
       "      <td>0.686011</td>\n",
       "      <td>0.010</td>\n",
       "    </tr>\n",
       "    <tr>\n",
       "      <th>3</th>\n",
       "      <td>526</td>\n",
       "      <td>1.560</td>\n",
       "      <td>23.888889</td>\n",
       "      <td>0.602892</td>\n",
       "      <td>0.020</td>\n",
       "    </tr>\n",
       "    <tr>\n",
       "      <th>4</th>\n",
       "      <td>438</td>\n",
       "      <td>1.752</td>\n",
       "      <td>23.888889</td>\n",
       "      <td>1.141209</td>\n",
       "      <td>0.050</td>\n",
       "    </tr>\n",
       "    <tr>\n",
       "      <th>5</th>\n",
       "      <td>350</td>\n",
       "      <td>1.686</td>\n",
       "      <td>23.888889</td>\n",
       "      <td>1.503434</td>\n",
       "      <td>0.100</td>\n",
       "    </tr>\n",
       "    <tr>\n",
       "      <th>6</th>\n",
       "      <td>262</td>\n",
       "      <td>1.626</td>\n",
       "      <td>23.888889</td>\n",
       "      <td>2.025391</td>\n",
       "      <td>0.200</td>\n",
       "    </tr>\n",
       "    <tr>\n",
       "      <th>7</th>\n",
       "      <td>174</td>\n",
       "      <td>1.524</td>\n",
       "      <td>23.888889</td>\n",
       "      <td>3.181522</td>\n",
       "      <td>0.500</td>\n",
       "    </tr>\n",
       "    <tr>\n",
       "      <th>8</th>\n",
       "      <td>86</td>\n",
       "      <td>1.476</td>\n",
       "      <td>23.888889</td>\n",
       "      <td>3.832755</td>\n",
       "      <td>1.000</td>\n",
       "    </tr>\n",
       "  </tbody>\n",
       "</table>\n",
       "</div>"
      ],
      "text/plain": [
       "   index  OD750      Hours   Sucrose   IPTG\n",
       "0    790  1.713  23.888889  0.527416  0.000\n",
       "1    702  1.719  23.888889  0.533876  0.005\n",
       "2    614  1.737  23.888889  0.686011  0.010\n",
       "3    526  1.560  23.888889  0.602892  0.020\n",
       "4    438  1.752  23.888889  1.141209  0.050\n",
       "5    350  1.686  23.888889  1.503434  0.100\n",
       "6    262  1.626  23.888889  2.025391  0.200\n",
       "7    174  1.524  23.888889  3.181522  0.500\n",
       "8     86  1.476  23.888889  3.832755  1.000"
      ]
     },
     "execution_count": 1,
     "metadata": {},
     "output_type": "execute_result"
    }
   ],
   "source": [
    "df"
   ]
  }
 ],
 "metadata": {
  "interpreter": {
   "hash": "2626e5adae8198ed7264a71f52684958c93e45a3e0e106b4eda1bc852fc4cd77"
  },
  "kernelspec": {
   "display_name": "Python 3.9.5 64-bit ('nufeb': conda)",
   "name": "python3"
  },
  "language_info": {
   "codemirror_mode": {
    "name": "ipython",
    "version": 3
   },
   "file_extension": ".py",
   "mimetype": "text/x-python",
   "name": "python",
   "nbconvert_exporter": "python",
   "pygments_lexer": "ipython3",
   "version": "3.9.5"
  },
  "widgets": {
   "application/vnd.jupyter.widget-state+json": {
    "state": {
     "28d8b8c3f94e4318bb6ed06b05927fc0": {
      "model_module": "@jupyter-widgets/base",
      "model_module_version": "1.2.0",
      "model_name": "LayoutModel",
      "state": {
       "_model_module": "@jupyter-widgets/base",
       "_model_module_version": "1.2.0",
       "_model_name": "LayoutModel",
       "_view_count": null,
       "_view_module": "@jupyter-widgets/base",
       "_view_module_version": "1.2.0",
       "_view_name": "LayoutView",
       "align_content": null,
       "align_items": null,
       "align_self": null,
       "border": null,
       "bottom": null,
       "display": null,
       "flex": null,
       "flex_flow": null,
       "grid_area": null,
       "grid_auto_columns": null,
       "grid_auto_flow": null,
       "grid_auto_rows": null,
       "grid_column": null,
       "grid_gap": null,
       "grid_row": null,
       "grid_template_areas": null,
       "grid_template_columns": null,
       "grid_template_rows": null,
       "height": null,
       "justify_content": null,
       "justify_items": null,
       "left": null,
       "margin": null,
       "max_height": null,
       "max_width": null,
       "min_height": null,
       "min_width": null,
       "object_fit": null,
       "object_position": null,
       "order": null,
       "overflow": null,
       "overflow_x": null,
       "overflow_y": null,
       "padding": null,
       "right": null,
       "top": null,
       "visibility": null,
       "width": null
      }
     },
     "2e9c1e70da3a4c0a8cb6b463d0c540fb": {
      "model_module": "@jupyter-widgets/controls",
      "model_module_version": "1.5.0",
      "model_name": "FloatProgressModel",
      "state": {
       "_dom_classes": [],
       "_model_module": "@jupyter-widgets/controls",
       "_model_module_version": "1.5.0",
       "_model_name": "FloatProgressModel",
       "_view_count": null,
       "_view_module": "@jupyter-widgets/controls",
       "_view_module_version": "1.5.0",
       "_view_name": "ProgressView",
       "bar_style": "",
       "description": "",
       "description_tooltip": null,
       "layout": "IPY_MODEL_6e03de5f2ed64c28a80c0ad457e59906",
       "max": 60,
       "min": 0,
       "orientation": "horizontal",
       "style": "IPY_MODEL_88723ad28dbb4654a0a15e1e10509b77",
       "value": 60
      }
     },
     "4daf942a91df4d3eab05b72da16d2467": {
      "model_module": "@jupyter-widgets/controls",
      "model_module_version": "1.5.0",
      "model_name": "HBoxModel",
      "state": {
       "_dom_classes": [],
       "_model_module": "@jupyter-widgets/controls",
       "_model_module_version": "1.5.0",
       "_model_name": "HBoxModel",
       "_view_count": null,
       "_view_module": "@jupyter-widgets/controls",
       "_view_module_version": "1.5.0",
       "_view_name": "HBoxView",
       "box_style": "",
       "children": [
        "IPY_MODEL_ae0e7607fd8f490d9a61c427b6da7f09",
        "IPY_MODEL_2e9c1e70da3a4c0a8cb6b463d0c540fb",
        "IPY_MODEL_87b2a33d96c147abb271dff135e5b82f"
       ],
       "layout": "IPY_MODEL_28d8b8c3f94e4318bb6ed06b05927fc0"
      }
     },
     "6e03de5f2ed64c28a80c0ad457e59906": {
      "model_module": "@jupyter-widgets/base",
      "model_module_version": "1.2.0",
      "model_name": "LayoutModel",
      "state": {
       "_model_module": "@jupyter-widgets/base",
       "_model_module_version": "1.2.0",
       "_model_name": "LayoutModel",
       "_view_count": null,
       "_view_module": "@jupyter-widgets/base",
       "_view_module_version": "1.2.0",
       "_view_name": "LayoutView",
       "align_content": null,
       "align_items": null,
       "align_self": null,
       "border": null,
       "bottom": null,
       "display": null,
       "flex": null,
       "flex_flow": null,
       "grid_area": null,
       "grid_auto_columns": null,
       "grid_auto_flow": null,
       "grid_auto_rows": null,
       "grid_column": null,
       "grid_gap": null,
       "grid_row": null,
       "grid_template_areas": null,
       "grid_template_columns": null,
       "grid_template_rows": null,
       "height": null,
       "justify_content": null,
       "justify_items": null,
       "left": null,
       "margin": null,
       "max_height": null,
       "max_width": null,
       "min_height": null,
       "min_width": null,
       "object_fit": null,
       "object_position": null,
       "order": null,
       "overflow": null,
       "overflow_x": null,
       "overflow_y": null,
       "padding": null,
       "right": null,
       "top": null,
       "visibility": null,
       "width": null
      }
     },
     "70aabaf7fe144dcb9de8d1ac18271865": {
      "model_module": "@jupyter-widgets/base",
      "model_module_version": "1.2.0",
      "model_name": "LayoutModel",
      "state": {
       "_model_module": "@jupyter-widgets/base",
       "_model_module_version": "1.2.0",
       "_model_name": "LayoutModel",
       "_view_count": null,
       "_view_module": "@jupyter-widgets/base",
       "_view_module_version": "1.2.0",
       "_view_name": "LayoutView",
       "align_content": null,
       "align_items": null,
       "align_self": null,
       "border": null,
       "bottom": null,
       "display": null,
       "flex": null,
       "flex_flow": null,
       "grid_area": null,
       "grid_auto_columns": null,
       "grid_auto_flow": null,
       "grid_auto_rows": null,
       "grid_column": null,
       "grid_gap": null,
       "grid_row": null,
       "grid_template_areas": null,
       "grid_template_columns": null,
       "grid_template_rows": null,
       "height": null,
       "justify_content": null,
       "justify_items": null,
       "left": null,
       "margin": null,
       "max_height": null,
       "max_width": null,
       "min_height": null,
       "min_width": null,
       "object_fit": null,
       "object_position": null,
       "order": null,
       "overflow": null,
       "overflow_x": null,
       "overflow_y": null,
       "padding": null,
       "right": null,
       "top": null,
       "visibility": null,
       "width": null
      }
     },
     "742bcf3d17544e60bb5c3296ff9928f3": {
      "model_module": "@jupyter-widgets/controls",
      "model_module_version": "1.5.0",
      "model_name": "DescriptionStyleModel",
      "state": {
       "_model_module": "@jupyter-widgets/controls",
       "_model_module_version": "1.5.0",
       "_model_name": "DescriptionStyleModel",
       "_view_count": null,
       "_view_module": "@jupyter-widgets/base",
       "_view_module_version": "1.2.0",
       "_view_name": "StyleView",
       "description_width": ""
      }
     },
     "87b2a33d96c147abb271dff135e5b82f": {
      "model_module": "@jupyter-widgets/controls",
      "model_module_version": "1.5.0",
      "model_name": "HTMLModel",
      "state": {
       "_dom_classes": [],
       "_model_module": "@jupyter-widgets/controls",
       "_model_module_version": "1.5.0",
       "_model_name": "HTMLModel",
       "_view_count": null,
       "_view_module": "@jupyter-widgets/controls",
       "_view_module_version": "1.5.0",
       "_view_name": "HTMLView",
       "description": "",
       "description_tooltip": null,
       "layout": "IPY_MODEL_70aabaf7fe144dcb9de8d1ac18271865",
       "placeholder": "​",
       "style": "IPY_MODEL_8d5f5b4dcb604386ae621cfd0c1111fb",
       "value": " 60/60 [4:01:25&lt;00:00, 238.37s/it]"
      }
     },
     "88723ad28dbb4654a0a15e1e10509b77": {
      "model_module": "@jupyter-widgets/controls",
      "model_module_version": "1.5.0",
      "model_name": "ProgressStyleModel",
      "state": {
       "_model_module": "@jupyter-widgets/controls",
       "_model_module_version": "1.5.0",
       "_model_name": "ProgressStyleModel",
       "_view_count": null,
       "_view_module": "@jupyter-widgets/base",
       "_view_module_version": "1.2.0",
       "_view_name": "StyleView",
       "bar_color": null,
       "description_width": ""
      }
     },
     "8d5f5b4dcb604386ae621cfd0c1111fb": {
      "model_module": "@jupyter-widgets/controls",
      "model_module_version": "1.5.0",
      "model_name": "DescriptionStyleModel",
      "state": {
       "_model_module": "@jupyter-widgets/controls",
       "_model_module_version": "1.5.0",
       "_model_name": "DescriptionStyleModel",
       "_view_count": null,
       "_view_module": "@jupyter-widgets/base",
       "_view_module_version": "1.2.0",
       "_view_name": "StyleView",
       "description_width": ""
      }
     },
     "ae0e7607fd8f490d9a61c427b6da7f09": {
      "model_module": "@jupyter-widgets/controls",
      "model_module_version": "1.5.0",
      "model_name": "HTMLModel",
      "state": {
       "_dom_classes": [],
       "_model_module": "@jupyter-widgets/controls",
       "_model_module_version": "1.5.0",
       "_model_name": "HTMLModel",
       "_view_count": null,
       "_view_module": "@jupyter-widgets/controls",
       "_view_module_version": "1.5.0",
       "_view_name": "HTMLView",
       "description": "",
       "description_tooltip": null,
       "layout": "IPY_MODEL_f9a2c2da32ab448ca0a7b282dad77e83",
       "placeholder": "​",
       "style": "IPY_MODEL_742bcf3d17544e60bb5c3296ff9928f3",
       "value": "Bayesian opt: 100%"
      }
     },
     "f9a2c2da32ab448ca0a7b282dad77e83": {
      "model_module": "@jupyter-widgets/base",
      "model_module_version": "1.2.0",
      "model_name": "LayoutModel",
      "state": {
       "_model_module": "@jupyter-widgets/base",
       "_model_module_version": "1.2.0",
       "_model_name": "LayoutModel",
       "_view_count": null,
       "_view_module": "@jupyter-widgets/base",
       "_view_module_version": "1.2.0",
       "_view_name": "LayoutView",
       "align_content": null,
       "align_items": null,
       "align_self": null,
       "border": null,
       "bottom": null,
       "display": null,
       "flex": null,
       "flex_flow": null,
       "grid_area": null,
       "grid_auto_columns": null,
       "grid_auto_flow": null,
       "grid_auto_rows": null,
       "grid_column": null,
       "grid_gap": null,
       "grid_row": null,
       "grid_template_areas": null,
       "grid_template_columns": null,
       "grid_template_rows": null,
       "height": null,
       "justify_content": null,
       "justify_items": null,
       "left": null,
       "margin": null,
       "max_height": null,
       "max_width": null,
       "min_height": null,
       "min_width": null,
       "object_fit": null,
       "object_position": null,
       "order": null,
       "overflow": null,
       "overflow_x": null,
       "overflow_y": null,
       "padding": null,
       "right": null,
       "top": null,
       "visibility": null,
       "width": null
      }
     }
    },
    "version_major": 2,
    "version_minor": 0
   }
  }
 },
 "nbformat": 4,
 "nbformat_minor": 4
}
