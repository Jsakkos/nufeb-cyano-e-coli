{
 "cells": [
  {
   "cell_type": "code",
   "execution_count": 7,
   "metadata": {
    "execution": {
     "iopub.execute_input": "2021-09-30T04:00:30.046568Z",
     "iopub.status.busy": "2021-09-30T04:00:30.045914Z",
     "iopub.status.idle": "2021-09-30T04:00:34.303220Z",
     "shell.execute_reply": "2021-09-30T04:00:34.302450Z"
    }
   },
   "outputs": [],
   "source": [
    "#Imports\n",
    "import os\n",
    "from random import uniform\n",
    "import subprocess\n",
    "from pathlib import Path\n",
    "from nufeb_tools import utils,plot\n",
    "import pandas as pd\n",
    "from string import Template\n",
    "import numpy as np\n",
    "from functools import partial\n",
    "import time\n",
    "from skopt import gp_minimize, forest_minimize, dummy_minimize, gbrt_minimize\n",
    "from skopt.plots import plot_convergence, plot_objective\n",
    "import matplotlib.pyplot as plt\n",
    "from scipy import interpolate\n",
    "from sklearn.metrics import r2_score"
   ]
  },
  {
   "cell_type": "code",
   "execution_count": 72,
   "metadata": {},
   "outputs": [],
   "source": [
    "test_data = pd.read_excel('../experimental-data/sucrose-OD-IPTG-sweep.xls',sheet_name='data')\n",
    "from scipy.optimize import curve_fit\n",
    "def od_func(x):\n",
    "    \"\"\"Exponential fit to IPTG vs OD750 experimental data\n",
    "\n",
    "    Args:\n",
    "        x (float): IPTG concentration (mM)\n",
    "\n",
    "    Returns:\n",
    "        float: Smoothed OD750\n",
    "    \"\"\"\n",
    "    return 0.25482 * np.exp(-x/.06811) + 1.12893\n",
    "def suc_func(x,a,b,c):\n",
    "    return a*np.exp(-x/b)+c\n",
    "# Smooth OD750 data for fitting\n",
    "test_data.loc[:,'OD750'] = od_func(test_data.IPTG)\n",
    "#popt, pcov = curve_fit(suc_func, test_data.IPTG, test_data.Sucrose)\n",
    "    #Compare output with experimental data\n",
    "#OD = interpolate.interp1d(test_data.IPTG,test_data.OD750)\n",
    "#Sucrose = interpolate.interp1d(test_data.IPTG,test_data.Sucrose)\n",
    "#sim = interpolate.interp1d(df.Hours.to_numpy(),df.OD600.to_numpy())\n",
    "#x_range = np.arange(0,1,.01)\n",
    "#plt.plot(x_range,suc_func(x_range))\n",
    "#plt.plot(test_data.IPTG,test_data.Sucrose,marker='o')\n",
    "#plt.plot(x_range, suc_func(x_range, *popt), 'r-')\n",
    "#xr = np.array([0.001,.01,.05,0.2,1])\n",
    "#plt.plot(xr,suc_func(xr, *popt),marker='s',ls='')\n",
    "#plt.plot(x_range,od_func(x_range))\n",
    "#residual = abs(r2_score(exp(x_range),sim(x_range))-1)"
   ]
  },
  {
   "cell_type": "code",
   "execution_count": 70,
   "metadata": {},
   "outputs": [
    {
     "name": "stdout",
     "output_type": "stream",
     "text": [
      "    IPTG     OD750   Sucrose\n",
      "0  0.000  1.370000  0.036666\n",
      "1  0.005  1.360000  0.068554\n",
      "2  0.010  1.400000  0.199934\n",
      "3  0.020  1.283333  0.504447\n",
      "4  0.050  1.230000  0.823351\n",
      "5  0.100  1.210000  0.955296\n",
      "6  0.200  1.166667  1.107202\n",
      "7  0.500  1.106667  1.146224\n",
      "8  1.000  1.128333  1.105824\n"
     ]
    },
    {
     "data": {
      "text/plain": [
       "0.0012505885122411353"
      ]
     },
     "execution_count": 70,
     "metadata": {},
     "output_type": "execute_result"
    }
   ],
   "source": [
    "t2 = test_data.copy()\n",
    "t2.loc[2,'OD750']=1.40\n",
    "t2.loc[4,'OD750']=1.23\n",
    "t2.sort_values(by='IPTG',inplace=True)\n",
    "print(t2)\n",
    "abs(r2_score(t2[['OD750','Sucrose']],test_data[['OD750','Sucrose']])-1)"
   ]
  },
  {
   "cell_type": "code",
   "execution_count": 2,
   "metadata": {
    "execution": {
     "iopub.execute_input": "2021-09-30T04:00:34.312684Z",
     "iopub.status.busy": "2021-09-30T04:00:34.312102Z",
     "iopub.status.idle": "2021-09-30T04:12:57.836718Z",
     "shell.execute_reply": "2021-09-30T04:12:57.836241Z"
    }
   },
   "outputs": [],
   "source": [
    "# Base install of NUFEB\n",
    "os.chdir('/tmp')\n",
    "os.system('git clone https://github.com/Jsakkos/NUFEB --recursive')\n",
    "os.chdir('NUFEB')\n",
    "os.system('git checkout cyano')\n",
    "initial_compile = subprocess.run('/home/12x/init-compile.sh')\n"
   ]
  },
  {
   "cell_type": "code",
   "execution_count": 3,
   "metadata": {
    "execution": {
     "iopub.execute_input": "2021-09-30T04:12:57.840383Z",
     "iopub.status.busy": "2021-09-30T04:12:57.839937Z",
     "iopub.status.idle": "2021-09-30T04:12:57.842106Z",
     "shell.execute_reply": "2021-09-30T04:12:57.841632Z"
    }
   },
   "outputs": [],
   "source": [
    "#nufeb_compile = subprocess.run('/home/12x/rapid-compile.sh')\n"
   ]
  },
  {
   "cell_type": "code",
   "execution_count": 4,
   "metadata": {
    "execution": {
     "iopub.execute_input": "2021-09-30T04:12:57.846297Z",
     "iopub.status.busy": "2021-09-30T04:12:57.845867Z",
     "iopub.status.idle": "2021-09-30T04:12:57.847499Z",
     "shell.execute_reply": "2021-09-30T04:12:57.847880Z"
    }
   },
   "outputs": [],
   "source": [
    "def recompile(alpha,beta,delta,kappa,kappa_2):\n",
    "    os.chdir('/tmp/NUFEB')\n",
    "    filein = open( f'/home/12x/nufeb-cyano-e-coli/templates/fix_bio_kinetics_monod2.txt' )\n",
    "    #read it\n",
    "    src = Template( filein.read() )\n",
    "    #do the substitution\n",
    "    result = src.safe_substitute({'alpha' : alpha, 'beta' : beta, 'delta' : delta,'kappa':kappa,'kappa_2':kappa_2\n",
    "                                        \n",
    "                                        })\n",
    "    with open(\"/tmp/NUFEB/src/USER-NUFEB/fix_bio_kinetics_monod.cpp\",\"w\") as f:\n",
    "       f.writelines(result)\n",
    "    #Compile NUFEB\n",
    "    nufeb_compile = subprocess.run('/home/12x/rapid-compile.sh')"
   ]
  },
  {
   "cell_type": "code",
   "execution_count": 5,
   "metadata": {
    "execution": {
     "iopub.execute_input": "2021-09-30T04:12:57.851095Z",
     "iopub.status.busy": "2021-09-30T04:12:57.850670Z",
     "iopub.status.idle": "2021-09-30T04:12:57.852279Z",
     "shell.execute_reply": "2021-09-30T04:12:57.852659Z"
    }
   },
   "outputs": [],
   "source": [
    "def test_run():\n",
    "    os.chdir('/tmp/NUFEB')\n",
    "    os.system('nufeb-clean')\n",
    "    text = f'nufeb-seed --cells 100,0 --d 1e-4,1e-4,1e-4 --grid 20 --t 8700'\n",
    "    os.system(text)\n",
    "    run_nufeb = subprocess.run('/home/12x/optim2.sh', stdout=subprocess.DEVNULL)"
   ]
  },
  {
   "cell_type": "code",
   "execution_count": 6,
   "metadata": {
    "execution": {
     "iopub.execute_input": "2021-09-30T04:12:57.856551Z",
     "iopub.status.busy": "2021-09-30T04:12:57.856099Z",
     "iopub.status.idle": "2021-09-30T04:13:47.873374Z",
     "shell.execute_reply": "2021-09-30T04:13:47.873748Z"
    }
   },
   "outputs": [
    {
     "data": {
      "image/png": "[encoded data removed]",
      "text/plain": [
       "<Figure size 432x288 with 1 Axes>"
      ]
     },
     "metadata": {
      "needs_background": "light"
     },
     "output_type": "display_data"
    }
   ],
   "source": [
    "# Test to make sure everything is working\n",
    "recompile(0.2,8,.01,1e-6)\n",
    "test_run()\n",
    "BASE_DIR = Path(f'runs/')\n",
    "folders = [path for path in BASE_DIR.iterdir() if path.is_dir()]\n",
    "data = [utils.get_data(directory=str(x)) for x in folders]\n",
    "f, ax = plt.subplots()\n",
    "plot.overall_growth(data[0].biomass,ax=ax)\n",
    "plt.show()"
   ]
  },
  {
   "cell_type": "code",
   "execution_count": 7,
   "metadata": {
    "execution": {
     "iopub.execute_input": "2021-09-30T04:13:47.877598Z",
     "iopub.status.busy": "2021-09-30T04:13:47.877053Z",
     "iopub.status.idle": "2021-09-30T04:13:47.879853Z",
     "shell.execute_reply": "2021-09-30T04:13:47.880289Z"
    }
   },
   "outputs": [],
   "source": [
    "from tqdm.notebook import tqdm\n",
    "\n",
    "class tqdm_skopt(object):\n",
    "    def __init__(self, **kwargs):\n",
    "        self._bar = tqdm(**kwargs)\n",
    "        \n",
    "    def __call__(self, res):\n",
    "        self._bar.update()"
   ]
  },
  {
   "cell_type": "code",
   "execution_count": 8,
   "metadata": {
    "execution": {
     "iopub.execute_input": "2021-09-30T04:13:47.890189Z",
     "iopub.status.busy": "2021-09-30T04:13:47.887173Z",
     "iopub.status.idle": "2021-09-30T04:13:47.892658Z",
     "shell.execute_reply": "2021-09-30T04:13:47.892259Z"
    }
   },
   "outputs": [
    {
     "data": {
      "text/plain": [
       "' def optimize():\\n    \\n\\n    res = gp_minimize(func,                  # the function to minimize\\n                    ,      # the bounds on each dimension of x\\n                    acq_func=\"EI\",      # the acquisition function\\n                    n_calls=5,         # the number of evaluations of f\\n                    n_random_starts=5,  # the number of random initialization points\\n                    random_state=1234)\\n    print(res)\\n    file_pi = open(\\'results.obj\\', \\'w\\') \\n    pickle.dump(res, file_pi) '"
      ]
     },
     "execution_count": 1,
     "metadata": {},
     "output_type": "execute_result"
    }
   ],
   "source": [
    "def func(x):\n",
    "\n",
    "    alpha = x[0]\n",
    "    beta = x[1]\n",
    "    delta = x[2]\n",
    "    kappa = x[3]\n",
    "    kappa_2 = x[4]\n",
    "    mu = x[5]\n",
    "    rho = x[6]\n",
    "\n",
    "\n",
    "\n",
    "\n",
    "    #Change input params\n",
    "    \n",
    "    os.chdir('/tmp/NUFEB')\n",
    "    recompile(alpha,beta,delta,kappa,kappa_2)\n",
    "\n",
    "    #Clean old simulations\n",
    "    os.system('nufeb-clean')\n",
    "    #Run simulation\n",
    "    for iptg in test_data.IPTG:\n",
    "        text = f'nufeb-seed --cells 100,0 --d 1e-4,1e-4,1e-4 --grid 20 --t 8700 --mucya {mu} --sucR {iptg} --rhocya {rho}'\n",
    "        os.system(text)\n",
    "\n",
    "    run_nufeb = subprocess.run('/home/12x/optim2.sh', stdout=subprocess.DEVNULL)\n",
    "    BASE_DIR = Path(f'runs/')\n",
    "    folders = [path for path in BASE_DIR.iterdir() if path.is_dir()]\n",
    "\n",
    "    #Extract output\n",
    "\n",
    "    data = [utils.get_data(directory=str(x)) for x in folders]\n",
    "    Volume = 1e-4*1e-4*1e-4 #m^3\n",
    "    CellNum2OD = Volume*1e6/0.3e-8\n",
    "    SucroseMW = 342.3\n",
    "    dfs = []\n",
    "    for x in data:\n",
    "        temp = pd.concat([x.ntypes.cyano/CellNum2OD,x.ntypes.step/60/60*x.timestep,x.avg_con.Sucrose.reset_index(drop=True)],axis=1)\n",
    "        temp.columns=['OD750','Hours','Sucrose']\n",
    "        temp['IPTG'] = x.metadata['SucRatio']\n",
    "        dfs.append(temp)\n",
    "    df = pd.concat(dfs)\n",
    "    df = df.loc[(df.Hours > 23.8) & (df.Hours < 24)]\n",
    "    df.sort_values(by='IPTG',inplace=True)\n",
    "\n",
    "    #Compare output with experimental data\n",
    "\n",
    "    return abs(r2_score(df[['OD750','Sucrose']],test_data[['OD750','Sucrose']])-1)\n",
    "    #Optimize\n",
    "\"\"\" def optimize():\n",
    "    \n",
    "\n",
    "    res = gp_minimize(func,                  # the function to minimize\n",
    "                    ,      # the bounds on each dimension of x\n",
    "                    acq_func=\"EI\",      # the acquisition function\n",
    "                    n_calls=5,         # the number of evaluations of f\n",
    "                    n_random_starts=5,  # the number of random initialization points\n",
    "                    random_state=1234)\n",
    "    print(res)\n",
    "    file_pi = open('results.obj', 'w') \n",
    "    pickle.dump(res, file_pi) \"\"\""
   ]
  },
  {
   "cell_type": "code",
   "execution_count": 9,
   "metadata": {
    "execution": {
     "iopub.execute_input": "2021-09-30T04:13:47.896248Z",
     "iopub.status.busy": "2021-09-30T04:13:47.895806Z",
     "iopub.status.idle": "2021-09-30T07:13:17.267962Z",
     "shell.execute_reply": "2021-09-30T07:13:17.268629Z"
    }
   },
   "outputs": [
    {
     "data": {
      "application/vnd.jupyter.widget-view+json": {
       "model_id": "c6b825d8af2145c3830338251a3cdf93",
       "version_major": 2,
       "version_minor": 0
      },
      "text/plain": [
       "HBox(children=(HTML(value='Random forest'), FloatProgress(value=0.0), HTML(value='')))"
      ]
     },
     "metadata": {},
     "output_type": "display_data"
    },
    {
     "name": "stdout",
     "output_type": "stream",
     "text": [
      "1256.6027589269893\n",
      "233.35502345645773\n",
      "4.104899632936242\n",
      "3.261946746756424\n",
      "7.900041623419414\n",
      "151.24662575139357\n",
      "4.072121720847331\n",
      "174.8174106494671\n",
      "14.453221589432694\n",
      "281.77566987592485\n",
      "32.474568323291024\n",
      "3.5796838627703558\n",
      "3.1751909839972567\n",
      "1341.749062020317\n",
      "191.2528003290495\n",
      "805.3663824246652\n",
      "9.038430475566594\n",
      "1666.485835188184\n",
      "57.203714316323854\n",
      "54.768449102546406\n",
      "4.269702391942974\n",
      "3.4599151684307383\n",
      "9.660934643168874\n",
      "4.155400777621508\n",
      "20.626200117936193\n",
      "1.737175527472771\n",
      "6.331036494454818\n",
      "76.81856523015972\n",
      "23.27749885090624\n",
      "41.34543830611673\n",
      "56.34434489973012\n",
      "18.80807171688503\n",
      "90.50013347829028\n",
      "28.982416580628765\n",
      "185.04902522603408\n",
      "2.863027837117217\n",
      "323.51186613656614\n",
      "3.3970585583176276\n",
      "16.587004033108844\n",
      "1.2854198773864727\n",
      "52.02724848231563\n",
      "319.7402121725454\n",
      "3.892093295480923\n",
      "4.218929239950673\n",
      "6.218206820570134\n",
      "20.565361605643425\n",
      "56.11784606492452\n",
      "23.938410852421313\n",
      "51.418342531191406\n",
      "21.616220052681893\n",
      "42.066502313588316\n",
      "138.00335637492128\n",
      "155.40711804148083\n",
      "103.37945166396844\n",
      "4.0598245376861115\n",
      "109.23284962541379\n",
      "288.61581397144676\n",
      "17.051381891846404\n",
      "154.13600748426913\n",
      "119.83906420621392\n",
      "58.4479155726428\n",
      "51.47249588912334\n",
      "4.0034879437210895\n",
      "24.22420316822351\n",
      "1.4772804988001544\n",
      "3.6453034947071874\n",
      "36.13131697159298\n",
      "2.650574746721261\n",
      "4.212039009253193\n",
      "2.137446138789951\n",
      "600.7905660696289\n",
      "2.684684765174902\n",
      "4.119447182613805\n",
      "2.9416374026791487\n",
      "43.28683509071789\n",
      "1.7493762371223722\n",
      "53.6677613088421\n",
      "17.229229917553482\n",
      "2.214856415186608\n",
      "55.12449909491216\n",
      "28.620108857163\n",
      "0.5633334629449407\n",
      "60.87968632955359\n",
      "84.82499144218166\n",
      "24.539435147012497\n",
      "1.0325985306090015\n",
      "12.615479073454317\n",
      "33.69662204820478\n",
      "102.73644721809356\n",
      "26.190957219733086\n",
      "62.206118589491325\n",
      "61.40316259359855\n",
      "666.8767968597103\n",
      "3.1957133801814455\n",
      "95.31821445582284\n",
      "84.30686246973502\n",
      "12.093285363993415\n",
      "1.9225821889549732\n",
      "7.768905436649484\n",
      "133.92703203976484\n"
     ]
    }
   ],
   "source": [
    "mu_min = float('1e-6')\n",
    "mu_max = float('5e-5')\n",
    "a_min = float('0.01')\n",
    "a_max = float('0.5')\n",
    "b_min = float('0')\n",
    "b_max = float('10')\n",
    "d_min = float('0')\n",
    "d_max = float('1e-1')\n",
    "rho_min = 320\n",
    "rho_max = 390\n",
    "kappa_min = float('.01')\n",
    "kappa_max = float('.05')\n",
    "kappa2_min = float('.01')\n",
    "kappa2_max = float('.05')\n",
    "m_min = float('1e-8')\n",
    "m_max = float('1e-7')\n",
    "bounds = [(a_min,a_max),(b_min,b_max),(d_min,d_max),(kappa_min,kappa_max),(kappa2_min,kappa2_max),(m_min,m_max),(mu_min,mu_max),(rho_min,rho_max)]\n",
    "\n",
    "\n",
    "\n",
    "\n",
    "bounds = [(0.05, .5),(1,10),(0.01,.1),(.000001,.001),(0.000001,0.0001),(320,390)]\n",
    "n_calls = 100\n",
    "#et_res = forest_minimize(func, bounds, n_calls=n_calls,callback=[tqdm_skopt(total=n_calls, desc=\"Random forest\")],base_estimator=\"ET\",n_initial_points =20)\n",
    "gp_res = gp_minimize(func, bounds, n_calls=n_calls,random_state=5348,verbose=True,callback=[tqdm_skopt(total=n_calls, desc=\"Bayesian opt\")])"
   ]
  },
  {
   "cell_type": "code",
   "execution_count": null,
   "metadata": {},
   "outputs": [],
   "source": [
    "plot_convergence(gp_res,yscale='log')"
   ]
  },
  {
   "cell_type": "code",
   "execution_count": 10,
   "metadata": {
    "execution": {
     "iopub.execute_input": "2021-09-30T07:13:17.283516Z",
     "iopub.status.busy": "2021-09-30T07:13:17.274855Z",
     "iopub.status.idle": "2021-09-30T07:13:17.461854Z",
     "shell.execute_reply": "2021-09-30T07:13:17.461187Z"
    }
   },
   "outputs": [
    {
     "data": {
      "text/plain": [
       "<AxesSubplot:title={'center':'Convergence plot'}, xlabel='Number of calls $n$', ylabel='$\\\\min f(x)$ after $n$ calls'>"
      ]
     },
     "execution_count": 1,
     "metadata": {},
     "output_type": "execute_result"
    },
    {
     "data": {
      "image/png": "[encoded data removed]",
      "text/plain": [
       "<Figure size 432x288 with 1 Axes>"
      ]
     },
     "metadata": {
      "needs_background": "light"
     },
     "output_type": "display_data"
    }
   ],
   "source": [
    "plot_objective(gp_res)"
   ]
  },
  {
   "cell_type": "code",
   "execution_count": 12,
   "metadata": {
    "execution": {
     "iopub.execute_input": "2021-09-30T07:16:28.859492Z",
     "iopub.status.busy": "2021-09-30T07:16:28.858914Z",
     "iopub.status.idle": "2021-09-30T07:16:28.861051Z",
     "shell.execute_reply": "2021-09-30T07:16:28.860556Z"
    }
   },
   "outputs": [],
   "source": [
    "gp_res.x"
   ]
  },
  {
   "cell_type": "code",
   "execution_count": 13,
   "metadata": {
    "execution": {
     "iopub.execute_input": "2021-09-30T07:16:28.863927Z",
     "iopub.status.busy": "2021-09-30T07:16:28.863360Z",
     "iopub.status.idle": "2021-09-30T07:16:28.865566Z",
     "shell.execute_reply": "2021-09-30T07:16:28.864990Z"
    }
   },
   "outputs": [],
   "source": [
    "os.chdir('/tmp/NUFEB')\n",
    "recompile(gp_res.x[0],gp_res.x[1],gp_res.x[2],gp_res.x[3],gp_res.x[4])\n",
    "\n",
    "#Clean old simulations\n",
    "os.system('nufeb-clean')\n",
    "#Run simulation\n",
    "for iptg in test_data.IPTG:\n",
    "    text = f'nufeb-seed --cells 100,0 --d 1e-4,1e-4,1e-4 --grid 20 --t 8700 --mucya {gp_res.x[5]} --sucR {iptg} --rhocya {gp_res.x[6]}'\n",
    "    os.system(text)\n",
    "\n",
    "run_nufeb = subprocess.run('/home/12x/optim2.sh', stdout=subprocess.DEVNULL)\n",
    "BASE_DIR = Path(f'runs/')\n",
    "folders = [path for path in BASE_DIR.iterdir() if path.is_dir()]\n",
    "\n",
    "#Extract output\n",
    "\n",
    "data = [utils.get_data(directory=str(x)) for x in folders]\n",
    "Volume = 1e-4*1e-4*1e-4 #m^3\n",
    "CellNum2OD = Volume*1e6/0.3e-8\n",
    "SucroseMW = 342.3\n",
    "dfs = []\n",
    "for x in data:\n",
    "    temp = pd.concat([x.ntypes.cyano/CellNum2OD,x.ntypes.step/60/60*x.timestep,x.avg_con.Sucrose.reset_index(drop=True)],axis=1)\n",
    "    temp.columns=['OD750','Hours','Sucrose']\n",
    "    temp['IPTG'] = x.metadata['SucRatio']\n",
    "    dfs.append(temp)\n",
    "df = pd.concat(dfs)\n",
    "df = df.loc[(df.Hours > 23.8) & (df.Hours < 24)]\n",
    "df.sort_values(by='IPTG',inplace=True)\n"
   ]
  },
  {
   "cell_type": "code",
   "execution_count": null,
   "metadata": {},
   "outputs": [],
   "source": [
    "f, ax = plt.subplots(ncols=2)\n",
    "ax[0].plot(test_data.IPTG,test_data.Sucrose,marker='o')\n",
    "ax[0].plot(df.IPTG,df.Sucrose)\n",
    "ax[1].plot(test_data.IPTG,test_data.OD750,marker='o')\n",
    "ax[1].plot(df.IPTG,df.OD750)"
   ]
  }
 ],
 "metadata": {
  "interpreter": {
   "hash": "2626e5adae8198ed7264a71f52684958c93e45a3e0e106b4eda1bc852fc4cd77"
  },
  "kernelspec": {
   "display_name": "Python 3.9.5 64-bit ('nufeb': conda)",
   "name": "python3"
  },
  "language_info": {
   "codemirror_mode": {
    "name": "ipython",
    "version": 3
   },
   "file_extension": ".py",
   "mimetype": "text/x-python",
   "name": "python",
   "nbconvert_exporter": "python",
   "pygments_lexer": "ipython3",
   "version": "3.9.5"
  },
  "widgets": {
   "application/vnd.jupyter.widget-state+json": {
    "state": {
     "1407e632adf14d19960ddf47e8f473aa": {
      "model_module": "@jupyter-widgets/controls",
      "model_module_version": "1.5.0",
      "model_name": "DescriptionStyleModel",
      "state": {
       "_model_module": "@jupyter-widgets/controls",
       "_model_module_version": "1.5.0",
       "_model_name": "DescriptionStyleModel",
       "_view_count": null,
       "_view_module": "@jupyter-widgets/base",
       "_view_module_version": "1.2.0",
       "_view_name": "StyleView",
       "description_width": ""
      }
     },
     "1977fcc79e724e25a02ccbd22e22bb25": {
      "model_module": "@jupyter-widgets/controls",
      "model_module_version": "1.5.0",
      "model_name": "DescriptionStyleModel",
      "state": {
       "_model_module": "@jupyter-widgets/controls",
       "_model_module_version": "1.5.0",
       "_model_name": "DescriptionStyleModel",
       "_view_count": null,
       "_view_module": "@jupyter-widgets/base",
       "_view_module_version": "1.2.0",
       "_view_name": "StyleView",
       "description_width": ""
      }
     },
     "2550f3b0d0174b1fb7fa639035ad3256": {
      "model_module": "@jupyter-widgets/controls",
      "model_module_version": "1.5.0",
      "model_name": "FloatProgressModel",
      "state": {
       "_dom_classes": [],
       "_model_module": "@jupyter-widgets/controls",
       "_model_module_version": "1.5.0",
       "_model_name": "FloatProgressModel",
       "_view_count": null,
       "_view_module": "@jupyter-widgets/controls",
       "_view_module_version": "1.5.0",
       "_view_name": "ProgressView",
       "bar_style": "",
       "description": "",
       "description_tooltip": null,
       "layout": "IPY_MODEL_84dd18eca3b144118212630881b7900a",
       "max": 100,
       "min": 0,
       "orientation": "horizontal",
       "style": "IPY_MODEL_374c154ffd1b44c99da2a0e4b1711143",
       "value": 100
      }
     },
     "34706fa3578145e9b13de9c8c6912424": {
      "model_module": "@jupyter-widgets/base",
      "model_module_version": "1.2.0",
      "model_name": "LayoutModel",
      "state": {
       "_model_module": "@jupyter-widgets/base",
       "_model_module_version": "1.2.0",
       "_model_name": "LayoutModel",
       "_view_count": null,
       "_view_module": "@jupyter-widgets/base",
       "_view_module_version": "1.2.0",
       "_view_name": "LayoutView",
       "align_content": null,
       "align_items": null,
       "align_self": null,
       "border": null,
       "bottom": null,
       "display": null,
       "flex": null,
       "flex_flow": null,
       "grid_area": null,
       "grid_auto_columns": null,
       "grid_auto_flow": null,
       "grid_auto_rows": null,
       "grid_column": null,
       "grid_gap": null,
       "grid_row": null,
       "grid_template_areas": null,
       "grid_template_columns": null,
       "grid_template_rows": null,
       "height": null,
       "justify_content": null,
       "justify_items": null,
       "left": null,
       "margin": null,
       "max_height": null,
       "max_width": null,
       "min_height": null,
       "min_width": null,
       "object_fit": null,
       "object_position": null,
       "order": null,
       "overflow": null,
       "overflow_x": null,
       "overflow_y": null,
       "padding": null,
       "right": null,
       "top": null,
       "visibility": null,
       "width": null
      }
     },
     "374c154ffd1b44c99da2a0e4b1711143": {
      "model_module": "@jupyter-widgets/controls",
      "model_module_version": "1.5.0",
      "model_name": "ProgressStyleModel",
      "state": {
       "_model_module": "@jupyter-widgets/controls",
       "_model_module_version": "1.5.0",
       "_model_name": "ProgressStyleModel",
       "_view_count": null,
       "_view_module": "@jupyter-widgets/base",
       "_view_module_version": "1.2.0",
       "_view_name": "StyleView",
       "bar_color": null,
       "description_width": ""
      }
     },
     "84dd18eca3b144118212630881b7900a": {
      "model_module": "@jupyter-widgets/base",
      "model_module_version": "1.2.0",
      "model_name": "LayoutModel",
      "state": {
       "_model_module": "@jupyter-widgets/base",
       "_model_module_version": "1.2.0",
       "_model_name": "LayoutModel",
       "_view_count": null,
       "_view_module": "@jupyter-widgets/base",
       "_view_module_version": "1.2.0",
       "_view_name": "LayoutView",
       "align_content": null,
       "align_items": null,
       "align_self": null,
       "border": null,
       "bottom": null,
       "display": null,
       "flex": null,
       "flex_flow": null,
       "grid_area": null,
       "grid_auto_columns": null,
       "grid_auto_flow": null,
       "grid_auto_rows": null,
       "grid_column": null,
       "grid_gap": null,
       "grid_row": null,
       "grid_template_areas": null,
       "grid_template_columns": null,
       "grid_template_rows": null,
       "height": null,
       "justify_content": null,
       "justify_items": null,
       "left": null,
       "margin": null,
       "max_height": null,
       "max_width": null,
       "min_height": null,
       "min_width": null,
       "object_fit": null,
       "object_position": null,
       "order": null,
       "overflow": null,
       "overflow_x": null,
       "overflow_y": null,
       "padding": null,
       "right": null,
       "top": null,
       "visibility": null,
       "width": null
      }
     },
     "8c102b73739a449eb39a9ae260689d7f": {
      "model_module": "@jupyter-widgets/base",
      "model_module_version": "1.2.0",
      "model_name": "LayoutModel",
      "state": {
       "_model_module": "@jupyter-widgets/base",
       "_model_module_version": "1.2.0",
       "_model_name": "LayoutModel",
       "_view_count": null,
       "_view_module": "@jupyter-widgets/base",
       "_view_module_version": "1.2.0",
       "_view_name": "LayoutView",
       "align_content": null,
       "align_items": null,
       "align_self": null,
       "border": null,
       "bottom": null,
       "display": null,
       "flex": null,
       "flex_flow": null,
       "grid_area": null,
       "grid_auto_columns": null,
       "grid_auto_flow": null,
       "grid_auto_rows": null,
       "grid_column": null,
       "grid_gap": null,
       "grid_row": null,
       "grid_template_areas": null,
       "grid_template_columns": null,
       "grid_template_rows": null,
       "height": null,
       "justify_content": null,
       "justify_items": null,
       "left": null,
       "margin": null,
       "max_height": null,
       "max_width": null,
       "min_height": null,
       "min_width": null,
       "object_fit": null,
       "object_position": null,
       "order": null,
       "overflow": null,
       "overflow_x": null,
       "overflow_y": null,
       "padding": null,
       "right": null,
       "top": null,
       "visibility": null,
       "width": null
      }
     },
     "9527d6b453b648a88378fe8d06dc8912": {
      "model_module": "@jupyter-widgets/base",
      "model_module_version": "1.2.0",
      "model_name": "LayoutModel",
      "state": {
       "_model_module": "@jupyter-widgets/base",
       "_model_module_version": "1.2.0",
       "_model_name": "LayoutModel",
       "_view_count": null,
       "_view_module": "@jupyter-widgets/base",
       "_view_module_version": "1.2.0",
       "_view_name": "LayoutView",
       "align_content": null,
       "align_items": null,
       "align_self": null,
       "border": null,
       "bottom": null,
       "display": null,
       "flex": null,
       "flex_flow": null,
       "grid_area": null,
       "grid_auto_columns": null,
       "grid_auto_flow": null,
       "grid_auto_rows": null,
       "grid_column": null,
       "grid_gap": null,
       "grid_row": null,
       "grid_template_areas": null,
       "grid_template_columns": null,
       "grid_template_rows": null,
       "height": null,
       "justify_content": null,
       "justify_items": null,
       "left": null,
       "margin": null,
       "max_height": null,
       "max_width": null,
       "min_height": null,
       "min_width": null,
       "object_fit": null,
       "object_position": null,
       "order": null,
       "overflow": null,
       "overflow_x": null,
       "overflow_y": null,
       "padding": null,
       "right": null,
       "top": null,
       "visibility": null,
       "width": null
      }
     },
     "9b68c666af304abfa22cbc660177e52d": {
      "model_module": "@jupyter-widgets/controls",
      "model_module_version": "1.5.0",
      "model_name": "HTMLModel",
      "state": {
       "_dom_classes": [],
       "_model_module": "@jupyter-widgets/controls",
       "_model_module_version": "1.5.0",
       "_model_name": "HTMLModel",
       "_view_count": null,
       "_view_module": "@jupyter-widgets/controls",
       "_view_module_version": "1.5.0",
       "_view_name": "HTMLView",
       "description": "",
       "description_tooltip": null,
       "layout": "IPY_MODEL_34706fa3578145e9b13de9c8c6912424",
       "placeholder": "​",
       "style": "IPY_MODEL_1407e632adf14d19960ddf47e8f473aa",
       "value": " 100/100 [2:59:29&lt;00:00, 117.38s/it]"
      }
     },
     "c6b825d8af2145c3830338251a3cdf93": {
      "model_module": "@jupyter-widgets/controls",
      "model_module_version": "1.5.0",
      "model_name": "HBoxModel",
      "state": {
       "_dom_classes": [],
       "_model_module": "@jupyter-widgets/controls",
       "_model_module_version": "1.5.0",
       "_model_name": "HBoxModel",
       "_view_count": null,
       "_view_module": "@jupyter-widgets/controls",
       "_view_module_version": "1.5.0",
       "_view_name": "HBoxView",
       "box_style": "",
       "children": [
        "IPY_MODEL_f5f16c11b43042378459fadd2e31fde4",
        "IPY_MODEL_2550f3b0d0174b1fb7fa639035ad3256",
        "IPY_MODEL_9b68c666af304abfa22cbc660177e52d"
       ],
       "layout": "IPY_MODEL_9527d6b453b648a88378fe8d06dc8912"
      }
     },
     "f5f16c11b43042378459fadd2e31fde4": {
      "model_module": "@jupyter-widgets/controls",
      "model_module_version": "1.5.0",
      "model_name": "HTMLModel",
      "state": {
       "_dom_classes": [],
       "_model_module": "@jupyter-widgets/controls",
       "_model_module_version": "1.5.0",
       "_model_name": "HTMLModel",
       "_view_count": null,
       "_view_module": "@jupyter-widgets/controls",
       "_view_module_version": "1.5.0",
       "_view_name": "HTMLView",
       "description": "",
       "description_tooltip": null,
       "layout": "IPY_MODEL_8c102b73739a449eb39a9ae260689d7f",
       "placeholder": "​",
       "style": "IPY_MODEL_1977fcc79e724e25a02ccbd22e22bb25",
       "value": "Random forest: 100%"
      }
     }
    },
    "version_major": 2,
    "version_minor": 0
   }
  }
 },
 "nbformat": 4,
 "nbformat_minor": 4
}
