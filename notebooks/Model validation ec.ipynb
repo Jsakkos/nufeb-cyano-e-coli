{
 "cells": [
  {
   "cell_type": "code",
   "execution_count": 1,
   "id": "d906cf19",
   "metadata": {},
   "outputs": [],
   "source": [
    "import pandas as pd\n",
    "import matplotlib.pyplot as plt\n",
    "import matplotlib.gridspec as gridspec\n",
    "import numpy as np\n",
    "from scipy.integrate import odeint\n",
    "from glob import glob\n",
    "import pickle\n",
    "from scipy.optimize import curve_fit\n",
    "from pathlib import Path\n",
    "from nufeb_tools import utils,plot\n",
    "import seaborn as sns\n",
    "from scipy import stats\n",
    "from scipy import interpolate\n",
    "from sklearn.metrics import r2_score\n",
    "from joblib import Parallel, delayed"
   ]
  },
  {
   "cell_type": "code",
   "execution_count": 40,
   "id": "29c27205",
   "metadata": {},
   "outputs": [
    {
     "name": "stderr",
     "output_type": "stream",
     "text": [
      "c:\\Users\\sakkosjo\\Anaconda3\\envs\\nufeb\\lib\\site-packages\\pandas\\core\\generic.py:5494: SettingWithCopyWarning: \n",
      "A value is trying to be set on a copy of a slice from a DataFrame.\n",
      "Try using .loc[row_indexer,col_indexer] = value instead\n",
      "\n",
      "See the caveats in the documentation: https://pandas.pydata.org/pandas-docs/stable/user_guide/indexing.html#returning-a-view-versus-a-copy\n",
      "  self[name] = value\n",
      "c:\\Users\\sakkosjo\\Anaconda3\\envs\\nufeb\\lib\\site-packages\\pandas\\core\\generic.py:5494: SettingWithCopyWarning: \n",
      "A value is trying to be set on a copy of a slice from a DataFrame.\n",
      "Try using .loc[row_indexer,col_indexer] = value instead\n",
      "\n",
      "See the caveats in the documentation: https://pandas.pydata.org/pandas-docs/stable/user_guide/indexing.html#returning-a-view-versus-a-copy\n",
      "  self[name] = value\n"
     ]
    }
   ],
   "source": [
    "SucroseMW = 342.3\n",
    "expPath = r'../experimental-data/ecw-growth-R2.xlsx'\n",
    "growthData = pd.read_excel(expPath,sheet_name='Growth')\n",
    "expSucrose =pd.read_excel(expPath,sheet_name='Sucrose')\n",
    "labels = ['20 g/L','10 g/L','5 g/L','2 g/L']\n",
    "MeanSucrose = expSucrose.groupby(['Time','Initial Sucrose']).mean().reset_index()[['Time','Initial Sucrose','Sucrose']]\n",
    "MeanGrowth=growthData.groupby(['Time','Initial Sucrose']).mean().reset_index()[['Time','Initial Sucrose','OD600']]\n",
    "StDSucrose = expSucrose.groupby(['Time','Initial Sucrose']).std().reset_index()[['Time','Initial Sucrose','Sucrose']]\n",
    "StDGrowth=growthData.groupby(['Time','Initial Sucrose']).std().reset_index()[['Time','Initial Sucrose','OD600']]\n",
    "growth=MeanGrowth.loc[(MeanGrowth['Initial Sucrose']==10) & (MeanGrowth.Time <15)]\n",
    "sucrose=MeanSucrose.loc[(MeanSucrose['Initial Sucrose']==10) & ( MeanSucrose.Time < 15)]\n",
    "sucrose.Sucrose = sucrose.Sucrose/SucroseMW*1e3\n",
    "growthstd=StDGrowth.loc[(StDGrowth['Initial Sucrose']==10) & (StDGrowth.Time < 15)]\n",
    "sucrosestd=StDSucrose.loc[(StDSucrose['Initial Sucrose']==10) & ( StDSucrose.Time < 15)]\n",
    "sucrosestd.Sucrose = sucrosestd.Sucrose/SucroseMW*1e3"
   ]
  },
  {
   "cell_type": "code",
   "execution_count": 3,
   "id": "6ef18843",
   "metadata": {},
   "outputs": [
    {
     "data": {
      "text/html": [
       "<div>\n",
       "<style scoped>\n",
       "    .dataframe tbody tr th:only-of-type {\n",
       "        vertical-align: middle;\n",
       "    }\n",
       "\n",
       "    .dataframe tbody tr th {\n",
       "        vertical-align: top;\n",
       "    }\n",
       "\n",
       "    .dataframe thead th {\n",
       "        text-align: right;\n",
       "    }\n",
       "</style>\n",
       "<table border=\"1\" class=\"dataframe\">\n",
       "  <thead>\n",
       "    <tr style=\"text-align: right;\">\n",
       "      <th></th>\n",
       "      <th>Time</th>\n",
       "      <th>Initial Sucrose</th>\n",
       "      <th>Sucrose</th>\n",
       "    </tr>\n",
       "  </thead>\n",
       "  <tbody>\n",
       "    <tr>\n",
       "      <th>2</th>\n",
       "      <td>0</td>\n",
       "      <td>10</td>\n",
       "      <td>0.715037</td>\n",
       "    </tr>\n",
       "    <tr>\n",
       "      <th>6</th>\n",
       "      <td>4</td>\n",
       "      <td>10</td>\n",
       "      <td>0.445435</td>\n",
       "    </tr>\n",
       "    <tr>\n",
       "      <th>10</th>\n",
       "      <td>6</td>\n",
       "      <td>10</td>\n",
       "      <td>0.505498</td>\n",
       "    </tr>\n",
       "    <tr>\n",
       "      <th>14</th>\n",
       "      <td>8</td>\n",
       "      <td>10</td>\n",
       "      <td>0.588228</td>\n",
       "    </tr>\n",
       "    <tr>\n",
       "      <th>18</th>\n",
       "      <td>10</td>\n",
       "      <td>10</td>\n",
       "      <td>0.319509</td>\n",
       "    </tr>\n",
       "    <tr>\n",
       "      <th>22</th>\n",
       "      <td>13</td>\n",
       "      <td>10</td>\n",
       "      <td>0.262469</td>\n",
       "    </tr>\n",
       "  </tbody>\n",
       "</table>\n",
       "</div>"
      ],
      "text/plain": [
       "    Time  Initial Sucrose   Sucrose\n",
       "2      0               10  0.715037\n",
       "6      4               10  0.445435\n",
       "10     6               10  0.505498\n",
       "14     8               10  0.588228\n",
       "18    10               10  0.319509\n",
       "22    13               10  0.262469"
      ]
     },
     "execution_count": 3,
     "metadata": {},
     "output_type": "execute_result"
    }
   ],
   "source": [
    "sucrosestd"
   ]
  },
  {
   "cell_type": "code",
   "execution_count": 4,
   "id": "6f27c03e",
   "metadata": {},
   "outputs": [],
   "source": [
    "def collect_data(folder):\n",
    "    SucroseMW = 342.3\n",
    "    x = utils.get_data(directory=str(folder))\n",
    "    Volume = np.prod(x.metadata['Dimensions'])\n",
    "    CellNum2OD = Volume*1e6/0.3e-8\n",
    "    Biomass2OD = .44*Volume*1e18\n",
    "    temp = pd.concat([x.biomass.ecw.reset_index(drop=True)/Biomass2OD,x.biomass.step.reset_index(drop=True)/60/60*x.timestep,x.avg_con.Sucrose.reset_index(drop=True)],axis=1)\n",
    "    temp.columns=['OD600','Hours','Sucrose']\n",
    "    temp['Sucrose']=temp['Sucrose']#*SucroseMW*1e-3\n",
    "    temp['S0'] = temp.Sucrose.iloc[0]*SucroseMW*1e-3\n",
    "    return temp"
   ]
  },
  {
   "cell_type": "code",
   "execution_count": 5,
   "id": "9ccfa111",
   "metadata": {},
   "outputs": [
    {
     "data": {
      "text/plain": [
       "array([ 6.96  ,  3.53  ,  9.02  , 19.3   , 15.9   ,  6.27  , 11.1   ,\n",
       "       10.    , 16.6   ,  4.22  , 17.9   ,  0.0993, 10.4   , 12.5   ,\n",
       "       17.3   , 15.2   ,  2.16  ,  5.59  , 18.6   , 14.5   , 13.8   ,\n",
       "       13.1   ,  4.91  ,  2.84  , 11.8   ,  7.65  ,  9.71  ,  8.34  ,\n",
       "       20.    ,  0.787 ,  1.47  ])"
      ]
     },
     "execution_count": 5,
     "metadata": {},
     "output_type": "execute_result"
    }
   ],
   "source": [
    "BASE_DIR = Path('E:/ecw/runs')\n",
    "folders = [path for path in BASE_DIR.iterdir() if path.is_dir()]\n",
    "tmp=Parallel(n_jobs=-1)(delayed(collect_data)(folder) for folder in folders)\n",
    "df = pd.concat(tmp,ignore_index=True)\n",
    "df.S0.unique()"
   ]
  },
  {
   "cell_type": "code",
   "execution_count": 6,
   "id": "69882425",
   "metadata": {},
   "outputs": [],
   "source": [
    "temp = df.loc[(df.Hours < 15) & (df.S0 ==10)]\n",
    "\n"
   ]
  },
  {
   "cell_type": "code",
   "execution_count": 7,
   "id": "c98460db",
   "metadata": {},
   "outputs": [],
   "source": [
    "from matplotlib import transforms\n",
    "import matplotlib as mpl\n",
    "def label_panel(ax, letter, *,\n",
    "                offset_left=0.5, offset_up=0.1, prefix='', postfix='', **font_kwds):\n",
    "    kwds = dict(fontsize=18)\n",
    "    kwds.update(font_kwds)\n",
    "    # this mad looking bit of code says that we should put the code offset a certain distance in\n",
    "    # inches (using the fig.dpi_scale_trans transformation) from the top left of the frame\n",
    "    # (which is (0, 1) in ax.transAxes transformation space)\n",
    "    fig = ax.figure\n",
    "    trans = ax.transAxes + transforms.ScaledTranslation(-offset_left, offset_up, fig.dpi_scale_trans)\n",
    "    ax.text(0, 1, prefix+letter+postfix, transform=trans, **kwds)"
   ]
  },
  {
   "cell_type": "code",
   "execution_count": 8,
   "id": "a8bdb915",
   "metadata": {},
   "outputs": [
    {
     "data": {
      "image/png": "[encoded data removed]",
      "text/plain": [
       "<Figure size 432x216 with 2 Axes>"
      ]
     },
     "metadata": {},
     "output_type": "display_data"
    }
   ],
   "source": [
    "capsize=2\n",
    "capthick=2\n",
    "sns.set_context(\"paper\")\n",
    "sns.set_style(\"white\")\n",
    "g=interpolate.interp1d(temp.Hours,temp.OD600)\n",
    "r2g = r2_score(growth.OD600, g(growth.Time))\n",
    "suc=interpolate.interp1d(temp.Hours,temp.Sucrose)\n",
    "f, axes = plt.subplots(ncols=2,sharex=True,figsize=(6,3))\n",
    "axes[0].errorbar(growth.Time,growth.OD600,yerr=growthstd.OD600,ls='',marker='o',capsize=capsize,capthick=capthick,label='Experimental',c=\"#9fd9de\")\n",
    "axes[1].errorbar(sucrose.Time,sucrose.Sucrose,yerr=sucrosestd.Sucrose,ls='',marker='o',capsize=capsize,capthick=capthick,label='Experimental',c=\"#ffe6b2\")\n",
    "#sns.scatterplot(x='Time',y='OD600',data=growthData.loc[growthData['Initial Sucrose']==10],ax=axes[0],label='Experimental')\n",
    "sns.scatterplot(x='Time',y='Sucrose',data=sucrose,ax=axes[1])\n",
    "sns.lineplot(x='Hours',y='OD600',data=df.loc[df.S0==10],ax=axes[0],label='Simulated',color=\"#104470\")\n",
    "#axes[0].plot(df.Hours,df.OD600,color='red',label='Simulated')\n",
    "sns.lineplot(x='Hours',y='Sucrose',data=df.loc[df.S0==10],ax=axes[1],label='Simulated',color=\"#f1574c\")\n",
    "r2s = r2_score(sucrose.Sucrose, suc(sucrose.Time))\n",
    "#sns.lineplot(x='Hours',y='OD600',data=df,ax=axes[0],palette='Reds',label='Simulated')\n",
    "axes[0].set_xlim(right=15)\n",
    "axes[0].text(0.005,8, f\"$R^2$={r2g:.2f}\")\n",
    "axes[0].legend(frameon=False,loc='upper left')\n",
    "axes[1].legend(frameon=False,loc='lower left')\n",
    "axes[0].set_ylabel(r'$OD_{600}$')\n",
    "axes[0].set_xlabel('Time (hours)')\n",
    "axes[1].set_xlabel('Time (hours)')\n",
    "axes[1].set_ylabel('Sucrose (mM)')\n",
    "axes[1].text(10, 27, f\"$R^2$={r2s:.2f}\")\n",
    "label_panel(axes[0],'A')\n",
    "label_panel(axes[1],'B')\n",
    "sns.despine()\n",
    "f.savefig(r\"../figures/ec-validation.png\", dpi=600,bbox_inches=\"tight\")\n",
    "plt.show()\n"
   ]
  },
  {
   "cell_type": "code",
   "execution_count": 17,
   "id": "2c7f82f3",
   "metadata": {},
   "outputs": [
    {
     "data": {
      "image/png": "[encoded data removed]",
      "text/plain": [
       "<Figure size 720x360 with 2 Axes>"
      ]
     },
     "metadata": {},
     "output_type": "display_data"
    }
   ],
   "source": [
    "capsize=2\n",
    "capthick=2\n",
    "sns.set_context(\"talk\")\n",
    "sns.set_style(\"white\")\n",
    "g=interpolate.interp1d(temp.Hours,temp.OD600)\n",
    "r2g = r2_score(growth.OD600, g(growth.Time))\n",
    "suc=interpolate.interp1d(temp.Hours,temp.Sucrose)\n",
    "f, axes = plt.subplots(ncols=2,sharex=True,figsize=(10,5))\n",
    "axes[0].errorbar(growth.Time,growth.OD600,yerr=growthstd.OD600,ls='',marker='o',capsize=capsize,capthick=capthick,label='Experimental',c=\"#9fd9de\")\n",
    "axes[1].errorbar(sucrose.Time,sucrose.Sucrose,yerr=sucrosestd.Sucrose,ls='',marker='o',capsize=capsize,capthick=capthick,label='Experimental',c=\"#ffe6b2\")\n",
    "#sns.scatterplot(x='Time',y='OD600',data=growthData.loc[growthData['Initial Sucrose']==10],ax=axes[0],label='Experimental')\n",
    "sns.scatterplot(x='Time',y='Sucrose',data=sucrose,ax=axes[1])\n",
    "sns.lineplot(x='Hours',y='OD600',data=df.loc[df.S0==10],ax=axes[0],label='Simulated',color=\"#104470\")\n",
    "#axes[0].plot(df.Hours,df.OD600,color='red',label='Simulated')\n",
    "sns.lineplot(x='Hours',y='Sucrose',data=df.loc[df.S0==10],ax=axes[1],label='Simulated',color=\"#f1574c\")\n",
    "r2s = r2_score(sucrose.Sucrose, suc(sucrose.Time))\n",
    "#sns.lineplot(x='Hours',y='OD600',data=df,ax=axes[0],palette='Reds',label='Simulated')\n",
    "axes[0].set_xlim(right=15)\n",
    "axes[0].text(0.005,8, f\"$R^2$={r2g:.2f}\")\n",
    "axes[0].legend(frameon=False,loc='upper left')\n",
    "axes[1].legend(frameon=False,loc='lower left')\n",
    "axes[0].set_ylabel(r'$OD_{600}$')\n",
    "axes[0].set_xlabel('Time (hours)')\n",
    "axes[1].set_xlabel('Time (hours)')\n",
    "axes[1].set_ylabel('Sucrose (mM)')\n",
    "axes[1].text(10, 27, f\"$R^2$={r2s:.2f}\")\n",
    "\n",
    "sns.despine()\n",
    "f.savefig(r\"../figures/ec-validation-talk.png\", dpi=600,bbox_inches=\"tight\")\n",
    "plt.show()"
   ]
  },
  {
   "cell_type": "code",
   "execution_count": 50,
   "id": "f88c5024",
   "metadata": {},
   "outputs": [],
   "source": [
    "BASE_DIR = Path('E:/ecw-check/runs')\n",
    "folders = [path for path in BASE_DIR.resolve().iterdir() if path.is_dir()]\n",
    "tmp=Parallel(n_jobs=-1)(delayed(collect_data)(folder) for folder in folders)\n",
    "data = pd.concat(tmp,ignore_index=True)\n",
    "df = data.groupby(['Hours','S0']).mean().reset_index()\n",
    "df2 = expSucrose.copy()\n",
    "df2.Sucrose = expSucrose.Sucrose/SucroseMW*1e3\n",
    "df2=df2.groupby(['Time','Initial Sucrose']).mean().reset_index()\n"
   ]
  },
  {
   "cell_type": "code",
   "execution_count": 51,
   "id": "5ae92f5a",
   "metadata": {},
   "outputs": [
    {
     "data": {
      "image/png": "[encoded data removed]",
      "text/plain": [
       "<Figure size 864x432 with 2 Axes>"
      ]
     },
     "metadata": {},
     "output_type": "display_data"
    }
   ],
   "source": [
    "sns.set_context(\"talk\")\n",
    "sns.set_style(\"white\")\n",
    "f, axes = plt.subplots(ncols=2,figsize=(12,6),sharex=True)\n",
    "sns.scatterplot(x='Time',y='OD600',hue='Initial Sucrose',data=growthData,ax=axes[0],legend=False)\n",
    "sns.scatterplot(x='Time',y='Sucrose',hue='Initial Sucrose',data=df2,ax=axes[1])\n",
    "sns.lineplot(x='Hours',y='OD600',hue='S0',data=df,ax=axes[0],legend=False)\n",
    "sns.lineplot(x='Hours',y='Sucrose',hue='S0',data=df,ax=axes[1],legend=False)\n",
    "axes[1].legend(frameon=False,title=r'Initial sucrose ($g \\cdot L^{-1}$)')\n",
    "for ax in axes.ravel():\n",
    "    ax.set_xlabel('Time (hours)')\n",
    "axes[0].set_ylabel(r'$OD_{600}$')\n",
    "axes[1].set_ylabel(r'Sucrose (mM)')\n",
    "#axes[0].legend.remove()\n",
    "sns.despine()\n",
    "f.tight_layout()\n",
    "f.savefig(r'../figures/ec-sucrose-talk.png',bbox_inches='tight',dpi=600)"
   ]
  },
  {
   "cell_type": "code",
   "execution_count": 10,
   "id": "56f1b080",
   "metadata": {},
   "outputs": [
    {
     "data": {
      "text/plain": [
       "[<matplotlib.lines.Line2D at 0x2336c371760>]"
      ]
     },
     "execution_count": 10,
     "metadata": {},
     "output_type": "execute_result"
    },
    {
     "data": {
      "image/png": "[encoded data removed]",
      "text/plain": [
       "<Figure size 432x288 with 1 Axes>"
      ]
     },
     "metadata": {},
     "output_type": "display_data"
    }
   ],
   "source": [
    "plt.plot(growth.Time,growth.OD600 - g(growth.Time))"
   ]
  },
  {
   "cell_type": "code",
   "execution_count": 11,
   "id": "e36ab5c3",
   "metadata": {},
   "outputs": [],
   "source": [
    "SucroseMW = 342.3\n",
    "O2MW = 32\n",
    "CO2MW = 44.01\n",
    "dens = 1e9\n",
    "Volume = 1e-4*1e-4*1e-5 #m^3\n",
    "mlm3 = 1e6 #mL/m^3\n",
    "cellsperOD=8e8 #cells/mL @OD 1\n",
    "#CellNum2OD = Volume*cellsperOD*mlm3\n",
    "CellNum2OD = Volume/1e-9\n",
    "Biomass2OD = 1e12\n",
    "tStep2Days = 10/3600/24\n",
    "sucs = np.linspace(0,1,6)\n",
    "pctC = 0.5\n",
    "light = 1.00e-01 #kg/m^3\n",
    "co2 = 4e-1\n",
    "mu_max = 0.047*24 #2.25e-05# 1/d\n",
    "K_m_light = 3.5e-04\n",
    "K_m_co2 = 5e-2\n",
    "def cells2OD(x):\n",
    "    return (x+4e7)/1e9/(Volume*mlm3)\n",
    "    \n",
    "def func(x,K,r,N0):\n",
    "    return K/(1  + ((K-N0)/N0)*np.exp(-r*x))\n",
    "def logistic_regression(x,y):\n",
    "    popt, pcov = curve_fit(func, \n",
    "                        x, \n",
    "                        y,          \n",
    "                        p0 = [0.80309017, 0.24164053, 0.01670965],        \n",
    "                        maxfev=10000\n",
    "                        )\n",
    "    return popt\n",
    "\n",
    "\n"
   ]
  },
  {
   "cell_type": "code",
   "execution_count": 12,
   "id": "4328dac4",
   "metadata": {},
   "outputs": [
    {
     "data": {
      "text/plain": [
       "0.7999999999999998"
      ]
     },
     "execution_count": 12,
     "metadata": {},
     "output_type": "execute_result"
    }
   ],
   "source": [
    "1/(Volume*mlm3)*8e-8"
   ]
  },
  {
   "cell_type": "code",
   "execution_count": 13,
   "id": "bc3c38b6",
   "metadata": {},
   "outputs": [
    {
     "ename": "NameError",
     "evalue": "name 'experimentalData' is not defined",
     "output_type": "error",
     "traceback": [
      "\u001b[1;31m---------------------------------------------------------------------------\u001b[0m",
      "\u001b[1;31mNameError\u001b[0m                                 Traceback (most recent call last)",
      "\u001b[1;32md:\\nufeb-cyano-e-coli\\notebooks\\Model validation ec.ipynb Cell 13'\u001b[0m in \u001b[0;36m<cell line: 1>\u001b[1;34m()\u001b[0m\n\u001b[1;32m----> <a href='vscode-notebook-cell:/d%3A/nufeb-cyano-e-coli/notebooks/Model%20validation%20ec.ipynb#ch0000011?line=0'>1</a>\u001b[0m temp \u001b[39m=\u001b[39m experimentalData\u001b[39m.\u001b[39mgroupby([\u001b[39m'\u001b[39m\u001b[39mInitial Sucrose\u001b[39m\u001b[39m'\u001b[39m,\u001b[39m'\u001b[39m\u001b[39mReplicate\u001b[39m\u001b[39m'\u001b[39m])\u001b[39m.\u001b[39mapply(\u001b[39mlambda\u001b[39;00m x: logistic_regression(x[\u001b[39m'\u001b[39m\u001b[39mTime\u001b[39m\u001b[39m'\u001b[39m],x[\u001b[39m'\u001b[39m\u001b[39mOD600\u001b[39m\u001b[39m'\u001b[39m]))\n",
      "\u001b[1;31mNameError\u001b[0m: name 'experimentalData' is not defined"
     ]
    }
   ],
   "source": [
    "temp = experimentalData.groupby(['Initial Sucrose','Replicate']).apply(lambda x: logistic_regression(x['Time'],x['OD600']))"
   ]
  },
  {
   "cell_type": "code",
   "execution_count": null,
   "id": "5b2f614d",
   "metadata": {},
   "outputs": [],
   "source": [
    "experimentalFits = pd.DataFrame(columns=['Initial Sucrose','Replicate','Max','mu','t0'])\n",
    "for s in temp.reset_index().iterrows():\n",
    "    experimentalFits=experimentalFits.append(pd.DataFrame([[s[1]['Initial Sucrose'],s[1]['Replicate'],s[1][0][0],s[1][0][1],s[1][0][2]]],columns=['Initial Sucrose','Replicate','Max','mu','t0']),ignore_index=True)"
   ]
  },
  {
   "cell_type": "code",
   "execution_count": null,
   "id": "51fc5b78",
   "metadata": {},
   "outputs": [
    {
     "data": {
      "text/html": [
       "<div>\n",
       "<style scoped>\n",
       "    .dataframe tbody tr th:only-of-type {\n",
       "        vertical-align: middle;\n",
       "    }\n",
       "\n",
       "    .dataframe tbody tr th {\n",
       "        vertical-align: top;\n",
       "    }\n",
       "\n",
       "    .dataframe thead th {\n",
       "        text-align: right;\n",
       "    }\n",
       "</style>\n",
       "<table border=\"1\" class=\"dataframe\">\n",
       "  <thead>\n",
       "    <tr style=\"text-align: right;\">\n",
       "      <th></th>\n",
       "      <th>Max</th>\n",
       "      <th>mu</th>\n",
       "      <th>t0</th>\n",
       "    </tr>\n",
       "    <tr>\n",
       "      <th>Initial Sucrose</th>\n",
       "      <th></th>\n",
       "      <th></th>\n",
       "      <th></th>\n",
       "    </tr>\n",
       "  </thead>\n",
       "  <tbody>\n",
       "    <tr>\n",
       "      <th>2</th>\n",
       "      <td>4.057535</td>\n",
       "      <td>0.669260</td>\n",
       "      <td>0.039871</td>\n",
       "    </tr>\n",
       "    <tr>\n",
       "      <th>5</th>\n",
       "      <td>7.479576</td>\n",
       "      <td>0.874520</td>\n",
       "      <td>0.014437</td>\n",
       "    </tr>\n",
       "    <tr>\n",
       "      <th>10</th>\n",
       "      <td>10.951256</td>\n",
       "      <td>0.983898</td>\n",
       "      <td>0.005683</td>\n",
       "    </tr>\n",
       "    <tr>\n",
       "      <th>20</th>\n",
       "      <td>11.939218</td>\n",
       "      <td>0.905239</td>\n",
       "      <td>0.008513</td>\n",
       "    </tr>\n",
       "  </tbody>\n",
       "</table>\n",
       "</div>"
      ],
      "text/plain": [
       "                       Max        mu        t0\n",
       "Initial Sucrose                               \n",
       "2                 4.057535  0.669260  0.039871\n",
       "5                 7.479576  0.874520  0.014437\n",
       "10               10.951256  0.983898  0.005683\n",
       "20               11.939218  0.905239  0.008513"
      ]
     },
     "execution_count": 148,
     "metadata": {},
     "output_type": "execute_result"
    }
   ],
   "source": [
    "experimentalFits.groupby(['Initial Sucrose']).mean()"
   ]
  },
  {
   "cell_type": "code",
   "execution_count": null,
   "id": "76848659",
   "metadata": {},
   "outputs": [
    {
     "data": {
      "text/html": [
       "<div>\n",
       "<style scoped>\n",
       "    .dataframe tbody tr th:only-of-type {\n",
       "        vertical-align: middle;\n",
       "    }\n",
       "\n",
       "    .dataframe tbody tr th {\n",
       "        vertical-align: top;\n",
       "    }\n",
       "\n",
       "    .dataframe thead th {\n",
       "        text-align: right;\n",
       "    }\n",
       "</style>\n",
       "<table border=\"1\" class=\"dataframe\">\n",
       "  <thead>\n",
       "    <tr style=\"text-align: right;\">\n",
       "      <th></th>\n",
       "      <th>Time</th>\n",
       "      <th>Cells</th>\n",
       "      <th>OD</th>\n",
       "    </tr>\n",
       "  </thead>\n",
       "  <tbody>\n",
       "    <tr>\n",
       "      <th>0</th>\n",
       "      <td>0.000000</td>\n",
       "      <td>100</td>\n",
       "      <td>0.0100</td>\n",
       "    </tr>\n",
       "    <tr>\n",
       "      <th>1</th>\n",
       "      <td>0.277778</td>\n",
       "      <td>100</td>\n",
       "      <td>0.0100</td>\n",
       "    </tr>\n",
       "    <tr>\n",
       "      <th>2</th>\n",
       "      <td>0.555556</td>\n",
       "      <td>105</td>\n",
       "      <td>0.0105</td>\n",
       "    </tr>\n",
       "    <tr>\n",
       "      <th>3</th>\n",
       "      <td>0.833333</td>\n",
       "      <td>113</td>\n",
       "      <td>0.0113</td>\n",
       "    </tr>\n",
       "    <tr>\n",
       "      <th>4</th>\n",
       "      <td>1.111111</td>\n",
       "      <td>122</td>\n",
       "      <td>0.0122</td>\n",
       "    </tr>\n",
       "    <tr>\n",
       "      <th>...</th>\n",
       "      <td>...</td>\n",
       "      <td>...</td>\n",
       "      <td>...</td>\n",
       "    </tr>\n",
       "    <tr>\n",
       "      <th>346</th>\n",
       "      <td>96.111111</td>\n",
       "      <td>2161</td>\n",
       "      <td>0.2161</td>\n",
       "    </tr>\n",
       "    <tr>\n",
       "      <th>347</th>\n",
       "      <td>96.388889</td>\n",
       "      <td>2161</td>\n",
       "      <td>0.2161</td>\n",
       "    </tr>\n",
       "    <tr>\n",
       "      <th>348</th>\n",
       "      <td>96.666667</td>\n",
       "      <td>2161</td>\n",
       "      <td>0.2161</td>\n",
       "    </tr>\n",
       "    <tr>\n",
       "      <th>349</th>\n",
       "      <td>96.944444</td>\n",
       "      <td>2161</td>\n",
       "      <td>0.2161</td>\n",
       "    </tr>\n",
       "    <tr>\n",
       "      <th>350</th>\n",
       "      <td>97.222222</td>\n",
       "      <td>2161</td>\n",
       "      <td>0.2161</td>\n",
       "    </tr>\n",
       "  </tbody>\n",
       "</table>\n",
       "<p>351 rows × 3 columns</p>\n",
       "</div>"
      ],
      "text/plain": [
       "          Time  Cells      OD\n",
       "0     0.000000    100  0.0100\n",
       "1     0.277778    100  0.0100\n",
       "2     0.555556    105  0.0105\n",
       "3     0.833333    113  0.0113\n",
       "4     1.111111    122  0.0122\n",
       "..         ...    ...     ...\n",
       "346  96.111111   2161  0.2161\n",
       "347  96.388889   2161  0.2161\n",
       "348  96.666667   2161  0.2161\n",
       "349  96.944444   2161  0.2161\n",
       "350  97.222222   2161  0.2161\n",
       "\n",
       "[351 rows x 3 columns]"
      ]
     },
     "execution_count": 58,
     "metadata": {},
     "output_type": "execute_result"
    }
   ],
   "source": [
    "for path in types:\n",
    "    df = pd.read_csv(path,usecols=[0,1],names=['Time','Cells'],skiprows=1,delimiter='\t')\n",
    "    df.Time = df.Time/60/60*10 #convert timesteps (10s) to days\n",
    "    df['OD'] = df.iloc[:,1]*CellNum2OD\n",
    "df"
   ]
  },
  {
   "cell_type": "code",
   "execution_count": null,
   "id": "66a82466",
   "metadata": {},
   "outputs": [
    {
     "data": {
      "text/plain": [
       "400000.9999999999"
      ]
     },
     "execution_count": 66,
     "metadata": {},
     "output_type": "execute_result"
    }
   ],
   "source": [
    "cells2OD(100)"
   ]
  },
  {
   "cell_type": "code",
   "execution_count": null,
   "id": "9b5f35cc",
   "metadata": {},
   "outputs": [
    {
     "data": {
      "image/png": "[encoded data removed]",
      "text/plain": [
       "<Figure size 648x432 with 1 Axes>"
      ]
     },
     "metadata": {},
     "output_type": "display_data"
    }
   ],
   "source": [
    "sns.set_context('paper')\n",
    "sns.set_style('white')\n",
    "mus =list()\n",
    "f, ax = plt.subplots(figsize=(9,6))\n",
    "for path,label in zip(types,labels):\n",
    "    df = pd.read_csv(path,usecols=[0,1],names=['Time','Cells'],skiprows=1,delimiter='\t')\n",
    "    df.index = df.Time/60/60*10 #convert timesteps (10s) to days\n",
    "    df.index.name='Hours'\n",
    "    df['OD'] = df.iloc[:,1]*CellNum2OD\n",
    "    ax.plot(df.OD,label=label)\n",
    "    popt, pcov = curve_fit(func,df.index.values,df.OD,p0=[0.80309017, 0.24164053, 0.01670965])\n",
    "    mus.append(popt[1])\n",
    "    #ax.plot(df.index.values,func(df.index.values,*popt),ls='--')\n",
    "\n",
    "ax.legend().remove()\n",
    "ax.set_xlim([0,50])\n",
    "#ax.plot(Control.Time,Control.OD600,label='Experimental',c='k')\n",
    "#popt, pcov = curve_fit(func,Control.Time,Control.OD600,p0=[0.80309017, 0.24164053, 0.01670965])\n",
    "#ax.plot(Control.Time,func(Control.Time,*popt),ls='--',c='grey')\n",
    "sns.scatterplot(x='Time',y='OD600',hue='Initial Sucrose',data=Control,ax=ax)\n",
    "ax.set_xlabel('Time (hours)')\n",
    "ax.set_ylabel(r'$OD_{600}$')\n",
    "ax.legend(frameon=False)\n",
    "\n",
    "sns.despine()"
   ]
  },
  {
   "cell_type": "code",
   "execution_count": null,
   "id": "448723e3",
   "metadata": {},
   "outputs": [
    {
     "data": {
      "text/html": [
       "<div>\n",
       "<style scoped>\n",
       "    .dataframe tbody tr th:only-of-type {\n",
       "        vertical-align: middle;\n",
       "    }\n",
       "\n",
       "    .dataframe tbody tr th {\n",
       "        vertical-align: top;\n",
       "    }\n",
       "\n",
       "    .dataframe thead th {\n",
       "        text-align: right;\n",
       "    }\n",
       "</style>\n",
       "<table border=\"1\" class=\"dataframe\">\n",
       "  <thead>\n",
       "    <tr style=\"text-align: right;\">\n",
       "      <th></th>\n",
       "      <th>mu</th>\n",
       "      <th>Sucrose</th>\n",
       "    </tr>\n",
       "  </thead>\n",
       "  <tbody>\n",
       "    <tr>\n",
       "      <th>0</th>\n",
       "      <td>0.320248</td>\n",
       "      <td>20.0</td>\n",
       "    </tr>\n",
       "    <tr>\n",
       "      <th>1</th>\n",
       "      <td>0.255373</td>\n",
       "      <td>10.0</td>\n",
       "    </tr>\n",
       "    <tr>\n",
       "      <th>2</th>\n",
       "      <td>0.183655</td>\n",
       "      <td>5.0</td>\n",
       "    </tr>\n",
       "  </tbody>\n",
       "</table>\n",
       "</div>"
      ],
      "text/plain": [
       "         mu  Sucrose\n",
       "0  0.320248     20.0\n",
       "1  0.255373     10.0\n",
       "2  0.183655      5.0"
      ]
     },
     "execution_count": 6,
     "metadata": {},
     "output_type": "execute_result"
    }
   ],
   "source": [
    "growth = pd.DataFrame([mus,[20,10,5]]).T\n",
    "growth.columns=['mu','Sucrose']\n",
    "growth"
   ]
  },
  {
   "cell_type": "code",
   "execution_count": null,
   "id": "3812e612",
   "metadata": {},
   "outputs": [
    {
     "data": {
      "text/html": [
       "<div>\n",
       "<style scoped>\n",
       "    .dataframe tbody tr th:only-of-type {\n",
       "        vertical-align: middle;\n",
       "    }\n",
       "\n",
       "    .dataframe tbody tr th {\n",
       "        vertical-align: top;\n",
       "    }\n",
       "\n",
       "    .dataframe thead th {\n",
       "        text-align: right;\n",
       "    }\n",
       "</style>\n",
       "<table border=\"1\" class=\"dataframe\">\n",
       "  <thead>\n",
       "    <tr style=\"text-align: right;\">\n",
       "      <th></th>\n",
       "      <th>Time</th>\n",
       "      <th>Cells</th>\n",
       "      <th>OD</th>\n",
       "    </tr>\n",
       "    <tr>\n",
       "      <th>Hours</th>\n",
       "      <th></th>\n",
       "      <th></th>\n",
       "      <th></th>\n",
       "    </tr>\n",
       "  </thead>\n",
       "  <tbody>\n",
       "    <tr>\n",
       "      <th>0.000000</th>\n",
       "      <td>0</td>\n",
       "      <td>100</td>\n",
       "      <td>1000000.0</td>\n",
       "    </tr>\n",
       "    <tr>\n",
       "      <th>0.277778</th>\n",
       "      <td>100</td>\n",
       "      <td>100</td>\n",
       "      <td>1000000.0</td>\n",
       "    </tr>\n",
       "    <tr>\n",
       "      <th>0.555556</th>\n",
       "      <td>200</td>\n",
       "      <td>105</td>\n",
       "      <td>1050000.0</td>\n",
       "    </tr>\n",
       "    <tr>\n",
       "      <th>0.833333</th>\n",
       "      <td>300</td>\n",
       "      <td>113</td>\n",
       "      <td>1130000.0</td>\n",
       "    </tr>\n",
       "    <tr>\n",
       "      <th>1.111111</th>\n",
       "      <td>400</td>\n",
       "      <td>122</td>\n",
       "      <td>1220000.0</td>\n",
       "    </tr>\n",
       "    <tr>\n",
       "      <th>...</th>\n",
       "      <td>...</td>\n",
       "      <td>...</td>\n",
       "      <td>...</td>\n",
       "    </tr>\n",
       "    <tr>\n",
       "      <th>96.111111</th>\n",
       "      <td>34600</td>\n",
       "      <td>2161</td>\n",
       "      <td>21610000.0</td>\n",
       "    </tr>\n",
       "    <tr>\n",
       "      <th>96.388889</th>\n",
       "      <td>34700</td>\n",
       "      <td>2161</td>\n",
       "      <td>21610000.0</td>\n",
       "    </tr>\n",
       "    <tr>\n",
       "      <th>96.666667</th>\n",
       "      <td>34800</td>\n",
       "      <td>2161</td>\n",
       "      <td>21610000.0</td>\n",
       "    </tr>\n",
       "    <tr>\n",
       "      <th>96.944444</th>\n",
       "      <td>34900</td>\n",
       "      <td>2161</td>\n",
       "      <td>21610000.0</td>\n",
       "    </tr>\n",
       "    <tr>\n",
       "      <th>97.222222</th>\n",
       "      <td>35000</td>\n",
       "      <td>2161</td>\n",
       "      <td>21610000.0</td>\n",
       "    </tr>\n",
       "  </tbody>\n",
       "</table>\n",
       "<p>351 rows × 3 columns</p>\n",
       "</div>"
      ],
      "text/plain": [
       "            Time  Cells          OD\n",
       "Hours                              \n",
       "0.000000       0    100   1000000.0\n",
       "0.277778     100    100   1000000.0\n",
       "0.555556     200    105   1050000.0\n",
       "0.833333     300    113   1130000.0\n",
       "1.111111     400    122   1220000.0\n",
       "...          ...    ...         ...\n",
       "96.111111  34600   2161  21610000.0\n",
       "96.388889  34700   2161  21610000.0\n",
       "96.666667  34800   2161  21610000.0\n",
       "96.944444  34900   2161  21610000.0\n",
       "97.222222  35000   2161  21610000.0\n",
       "\n",
       "[351 rows x 3 columns]"
      ]
     },
     "execution_count": 24,
     "metadata": {},
     "output_type": "execute_result"
    }
   ],
   "source": [
    "df"
   ]
  },
  {
   "cell_type": "code",
   "execution_count": null,
   "id": "b44792b8",
   "metadata": {},
   "outputs": [
    {
     "name": "stderr",
     "output_type": "stream",
     "text": [
      "No artists with labels found to put in legend.  Note that artists whose label start with an underscore are ignored when legend() is called with no argument.\n"
     ]
    },
    {
     "data": {
      "image/png": "[encoded data removed]",
      "text/plain": [
       "<Figure size 540x432 with 2 Axes>"
      ]
     },
     "metadata": {},
     "output_type": "display_data"
    }
   ],
   "source": [
    "#f,axes = plt.subplots(nrows=4,ncols=2,figsize=(12,15))\n",
    "colors = ['#e34a33','#fdbb84','#fee8c8']\n",
    "fig = plt.figure(constrained_layout=True, figsize=(7.5,6))\n",
    "gs0 = gridspec.GridSpec(4, 2, figure=fig)\n",
    "sns.set_context('paper')\n",
    "sns.set_style('white')\n",
    "\n",
    "ax2 = fig.add_subplot(gs0[2:, 0])\n",
    "ax1 = fig.add_subplot(gs0[:2, 0])\n",
    "\"\"\" mus =list()\n",
    "for i,(path,label) in enumerate(zip(types,labels)):\n",
    "    df = pd.read_csv(path,usecols=[0,1],names=['Time','Cells'],skiprows=1,delimiter='\t')\n",
    "    df['Hours'] = df.Time/60/60*10 #convert timesteps (10s) to days\n",
    "    df['OD600'] = df['Cells']*CellNum2OD\n",
    "    #ax1.plot(df.OD,label=label,c=colors[i])\n",
    "    sns.lineplot(x='Hours',y='OD600',data=df)\n",
    "    popt, pcov = curve_fit(func,df.index.values,df.OD600,p0=[0.80309017, 0.24164053, 0.01670965])\n",
    "    mus.append(popt[1]) \"\"\"\n",
    "\n",
    "\n",
    "ax1.legend().remove()\n",
    "ax1.set_xlim([0,50])\n",
    "\n",
    "sns.scatterplot(x='Time',y='OD600',hue='Initial Sucrose',data=experimentalData,ax=ax1)\n",
    "\n",
    "ax1.set_xlabel('Time (hours)')\n",
    "ax1.set_ylabel(r'$OD_{600}$')\n",
    "ax1.legend(frameon=False)\n",
    "\n",
    "\n",
    "sns.barplot(x='Initial Sucrose',y='mu',data=experimentalFits,ax=ax2,ci='sd')\n",
    "ax2.set_xlabel('Initial sucrose concentration (g/L)')\n",
    "ax2.set_ylabel(r'$\\mu_{obs} (hr^{-1})$ ')\n",
    "\n",
    "sns.despine()\n",
    "\n",
    "\n",
    "fig.align_ylabels()\n",
    "#fig.savefig('validationEC.png',dpi=600)\n",
    "#f.tight_layout()\n",
    "\n"
   ]
  },
  {
   "cell_type": "code",
   "execution_count": null,
   "id": "7a93a4fe",
   "metadata": {},
   "outputs": [],
   "source": [
    "data = utils.get_data(r'D:\\runs\\Run_0_100_12_1_2021-07-16')"
   ]
  },
  {
   "cell_type": "code",
   "execution_count": null,
   "id": "20baf482",
   "metadata": {},
   "outputs": [
    {
     "data": {
      "text/html": [
       "<div>\n",
       "<style scoped>\n",
       "    .dataframe tbody tr th:only-of-type {\n",
       "        vertical-align: middle;\n",
       "    }\n",
       "\n",
       "    .dataframe tbody tr th {\n",
       "        vertical-align: top;\n",
       "    }\n",
       "\n",
       "    .dataframe thead th {\n",
       "        text-align: right;\n",
       "    }\n",
       "</style>\n",
       "<table border=\"1\" class=\"dataframe\">\n",
       "  <thead>\n",
       "    <tr style=\"text-align: right;\">\n",
       "      <th></th>\n",
       "      <th>O2</th>\n",
       "      <th>Sucrose</th>\n",
       "      <th>CO2</th>\n",
       "    </tr>\n",
       "    <tr>\n",
       "      <th>Hours</th>\n",
       "      <th></th>\n",
       "      <th></th>\n",
       "      <th></th>\n",
       "    </tr>\n",
       "  </thead>\n",
       "  <tbody>\n",
       "    <tr>\n",
       "      <th>0.000000</th>\n",
       "      <td>0.281250</td>\n",
       "      <td>5.842828e+01</td>\n",
       "      <td>0.679391</td>\n",
       "    </tr>\n",
       "    <tr>\n",
       "      <th>0.277778</th>\n",
       "      <td>0.281249</td>\n",
       "      <td>5.839068e+01</td>\n",
       "      <td>0.679392</td>\n",
       "    </tr>\n",
       "    <tr>\n",
       "      <th>0.555556</th>\n",
       "      <td>0.281249</td>\n",
       "      <td>5.835118e+01</td>\n",
       "      <td>0.679392</td>\n",
       "    </tr>\n",
       "    <tr>\n",
       "      <th>0.833333</th>\n",
       "      <td>0.281249</td>\n",
       "      <td>5.830973e+01</td>\n",
       "      <td>0.679392</td>\n",
       "    </tr>\n",
       "    <tr>\n",
       "      <th>1.111111</th>\n",
       "      <td>0.281249</td>\n",
       "      <td>5.826620e+01</td>\n",
       "      <td>0.679392</td>\n",
       "    </tr>\n",
       "    <tr>\n",
       "      <th>...</th>\n",
       "      <td>...</td>\n",
       "      <td>...</td>\n",
       "      <td>...</td>\n",
       "    </tr>\n",
       "    <tr>\n",
       "      <th>96.111111</th>\n",
       "      <td>0.281249</td>\n",
       "      <td>1.955348e-36</td>\n",
       "      <td>0.679392</td>\n",
       "    </tr>\n",
       "    <tr>\n",
       "      <th>96.388889</th>\n",
       "      <td>0.281249</td>\n",
       "      <td>1.455464e-36</td>\n",
       "      <td>0.679392</td>\n",
       "    </tr>\n",
       "    <tr>\n",
       "      <th>96.666667</th>\n",
       "      <td>0.281249</td>\n",
       "      <td>1.083694e-36</td>\n",
       "      <td>0.679392</td>\n",
       "    </tr>\n",
       "    <tr>\n",
       "      <th>96.944444</th>\n",
       "      <td>0.281249</td>\n",
       "      <td>8.071215e-37</td>\n",
       "      <td>0.679392</td>\n",
       "    </tr>\n",
       "    <tr>\n",
       "      <th>97.222222</th>\n",
       "      <td>0.281249</td>\n",
       "      <td>6.013100e-37</td>\n",
       "      <td>0.679392</td>\n",
       "    </tr>\n",
       "  </tbody>\n",
       "</table>\n",
       "<p>351 rows × 3 columns</p>\n",
       "</div>"
      ],
      "text/plain": [
       "                 O2       Sucrose       CO2\n",
       "Hours                                      \n",
       "0.000000   0.281250  5.842828e+01  0.679391\n",
       "0.277778   0.281249  5.839068e+01  0.679392\n",
       "0.555556   0.281249  5.835118e+01  0.679392\n",
       "0.833333   0.281249  5.830973e+01  0.679392\n",
       "1.111111   0.281249  5.826620e+01  0.679392\n",
       "...             ...           ...       ...\n",
       "96.111111  0.281249  1.955348e-36  0.679392\n",
       "96.388889  0.281249  1.455464e-36  0.679392\n",
       "96.666667  0.281249  1.083694e-36  0.679392\n",
       "96.944444  0.281249  8.071215e-37  0.679392\n",
       "97.222222  0.281249  6.013100e-37  0.679392\n",
       "\n",
       "[351 rows x 3 columns]"
      ]
     },
     "execution_count": 51,
     "metadata": {},
     "output_type": "execute_result"
    }
   ],
   "source": [
    "data.avg_con"
   ]
  },
  {
   "cell_type": "code",
   "execution_count": null,
   "id": "f1fbd491",
   "metadata": {},
   "outputs": [],
   "source": [
    "Volume = 1e-4*1e-4*1e-5 #m^3\n",
    "CellNum2OD = Volume/1e-9\n",
    "df2 = pd.concat([data.ntypes.ecw*CellNum2OD,data.ntypes.step/60/60*data.timestep],axis=1)\n",
    "df2.columns=['OD600','Hours']\n",
    "SucroseMW = 342.3"
   ]
  },
  {
   "cell_type": "code",
   "execution_count": null,
   "id": "b67091a5",
   "metadata": {},
   "outputs": [
    {
     "data": {
      "text/plain": [
       "S0\n",
       "0     0.001433\n",
       "1     0.002010\n",
       "2     0.163883\n",
       "3     0.207408\n",
       "4     0.216891\n",
       "5     0.213029\n",
       "10    0.264609\n",
       "12    0.255564\n",
       "14    0.301827\n",
       "16    0.294783\n",
       "18    0.277585\n",
       "20    0.299615\n",
       "Name: mu, dtype: float64"
      ]
     },
     "execution_count": 53,
     "metadata": {},
     "output_type": "execute_result"
    }
   ],
   "source": [
    "df.groupby('S0').mean()['mu']"
   ]
  },
  {
   "cell_type": "code",
   "execution_count": null,
   "id": "0046a010",
   "metadata": {},
   "outputs": [],
   "source": [
    "growthRates = {1 : 0.002,2:.163,5:.21,10:.265,20:.2996}"
   ]
  },
  {
   "cell_type": "code",
   "execution_count": null,
   "id": "00c484c2",
   "metadata": {},
   "outputs": [
    {
     "data": {
      "text/plain": [
       "20.0"
      ]
     },
     "execution_count": 55,
     "metadata": {},
     "output_type": "execute_result"
    }
   ],
   "source": [
    "data.avg_con.Sucrose[0]*SucroseMW/1e3"
   ]
  },
  {
   "cell_type": "code",
   "execution_count": null,
   "id": "18e5e659",
   "metadata": {},
   "outputs": [
    {
     "name": "stdout",
     "output_type": "stream",
     "text": [
      "[0.85153994 0.32024766 0.00115569]\n"
     ]
    },
    {
     "data": {
      "text/plain": [
       "<matplotlib.legend.Legend at 0x245e8c52370>"
      ]
     },
     "execution_count": 56,
     "metadata": {},
     "output_type": "execute_result"
    },
    {
     "data": {
      "image/png": "[encoded data removed]",
      "text/plain": [
       "<Figure size 432x288 with 1 Axes>"
      ]
     },
     "metadata": {},
     "output_type": "display_data"
    }
   ],
   "source": [
    "def grow(x,a,k,b):\n",
    "    return a/(1+b*np.exp(x*k))\n",
    "\n",
    "popt2, pcov2 = curve_fit(func,df2.Hours, df2.OD600)\n",
    "print(popt2)\n",
    "xrange= np.arange(0,df2.Hours.max(),1)\n",
    "\n",
    "plt.plot(df2.Hours,df2.OD600,label='exp')\n",
    "plt.plot(xrange,func(xrange,*popt2),label='func2')\n",
    "plt.legend()"
   ]
  }
 ],
 "metadata": {
  "interpreter": {
   "hash": "515badd74c29c7a4424cb26771d1c123a3a02c95308f755ceed007ef744682a7"
  },
  "kernelspec": {
   "display_name": "Python 3.9.7 ('nufeb')",
   "language": "python",
   "name": "python3"
  },
  "language_info": {
   "codemirror_mode": {
    "name": "ipython",
    "version": 3
   },
   "file_extension": ".py",
   "mimetype": "text/x-python",
   "name": "python",
   "nbconvert_exporter": "python",
   "pygments_lexer": "ipython3",
   "version": "3.9.7"
  }
 },
 "nbformat": 4,
 "nbformat_minor": 5
}
