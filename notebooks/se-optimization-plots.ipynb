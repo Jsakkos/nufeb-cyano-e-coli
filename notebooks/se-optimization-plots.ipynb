{
 "cells": [
  {
   "cell_type": "code",
   "execution_count": 23,
   "metadata": {
    "execution": {
     "iopub.execute_input": "2021-10-19T19:11:36.020851Z",
     "iopub.status.busy": "2021-10-19T19:11:36.020177Z",
     "iopub.status.idle": "2021-10-19T19:11:42.454023Z",
     "shell.execute_reply": "2021-10-19T19:11:42.454461Z"
    }
   },
   "outputs": [
    {
     "name": "stderr",
     "output_type": "stream",
     "text": [
      "Traceback (most recent call last):\n",
      "  File \"C:\\Users\\Jonathan\\anaconda3\\envs\\nufeb\\Scripts\\pip3-script.py\", line 6, in <module>\n",
      "    from pip._internal.cli.main import main\n",
      "ModuleNotFoundError: No module named 'pip._internal.cli.main'\n"
     ]
    }
   ],
   "source": [
    "!pip3 install nufeb-tools -U --quiet"
   ]
  },
  {
   "cell_type": "code",
   "execution_count": 24,
   "metadata": {},
   "outputs": [],
   "source": [
    "#Imports\n",
    "import os\n",
    "from random import uniform\n",
    "import subprocess\n",
    "from pathlib import Path\n",
    "from nufeb_tools import utils,plot\n",
    "import pandas as pd\n",
    "from string import Template\n",
    "import numpy as np\n",
    "from functools import partial\n",
    "import time\n",
    "from skopt import gp_minimize, forest_minimize, dummy_minimize, gbrt_minimize\n",
    "from skopt.plots import plot_convergence, plot_objective\n",
    "import matplotlib.pyplot as plt\n",
    "from scipy import interpolate\n",
    "from sklearn.metrics import r2_score\n",
    "from sklearn.metrics import mean_squared_error \n",
    "from skopt import dump, load\n",
    "from skopt.callbacks import CheckpointSaver"
   ]
  },
  {
   "cell_type": "code",
   "execution_count": 25,
   "metadata": {},
   "outputs": [],
   "source": [
    "test_data = pd.read_excel('../experimental-data/sucrose-OD-IPTG-sweep.xls',sheet_name='data')\n",
    "from scipy.optimize import curve_fit\n",
    "def od_func(x):\n",
    "    \"\"\"Exponential fit to IPTG vs OD750 experimental data\n",
    "\n",
    "    Args:\n",
    "        x (float): IPTG concentration (mM)\n",
    "\n",
    "    Returns:\n",
    "        float: Smoothed OD750\n",
    "    \"\"\"\n",
    "    return 0.25482 * np.exp(-x/.06811) + 1.12893\n",
    "def suc_func(x,a,b,c):\n",
    "    return a*np.exp(-x/b)+c\n",
    "# Smooth OD750 data for fitting\n",
    "test_data.loc[:,'OD750'] = od_func(test_data.IPTG)"
   ]
  },
  {
   "cell_type": "code",
   "execution_count": 26,
   "metadata": {},
   "outputs": [],
   "source": [
    "def recompile(alpha,tau,c):\n",
    "    os.chdir('/tmp/NUFEB')\n",
    "    filein = open( f'/home/12x/nufeb-cyano-e-coli/templates/fix_bio_kinetics_monod2.txt' )\n",
    "    #read it\n",
    "    src = Template( filein.read() )\n",
    "    #do the substitution\n",
    "    result = src.safe_substitute({'alpha' : alpha, 'tau' : tau, 'c' : c,'alpha2' : alpha2, 'tau2' : tau2, 'c2' : c2\n",
    "                                        \n",
    "                                        })\n",
    "    with open(\"/tmp/NUFEB/src/USER-NUFEB/fix_bio_kinetics_monod.cpp\",\"w\") as f:\n",
    "       f.writelines(result)\n",
    "    #Compile NUFEB\n",
    "    nufeb_compile = subprocess.run('/home/12x/rapid-compile.sh')"
   ]
  },
  {
   "cell_type": "code",
   "execution_count": 27,
   "metadata": {},
   "outputs": [],
   "source": [
    "def func(x):\n",
    "\n",
    "    alpha = x[0]\n",
    "    tau = x[1]\n",
    "    c = x[2]\n",
    "    #alpha2= 0.7917548932118175\n",
    "    #tau2= 9.928116064234674\n",
    "    #c2= 0.017154626440951674\n",
    "\n",
    "\n",
    "\n",
    "\n",
    "\n",
    "    #Change input params\n",
    "    \n",
    "    os.chdir('/tmp/NUFEB')\n",
    "    recompile(alpha,tau,c)\n",
    "    print(f'alpha: {alpha},tau: {tau},c: {c}')\n",
    "\n",
    "    #Clean old simulations\n",
    "    os.system('nufeb-clean')\n",
    "    #Run simulation\n",
    "    for iptg in test_data.IPTG:\n",
    "        text = f'nufeb-seed --cells 100,0 --d 1e-4,1e-4,1e-4 --grid 20 --t 8700 --mucya {mu} --sucR {iptg}'\n",
    "        os.system(text)\n",
    "\n",
    "    run_nufeb = subprocess.run('/home/12x/optim2.sh', stdout=subprocess.DEVNULL)\n",
    "    BASE_DIR = Path(f'runs/')\n",
    "    folders = [path for path in BASE_DIR.iterdir() if path.is_dir()]\n",
    "\n",
    "    #Extract output\n",
    "\n",
    "    data = [utils.get_data(directory=str(x)) for x in folders]\n",
    "    Volume = 1e-4*1e-4*1e-4 #m^3\n",
    "    CellNum2OD = Volume*1e6/0.3e-8\n",
    "    SucroseMW = 342.3\n",
    "    dfs = []\n",
    "    for x in data:\n",
    "        temp = pd.concat([x.ntypes.cyano/CellNum2OD,x.ntypes.step/60/60*x.timestep,x.avg_con.Sucrose.reset_index(drop=True)],axis=1)\n",
    "        temp.columns=['OD750','Hours','Sucrose']\n",
    "        temp['IPTG'] = x.metadata['SucRatio']\n",
    "        dfs.append(temp)\n",
    "    df = pd.concat(dfs,ignore_index=True)\n",
    "    df = df.loc[(df.Hours > 23.8) & (df.Hours < 24)]\n",
    "    df.sort_values(by='IPTG',inplace=True)\n",
    "    df.reset_index(inplace=True)\n",
    "    \n",
    "\n",
    "    #Compare output with experimental data via RMSE\n",
    "    \n",
    "    return mean_squared_error(df.OD750,test_data.OD750, squared = False) + mean_squared_error(df.Sucrose,test_data.Sucrose, squared = False)\n",
    "\n",
    "\n"
   ]
  },
  {
   "cell_type": "markdown",
   "metadata": {},
   "source": [
    "# Growth curve fitting"
   ]
  },
  {
   "cell_type": "code",
   "execution_count": 28,
   "metadata": {},
   "outputs": [],
   "source": [
    "res = load('../checkpoints/checkpoint-se-od-icer.pkl')\n",
    "x0 = res.x_iters\n",
    "y0 = res.func_vals\n",
    "          #  x0=x0,              # already examined values for x\n",
    "       #     y0=y0,              # observed values for x0"
   ]
  },
  {
   "cell_type": "code",
   "execution_count": 29,
   "metadata": {
    "execution": {
     "iopub.execute_input": "2021-10-19T23:22:17.064804Z",
     "iopub.status.busy": "2021-10-19T23:22:17.063271Z",
     "iopub.status.idle": "2021-10-19T23:22:17.366304Z",
     "shell.execute_reply": "2021-10-19T23:22:17.366740Z"
    }
   },
   "outputs": [
    {
     "data": {
      "text/plain": [
       "<AxesSubplot:title={'center':'Convergence plot'}, xlabel='Number of calls $n$', ylabel='$\\\\min f(x)$ after $n$ calls'>"
      ]
     },
     "execution_count": 29,
     "metadata": {},
     "output_type": "execute_result"
    },
    {
     "data": {
      "image/png": "[encoded data removed]",
      "text/plain": [
       "<Figure size 432x288 with 1 Axes>"
      ]
     },
     "metadata": {
      "needs_background": "light"
     },
     "output_type": "display_data"
    }
   ],
   "source": [
    "plot_convergence(res,yscale='log')"
   ]
  },
  {
   "cell_type": "code",
   "execution_count": 30,
   "metadata": {
    "execution": {
     "iopub.execute_input": "2021-10-19T23:22:17.369760Z",
     "iopub.status.busy": "2021-10-19T23:22:17.369222Z",
     "iopub.status.idle": "2021-10-19T23:22:44.444070Z",
     "shell.execute_reply": "2021-10-19T23:22:44.443586Z"
    }
   },
   "outputs": [
    {
     "data": {
      "image/png": "[encoded data removed]",
      "text/plain": [
       "<Figure size 432x432 with 9 Axes>"
      ]
     },
     "metadata": {
      "needs_background": "light"
     },
     "output_type": "display_data"
    }
   ],
   "source": [
    "axes = plot_objective(res,dimensions=[r'$\\alpha$',r'$\\tau$','c'],cmap='inferno')\n",
    "#axes.flatten()[0].figure.savefig(\"../figures/se-objective.png\")"
   ]
  },
  {
   "cell_type": "code",
   "execution_count": 31,
   "metadata": {
    "execution": {
     "iopub.execute_input": "2021-10-19T23:22:44.447413Z",
     "iopub.status.busy": "2021-10-19T23:22:44.446943Z",
     "iopub.status.idle": "2021-10-19T23:22:44.449067Z",
     "shell.execute_reply": "2021-10-19T23:22:44.449436Z"
    }
   },
   "outputs": [
    {
     "data": {
      "text/plain": [
       "[-0.14096531237477777, 0.06278980692474602, 0.10023045545531656]"
      ]
     },
     "execution_count": 31,
     "metadata": {},
     "output_type": "execute_result"
    }
   ],
   "source": [
    "res.x"
   ]
  },
  {
   "cell_type": "markdown",
   "metadata": {},
   "source": [
    "# Sucrose export fitting"
   ]
  },
  {
   "cell_type": "code",
   "execution_count": 32,
   "metadata": {
    "execution": {
     "iopub.execute_input": "2021-10-19T23:26:52.348397Z",
     "iopub.status.busy": "2021-10-19T23:26:52.347955Z",
     "iopub.status.idle": "2021-10-19T23:26:52.355737Z",
     "shell.execute_reply": "2021-10-19T23:26:52.356151Z"
    }
   },
   "outputs": [],
   "source": [
    "res = load('../checkpoints/checkpoint-se-suc-icer.pkl')"
   ]
  },
  {
   "cell_type": "code",
   "execution_count": 33,
   "metadata": {},
   "outputs": [
    {
     "data": {
      "text/plain": [
       "<AxesSubplot:title={'center':'Convergence plot'}, xlabel='Number of calls $n$', ylabel='$\\\\min f(x)$ after $n$ calls'>"
      ]
     },
     "execution_count": 33,
     "metadata": {},
     "output_type": "execute_result"
    },
    {
     "data": {
      "image/png": "[encoded data removed]",
      "text/plain": [
       "<Figure size 432x288 with 1 Axes>"
      ]
     },
     "metadata": {
      "needs_background": "light"
     },
     "output_type": "display_data"
    }
   ],
   "source": [
    "plot_convergence(res,yscale='log')"
   ]
  },
  {
   "cell_type": "code",
   "execution_count": 34,
   "metadata": {},
   "outputs": [
    {
     "data": {
      "image/png": "[encoded data removed]",
      "text/plain": [
       "<Figure size 432x432 with 9 Axes>"
      ]
     },
     "metadata": {
      "needs_background": "light"
     },
     "output_type": "display_data"
    }
   ],
   "source": [
    "axes = plot_objective(res,dimensions=[r'$\\alpha$',r'$\\tau$','c'],cmap='inferno')\n",
    "#axes.flatten()[0].figure.savefig(\"../figures/se-objective.png\")"
   ]
  },
  {
   "cell_type": "code",
   "execution_count": 35,
   "metadata": {},
   "outputs": [
    {
     "data": {
      "text/plain": [
       "[-3.4897341206041004, 0.048054721764639076, 3.4091902801428087]"
      ]
     },
     "execution_count": 35,
     "metadata": {},
     "output_type": "execute_result"
    }
   ],
   "source": [
    "res.x"
   ]
  }
 ],
 "metadata": {
  "interpreter": {
   "hash": "2626e5adae8198ed7264a71f52684958c93e45a3e0e106b4eda1bc852fc4cd77"
  },
  "kernelspec": {
   "display_name": "Python 3.9.5 64-bit ('nufeb': conda)",
   "name": "python3"
  },
  "language_info": {
   "codemirror_mode": {
    "name": "ipython",
    "version": 3
   },
   "file_extension": ".py",
   "mimetype": "text/x-python",
   "name": "python",
   "nbconvert_exporter": "python",
   "pygments_lexer": "ipython3",
   "version": "3.9.5"
  },
  "widgets": {
   "application/vnd.jupyter.widget-state+json": {
    "state": {
     "28d8b8c3f94e4318bb6ed06b05927fc0": {
      "model_module": "@jupyter-widgets/base",
      "model_module_version": "1.2.0",
      "model_name": "LayoutModel",
      "state": {
       "_model_module": "@jupyter-widgets/base",
       "_model_module_version": "1.2.0",
       "_model_name": "LayoutModel",
       "_view_count": null,
       "_view_module": "@jupyter-widgets/base",
       "_view_module_version": "1.2.0",
       "_view_name": "LayoutView",
       "align_content": null,
       "align_items": null,
       "align_self": null,
       "border": null,
       "bottom": null,
       "display": null,
       "flex": null,
       "flex_flow": null,
       "grid_area": null,
       "grid_auto_columns": null,
       "grid_auto_flow": null,
       "grid_auto_rows": null,
       "grid_column": null,
       "grid_gap": null,
       "grid_row": null,
       "grid_template_areas": null,
       "grid_template_columns": null,
       "grid_template_rows": null,
       "height": null,
       "justify_content": null,
       "justify_items": null,
       "left": null,
       "margin": null,
       "max_height": null,
       "max_width": null,
       "min_height": null,
       "min_width": null,
       "object_fit": null,
       "object_position": null,
       "order": null,
       "overflow": null,
       "overflow_x": null,
       "overflow_y": null,
       "padding": null,
       "right": null,
       "top": null,
       "visibility": null,
       "width": null
      }
     },
     "2e9c1e70da3a4c0a8cb6b463d0c540fb": {
      "model_module": "@jupyter-widgets/controls",
      "model_module_version": "1.5.0",
      "model_name": "FloatProgressModel",
      "state": {
       "_dom_classes": [],
       "_model_module": "@jupyter-widgets/controls",
       "_model_module_version": "1.5.0",
       "_model_name": "FloatProgressModel",
       "_view_count": null,
       "_view_module": "@jupyter-widgets/controls",
       "_view_module_version": "1.5.0",
       "_view_name": "ProgressView",
       "bar_style": "",
       "description": "",
       "description_tooltip": null,
       "layout": "IPY_MODEL_6e03de5f2ed64c28a80c0ad457e59906",
       "max": 60,
       "min": 0,
       "orientation": "horizontal",
       "style": "IPY_MODEL_88723ad28dbb4654a0a15e1e10509b77",
       "value": 60
      }
     },
     "4daf942a91df4d3eab05b72da16d2467": {
      "model_module": "@jupyter-widgets/controls",
      "model_module_version": "1.5.0",
      "model_name": "HBoxModel",
      "state": {
       "_dom_classes": [],
       "_model_module": "@jupyter-widgets/controls",
       "_model_module_version": "1.5.0",
       "_model_name": "HBoxModel",
       "_view_count": null,
       "_view_module": "@jupyter-widgets/controls",
       "_view_module_version": "1.5.0",
       "_view_name": "HBoxView",
       "box_style": "",
       "children": [
        "IPY_MODEL_ae0e7607fd8f490d9a61c427b6da7f09",
        "IPY_MODEL_2e9c1e70da3a4c0a8cb6b463d0c540fb",
        "IPY_MODEL_87b2a33d96c147abb271dff135e5b82f"
       ],
       "layout": "IPY_MODEL_28d8b8c3f94e4318bb6ed06b05927fc0"
      }
     },
     "6e03de5f2ed64c28a80c0ad457e59906": {
      "model_module": "@jupyter-widgets/base",
      "model_module_version": "1.2.0",
      "model_name": "LayoutModel",
      "state": {
       "_model_module": "@jupyter-widgets/base",
       "_model_module_version": "1.2.0",
       "_model_name": "LayoutModel",
       "_view_count": null,
       "_view_module": "@jupyter-widgets/base",
       "_view_module_version": "1.2.0",
       "_view_name": "LayoutView",
       "align_content": null,
       "align_items": null,
       "align_self": null,
       "border": null,
       "bottom": null,
       "display": null,
       "flex": null,
       "flex_flow": null,
       "grid_area": null,
       "grid_auto_columns": null,
       "grid_auto_flow": null,
       "grid_auto_rows": null,
       "grid_column": null,
       "grid_gap": null,
       "grid_row": null,
       "grid_template_areas": null,
       "grid_template_columns": null,
       "grid_template_rows": null,
       "height": null,
       "justify_content": null,
       "justify_items": null,
       "left": null,
       "margin": null,
       "max_height": null,
       "max_width": null,
       "min_height": null,
       "min_width": null,
       "object_fit": null,
       "object_position": null,
       "order": null,
       "overflow": null,
       "overflow_x": null,
       "overflow_y": null,
       "padding": null,
       "right": null,
       "top": null,
       "visibility": null,
       "width": null
      }
     },
     "70aabaf7fe144dcb9de8d1ac18271865": {
      "model_module": "@jupyter-widgets/base",
      "model_module_version": "1.2.0",
      "model_name": "LayoutModel",
      "state": {
       "_model_module": "@jupyter-widgets/base",
       "_model_module_version": "1.2.0",
       "_model_name": "LayoutModel",
       "_view_count": null,
       "_view_module": "@jupyter-widgets/base",
       "_view_module_version": "1.2.0",
       "_view_name": "LayoutView",
       "align_content": null,
       "align_items": null,
       "align_self": null,
       "border": null,
       "bottom": null,
       "display": null,
       "flex": null,
       "flex_flow": null,
       "grid_area": null,
       "grid_auto_columns": null,
       "grid_auto_flow": null,
       "grid_auto_rows": null,
       "grid_column": null,
       "grid_gap": null,
       "grid_row": null,
       "grid_template_areas": null,
       "grid_template_columns": null,
       "grid_template_rows": null,
       "height": null,
       "justify_content": null,
       "justify_items": null,
       "left": null,
       "margin": null,
       "max_height": null,
       "max_width": null,
       "min_height": null,
       "min_width": null,
       "object_fit": null,
       "object_position": null,
       "order": null,
       "overflow": null,
       "overflow_x": null,
       "overflow_y": null,
       "padding": null,
       "right": null,
       "top": null,
       "visibility": null,
       "width": null
      }
     },
     "742bcf3d17544e60bb5c3296ff9928f3": {
      "model_module": "@jupyter-widgets/controls",
      "model_module_version": "1.5.0",
      "model_name": "DescriptionStyleModel",
      "state": {
       "_model_module": "@jupyter-widgets/controls",
       "_model_module_version": "1.5.0",
       "_model_name": "DescriptionStyleModel",
       "_view_count": null,
       "_view_module": "@jupyter-widgets/base",
       "_view_module_version": "1.2.0",
       "_view_name": "StyleView",
       "description_width": ""
      }
     },
     "87b2a33d96c147abb271dff135e5b82f": {
      "model_module": "@jupyter-widgets/controls",
      "model_module_version": "1.5.0",
      "model_name": "HTMLModel",
      "state": {
       "_dom_classes": [],
       "_model_module": "@jupyter-widgets/controls",
       "_model_module_version": "1.5.0",
       "_model_name": "HTMLModel",
       "_view_count": null,
       "_view_module": "@jupyter-widgets/controls",
       "_view_module_version": "1.5.0",
       "_view_name": "HTMLView",
       "description": "",
       "description_tooltip": null,
       "layout": "IPY_MODEL_70aabaf7fe144dcb9de8d1ac18271865",
       "placeholder": "​",
       "style": "IPY_MODEL_8d5f5b4dcb604386ae621cfd0c1111fb",
       "value": " 60/60 [4:01:25&lt;00:00, 238.37s/it]"
      }
     },
     "88723ad28dbb4654a0a15e1e10509b77": {
      "model_module": "@jupyter-widgets/controls",
      "model_module_version": "1.5.0",
      "model_name": "ProgressStyleModel",
      "state": {
       "_model_module": "@jupyter-widgets/controls",
       "_model_module_version": "1.5.0",
       "_model_name": "ProgressStyleModel",
       "_view_count": null,
       "_view_module": "@jupyter-widgets/base",
       "_view_module_version": "1.2.0",
       "_view_name": "StyleView",
       "bar_color": null,
       "description_width": ""
      }
     },
     "8d5f5b4dcb604386ae621cfd0c1111fb": {
      "model_module": "@jupyter-widgets/controls",
      "model_module_version": "1.5.0",
      "model_name": "DescriptionStyleModel",
      "state": {
       "_model_module": "@jupyter-widgets/controls",
       "_model_module_version": "1.5.0",
       "_model_name": "DescriptionStyleModel",
       "_view_count": null,
       "_view_module": "@jupyter-widgets/base",
       "_view_module_version": "1.2.0",
       "_view_name": "StyleView",
       "description_width": ""
      }
     },
     "ae0e7607fd8f490d9a61c427b6da7f09": {
      "model_module": "@jupyter-widgets/controls",
      "model_module_version": "1.5.0",
      "model_name": "HTMLModel",
      "state": {
       "_dom_classes": [],
       "_model_module": "@jupyter-widgets/controls",
       "_model_module_version": "1.5.0",
       "_model_name": "HTMLModel",
       "_view_count": null,
       "_view_module": "@jupyter-widgets/controls",
       "_view_module_version": "1.5.0",
       "_view_name": "HTMLView",
       "description": "",
       "description_tooltip": null,
       "layout": "IPY_MODEL_f9a2c2da32ab448ca0a7b282dad77e83",
       "placeholder": "​",
       "style": "IPY_MODEL_742bcf3d17544e60bb5c3296ff9928f3",
       "value": "Bayesian opt: 100%"
      }
     },
     "f9a2c2da32ab448ca0a7b282dad77e83": {
      "model_module": "@jupyter-widgets/base",
      "model_module_version": "1.2.0",
      "model_name": "LayoutModel",
      "state": {
       "_model_module": "@jupyter-widgets/base",
       "_model_module_version": "1.2.0",
       "_model_name": "LayoutModel",
       "_view_count": null,
       "_view_module": "@jupyter-widgets/base",
       "_view_module_version": "1.2.0",
       "_view_name": "LayoutView",
       "align_content": null,
       "align_items": null,
       "align_self": null,
       "border": null,
       "bottom": null,
       "display": null,
       "flex": null,
       "flex_flow": null,
       "grid_area": null,
       "grid_auto_columns": null,
       "grid_auto_flow": null,
       "grid_auto_rows": null,
       "grid_column": null,
       "grid_gap": null,
       "grid_row": null,
       "grid_template_areas": null,
       "grid_template_columns": null,
       "grid_template_rows": null,
       "height": null,
       "justify_content": null,
       "justify_items": null,
       "left": null,
       "margin": null,
       "max_height": null,
       "max_width": null,
       "min_height": null,
       "min_width": null,
       "object_fit": null,
       "object_position": null,
       "order": null,
       "overflow": null,
       "overflow_x": null,
       "overflow_y": null,
       "padding": null,
       "right": null,
       "top": null,
       "visibility": null,
       "width": null
      }
     }
    },
    "version_major": 2,
    "version_minor": 0
   }
  }
 },
 "nbformat": 4,
 "nbformat_minor": 4
}
