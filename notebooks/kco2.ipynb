{
 "cells": [
  {
   "cell_type": "code",
   "execution_count": 58,
   "metadata": {},
   "outputs": [],
   "source": [
    "import numpy as np\n",
    "import pandas as pd\n",
    "import seaborn as sns\n",
    "import matplotlib.pyplot as plt\n",
    "from scipy.optimize import curve_fit\n",
    "from sklearn.metrics import r2_score\n"
   ]
  },
  {
   "cell_type": "code",
   "execution_count": 3,
   "metadata": {},
   "outputs": [],
   "source": [
    "df = pd.read_excel('../experimental-data/co2_data_Jahn2018.xlsx')"
   ]
  },
  {
   "cell_type": "code",
   "execution_count": 4,
   "metadata": {},
   "outputs": [
    {
     "data": {
      "text/html": [
       "<div>\n",
       "<style scoped>\n",
       "    .dataframe tbody tr th:only-of-type {\n",
       "        vertical-align: middle;\n",
       "    }\n",
       "\n",
       "    .dataframe tbody tr th {\n",
       "        vertical-align: top;\n",
       "    }\n",
       "\n",
       "    .dataframe thead th {\n",
       "        text-align: right;\n",
       "    }\n",
       "</style>\n",
       "<table border=\"1\" class=\"dataframe\">\n",
       "  <thead>\n",
       "    <tr style=\"text-align: right;\">\n",
       "      <th></th>\n",
       "      <th>date</th>\n",
       "      <th>experiment</th>\n",
       "      <th>strain</th>\n",
       "      <th>plasmid</th>\n",
       "      <th>light</th>\n",
       "      <th>medium</th>\n",
       "      <th>co2</th>\n",
       "      <th>replicate</th>\n",
       "      <th>t_for_mu_start [h]</th>\n",
       "      <th>t_for_mu_end [h]</th>\n",
       "      <th>...</th>\n",
       "      <th>mu_determination</th>\n",
       "      <th>mu_mean</th>\n",
       "      <th>mu_sd</th>\n",
       "      <th>mu_CV %</th>\n",
       "      <th>tD</th>\n",
       "      <th>tR</th>\n",
       "      <th>mu_mean_4_replicates</th>\n",
       "      <th>ChlA</th>\n",
       "      <th>Phyco</th>\n",
       "      <th>Carot</th>\n",
       "    </tr>\n",
       "  </thead>\n",
       "  <tbody>\n",
       "    <tr>\n",
       "      <th>0</th>\n",
       "      <td>2017-02-10</td>\n",
       "      <td>light limitation</td>\n",
       "      <td>Synechocystis sp. PCC6803</td>\n",
       "      <td>NaN</td>\n",
       "      <td>1000</td>\n",
       "      <td>BG11</td>\n",
       "      <td>1.0</td>\n",
       "      <td>1</td>\n",
       "      <td>260</td>\n",
       "      <td>330</td>\n",
       "      <td>...</td>\n",
       "      <td>6 point interval, R2=0,95</td>\n",
       "      <td>0.1020</td>\n",
       "      <td>0.0086</td>\n",
       "      <td>8.4</td>\n",
       "      <td>6.80</td>\n",
       "      <td>9.80</td>\n",
       "      <td>0.0961</td>\n",
       "      <td>1.287487</td>\n",
       "      <td>1.366429</td>\n",
       "      <td>1.484028</td>\n",
       "    </tr>\n",
       "    <tr>\n",
       "      <th>1</th>\n",
       "      <td>2017-02-10</td>\n",
       "      <td>light limitation</td>\n",
       "      <td>Synechocystis sp. PCC6803</td>\n",
       "      <td>NaN</td>\n",
       "      <td>1000</td>\n",
       "      <td>BG11</td>\n",
       "      <td>1.0</td>\n",
       "      <td>2</td>\n",
       "      <td>260</td>\n",
       "      <td>330</td>\n",
       "      <td>...</td>\n",
       "      <td>6 point interval, R2=0,95</td>\n",
       "      <td>0.0927</td>\n",
       "      <td>0.0135</td>\n",
       "      <td>14.6</td>\n",
       "      <td>7.48</td>\n",
       "      <td>10.79</td>\n",
       "      <td>NaN</td>\n",
       "      <td>1.294354</td>\n",
       "      <td>1.368381</td>\n",
       "      <td>1.477290</td>\n",
       "    </tr>\n",
       "    <tr>\n",
       "      <th>2</th>\n",
       "      <td>2017-02-10</td>\n",
       "      <td>light limitation</td>\n",
       "      <td>Synechocystis sp. PCC6803</td>\n",
       "      <td>NaN</td>\n",
       "      <td>1000</td>\n",
       "      <td>BG11</td>\n",
       "      <td>1.0</td>\n",
       "      <td>3</td>\n",
       "      <td>260</td>\n",
       "      <td>330</td>\n",
       "      <td>...</td>\n",
       "      <td>6 point interval, R2=0,95</td>\n",
       "      <td>0.0842</td>\n",
       "      <td>0.0090</td>\n",
       "      <td>10.7</td>\n",
       "      <td>8.23</td>\n",
       "      <td>11.88</td>\n",
       "      <td>NaN</td>\n",
       "      <td>1.303436</td>\n",
       "      <td>1.373494</td>\n",
       "      <td>1.495984</td>\n",
       "    </tr>\n",
       "    <tr>\n",
       "      <th>3</th>\n",
       "      <td>2017-02-10</td>\n",
       "      <td>light limitation</td>\n",
       "      <td>Synechocystis sp. PCC6803</td>\n",
       "      <td>NaN</td>\n",
       "      <td>1000</td>\n",
       "      <td>BG11</td>\n",
       "      <td>1.0</td>\n",
       "      <td>4</td>\n",
       "      <td>260</td>\n",
       "      <td>330</td>\n",
       "      <td>...</td>\n",
       "      <td>6 point interval, R2=0,95</td>\n",
       "      <td>0.1056</td>\n",
       "      <td>0.0165</td>\n",
       "      <td>15.6</td>\n",
       "      <td>6.56</td>\n",
       "      <td>9.47</td>\n",
       "      <td>NaN</td>\n",
       "      <td>1.295024</td>\n",
       "      <td>1.399220</td>\n",
       "      <td>1.506537</td>\n",
       "    </tr>\n",
       "    <tr>\n",
       "      <th>4</th>\n",
       "      <td>2017-02-10</td>\n",
       "      <td>light limitation</td>\n",
       "      <td>Synechocystis sp. PCC6803</td>\n",
       "      <td>NaN</td>\n",
       "      <td>500</td>\n",
       "      <td>BG11</td>\n",
       "      <td>1.0</td>\n",
       "      <td>1</td>\n",
       "      <td>260</td>\n",
       "      <td>330</td>\n",
       "      <td>...</td>\n",
       "      <td>6 point interval, R2=0,95</td>\n",
       "      <td>0.1171</td>\n",
       "      <td>0.0164</td>\n",
       "      <td>14.0</td>\n",
       "      <td>5.92</td>\n",
       "      <td>8.54</td>\n",
       "      <td>0.1058</td>\n",
       "      <td>1.377175</td>\n",
       "      <td>1.437924</td>\n",
       "      <td>1.437039</td>\n",
       "    </tr>\n",
       "    <tr>\n",
       "      <th>...</th>\n",
       "      <td>...</td>\n",
       "      <td>...</td>\n",
       "      <td>...</td>\n",
       "      <td>...</td>\n",
       "      <td>...</td>\n",
       "      <td>...</td>\n",
       "      <td>...</td>\n",
       "      <td>...</td>\n",
       "      <td>...</td>\n",
       "      <td>...</td>\n",
       "      <td>...</td>\n",
       "      <td>...</td>\n",
       "      <td>...</td>\n",
       "      <td>...</td>\n",
       "      <td>...</td>\n",
       "      <td>...</td>\n",
       "      <td>...</td>\n",
       "      <td>...</td>\n",
       "      <td>...</td>\n",
       "      <td>...</td>\n",
       "      <td>...</td>\n",
       "    </tr>\n",
       "    <tr>\n",
       "      <th>75</th>\n",
       "      <td>2017-05-24</td>\n",
       "      <td>perturbation</td>\n",
       "      <td>Synechocystis sp. PCC6803</td>\n",
       "      <td>NaN</td>\n",
       "      <td>60</td>\n",
       "      <td>BG11+DCMU 0.2 uM</td>\n",
       "      <td>1.0</td>\n",
       "      <td>4</td>\n",
       "      <td>170</td>\n",
       "      <td>450</td>\n",
       "      <td>...</td>\n",
       "      <td>auto  interval, R2=0,95</td>\n",
       "      <td>0.0183</td>\n",
       "      <td>0.0016</td>\n",
       "      <td>8.7</td>\n",
       "      <td>37.88</td>\n",
       "      <td>54.64</td>\n",
       "      <td>NaN</td>\n",
       "      <td>1.489013</td>\n",
       "      <td>1.620647</td>\n",
       "      <td>1.450871</td>\n",
       "    </tr>\n",
       "    <tr>\n",
       "      <th>76</th>\n",
       "      <td>2017-11-10</td>\n",
       "      <td>perturbation</td>\n",
       "      <td>Synechocystis sp. PCC6803</td>\n",
       "      <td>pJA8-eYFP</td>\n",
       "      <td>60</td>\n",
       "      <td>BG11+Kan 25 ug/mL</td>\n",
       "      <td>1.0</td>\n",
       "      <td>1</td>\n",
       "      <td>175</td>\n",
       "      <td>475</td>\n",
       "      <td>...</td>\n",
       "      <td>auto  interval, R2=0,95</td>\n",
       "      <td>0.0269</td>\n",
       "      <td>0.0016</td>\n",
       "      <td>5.9</td>\n",
       "      <td>25.77</td>\n",
       "      <td>37.17</td>\n",
       "      <td>0.0257</td>\n",
       "      <td>1.524036</td>\n",
       "      <td>1.549555</td>\n",
       "      <td>1.399407</td>\n",
       "    </tr>\n",
       "    <tr>\n",
       "      <th>77</th>\n",
       "      <td>2017-11-10</td>\n",
       "      <td>perturbation</td>\n",
       "      <td>Synechocystis sp. PCC6803</td>\n",
       "      <td>pJA8-eYFP</td>\n",
       "      <td>60</td>\n",
       "      <td>BG11+Kan 25 ug/mL</td>\n",
       "      <td>1.0</td>\n",
       "      <td>2</td>\n",
       "      <td>175</td>\n",
       "      <td>475</td>\n",
       "      <td>...</td>\n",
       "      <td>auto  interval, R2=0,95</td>\n",
       "      <td>0.0269</td>\n",
       "      <td>0.0015</td>\n",
       "      <td>5.6</td>\n",
       "      <td>25.77</td>\n",
       "      <td>37.17</td>\n",
       "      <td>NaN</td>\n",
       "      <td>1.519932</td>\n",
       "      <td>1.536446</td>\n",
       "      <td>1.386105</td>\n",
       "    </tr>\n",
       "    <tr>\n",
       "      <th>78</th>\n",
       "      <td>2017-11-10</td>\n",
       "      <td>perturbation</td>\n",
       "      <td>Synechocystis sp. PCC6803</td>\n",
       "      <td>pJA8-eYFP</td>\n",
       "      <td>60</td>\n",
       "      <td>BG11+Kan 25 ug/mL</td>\n",
       "      <td>1.0</td>\n",
       "      <td>3</td>\n",
       "      <td>175</td>\n",
       "      <td>475</td>\n",
       "      <td>...</td>\n",
       "      <td>auto  interval, R2=0,95</td>\n",
       "      <td>0.0244</td>\n",
       "      <td>0.0029</td>\n",
       "      <td>11.9</td>\n",
       "      <td>28.41</td>\n",
       "      <td>40.98</td>\n",
       "      <td>NaN</td>\n",
       "      <td>1.530833</td>\n",
       "      <td>1.535000</td>\n",
       "      <td>1.393333</td>\n",
       "    </tr>\n",
       "    <tr>\n",
       "      <th>79</th>\n",
       "      <td>2017-11-10</td>\n",
       "      <td>perturbation</td>\n",
       "      <td>Synechocystis sp. PCC6803</td>\n",
       "      <td>pJA8-eYFP</td>\n",
       "      <td>60</td>\n",
       "      <td>BG11+Kan 25 ug/mL</td>\n",
       "      <td>1.0</td>\n",
       "      <td>4</td>\n",
       "      <td>175</td>\n",
       "      <td>475</td>\n",
       "      <td>...</td>\n",
       "      <td>auto  interval, R2=0,95</td>\n",
       "      <td>0.0245</td>\n",
       "      <td>0.0032</td>\n",
       "      <td>13.1</td>\n",
       "      <td>28.29</td>\n",
       "      <td>40.82</td>\n",
       "      <td>NaN</td>\n",
       "      <td>1.501319</td>\n",
       "      <td>1.532982</td>\n",
       "      <td>1.433597</td>\n",
       "    </tr>\n",
       "  </tbody>\n",
       "</table>\n",
       "<p>80 rows × 21 columns</p>\n",
       "</div>"
      ],
      "text/plain": [
       "         date        experiment                     strain    plasmid  light  \\\n",
       "0  2017-02-10  light limitation  Synechocystis sp. PCC6803        NaN   1000   \n",
       "1  2017-02-10  light limitation  Synechocystis sp. PCC6803        NaN   1000   \n",
       "2  2017-02-10  light limitation  Synechocystis sp. PCC6803        NaN   1000   \n",
       "3  2017-02-10  light limitation  Synechocystis sp. PCC6803        NaN   1000   \n",
       "4  2017-02-10  light limitation  Synechocystis sp. PCC6803        NaN    500   \n",
       "..        ...               ...                        ...        ...    ...   \n",
       "75 2017-05-24      perturbation  Synechocystis sp. PCC6803        NaN     60   \n",
       "76 2017-11-10      perturbation  Synechocystis sp. PCC6803  pJA8-eYFP     60   \n",
       "77 2017-11-10      perturbation  Synechocystis sp. PCC6803  pJA8-eYFP     60   \n",
       "78 2017-11-10      perturbation  Synechocystis sp. PCC6803  pJA8-eYFP     60   \n",
       "79 2017-11-10      perturbation  Synechocystis sp. PCC6803  pJA8-eYFP     60   \n",
       "\n",
       "               medium  co2  replicate  t_for_mu_start [h]  t_for_mu_end [h]  \\\n",
       "0                BG11  1.0          1                 260               330   \n",
       "1                BG11  1.0          2                 260               330   \n",
       "2                BG11  1.0          3                 260               330   \n",
       "3                BG11  1.0          4                 260               330   \n",
       "4                BG11  1.0          1                 260               330   \n",
       "..                ...  ...        ...                 ...               ...   \n",
       "75   BG11+DCMU 0.2 uM  1.0          4                 170               450   \n",
       "76  BG11+Kan 25 ug/mL  1.0          1                 175               475   \n",
       "77  BG11+Kan 25 ug/mL  1.0          2                 175               475   \n",
       "78  BG11+Kan 25 ug/mL  1.0          3                 175               475   \n",
       "79  BG11+Kan 25 ug/mL  1.0          4                 175               475   \n",
       "\n",
       "    ...           mu_determination mu_mean   mu_sd  mu_CV %     tD     tR  \\\n",
       "0   ...  6 point interval, R2=0,95  0.1020  0.0086      8.4   6.80   9.80   \n",
       "1   ...  6 point interval, R2=0,95  0.0927  0.0135     14.6   7.48  10.79   \n",
       "2   ...  6 point interval, R2=0,95  0.0842  0.0090     10.7   8.23  11.88   \n",
       "3   ...  6 point interval, R2=0,95  0.1056  0.0165     15.6   6.56   9.47   \n",
       "4   ...  6 point interval, R2=0,95  0.1171  0.0164     14.0   5.92   8.54   \n",
       "..  ...                        ...     ...     ...      ...    ...    ...   \n",
       "75  ...    auto  interval, R2=0,95  0.0183  0.0016      8.7  37.88  54.64   \n",
       "76  ...    auto  interval, R2=0,95  0.0269  0.0016      5.9  25.77  37.17   \n",
       "77  ...    auto  interval, R2=0,95  0.0269  0.0015      5.6  25.77  37.17   \n",
       "78  ...    auto  interval, R2=0,95  0.0244  0.0029     11.9  28.41  40.98   \n",
       "79  ...    auto  interval, R2=0,95  0.0245  0.0032     13.1  28.29  40.82   \n",
       "\n",
       "    mu_mean_4_replicates      ChlA     Phyco     Carot  \n",
       "0                 0.0961  1.287487  1.366429  1.484028  \n",
       "1                    NaN  1.294354  1.368381  1.477290  \n",
       "2                    NaN  1.303436  1.373494  1.495984  \n",
       "3                    NaN  1.295024  1.399220  1.506537  \n",
       "4                 0.1058  1.377175  1.437924  1.437039  \n",
       "..                   ...       ...       ...       ...  \n",
       "75                   NaN  1.489013  1.620647  1.450871  \n",
       "76                0.0257  1.524036  1.549555  1.399407  \n",
       "77                   NaN  1.519932  1.536446  1.386105  \n",
       "78                   NaN  1.530833  1.535000  1.393333  \n",
       "79                   NaN  1.501319  1.532982  1.433597  \n",
       "\n",
       "[80 rows x 21 columns]"
      ]
     },
     "execution_count": 4,
     "metadata": {},
     "output_type": "execute_result"
    }
   ],
   "source": [
    "df"
   ]
  },
  {
   "cell_type": "code",
   "execution_count": 7,
   "metadata": {},
   "outputs": [],
   "source": [
    "df2=df.loc[(df.medium=='BG11') & (df.light==300),['co2','mu_mean']]"
   ]
  },
  {
   "cell_type": "code",
   "execution_count": 13,
   "metadata": {},
   "outputs": [],
   "source": [
    "data=df2.groupby('co2').mean().reset_index()"
   ]
  },
  {
   "cell_type": "code",
   "execution_count": 17,
   "metadata": {},
   "outputs": [
    {
     "data": {
      "text/plain": [
       "[<matplotlib.lines.Line2D at 0x17733bab8b0>]"
      ]
     },
     "execution_count": 17,
     "metadata": {},
     "output_type": "execute_result"
    },
    {
     "data": {
      "image/png": "[encoded data removed]",
      "text/plain": [
       "<Figure size 432x288 with 1 Axes>"
      ]
     },
     "metadata": {
      "needs_background": "light"
     },
     "output_type": "display_data"
    }
   ],
   "source": [
    "plt.plot(data.co2,data.mu_mean)"
   ]
  },
  {
   "cell_type": "code",
   "execution_count": 11,
   "metadata": {},
   "outputs": [
    {
     "data": {
      "text/plain": [
       "mu_mean    0.097125\n",
       "dtype: float64"
      ]
     },
     "execution_count": 11,
     "metadata": {},
     "output_type": "execute_result"
    }
   ],
   "source": [
    "data.max()"
   ]
  },
  {
   "cell_type": "code",
   "execution_count": 54,
   "metadata": {},
   "outputs": [],
   "source": [
    "def func(co2,kco2,mu_max):\n",
    "    return mu_max * (co2/( kco2 + co2))\n",
    "popt,pcov = curve_fit(func,data.co2,data.mu_mean)"
   ]
  },
  {
   "cell_type": "code",
   "execution_count": 26,
   "metadata": {},
   "outputs": [
    {
     "data": {
      "text/plain": [
       "array([0.26478612])"
      ]
     },
     "execution_count": 26,
     "metadata": {},
     "output_type": "execute_result"
    }
   ],
   "source": [
    "popt"
   ]
  },
  {
   "cell_type": "code",
   "execution_count": 27,
   "metadata": {},
   "outputs": [
    {
     "data": {
      "text/plain": [
       "<matplotlib.legend.Legend at 0x17733cf8730>"
      ]
     },
     "execution_count": 27,
     "metadata": {},
     "output_type": "execute_result"
    },
    {
     "data": {
      "image/png": "[encoded data removed]",
      "text/plain": [
       "<Figure size 432x288 with 1 Axes>"
      ]
     },
     "metadata": {
      "needs_background": "light"
     },
     "output_type": "display_data"
    }
   ],
   "source": [
    "f, ax =plt.subplots()\n",
    "ax.plot(data.co2,data.mu_mean,label='exp')\n",
    "ax.plot(data.co2,func(data.co2,*popt),label='fit')\n",
    "ax.legend(frameon=False)"
   ]
  },
  {
   "cell_type": "code",
   "execution_count": 46,
   "metadata": {},
   "outputs": [],
   "source": [
    "kh=29.41 #atm/M\n",
    "co2mw=43.99\n",
    "co2=[i/kh for i in data.co2/100]"
   ]
  },
  {
   "cell_type": "code",
   "execution_count": 47,
   "metadata": {},
   "outputs": [],
   "source": [
    "data['co2M']=data.apply(lambda x: x['co2']/100/kh,axis=1)\n",
    "data['co2gL']=data.co2M*co2mw"
   ]
  },
  {
   "cell_type": "code",
   "execution_count": 73,
   "metadata": {},
   "outputs": [
    {
     "data": {
      "image/png": "[encoded data removed]",
      "text/plain": [
       "<Figure size 432x288 with 1 Axes>"
      ]
     },
     "metadata": {},
     "output_type": "display_data"
    }
   ],
   "source": [
    "popt,pcov = curve_fit(func,data.co2gL,data.mu_mean)\n",
    "xrange = np.linspace(data.co2gL.min(),data.co2gL.max())\n",
    "r2=r2_score(data.mu_mean,func(data.co2gL,*popt))\n",
    "sns.set_context('paper')\n",
    "sns.set_style('white')\n",
    "f, ax =plt.subplots()\n",
    "ax.plot(data.co2gL,data.mu_mean,label=r'Jahn $\\it{et}$'+ ' ' + '$  \\it{al.}$ 2018',marker='o',ls='')\n",
    "ax.plot(xrange,func(xrange,*popt),label=f'Fit, $R^2$={r2:.3f}')\n",
    "ax.legend(frameon=False)\n",
    "ax.set_xlabel(r'$CO_2$ (g/L)')\n",
    "ax.set_ylabel(r'$\\mu_{max} (hr^{-1})$')\n",
    "sns.despine()\n",
    "f.savefig(r'../figures/mu_max fit.png',bbox_inches='tight',dpi=600)"
   ]
  },
  {
   "cell_type": "code",
   "execution_count": 57,
   "metadata": {},
   "outputs": [
    {
     "data": {
      "text/plain": [
       "array([0.00812672, 0.13285844])"
      ]
     },
     "execution_count": 57,
     "metadata": {},
     "output_type": "execute_result"
    }
   ],
   "source": [
    "popt"
   ]
  },
  {
   "cell_type": "code",
   "execution_count": 59,
   "metadata": {},
   "outputs": [
    {
     "data": {
      "text/plain": [
       "0.9262419280976321"
      ]
     },
     "execution_count": 59,
     "metadata": {},
     "output_type": "execute_result"
    }
   ],
   "source": []
  }
 ],
 "metadata": {
  "interpreter": {
   "hash": "32e42b11b0907d2915f7cd8a0f08a87f18585e7f9215226f31c82d500d0ee43d"
  },
  "kernelspec": {
   "display_name": "Pyscaffold",
   "language": "python",
   "name": "python3"
  },
  "language_info": {
   "codemirror_mode": {
    "name": "ipython",
    "version": 3
   },
   "file_extension": ".py",
   "mimetype": "text/x-python",
   "name": "python",
   "nbconvert_exporter": "python",
   "pygments_lexer": "ipython3",
   "version": "3.8.10"
  }
 },
 "nbformat": 4,
 "nbformat_minor": 4
}
