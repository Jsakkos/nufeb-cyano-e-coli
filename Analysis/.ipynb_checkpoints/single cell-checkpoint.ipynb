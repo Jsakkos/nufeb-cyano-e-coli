{
 "cells": [
  {
   "cell_type": "code",
   "execution_count": 2,
   "id": "25f4b3cd-31eb-4c46-b714-d8aedef2268e",
   "metadata": {},
   "outputs": [],
   "source": [
    "from nufeb_tools import utils,plot\n",
    "import seaborn as sns\n",
    "import numpy as np\n",
    "import pandas as pd\n",
    "import matplotlib.pyplot as plt\n",
    "import matplotlib.gridspec as gridspec"
   ]
  },
  {
   "cell_type": "code",
   "execution_count": 3,
   "id": "f786e2ba-e80e-4cc6-a390-37fca3c5ab40",
   "metadata": {},
   "outputs": [],
   "source": [
    "low = utils.get_data(directory= r'D:\\runs\\Run_26_37_13_1_2021-07-09')\n",
    "high = utils.get_data(directory= r'D:\\runs\\Run_34_59_78_1_2021-07-09')"
   ]
  },
  {
   "cell_type": "code",
   "execution_count": 4,
   "id": "16d13896-ec6b-4811-825c-9a4e55850370",
   "metadata": {},
   "outputs": [
    {
     "ename": "IndexError",
     "evalue": "index 0 is out of bounds for axis 0 with size 0",
     "output_type": "error",
     "traceback": [
      "\u001b[1;31m---------------------------------------------------------------------------\u001b[0m",
      "\u001b[1;31mIndexError\u001b[0m                                Traceback (most recent call last)",
      "\u001b[1;32m<ipython-input-4-6dfbebc3dc44>\u001b[0m in \u001b[0;36m<module>\u001b[1;34m\u001b[0m\n\u001b[1;32m----> 1\u001b[1;33m \u001b[0mlow\u001b[0m\u001b[1;33m.\u001b[0m\u001b[0msingle_cell_growth\u001b[0m\u001b[1;33m(\u001b[0m\u001b[1;33m)\u001b[0m\u001b[1;33m\u001b[0m\u001b[1;33m\u001b[0m\u001b[0m\n\u001b[0m\u001b[0;32m      2\u001b[0m \u001b[0mhigh\u001b[0m\u001b[1;33m.\u001b[0m\u001b[0msingle_cell_growth\u001b[0m\u001b[1;33m(\u001b[0m\u001b[1;33m)\u001b[0m\u001b[1;33m\u001b[0m\u001b[1;33m\u001b[0m\u001b[0m\n",
      "\u001b[1;32m~\\AppData\\Roaming\\Python\\Python39\\site-packages\\nufeb_tools\\utils.py\u001b[0m in \u001b[0;36msingle_cell_growth\u001b[1;34m(self, timepoint)\u001b[0m\n\u001b[0;32m    176\u001b[0m                 \u001b[0marr\u001b[0m \u001b[1;33m=\u001b[0m \u001b[0mids\u001b[0m\u001b[1;33m.\u001b[0m\u001b[0m__array__\u001b[0m\u001b[1;33m(\u001b[0m\u001b[0mids\u001b[0m\u001b[1;33m.\u001b[0m\u001b[0mdtype\u001b[0m\u001b[1;33m)\u001b[0m\u001b[1;33m\u001b[0m\u001b[1;33m\u001b[0m\u001b[0m\n\u001b[0;32m    177\u001b[0m                 \u001b[1;31m# make sure cell id matches id of interest\u001b[0m\u001b[1;33m\u001b[0m\u001b[1;33m\u001b[0m\u001b[1;33m\u001b[0m\u001b[0m\n\u001b[1;32m--> 178\u001b[1;33m                 \u001b[0mi\u001b[0m \u001b[1;33m=\u001b[0m \u001b[0mnp\u001b[0m\u001b[1;33m.\u001b[0m\u001b[0mwhere\u001b[0m\u001b[1;33m(\u001b[0m\u001b[0marr\u001b[0m \u001b[1;33m==\u001b[0m \u001b[0mc\u001b[0m\u001b[1;33m)\u001b[0m\u001b[1;33m[\u001b[0m\u001b[1;36m0\u001b[0m\u001b[1;33m]\u001b[0m\u001b[1;33m[\u001b[0m\u001b[1;36m0\u001b[0m\u001b[1;33m]\u001b[0m\u001b[1;33m\u001b[0m\u001b[1;33m\u001b[0m\u001b[0m\n\u001b[0m\u001b[0;32m    179\u001b[0m                 \u001b[1;31m# get radius\u001b[0m\u001b[1;33m\u001b[0m\u001b[1;33m\u001b[0m\u001b[1;33m\u001b[0m\u001b[0m\n\u001b[0;32m    180\u001b[0m                 \u001b[0mradius\u001b[0m \u001b[1;33m=\u001b[0m \u001b[0mself\u001b[0m\u001b[1;33m.\u001b[0m\u001b[0mh5\u001b[0m\u001b[1;33m[\u001b[0m\u001b[1;34m'radius'\u001b[0m\u001b[1;33m]\u001b[0m\u001b[1;33m[\u001b[0m\u001b[0mt\u001b[0m\u001b[1;33m]\u001b[0m\u001b[1;33m[\u001b[0m\u001b[0mi\u001b[0m\u001b[1;33m]\u001b[0m\u001b[1;33m\u001b[0m\u001b[1;33m\u001b[0m\u001b[0m\n",
      "\u001b[1;31mIndexError\u001b[0m: index 0 is out of bounds for axis 0 with size 0"
     ]
    }
   ],
   "source": [
    "low.single_cell_growth()\n",
    "high.single_cell_growth()\n"
   ]
  },
  {
   "cell_type": "code",
   "execution_count": 5,
   "id": "6b6cade7-f284-4b5f-9074-5a32d954892e",
   "metadata": {},
   "outputs": [
    {
     "ename": "AttributeError",
     "evalue": "'get_data' object has no attribute 'single_cell_biomass'",
     "output_type": "error",
     "traceback": [
      "\u001b[1;31m---------------------------------------------------------------------------\u001b[0m",
      "\u001b[1;31mAttributeError\u001b[0m                            Traceback (most recent call last)",
      "\u001b[1;32m<ipython-input-5-ba6d1329f6c3>\u001b[0m in \u001b[0;36m<module>\u001b[1;34m\u001b[0m\n\u001b[1;32m----> 1\u001b[1;33m \u001b[0mplot\u001b[0m\u001b[1;33m.\u001b[0m\u001b[0mbiomass_time\u001b[0m\u001b[1;33m(\u001b[0m\u001b[0mlow\u001b[0m\u001b[1;33m.\u001b[0m\u001b[0msingle_cell_biomass\u001b[0m\u001b[1;33m)\u001b[0m\u001b[1;33m\u001b[0m\u001b[1;33m\u001b[0m\u001b[0m\n\u001b[0m",
      "\u001b[1;31mAttributeError\u001b[0m: 'get_data' object has no attribute 'single_cell_biomass'"
     ]
    }
   ],
   "source": [
    "plot.biomass_time(low.single_cell_biomass)"
   ]
  },
  {
   "cell_type": "code",
   "execution_count": 17,
   "id": "5309c2af-1d6e-4288-8d89-eeac3debb09a",
   "metadata": {},
   "outputs": [
    {
     "data": {
      "image/png": "[encoded data removed]",
      "text/plain": [
       "<Figure size 540x432 with 3 Axes>"
      ]
     },
     "metadata": {},
     "output_type": "display_data"
    }
   ],
   "source": [
    "fig = plt.figure(constrained_layout=True, figsize=(7.5,6))\n",
    "gs0 = gridspec.GridSpec(4, 2, figure=fig)\n",
    "sns.set_context('paper')\n",
    "sns.set_style('white')\n",
    "\n",
    "ax1 = fig.add_subplot(gs0[0, 0])\n",
    "ax2 = fig.add_subplot(gs0[0, 1],sharey=ax1)\n",
    "ax3 = fig.add_subplot(gs0[1,1])\n",
    "plot.overall_growth(low.biomass,ax=ax1)\n",
    "plot.overall_growth(high.biomass,ax=ax2)\n",
    "plot.average_nutrients(low.avg_con,'Sucrose',color='#f1a340',ax=ax3)\n",
    "plot.average_nutrients(high.avg_con,'Sucrose',color='#998ec3',ax=ax3)\n",
    "\n",
    "ax3.set_ylabel('Sucrose (mM)')\n",
    "sns.despine()"
   ]
  },
  {
   "cell_type": "code",
   "execution_count": 18,
   "id": "4f9501e2-db9d-4cf0-94fe-18e4b32bd570",
   "metadata": {},
   "outputs": [
    {
     "data": {
      "text/html": [
       "<div>\n",
       "<style scoped>\n",
       "    .dataframe tbody tr th:only-of-type {\n",
       "        vertical-align: middle;\n",
       "    }\n",
       "\n",
       "    .dataframe tbody tr th {\n",
       "        vertical-align: top;\n",
       "    }\n",
       "\n",
       "    .dataframe thead th {\n",
       "        text-align: right;\n",
       "    }\n",
       "</style>\n",
       "<table border=\"1\" class=\"dataframe\">\n",
       "  <thead>\n",
       "    <tr style=\"text-align: right;\">\n",
       "      <th></th>\n",
       "      <th>O2</th>\n",
       "      <th>Sucrose</th>\n",
       "      <th>CO2</th>\n",
       "    </tr>\n",
       "    <tr>\n",
       "      <th>Hours</th>\n",
       "      <th></th>\n",
       "      <th></th>\n",
       "      <th></th>\n",
       "    </tr>\n",
       "  </thead>\n",
       "  <tbody>\n",
       "    <tr>\n",
       "      <th>0.000000</th>\n",
       "      <td>0.281250</td>\n",
       "      <td>9.991236e-20</td>\n",
       "      <td>0.679391</td>\n",
       "    </tr>\n",
       "    <tr>\n",
       "      <th>0.277778</th>\n",
       "      <td>0.281254</td>\n",
       "      <td>7.480190e-03</td>\n",
       "      <td>0.679386</td>\n",
       "    </tr>\n",
       "    <tr>\n",
       "      <th>0.555556</th>\n",
       "      <td>0.281254</td>\n",
       "      <td>1.480389e-02</td>\n",
       "      <td>0.679386</td>\n",
       "    </tr>\n",
       "    <tr>\n",
       "      <th>0.833333</th>\n",
       "      <td>0.281254</td>\n",
       "      <td>2.220208e-02</td>\n",
       "      <td>0.679386</td>\n",
       "    </tr>\n",
       "    <tr>\n",
       "      <th>1.111111</th>\n",
       "      <td>0.281254</td>\n",
       "      <td>2.967867e-02</td>\n",
       "      <td>0.679386</td>\n",
       "    </tr>\n",
       "    <tr>\n",
       "      <th>...</th>\n",
       "      <td>...</td>\n",
       "      <td>...</td>\n",
       "      <td>...</td>\n",
       "    </tr>\n",
       "    <tr>\n",
       "      <th>96.111111</th>\n",
       "      <td>0.282106</td>\n",
       "      <td>1.924049e+00</td>\n",
       "      <td>0.678317</td>\n",
       "    </tr>\n",
       "    <tr>\n",
       "      <th>96.388889</th>\n",
       "      <td>0.282117</td>\n",
       "      <td>1.921750e+00</td>\n",
       "      <td>0.678302</td>\n",
       "    </tr>\n",
       "    <tr>\n",
       "      <th>96.666667</th>\n",
       "      <td>0.282130</td>\n",
       "      <td>1.920106e+00</td>\n",
       "      <td>0.678287</td>\n",
       "    </tr>\n",
       "    <tr>\n",
       "      <th>96.944444</th>\n",
       "      <td>0.282143</td>\n",
       "      <td>1.917949e+00</td>\n",
       "      <td>0.678271</td>\n",
       "    </tr>\n",
       "    <tr>\n",
       "      <th>97.222222</th>\n",
       "      <td>0.282155</td>\n",
       "      <td>1.916356e+00</td>\n",
       "      <td>0.678255</td>\n",
       "    </tr>\n",
       "  </tbody>\n",
       "</table>\n",
       "<p>351 rows × 3 columns</p>\n",
       "</div>"
      ],
      "text/plain": [
       "                 O2       Sucrose       CO2\n",
       "Hours                                      \n",
       "0.000000   0.281250  9.991236e-20  0.679391\n",
       "0.277778   0.281254  7.480190e-03  0.679386\n",
       "0.555556   0.281254  1.480389e-02  0.679386\n",
       "0.833333   0.281254  2.220208e-02  0.679386\n",
       "1.111111   0.281254  2.967867e-02  0.679386\n",
       "...             ...           ...       ...\n",
       "96.111111  0.282106  1.924049e+00  0.678317\n",
       "96.388889  0.282117  1.921750e+00  0.678302\n",
       "96.666667  0.282130  1.920106e+00  0.678287\n",
       "96.944444  0.282143  1.917949e+00  0.678271\n",
       "97.222222  0.282155  1.916356e+00  0.678255\n",
       "\n",
       "[351 rows x 3 columns]"
      ]
     },
     "execution_count": 18,
     "metadata": {},
     "output_type": "execute_result"
    }
   ],
   "source": [
    "low.avg_con"
   ]
  },
  {
   "cell_type": "code",
   "execution_count": null,
   "id": "08c381c5-9e4b-44a1-8386-ff7839d0049c",
   "metadata": {},
   "outputs": [],
   "source": []
  }
 ],
 "metadata": {
  "kernelspec": {
   "display_name": "nufeb_tools",
   "language": "python",
   "name": "nu"
  },
  "language_info": {
   "codemirror_mode": {
    "name": "ipython",
    "version": 3
   },
   "file_extension": ".py",
   "mimetype": "text/x-python",
   "name": "python",
   "nbconvert_exporter": "python",
   "pygments_lexer": "ipython3",
   "version": "3.9.5"
  }
 },
 "nbformat": 4,
 "nbformat_minor": 5
}
